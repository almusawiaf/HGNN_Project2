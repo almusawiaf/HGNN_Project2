{
 "cells": [
  {
   "cell_type": "markdown",
   "metadata": {},
   "source": [
    "# SNF model\n",
    "### Idea: \n",
    "1. Measure similarity among items (could be OHV, PSGs).\n",
    "2. Fuse them using SNF.\n",
    "3. Save them to SNF file.\n",
    "\n",
    "### Purpose:\n",
    "To be used within the HGNN model\n",
    "\n",
    "### Note:\n",
    "We are saving this to A/sparse_matrix_?\n"
   ]
  },
  {
   "cell_type": "code",
   "execution_count": null,
   "metadata": {},
   "outputs": [],
   "source": [
    "from sklearn.metrics.pairwise import euclidean_distances\n",
    "from scipy.sparse import csr_matrix\n",
    "from scipy.sparse import save_npz\n",
    "from snf import compute\n",
    "import numpy as np\n",
    "\n",
    "class SNF_class:\n",
    "    \n",
    "    def __init__(self, HG, Nodes, saving_path, file_name):\n",
    "        '''reading a HG and Nodes\n",
    "        1. create OHV per node type\n",
    "        2. measure the similarity\n",
    "        3. creating a DB\n",
    "        4. measure SNF and return a final matrix\n",
    "        5. save the final PSG as sparse matrix\n",
    "        '''\n",
    "        self.HG = HG\n",
    "        self.Nodes = Nodes\n",
    "        # ======================================================\n",
    "        self.Patients =    [v for v in self.Nodes if v[0]=='C']\n",
    "        self.Gender =      [v for v in self.Nodes if v[0]=='G']\n",
    "        self.Expire_Flag = [v for v in self.Nodes if v[0]=='E']\n",
    "        self.Visits =      [v for v in self.Nodes if v[0]=='V']\n",
    "        self.Medications = [v for v in self.Nodes if v[0]=='M']\n",
    "        self.Diagnosis  =  [v for v in self.Nodes if v[0]=='D']\n",
    "        self.Procedures =  [v for v in self.Nodes if v[0]=='P']\n",
    "        self.Labs       =  [v for v in self.Nodes if v[0]=='L']\n",
    "        self.MicroBio   =  [v for v in self.Nodes if v[0]=='B']\n",
    "        # ======================================================\n",
    "        D = self.get_X('D')\n",
    "        M = self.get_X('M')\n",
    "        P = self.get_X('P')\n",
    "        L = self.get_X('L')\n",
    "        B = self.get_X('B')\n",
    "        \n",
    "        G = self.get_X_sub_case('G')\n",
    "        E = self.get_X_sub_case('E')\n",
    "        # ======================================================\n",
    "        print('Measure the similarity')\n",
    "        sim_M = self.euc_sim(M)\n",
    "        sim_D = self.euc_sim(D)\n",
    "        sim_P = self.euc_sim(P)\n",
    "        sim_L = self.euc_sim(L)\n",
    "        sim_B = self.euc_sim(B)\n",
    "        sim_G = self.euc_sim(G)\n",
    "        sim_E = self.euc_sim(E)\n",
    "        # ======================================================\n",
    "        DB = [sim_D, sim_M, sim_P, sim_L, sim_B, sim_G, sim_E]\n",
    "        self.A = self.SNF(DB, 'euclidean')\n",
    "        self.save_PSG(saving_path=saving_path, file_name=file_name)\n",
    "        \n",
    "        \n",
    "    def get_X(self, clinical_type):\n",
    "        \n",
    "        print(f'Getting the OHV for {clinical_type}')\n",
    "        if clinical_type=='M':\n",
    "            F = self.Medications\n",
    "        elif clinical_type=='P':\n",
    "            F = self.Procedures\n",
    "        elif clinical_type=='L':\n",
    "            F = self.Labs\n",
    "        elif clinical_type=='D':\n",
    "            F = self.Diagnosis\n",
    "        elif clinical_type=='B':\n",
    "            F = self.MicroBio\n",
    "            \n",
    "        F_indeces = {p:k for k,p in enumerate(F)}\n",
    "\n",
    "        X = []\n",
    "        for v in self.Nodes:\n",
    "            f = [0] * len(F)\n",
    "            if v[0]=='C':\n",
    "                for u_visit in self.HG.neighbors(v):\n",
    "                    for u in self.HG.neighbors(u_visit):\n",
    "                        if u[0] in [clinical_type]:\n",
    "                            f[F_indeces[u]] = 1\n",
    "            X.append(f)\n",
    "        \n",
    "        return np.array(X)\n",
    "\n",
    "    def get_X_sub_case(self, clinical_type):\n",
    "        \n",
    "        print(f'Getting the OHV for {clinical_type}')\n",
    "        if clinical_type=='G':\n",
    "            F = self.Gender\n",
    "        elif clinical_type=='E':\n",
    "            F = self.Expire_Flag\n",
    "            \n",
    "        F_indeces = {p:k for k,p in enumerate(F)}\n",
    "\n",
    "        X = []\n",
    "        for v in self.Nodes:\n",
    "            f = [0] * len(F)\n",
    "            if v[0]=='C':\n",
    "                for u in self.HG.neighbors(v):\n",
    "                    if u[0] in [clinical_type]:\n",
    "                        f[F_indeces[u]] = 1\n",
    "            X.append(f)\n",
    "        \n",
    "        return np.array(X)\n",
    "\n",
    "    \n",
    "    def euc_sim(self, X):\n",
    "        euclidean_dist = euclidean_distances(X)\n",
    "        euclidean_sim = 1 / (1 + euclidean_dist)\n",
    "        return euclidean_sim\n",
    "    \n",
    "    def SNF(self, DB, dist):\n",
    "        print('Fusing the three models using SNF...')\n",
    "        affinity_networks = compute.make_affinity(DB, metric=dist, K=20, mu=0.5)\n",
    "        fused_network = compute.snf(affinity_networks, K=20)\n",
    "        best, second = compute.get_n_clusters(fused_network)\n",
    "        print(best, second)\n",
    "        return fused_network, best, second\n",
    "\n",
    "    def save_PSG(self, saving_path, file_name):\n",
    "        # Save the sparse matrix to an .npz file\n",
    "        sparse_A = csr_matrix(self.A)\n",
    "        save_npz(f'{saving_path}/{file_name}.npz', sparse_A)\n"
   ]
  },
  {
   "cell_type": "markdown",
   "metadata": {},
   "source": [
    "## Fusing OHV..."
   ]
  },
  {
   "cell_type": "code",
   "execution_count": 3,
   "metadata": {},
   "outputs": [
    {
     "name": "stdout",
     "output_type": "stream",
     "text": [
      "Measure the similarity\n",
      "Fusing the three models using SNF...\n",
      "2 3\n"
     ]
    }
   ],
   "source": [
    "def expand_array(org_A, n):\n",
    "    m = org_A.shape[0]\n",
    "    newA = np.zeros((n, n))\n",
    "    newA[:m, :m] = org_A\n",
    "    return newA  \n"
   ]
  },
  {
   "cell_type": "code",
   "execution_count": 4,
   "metadata": {},
   "outputs": [
    {
     "name": "stdout",
     "output_type": "stream",
     "text": [
      "Data has been successfully saved to /lustre/home/almusawiaf/PhD_Projects/PSG_survival_analysis/data_generation/Data/15_Diagnoses/sample/5000_15/SNFs/OHV/D_M_R.pkl\n",
      "OHV: MISSION COMPLETED...\n",
      "Shape of A: (3840, 3840)\n",
      "Shape of new_A: (10458, 10458)\n",
      "Shape of the slice of new_A: (3840, 3840)\n",
      "Length of Patients: 3840\n"
     ]
    }
   ],
   "source": [
    "new_A = expand_array(A[0], len(Nodes))\n"
   ]
  }
 ],
 "metadata": {
  "kernelspec": {
   "display_name": "envGNN2",
   "language": "python",
   "name": "python3"
  },
  "language_info": {
   "codemirror_mode": {
    "name": "ipython",
    "version": 3
   },
   "file_extension": ".py",
   "mimetype": "text/x-python",
   "name": "python",
   "nbconvert_exporter": "python",
   "pygments_lexer": "ipython3",
   "version": "3.10.14"
  }
 },
 "nbformat": 4,
 "nbformat_minor": 2
}
