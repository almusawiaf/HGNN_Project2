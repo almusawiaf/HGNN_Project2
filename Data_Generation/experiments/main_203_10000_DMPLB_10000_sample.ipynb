{
 "cells": [
  {
   "cell_type": "markdown",
   "metadata": {},
   "source": [
    "# Generating the data\n",
    "1. Generate the Heterogeneous graph\n",
    "2. Generate the feature set from the clinical notes.\n",
    "3. Generate the Labels\n",
    "4. Generate the k-metapath-based similarity matrices\n",
    "5. Convert the As to edge-based."
   ]
  },
  {
   "cell_type": "code",
   "execution_count": 1,
   "metadata": {
    "execution": {
     "iopub.execute_input": "2024-09-25T17:44:53.857094Z",
     "iopub.status.busy": "2024-09-25T17:44:53.856906Z",
     "iopub.status.idle": "2024-09-25T17:46:35.729297Z",
     "shell.execute_reply": "2024-09-25T17:46:35.728664Z"
    }
   },
   "outputs": [
    {
     "name": "stdout",
     "output_type": "stream",
     "text": [
      "203 DMPLB PC 10000 True\n"
     ]
    }
   ],
   "source": [
    "import os\n",
    "import torch\n",
    "def save_list_as_pickle(L, given_path, file_name):\n",
    "    import pickle\n",
    "    print(f'saving to {given_path}/{file_name}.pkl')\n",
    "    with open(f'{given_path}/{file_name}.pkl', 'wb') as file:\n",
    "        pickle.dump(L, file)\n",
    "\n",
    "\n",
    "num_Diseases    = int(os.getenv('NUM_DISEASES', 203))  \n",
    "DISEASE_FILE    = os.getenv('DISEASE_FILE', f'DMPLB')  \n",
    "similarity_type = os.getenv('similarity_type', 'PC')  # options are PC: PathCount, SPS: Symmetric PathSim\n",
    "\n",
    "num_Sample      = int(os.getenv('num_Sample', 10000))  \n",
    "r_u_sampling    = os.getenv('r_u_sampling', 'True')  \n",
    "\n",
    "if r_u_sampling=='True':\n",
    "    sampling = True\n",
    "else:\n",
    "    sampling = False\n",
    "\n",
    "disease_data_path = '/lustre/home/almusawiaf/PhD_Projects/HGNN_Project/Data'\n",
    "\n",
    "print(num_Diseases, DISEASE_FILE, similarity_type, num_Sample, sampling)\n"
   ]
  },
  {
   "cell_type": "code",
   "execution_count": 2,
   "metadata": {
    "execution": {
     "iopub.execute_input": "2024-09-25T17:46:35.761458Z",
     "iopub.status.busy": "2024-09-25T17:46:35.761146Z",
     "iopub.status.idle": "2024-09-25T19:22:54.106172Z",
     "shell.execute_reply": "2024-09-25T19:22:54.105346Z"
    }
   },
   "outputs": [
    {
     "name": "stdout",
     "output_type": "stream",
     "text": [
      "Loading the dataframes...\n"
     ]
    },
    {
     "name": "stdout",
     "output_type": "stream",
     "text": [
      "\n",
      "We are SAMPLING\n",
      "\n",
      "Use the patients inside the new DataFrame....\n"
     ]
    },
    {
     "name": "stdout",
     "output_type": "stream",
     "text": [
      "Dropping NaN visits\n"
     ]
    },
    {
     "name": "stdout",
     "output_type": "stream",
     "text": [
      "General Information:\n",
      "---------------------------\n",
      "Number of Patients = 10000\n",
      "Number of Diagnosis = 203\n",
      "Number of procedures = 88\n",
      "Number of Medication = 279\n",
      "Number of Lab tests  = 646\n",
      "Number of MicroBio   = 82\n",
      "+++++++++++++++++++++++++++++++++++++++++++++++++++++++++++\n",
      "Splitting lab tests\n"
     ]
    },
    {
     "name": "stderr",
     "output_type": "stream",
     "text": [
      "/lustre/home/almusawiaf/PhD_Projects/HGNN_Project/version_2/SRC/Data_Generation/module1/generating_HG.py:77: SettingWithCopyWarning: \n",
      "A value is trying to be set on a copy of a slice from a DataFrame.\n",
      "Try using .loc[row_indexer,col_indexer] = value instead\n",
      "\n",
      "See the caveats in the documentation: https://pandas.pydata.org/pandas-docs/stable/user_guide/indexing.html#returning-a-view-versus-a-copy\n",
      "  lab_df.loc[:, 'ITEMID_FLAG'] = lab_df['ITEMID'].astype(str) + '_' + lab_df['FLAG'].astype(str)\n"
     ]
    },
    {
     "name": "stdout",
     "output_type": "stream",
     "text": [
      "      HADM_ID     ITEMID_FLAG\n",
      "160  145834.0    50868_normal\n",
      "161  145834.0    50882_normal\n",
      "162  145834.0  50893_abnormal\n",
      "163  145834.0  50902_abnormal\n",
      "164  145834.0    50910_normal\n",
      "165  145834.0    50911_normal\n",
      "166  145834.0  50912_abnormal\n",
      "167  145834.0    50931_normal\n",
      "168  145834.0    50960_normal\n",
      "169  145834.0  50970_abnormal\n",
      "+++++++++++++++++++++++++++++++++++++++++++++++++++++++++++\n",
      "Extracting bipartite networks...\n",
      "\n",
      "Extracting and adding data of Visits\n",
      "SUBJECT_ID HADM_ID C V\n",
      "   ROW_ID  SUBJECT_ID  HADM_ID  SEQ_NUM ICD9_CODE\n",
      "0    1297         109   172335      1.0       403\n",
      "1    1298         109   172335      2.0       486\n",
      "3    1300         109   172335      4.0       585\n",
      "4    1301         109   172335      5.0       425\n",
      "5    1302         109   172335      6.0       276\n"
     ]
    },
    {
     "name": "stdout",
     "output_type": "stream",
     "text": [
      "\n",
      "Extracting and adding data of Diagnosis\n",
      "HADM_ID ICD9_CODE V D\n",
      "   ROW_ID  SUBJECT_ID  HADM_ID  SEQ_NUM ICD9_CODE\n",
      "0    1297         109   172335      1.0       403\n",
      "1    1298         109   172335      2.0       486\n",
      "3    1300         109   172335      4.0       585\n",
      "4    1301         109   172335      5.0       425\n",
      "5    1302         109   172335      6.0       276\n",
      "\n",
      "Extracting and adding data of Procedures\n",
      "HADM_ID ICD9_CODE V P\n",
      "    ROW_ID  SUBJECT_ID  HADM_ID  SEQ_NUM ICD9_CODE\n",
      "0      944       62641   154460        3        34\n",
      "3      947       55357   119355        1        96\n",
      "4      948       55357   119355        2        33\n",
      "5      949       55357   119355        3        38\n",
      "10     954       16994   115444        1        36\n"
     ]
    },
    {
     "name": "stdout",
     "output_type": "stream",
     "text": [
      "\n",
      "Extracting and adding data of Medications\n",
      "hadm_id drug V M\n",
      "     row_id  subject_id  hadm_id  icustay_id            startdate  \\\n",
      "750  607322       10065   183314    245091.0  2189-09-08 00:00:00   \n",
      "751  607323       10065   183314    245091.0  2189-09-08 00:00:00   \n",
      "752  607324       10065   183314    245091.0  2189-09-08 00:00:00   \n",
      "753  607325       10065   183314    245091.0  2189-09-08 00:00:00   \n",
      "754  607326       10065   183314    245091.0  2189-09-08 00:00:00   \n",
      "\n",
      "                 enddate drug_type                               drug  \\\n",
      "750  2189-09-18 00:00:00      MAIN  Heparin Flush CVL  (100 units/ml)   \n",
      "751  2189-09-20 00:00:00      MAIN                            Heparin   \n",
      "752  2189-09-09 00:00:00      MAIN                         Metoprolol   \n",
      "753  2189-09-10 00:00:00      MAIN                   Morphine Sulfate   \n",
      "754  2189-09-20 00:00:00      MAIN                            Insulin   \n",
      "\n",
      "                         drug_name_poe        drug_name_generic  \\\n",
      "750  Heparin Flush CVL  (100 units/ml)            Heparin Flush   \n",
      "751                            Heparin           Heparin Sodium   \n",
      "752                         Metoprolol               Metoprolol   \n",
      "753                   Morphine Sulfate             Morphine PCA   \n",
      "754                            Insulin  Insulin - Sliding Scale   \n",
      "\n",
      "    formulary_drug_cd      gsn           ndc                    prod_strength  \\\n",
      "750        HEPA100SYR   6532.0  6.425303e+10          100Units/mL-5mL Syringe   \n",
      "751            HEPA5I   6549.0  6.410400e+08        5000 Units / mL- 1mL Vial   \n",
      "752            METO5I  19808.0  5.539001e+10                     5mg/5mL Vial   \n",
      "753         MORP50PCA   4067.0  3.382690e+08                50mg/50mL Syringe   \n",
      "754           INSULIN   1723.0  0.000000e+00  Dummy Package for Sliding Scale   \n",
      "\n",
      "    dose_val_rx dose_unit_rx form_val_disp form_unit_disp  route  \n",
      "750           1           ml           0.2            SYR     IV  \n",
      "751        5000         UNIT             1             ml     SC  \n",
      "752           5           mg             1           VIAL     IV  \n",
      "753         1.5           mg          0.03            SYR  IVPCA  \n",
      "754           0         UNIT             0           VIAL     SC  \n",
      "\n",
      "Extracting and adding data of Lab tests\n",
      "HADM_ID ITEMID_FLAG V L\n",
      "      HADM_ID     ITEMID_FLAG\n",
      "160  145834.0    50868_normal\n",
      "161  145834.0    50882_normal\n",
      "162  145834.0  50893_abnormal\n",
      "163  145834.0  50902_abnormal\n",
      "164  145834.0    50910_normal\n"
     ]
    },
    {
     "name": "stdout",
     "output_type": "stream",
     "text": [
      "\n",
      "Extracting and adding data of MicroBiology tests\n",
      "HADM_ID SPEC_ITEMID V B\n",
      "    ROW_ID  SUBJECT_ID  HADM_ID            CHARTDATE            CHARTTIME  \\\n",
      "23     767         105   161160  2189-01-28 00:00:00  2189-01-28 15:00:00   \n",
      "24     768         105   161160  2189-01-28 00:00:00  2189-01-28 15:30:00   \n",
      "25     769         105   161160  2189-01-28 00:00:00  2189-01-28 16:00:00   \n",
      "26     770         105   128744  2189-02-20 00:00:00  2189-02-20 23:30:00   \n",
      "63     807         109   128755  2138-04-17 00:00:00  2138-04-17 02:09:00   \n",
      "\n",
      "    SPEC_ITEMID SPEC_TYPE_DESC  ORG_ITEMID  \\\n",
      "23      70012.0  BLOOD CULTURE         NaN   \n",
      "24      70012.0  BLOOD CULTURE         NaN   \n",
      "25      70079.0          URINE         NaN   \n",
      "26      70079.0          URINE     80223.0   \n",
      "63      70012.0  BLOOD CULTURE     80242.0   \n",
      "\n",
      "                                        ORG_NAME  ISOLATE_NUM  AB_ITEMID  \\\n",
      "23                                           NaN          NaN        NaN   \n",
      "24                                           NaN          NaN        NaN   \n",
      "25                                           NaN          NaN        NaN   \n",
      "26                         PROBABLE ENTEROCOCCUS          1.0        NaN   \n",
      "63  RESEMBLING MICROCOCCUS/STOMATOCOCCUS SPECIES          1.0        NaN   \n",
      "\n",
      "   AB_NAME DILUTION_TEXT DILUTION_COMPARISON  DILUTION_VALUE INTERPRETATION  \n",
      "23     NaN           NaN                 NaN             NaN            NaN  \n",
      "24     NaN           NaN                 NaN             NaN            NaN  \n",
      "25     NaN           NaN                 NaN             NaN            NaN  \n",
      "26     NaN           NaN                 NaN             NaN            NaN  \n",
      "63     NaN           NaN                 NaN             NaN            NaN  \n"
     ]
    },
    {
     "name": "stdout",
     "output_type": "stream",
     "text": [
      "number of patients = 9984\n",
      "number of visits = 25548\n",
      "number of Medication = 279\n",
      "number of Diagnoses = 203\n",
      "number of Procedures = 88\n",
      "number of Labs = 907\n",
      "number of MicoBio = 82\n",
      "number of Edges = 1204481\n",
      "------------------------------------------\n",
      "\n"
     ]
    },
    {
     "name": "stdout",
     "output_type": "stream",
     "text": [
      "+++++++++++++++++++++++++++++++++++++++++++++++++++++++++++\n",
      "number of patients = 9984\n",
      "number of visits = 25548\n",
      "number of Medication = 279\n",
      "number of Diagnoses = 203\n",
      "number of Procedures = 88\n",
      "number of Labs = 480\n",
      "number of MicoBio = 82\n",
      "number of Edges = 1199241\n",
      "------------------------------------------\n",
      "\n",
      "Removing isolated nodes\n",
      "number of patients = 9984\n",
      "number of visits = 25548\n",
      "number of Medication = 279\n",
      "number of Diagnoses = 203\n",
      "number of Procedures = 88\n",
      "number of Labs = 480\n",
      "number of MicoBio = 82\n",
      "number of Edges = 1199241\n",
      "------------------------------------------\n",
      "\n",
      "Number of PATIENTS to remove:  0\n"
     ]
    },
    {
     "name": "stdout",
     "output_type": "stream",
     "text": [
      "Number of nodes to remove:  0\n",
      "number of patients = 9984\n",
      "number of visits = 25548\n",
      "number of Medication = 279\n",
      "number of Diagnoses = 203\n",
      "number of Procedures = 88\n",
      "number of Labs = 480\n",
      "number of MicoBio = 82\n",
      "number of Edges = 1199241\n",
      "------------------------------------------\n",
      "\n",
      "+++++++++++++++++++++++++++++++++++++++++++++++++++++++++++\n"
     ]
    },
    {
     "name": "stdout",
     "output_type": "stream",
     "text": [
      "+++++++++++++++++++++++++++++++++++++++++++++++++++++++++++\n",
      "number of patients = 9984\n",
      "number of visits = 25548\n",
      "number of Medication = 279\n",
      "number of Diagnoses = 203\n",
      "number of Procedures = 88\n",
      "number of Labs = 480\n",
      "number of MicoBio = 82\n",
      "number of Edges = 1199241\n",
      "------------------------------------------\n",
      "\n",
      "getting the feature set for all nodes\n"
     ]
    },
    {
     "name": "stdout",
     "output_type": "stream",
     "text": [
      "getting the feature set for all nodes: visit_level\n"
     ]
    },
    {
     "name": "stdout",
     "output_type": "stream",
     "text": [
      "extracting As from HG\n",
      "\n"
     ]
    },
    {
     "name": "stdout",
     "output_type": "stream",
     "text": [
      "[(36664, 36664), (36664, 36664), (36664, 36664), (36664, 36664), (36664, 36664), (36664, 36664)]\n",
      "=============================================================\n",
      "Multiplication phase...\n",
      "\n"
     ]
    },
    {
     "name": "stdout",
     "output_type": "stream",
     "text": [
      "multiplying (36664, 36664) * (36664, 36664) in parallel...\n"
     ]
    },
    {
     "name": "stdout",
     "output_type": "stream",
     "text": [
      "Done multiplication...\n"
     ]
    },
    {
     "name": "stdout",
     "output_type": "stream",
     "text": [
      "multiplying (36664, 36664) * (36664, 36664) in parallel...\n"
     ]
    },
    {
     "name": "stdout",
     "output_type": "stream",
     "text": [
      "Done multiplication...\n"
     ]
    },
    {
     "name": "stdout",
     "output_type": "stream",
     "text": [
      "multiplying (36664, 36664) * (36664, 36664) in parallel...\n"
     ]
    },
    {
     "name": "stdout",
     "output_type": "stream",
     "text": [
      "Done multiplication...\n"
     ]
    },
    {
     "name": "stdout",
     "output_type": "stream",
     "text": [
      "multiplying (36664, 36664) * (36664, 36664) in parallel...\n"
     ]
    },
    {
     "name": "stdout",
     "output_type": "stream",
     "text": [
      "Done multiplication...\n"
     ]
    },
    {
     "name": "stdout",
     "output_type": "stream",
     "text": [
      "multiplying (36664, 36664) * (36664, 36664) in parallel...\n"
     ]
    },
    {
     "name": "stdout",
     "output_type": "stream",
     "text": [
      "Done multiplication...\n"
     ]
    },
    {
     "name": "stdout",
     "output_type": "stream",
     "text": [
      "multiplying (36664, 36664) * (36664, 36664) in parallel...\n"
     ]
    },
    {
     "name": "stdout",
     "output_type": "stream",
     "text": [
      "Done multiplication...\n"
     ]
    },
    {
     "name": "stdout",
     "output_type": "stream",
     "text": [
      "multiplying (36664, 36664) * (36664, 36664) in parallel...\n"
     ]
    },
    {
     "name": "stdout",
     "output_type": "stream",
     "text": [
      "Done multiplication...\n"
     ]
    },
    {
     "name": "stdout",
     "output_type": "stream",
     "text": [
      "multiplying (36664, 36664) * (36664, 36664) in parallel...\n"
     ]
    },
    {
     "name": "stdout",
     "output_type": "stream",
     "text": [
      "Done multiplication...\n"
     ]
    },
    {
     "name": "stdout",
     "output_type": "stream",
     "text": [
      "multiplying (36664, 36664) * (36664, 36664) in parallel...\n"
     ]
    },
    {
     "name": "stdout",
     "output_type": "stream",
     "text": [
      "Done multiplication...\n"
     ]
    },
    {
     "name": "stdout",
     "output_type": "stream",
     "text": [
      "multiplying (36664, 36664) * (36664, 36664) in parallel...\n"
     ]
    },
    {
     "name": "stdout",
     "output_type": "stream",
     "text": [
      "Done multiplication...\n"
     ]
    },
    {
     "name": "stdout",
     "output_type": "stream",
     "text": [
      "multiplying (36664, 36664) * (36664, 36664) in parallel...\n"
     ]
    },
    {
     "name": "stdout",
     "output_type": "stream",
     "text": [
      "Done multiplication...\n"
     ]
    },
    {
     "name": "stdout",
     "output_type": "stream",
     "text": [
      "multiplying (36664, 36664) * (36664, 36664) in parallel...\n"
     ]
    },
    {
     "name": "stdout",
     "output_type": "stream",
     "text": [
      "Done multiplication...\n"
     ]
    },
    {
     "name": "stdout",
     "output_type": "stream",
     "text": [
      "multiplying (36664, 36664) * (36664, 36664) in parallel...\n"
     ]
    },
    {
     "name": "stdout",
     "output_type": "stream",
     "text": [
      "Done multiplication...\n"
     ]
    },
    {
     "name": "stdout",
     "output_type": "stream",
     "text": [
      "multiplying (36664, 36664) * (36664, 36664) in parallel...\n"
     ]
    },
    {
     "name": "stdout",
     "output_type": "stream",
     "text": [
      "Done multiplication...\n"
     ]
    },
    {
     "name": "stdout",
     "output_type": "stream",
     "text": [
      "multiplying (36664, 36664) * (36664, 36664) in parallel...\n"
     ]
    },
    {
     "name": "stdout",
     "output_type": "stream",
     "text": [
      "Done multiplication...\n",
      "multiplying (36664, 36664) * (36664, 36664) in parallel...\n",
      "Done multiplication...\n",
      "multiplying (36664, 36664) * (36664, 36664) in parallel...\n"
     ]
    },
    {
     "name": "stdout",
     "output_type": "stream",
     "text": [
      "Done multiplication...\n",
      "multiplying (36664, 36664) * (36664, 36664) in parallel...\n"
     ]
    },
    {
     "name": "stdout",
     "output_type": "stream",
     "text": [
      "Done multiplication...\n",
      "multiplying (36664, 36664) * (36664, 36664) in parallel...\n",
      "Done multiplication...\n",
      "multiplying (36664, 36664) * (36664, 36664) in parallel...\n"
     ]
    },
    {
     "name": "stdout",
     "output_type": "stream",
     "text": [
      "Done multiplication...\n",
      "Patient-Patient completed!\n",
      "\n"
     ]
    },
    {
     "name": "stdout",
     "output_type": "stream",
     "text": [
      "multiplying (36664, 36664) * (36664, 36664) in parallel...\n",
      "Done multiplication...\n"
     ]
    },
    {
     "name": "stdout",
     "output_type": "stream",
     "text": [
      "multiplying (36664, 36664) * (36664, 36664) in parallel...\n"
     ]
    },
    {
     "name": "stdout",
     "output_type": "stream",
     "text": [
      "Done multiplication...\n"
     ]
    },
    {
     "name": "stdout",
     "output_type": "stream",
     "text": [
      "multiplying (36664, 36664) * (36664, 36664) in parallel...\n"
     ]
    },
    {
     "name": "stdout",
     "output_type": "stream",
     "text": [
      "Done multiplication...\n"
     ]
    },
    {
     "name": "stdout",
     "output_type": "stream",
     "text": [
      "multiplying (36664, 36664) * (36664, 36664) in parallel...\n"
     ]
    },
    {
     "name": "stdout",
     "output_type": "stream",
     "text": [
      "Done multiplication...\n"
     ]
    },
    {
     "name": "stdout",
     "output_type": "stream",
     "text": [
      "multiplying (36664, 36664) * (36664, 36664) in parallel...\n"
     ]
    },
    {
     "name": "stdout",
     "output_type": "stream",
     "text": [
      "Done multiplication...\n",
      "visit-visit completed!\n",
      "\n"
     ]
    },
    {
     "name": "stdout",
     "output_type": "stream",
     "text": [
      "multiplying (36664, 36664) * (36664, 36664) in parallel...\n"
     ]
    },
    {
     "name": "stdout",
     "output_type": "stream",
     "text": [
      "Done multiplication...\n"
     ]
    },
    {
     "name": "stdout",
     "output_type": "stream",
     "text": [
      "multiplying (36664, 36664) * (36664, 36664) in parallel...\n"
     ]
    },
    {
     "name": "stdout",
     "output_type": "stream",
     "text": [
      "Done multiplication...\n"
     ]
    },
    {
     "name": "stdout",
     "output_type": "stream",
     "text": [
      "multiplying (36664, 36664) * (36664, 36664) in parallel...\n"
     ]
    },
    {
     "name": "stdout",
     "output_type": "stream",
     "text": [
      "Done multiplication...\n"
     ]
    },
    {
     "name": "stdout",
     "output_type": "stream",
     "text": [
      "multiplying (36664, 36664) * (36664, 36664) in parallel...\n"
     ]
    },
    {
     "name": "stdout",
     "output_type": "stream",
     "text": [
      "Done multiplication...\n",
      "Diagnoses-Diagnoses completed!\n",
      "\n"
     ]
    },
    {
     "name": "stdout",
     "output_type": "stream",
     "text": [
      "multiplying (36664, 36664) * (36664, 36664) in parallel...\n"
     ]
    },
    {
     "name": "stdout",
     "output_type": "stream",
     "text": [
      "Done multiplication...\n"
     ]
    },
    {
     "name": "stdout",
     "output_type": "stream",
     "text": [
      "multiplying (36664, 36664) * (36664, 36664) in parallel...\n"
     ]
    },
    {
     "name": "stdout",
     "output_type": "stream",
     "text": [
      "Done multiplication...\n"
     ]
    },
    {
     "name": "stdout",
     "output_type": "stream",
     "text": [
      "multiplying (36664, 36664) * (36664, 36664) in parallel...\n"
     ]
    },
    {
     "name": "stdout",
     "output_type": "stream",
     "text": [
      "Done multiplication...\n"
     ]
    },
    {
     "name": "stdout",
     "output_type": "stream",
     "text": [
      "multiplying (36664, 36664) * (36664, 36664) in parallel...\n"
     ]
    },
    {
     "name": "stdout",
     "output_type": "stream",
     "text": [
      "Done multiplication...\n",
      "Med-Med completed!\n",
      "\n"
     ]
    },
    {
     "name": "stdout",
     "output_type": "stream",
     "text": [
      "multiplying (36664, 36664) * (36664, 36664) in parallel...\n"
     ]
    },
    {
     "name": "stdout",
     "output_type": "stream",
     "text": [
      "Done multiplication...\n",
      "multiplying (36664, 36664) * (36664, 36664) in parallel...\n"
     ]
    },
    {
     "name": "stdout",
     "output_type": "stream",
     "text": [
      "Done multiplication...\n",
      "multiplying (36664, 36664) * (36664, 36664) in parallel...\n"
     ]
    },
    {
     "name": "stdout",
     "output_type": "stream",
     "text": [
      "Done multiplication...\n",
      "multiplying (36664, 36664) * (36664, 36664) in parallel...\n"
     ]
    },
    {
     "name": "stdout",
     "output_type": "stream",
     "text": [
      "Done multiplication...\n",
      "Proced-Proced completed!\n",
      "\n",
      "multiplying (36664, 36664) * (36664, 36664) in parallel...\n"
     ]
    },
    {
     "name": "stdout",
     "output_type": "stream",
     "text": [
      "Done multiplication...\n",
      "multiplying (36664, 36664) * (36664, 36664) in parallel...\n"
     ]
    },
    {
     "name": "stdout",
     "output_type": "stream",
     "text": [
      "Done multiplication...\n",
      "multiplying (36664, 36664) * (36664, 36664) in parallel...\n"
     ]
    },
    {
     "name": "stdout",
     "output_type": "stream",
     "text": [
      "Done multiplication...\n",
      "multiplying (36664, 36664) * (36664, 36664) in parallel...\n"
     ]
    },
    {
     "name": "stdout",
     "output_type": "stream",
     "text": [
      "Done multiplication...\n",
      "Labs-Labs completed!\n",
      "\n",
      "multiplying (36664, 36664) * (36664, 36664) in parallel...\n"
     ]
    },
    {
     "name": "stdout",
     "output_type": "stream",
     "text": [
      "Done multiplication...\n"
     ]
    },
    {
     "name": "stdout",
     "output_type": "stream",
     "text": [
      "multiplying (36664, 36664) * (36664, 36664) in parallel...\n"
     ]
    },
    {
     "name": "stdout",
     "output_type": "stream",
     "text": [
      "Done multiplication...\n"
     ]
    },
    {
     "name": "stdout",
     "output_type": "stream",
     "text": [
      "multiplying (36664, 36664) * (36664, 36664) in parallel...\n"
     ]
    },
    {
     "name": "stdout",
     "output_type": "stream",
     "text": [
      "Done multiplication...\n"
     ]
    },
    {
     "name": "stdout",
     "output_type": "stream",
     "text": [
      "multiplying (36664, 36664) * (36664, 36664) in parallel...\n"
     ]
    },
    {
     "name": "stdout",
     "output_type": "stream",
     "text": [
      "Done multiplication...\n",
      "Micro-Bio - Micro-Bio completed!\n",
      "\n",
      "=============================================================\n",
      "Multiplication phase...\n",
      "\n",
      "Number of meta-paths = 43\n",
      "==============================================================\n",
      "Matrix 0: 256 non-zero elements\n",
      "\tSaving all non-zero values... (256 non-zero elements)\n"
     ]
    },
    {
     "name": "stdout",
     "output_type": "stream",
     "text": [
      "Matrix 1: 50635360 non-zero elements\n"
     ]
    },
    {
     "name": "stdout",
     "output_type": "stream",
     "text": [
      "\tSaving one million non-zero values... (after reduction: 1075496 non-zero elements)\n"
     ]
    },
    {
     "name": "stdout",
     "output_type": "stream",
     "text": [
      "Matrix 2: 40911863 non-zero elements\n"
     ]
    },
    {
     "name": "stdout",
     "output_type": "stream",
     "text": [
      "\tSaving one million non-zero values... (after reduction: 1167770 non-zero elements)\n"
     ]
    },
    {
     "name": "stdout",
     "output_type": "stream",
     "text": [
      "Matrix 3: 0 non-zero elements\n",
      "\tSaving all non-zero values... (0 non-zero elements)\n"
     ]
    },
    {
     "name": "stdout",
     "output_type": "stream",
     "text": [
      "Matrix 4: 42816117 non-zero elements\n"
     ]
    },
    {
     "name": "stdout",
     "output_type": "stream",
     "text": [
      "\tSaving one million non-zero values... (after reduction: 1190064 non-zero elements)\n"
     ]
    },
    {
     "name": "stdout",
     "output_type": "stream",
     "text": [
      "Matrix 5: 33122 non-zero elements\n",
      "\tSaving all non-zero values... (33122 non-zero elements)\n"
     ]
    },
    {
     "name": "stdout",
     "output_type": "stream",
     "text": [
      "Matrix 6: 84747483 non-zero elements\n"
     ]
    },
    {
     "name": "stdout",
     "output_type": "stream",
     "text": [
      "\tSaving one million non-zero values... (after reduction: 1101577 non-zero elements)\n"
     ]
    },
    {
     "name": "stdout",
     "output_type": "stream",
     "text": [
      "Matrix 7: 57087617 non-zero elements\n"
     ]
    },
    {
     "name": "stdout",
     "output_type": "stream",
     "text": [
      "\tSaving one million non-zero values... (after reduction: 1493754 non-zero elements)\n"
     ]
    },
    {
     "name": "stdout",
     "output_type": "stream",
     "text": [
      "Matrix 8: 158732450 non-zero elements\n"
     ]
    },
    {
     "name": "stdout",
     "output_type": "stream",
     "text": [
      "\tSaving one million non-zero values... (after reduction: 1064354 non-zero elements)\n"
     ]
    },
    {
     "name": "stdout",
     "output_type": "stream",
     "text": [
      "Matrix 9: 70443702 non-zero elements\n"
     ]
    },
    {
     "name": "stdout",
     "output_type": "stream",
     "text": [
      "\tSaving one million non-zero values... (after reduction: 1431740 non-zero elements)\n"
     ]
    },
    {
     "name": "stdout",
     "output_type": "stream",
     "text": [
      "Matrix 10: 9216 non-zero elements\n",
      "\tSaving all non-zero values... (9216 non-zero elements)\n",
      "Matrix 11: 41209 non-zero elements\n",
      "\tSaving all non-zero values... (41209 non-zero elements)\n",
      "Matrix 12: 0 non-zero elements\n",
      "\tSaving all non-zero values... (0 non-zero elements)\n",
      "Matrix 13: 41209 non-zero elements\n",
      "\tSaving all non-zero values... (41209 non-zero elements)\n",
      "Matrix 14: 72696 non-zero elements\n",
      "\tSaving all non-zero values... (72696 non-zero elements)\n",
      "Matrix 15: 72679 non-zero elements\n",
      "\tSaving all non-zero values... (72679 non-zero elements)\n"
     ]
    },
    {
     "name": "stdout",
     "output_type": "stream",
     "text": [
      "Matrix 16: 0 non-zero elements\n",
      "\tSaving all non-zero values... (0 non-zero elements)\n",
      "Matrix 17: 75533 non-zero elements\n",
      "\tSaving all non-zero values... (75533 non-zero elements)\n",
      "Matrix 18: 7684 non-zero elements\n",
      "\tSaving all non-zero values... (7684 non-zero elements)\n",
      "Matrix 19: 484 non-zero elements\n",
      "\tSaving all non-zero values... (484 non-zero elements)\n",
      "Matrix 20: 0 non-zero elements\n",
      "\tSaving all non-zero values... (0 non-zero elements)\n",
      "Matrix 21: 7740 non-zero elements\n",
      "\tSaving all non-zero values... (7740 non-zero elements)\n"
     ]
    },
    {
     "name": "stdout",
     "output_type": "stream",
     "text": [
      "Matrix 22: 25684 non-zero elements\n",
      "\tSaving all non-zero values... (25684 non-zero elements)\n"
     ]
    },
    {
     "name": "stdout",
     "output_type": "stream",
     "text": [
      "Matrix 23: 238848 non-zero elements\n",
      "\tSaving all non-zero values... (238848 non-zero elements)\n"
     ]
    },
    {
     "name": "stdout",
     "output_type": "stream",
     "text": [
      "Matrix 24: 1516 non-zero elements\n",
      "\tSaving all non-zero values... (1516 non-zero elements)\n"
     ]
    },
    {
     "name": "stdout",
     "output_type": "stream",
     "text": [
      "Matrix 25: 73086 non-zero elements\n",
      "\tSaving all non-zero values... (73086 non-zero elements)\n"
     ]
    },
    {
     "name": "stdout",
     "output_type": "stream",
     "text": [
      "Matrix 26: 1989972 non-zero elements\n"
     ]
    },
    {
     "name": "stdout",
     "output_type": "stream",
     "text": [
      "\tSaving one million non-zero values... (after reduction: 1989972 non-zero elements)\n"
     ]
    },
    {
     "name": "stdout",
     "output_type": "stream",
     "text": [
      "Matrix 27: 69376 non-zero elements\n",
      "\tSaving all non-zero values... (69376 non-zero elements)\n"
     ]
    },
    {
     "name": "stdout",
     "output_type": "stream",
     "text": [
      "Matrix 28: 697 non-zero elements\n",
      "\tSaving all non-zero values... (697 non-zero elements)\n",
      "Matrix 29: 101953 non-zero elements\n",
      "\tSaving all non-zero values... (101953 non-zero elements)\n",
      "Matrix 30: 33136 non-zero elements\n",
      "\tSaving all non-zero values... (33136 non-zero elements)\n",
      "Matrix 31: 0 non-zero elements\n",
      "\tSaving all non-zero values... (0 non-zero elements)\n",
      "Matrix 32: 29357 non-zero elements\n",
      "\tSaving all non-zero values... (29357 non-zero elements)\n",
      "Matrix 33: 7722 non-zero elements\n",
      "\tSaving all non-zero values... (7722 non-zero elements)\n"
     ]
    },
    {
     "name": "stdout",
     "output_type": "stream",
     "text": [
      "Matrix 34: 11757 non-zero elements\n",
      "\tSaving all non-zero values... (11757 non-zero elements)\n",
      "Matrix 35: 0 non-zero elements\n",
      "\tSaving all non-zero values... (0 non-zero elements)\n",
      "Matrix 36: 8942 non-zero elements\n",
      "\tSaving all non-zero values... (8942 non-zero elements)\n",
      "Matrix 37: 2543 non-zero elements\n",
      "\tSaving all non-zero values... (2543 non-zero elements)\n",
      "Matrix 38: 0 non-zero elements\n",
      "\tSaving all non-zero values... (0 non-zero elements)\n",
      "Matrix 39: 2969 non-zero elements\n",
      "\tSaving all non-zero values... (2969 non-zero elements)\n",
      "Matrix 40: 0 non-zero elements\n",
      "\tSaving all non-zero values... (0 non-zero elements)\n",
      "Matrix 41: 3571 non-zero elements\n",
      "\tSaving all non-zero values... (3571 non-zero elements)\n"
     ]
    },
    {
     "name": "stdout",
     "output_type": "stream",
     "text": [
      "Matrix 42: 0 non-zero elements\n",
      "\tSaving all non-zero values... (0 non-zero elements)\n",
      "==============================================================\n"
     ]
    },
    {
     "name": "stdout",
     "output_type": "stream",
     "text": [
      "done saving [unique edges]:  4964083\n",
      "Working on 0th file...\n"
     ]
    },
    {
     "name": "stdout",
     "output_type": "stream",
     "text": [
      "\tdone...\n",
      "\tSaving...\n"
     ]
    },
    {
     "name": "stdout",
     "output_type": "stream",
     "text": [
      "\tDone saving edge_weight0...\n",
      "Working on 1th file...\n"
     ]
    },
    {
     "name": "stdout",
     "output_type": "stream",
     "text": [
      "\tdone...\n",
      "\tSaving...\n"
     ]
    },
    {
     "name": "stdout",
     "output_type": "stream",
     "text": [
      "\tDone saving edge_weight1...\n",
      "Working on 2th file...\n"
     ]
    },
    {
     "name": "stdout",
     "output_type": "stream",
     "text": [
      "\tdone...\n",
      "\tSaving...\n"
     ]
    },
    {
     "name": "stdout",
     "output_type": "stream",
     "text": [
      "\tDone saving edge_weight2...\n",
      "Working on 3th file...\n"
     ]
    },
    {
     "name": "stdout",
     "output_type": "stream",
     "text": [
      "\tdone...\n",
      "\tSaving...\n",
      "\tDone saving edge_weight3...\n",
      "Working on 4th file...\n"
     ]
    },
    {
     "name": "stdout",
     "output_type": "stream",
     "text": [
      "\tdone...\n",
      "\tSaving...\n"
     ]
    },
    {
     "name": "stdout",
     "output_type": "stream",
     "text": [
      "\tDone saving edge_weight4...\n",
      "Working on 5th file...\n"
     ]
    },
    {
     "name": "stdout",
     "output_type": "stream",
     "text": [
      "\tdone...\n",
      "\tSaving...\n",
      "\tDone saving edge_weight5...\n",
      "Working on 6th file...\n"
     ]
    },
    {
     "name": "stdout",
     "output_type": "stream",
     "text": [
      "\tdone...\n",
      "\tSaving...\n"
     ]
    },
    {
     "name": "stdout",
     "output_type": "stream",
     "text": [
      "\tDone saving edge_weight6...\n",
      "Working on 7th file...\n"
     ]
    },
    {
     "name": "stdout",
     "output_type": "stream",
     "text": [
      "\tdone...\n",
      "\tSaving...\n"
     ]
    },
    {
     "name": "stdout",
     "output_type": "stream",
     "text": [
      "\tDone saving edge_weight7...\n",
      "Working on 8th file...\n"
     ]
    },
    {
     "name": "stdout",
     "output_type": "stream",
     "text": [
      "\tdone...\n",
      "\tSaving...\n"
     ]
    },
    {
     "name": "stdout",
     "output_type": "stream",
     "text": [
      "\tDone saving edge_weight8...\n",
      "Working on 9th file...\n"
     ]
    },
    {
     "name": "stdout",
     "output_type": "stream",
     "text": [
      "\tdone...\n",
      "\tSaving...\n"
     ]
    },
    {
     "name": "stdout",
     "output_type": "stream",
     "text": [
      "\tDone saving edge_weight9...\n",
      "Working on 10th file...\n"
     ]
    },
    {
     "name": "stdout",
     "output_type": "stream",
     "text": [
      "\tdone...\n",
      "\tSaving...\n",
      "\tDone saving edge_weight10...\n",
      "Working on 11th file...\n"
     ]
    },
    {
     "name": "stdout",
     "output_type": "stream",
     "text": [
      "\tdone...\n",
      "\tSaving...\n",
      "\tDone saving edge_weight11...\n",
      "Working on 12th file...\n"
     ]
    },
    {
     "name": "stdout",
     "output_type": "stream",
     "text": [
      "\tdone...\n",
      "\tSaving...\n",
      "\tDone saving edge_weight12...\n",
      "Working on 13th file...\n"
     ]
    },
    {
     "name": "stdout",
     "output_type": "stream",
     "text": [
      "\tdone...\n",
      "\tSaving...\n",
      "\tDone saving edge_weight13...\n",
      "Working on 14th file...\n"
     ]
    },
    {
     "name": "stdout",
     "output_type": "stream",
     "text": [
      "\tdone...\n",
      "\tSaving...\n",
      "\tDone saving edge_weight14...\n",
      "Working on 15th file...\n"
     ]
    },
    {
     "name": "stdout",
     "output_type": "stream",
     "text": [
      "\tdone...\n",
      "\tSaving...\n"
     ]
    },
    {
     "name": "stdout",
     "output_type": "stream",
     "text": [
      "\tDone saving edge_weight15...\n",
      "Working on 16th file...\n"
     ]
    },
    {
     "name": "stdout",
     "output_type": "stream",
     "text": [
      "\tdone...\n",
      "\tSaving...\n",
      "\tDone saving edge_weight16...\n",
      "Working on 17th file...\n"
     ]
    },
    {
     "name": "stdout",
     "output_type": "stream",
     "text": [
      "\tdone...\n",
      "\tSaving...\n",
      "\tDone saving edge_weight17...\n",
      "Working on 18th file...\n"
     ]
    },
    {
     "name": "stdout",
     "output_type": "stream",
     "text": [
      "\tdone...\n",
      "\tSaving...\n",
      "\tDone saving edge_weight18...\n",
      "Working on 19th file...\n"
     ]
    },
    {
     "name": "stdout",
     "output_type": "stream",
     "text": [
      "\tdone...\n",
      "\tSaving...\n",
      "\tDone saving edge_weight19...\n",
      "Working on 20th file...\n"
     ]
    },
    {
     "name": "stdout",
     "output_type": "stream",
     "text": [
      "\tdone...\n",
      "\tSaving...\n",
      "\tDone saving edge_weight20...\n",
      "Working on 21th file...\n"
     ]
    },
    {
     "name": "stdout",
     "output_type": "stream",
     "text": [
      "\tdone...\n",
      "\tSaving...\n",
      "\tDone saving edge_weight21...\n",
      "Working on 22th file...\n"
     ]
    },
    {
     "name": "stdout",
     "output_type": "stream",
     "text": [
      "\tdone...\n",
      "\tSaving...\n",
      "\tDone saving edge_weight22...\n",
      "Working on 23th file...\n"
     ]
    },
    {
     "name": "stdout",
     "output_type": "stream",
     "text": [
      "\tdone...\n",
      "\tSaving...\n"
     ]
    },
    {
     "name": "stdout",
     "output_type": "stream",
     "text": [
      "\tDone saving edge_weight23...\n",
      "Working on 24th file...\n"
     ]
    },
    {
     "name": "stdout",
     "output_type": "stream",
     "text": [
      "\tdone...\n",
      "\tSaving...\n",
      "\tDone saving edge_weight24...\n",
      "Working on 25th file...\n"
     ]
    },
    {
     "name": "stdout",
     "output_type": "stream",
     "text": [
      "\tdone...\n",
      "\tSaving...\n"
     ]
    },
    {
     "name": "stdout",
     "output_type": "stream",
     "text": [
      "\tDone saving edge_weight25...\n",
      "Working on 26th file...\n"
     ]
    },
    {
     "name": "stdout",
     "output_type": "stream",
     "text": [
      "\tdone...\n",
      "\tSaving...\n"
     ]
    },
    {
     "name": "stdout",
     "output_type": "stream",
     "text": [
      "\tDone saving edge_weight26...\n",
      "Working on 27th file...\n"
     ]
    },
    {
     "name": "stdout",
     "output_type": "stream",
     "text": [
      "\tdone...\n",
      "\tSaving...\n"
     ]
    },
    {
     "name": "stdout",
     "output_type": "stream",
     "text": [
      "\tDone saving edge_weight27...\n",
      "Working on 28th file...\n"
     ]
    },
    {
     "name": "stdout",
     "output_type": "stream",
     "text": [
      "\tdone...\n",
      "\tSaving...\n",
      "\tDone saving edge_weight28...\n",
      "Working on 29th file...\n"
     ]
    },
    {
     "name": "stdout",
     "output_type": "stream",
     "text": [
      "\tdone...\n",
      "\tSaving...\n"
     ]
    },
    {
     "name": "stdout",
     "output_type": "stream",
     "text": [
      "\tDone saving edge_weight29...\n",
      "Working on 30th file...\n"
     ]
    },
    {
     "name": "stdout",
     "output_type": "stream",
     "text": [
      "\tdone...\n",
      "\tSaving...\n",
      "\tDone saving edge_weight30...\n",
      "Working on 31th file...\n"
     ]
    },
    {
     "name": "stdout",
     "output_type": "stream",
     "text": [
      "\tdone...\n",
      "\tSaving...\n",
      "\tDone saving edge_weight31...\n",
      "Working on 32th file...\n"
     ]
    },
    {
     "name": "stdout",
     "output_type": "stream",
     "text": [
      "\tdone...\n",
      "\tSaving...\n",
      "\tDone saving edge_weight32...\n",
      "Working on 33th file...\n"
     ]
    },
    {
     "name": "stdout",
     "output_type": "stream",
     "text": [
      "\tdone...\n",
      "\tSaving...\n",
      "\tDone saving edge_weight33...\n",
      "Working on 34th file...\n"
     ]
    },
    {
     "name": "stdout",
     "output_type": "stream",
     "text": [
      "\tdone...\n",
      "\tSaving...\n",
      "\tDone saving edge_weight34...\n",
      "Working on 35th file...\n"
     ]
    },
    {
     "name": "stdout",
     "output_type": "stream",
     "text": [
      "\tdone...\n",
      "\tSaving...\n",
      "\tDone saving edge_weight35...\n",
      "Working on 36th file...\n"
     ]
    },
    {
     "name": "stdout",
     "output_type": "stream",
     "text": [
      "\tdone...\n",
      "\tSaving...\n"
     ]
    },
    {
     "name": "stdout",
     "output_type": "stream",
     "text": [
      "\tDone saving edge_weight36...\n",
      "Working on 37th file...\n"
     ]
    },
    {
     "name": "stdout",
     "output_type": "stream",
     "text": [
      "\tdone...\n",
      "\tSaving...\n",
      "\tDone saving edge_weight37...\n",
      "Working on 38th file...\n"
     ]
    },
    {
     "name": "stdout",
     "output_type": "stream",
     "text": [
      "\tdone...\n",
      "\tSaving...\n",
      "\tDone saving edge_weight38...\n",
      "Working on 39th file...\n"
     ]
    },
    {
     "name": "stdout",
     "output_type": "stream",
     "text": [
      "\tdone...\n",
      "\tSaving...\n",
      "\tDone saving edge_weight39...\n",
      "Working on 40th file...\n"
     ]
    },
    {
     "name": "stdout",
     "output_type": "stream",
     "text": [
      "\tdone...\n",
      "\tSaving...\n",
      "\tDone saving edge_weight40...\n",
      "Working on 41th file...\n"
     ]
    },
    {
     "name": "stdout",
     "output_type": "stream",
     "text": [
      "\tdone...\n",
      "\tSaving...\n",
      "\tDone saving edge_weight41...\n",
      "Working on 42th file...\n"
     ]
    },
    {
     "name": "stdout",
     "output_type": "stream",
     "text": [
      "\tdone...\n",
      "\tSaving...\n",
      "\tDone saving edge_weight42...\n"
     ]
    },
    {
     "name": "stdout",
     "output_type": "stream",
     "text": [
      "saving to /lustre/home/almusawiaf/PhD_Projects/HGNN_Project/Data/203_Diagnoses/DMPLB/10000/HGNN_data/Nodes.pkl\n"
     ]
    }
   ],
   "source": [
    "from module1 import generating_HG as G_class\n",
    "from module1 import XY_preparation as XY\n",
    "from module1 import meta_path as MP\n",
    "# =================================================================================\n",
    "saving_path = f'{disease_data_path}/{num_Diseases}_Diagnoses/{DISEASE_FILE}/{num_Sample}'\n",
    "\n",
    "for p in ['HGNN_data', 'clinical_items', 'GMLs', 'OHV', 'PSGs', 'SNFs']:\n",
    "    os.makedirs(f'{saving_path}/{p}', exist_ok=True)\n",
    "\n",
    "saving_path = f'{disease_data_path}/{num_Diseases}_Diagnoses/{DISEASE_FILE}/{num_Sample}/HGNN_data'\n",
    "# =================================================================================\n",
    "HG_instance = G_class.Generate_HG(sampling = sampling, num_Patients = num_Sample)\n",
    "HG = HG_instance.HG\n",
    "G_class.G_statistics(HG)\n",
    "# =================================================================================\n",
    "if not sampling:\n",
    "    num_Sample = len(HG_instance.Patients)\n",
    "# =================================================================================\n",
    "XY_inst = XY.XY_preparation(HG)\n",
    "X = XY_inst.X\n",
    "Y = XY_inst.Y\n",
    "# =================================================================================\n",
    "MP_inst = MP.Meta_path(HG, similarity_type = 'PC', saving_path = saving_path)\n",
    "# =================================================================================\n",
    "torch.save(X, f'{saving_path}/X.pt')\n",
    "torch.save(Y, f'{saving_path}/Y.pt')\n",
    "\n",
    "save_list_as_pickle(MP_inst.Nodes,   saving_path, 'Nodes')"
   ]
  },
  {
   "cell_type": "code",
   "execution_count": null,
   "metadata": {},
   "outputs": [],
   "source": []
  }
 ],
 "metadata": {
  "kernelspec": {
   "display_name": "Python 3 (ipykernel)",
   "language": "python",
   "name": "python3"
  },
  "language_info": {
   "codemirror_mode": {
    "name": "ipython",
    "version": 3
   },
   "file_extension": ".py",
   "mimetype": "text/x-python",
   "name": "python",
   "nbconvert_exporter": "python",
   "pygments_lexer": "ipython3",
   "version": "3.9.18"
  }
 },
 "nbformat": 4,
 "nbformat_minor": 4
}
