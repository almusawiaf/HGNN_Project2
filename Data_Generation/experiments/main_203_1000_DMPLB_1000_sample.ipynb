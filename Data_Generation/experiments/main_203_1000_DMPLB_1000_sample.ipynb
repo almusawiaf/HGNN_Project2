{
 "cells": [
  {
   "cell_type": "markdown",
   "metadata": {},
   "source": [
    "# Generating the data\n",
    "1. Generate the Heterogeneous graph\n",
    "2. Generate the feature set from the clinical notes.\n",
    "3. Generate the Labels\n",
    "4. Generate the k-metapath-based similarity matrices\n",
    "5. Convert the As to edge-based."
   ]
  },
  {
   "cell_type": "code",
   "execution_count": 1,
   "metadata": {
    "execution": {
     "iopub.execute_input": "2024-09-25T17:25:36.579565Z",
     "iopub.status.busy": "2024-09-25T17:25:36.579291Z",
     "iopub.status.idle": "2024-09-25T17:27:20.426450Z",
     "shell.execute_reply": "2024-09-25T17:27:20.425918Z"
    }
   },
   "outputs": [
    {
     "name": "stdout",
     "output_type": "stream",
     "text": [
      "203 DMPLB PC 1000 True\n"
     ]
    }
   ],
   "source": [
    "import os\n",
    "import torch\n",
    "def save_list_as_pickle(L, given_path, file_name):\n",
    "    import pickle\n",
    "    print(f'saving to {given_path}/{file_name}.pkl')\n",
    "    with open(f'{given_path}/{file_name}.pkl', 'wb') as file:\n",
    "        pickle.dump(L, file)\n",
    "\n",
    "\n",
    "num_Diseases    = int(os.getenv('NUM_DISEASES', 203))  \n",
    "DISEASE_FILE    = os.getenv('DISEASE_FILE', f'DMPLB')  \n",
    "similarity_type = os.getenv('similarity_type', 'PC')  # options are PC: PathCount, SPS: Symmetric PathSim\n",
    "\n",
    "num_Sample      = int(os.getenv('num_Sample', 10000))  \n",
    "r_u_sampling    = os.getenv('r_u_sampling', 'True')  \n",
    "\n",
    "if r_u_sampling=='True':\n",
    "    sampling = True\n",
    "else:\n",
    "    sampling = False\n",
    "\n",
    "disease_data_path = '/lustre/home/almusawiaf/PhD_Projects/HGNN_Project/Data'\n",
    "\n",
    "print(num_Diseases, DISEASE_FILE, similarity_type, num_Sample, sampling)\n"
   ]
  },
  {
   "cell_type": "code",
   "execution_count": 2,
   "metadata": {
    "execution": {
     "iopub.execute_input": "2024-09-25T17:27:20.457095Z",
     "iopub.status.busy": "2024-09-25T17:27:20.456736Z",
     "iopub.status.idle": "2024-09-25T17:30:17.625459Z",
     "shell.execute_reply": "2024-09-25T17:30:17.624686Z"
    }
   },
   "outputs": [
    {
     "name": "stdout",
     "output_type": "stream",
     "text": [
      "Loading the dataframes...\n"
     ]
    },
    {
     "name": "stdout",
     "output_type": "stream",
     "text": [
      "\n",
      "We are SAMPLING\n",
      "\n",
      "Use the patients inside the new DataFrame....\n",
      "Dropping NaN visits\n"
     ]
    },
    {
     "name": "stdout",
     "output_type": "stream",
     "text": [
      "General Information:\n",
      "---------------------------\n",
      "Number of Patients = 1000\n",
      "Number of Diagnosis = 203\n",
      "Number of procedures = 79\n",
      "Number of Medication = 98\n",
      "Number of Lab tests  = 536\n",
      "Number of MicroBio   = 60\n",
      "+++++++++++++++++++++++++++++++++++++++++++++++++++++++++++\n",
      "Splitting lab tests\n"
     ]
    },
    {
     "name": "stderr",
     "output_type": "stream",
     "text": [
      "/lustre/home/almusawiaf/PhD_Projects/HGNN_Project/version_2/SRC/Data_Generation/module1/generating_HG.py:77: SettingWithCopyWarning: \n",
      "A value is trying to be set on a copy of a slice from a DataFrame.\n",
      "Try using .loc[row_indexer,col_indexer] = value instead\n",
      "\n",
      "See the caveats in the documentation: https://pandas.pydata.org/pandas-docs/stable/user_guide/indexing.html#returning-a-view-versus-a-copy\n",
      "  lab_df.loc[:, 'ITEMID_FLAG'] = lab_df['ITEMID'].astype(str) + '_' + lab_df['FLAG'].astype(str)\n"
     ]
    },
    {
     "name": "stdout",
     "output_type": "stream",
     "text": [
      "        HADM_ID     ITEMID_FLAG\n",
      "90656  147148.0    50856_normal\n",
      "90657  147148.0    50867_normal\n",
      "90658  147148.0    50879_normal\n",
      "90659  147148.0    50880_normal\n",
      "90660  147148.0    50912_normal\n",
      "90661  147148.0  50922_abnormal\n",
      "90662  147148.0    50981_normal\n",
      "90663  147148.0    50999_normal\n",
      "90664  147148.0    51006_normal\n",
      "90665  147148.0    51071_normal\n",
      "+++++++++++++++++++++++++++++++++++++++++++++++++++++++++++\n",
      "Extracting bipartite networks...\n",
      "\n",
      "Extracting and adding data of Visits\n",
      "SUBJECT_ID HADM_ID C V\n",
      "      ROW_ID  SUBJECT_ID  HADM_ID  SEQ_NUM ICD9_CODE\n",
      "2164    3700         310   142159      2.0       276\n",
      "2166    3702         310   142159      4.0       E87\n",
      "2167    3703         310   142159      5.0       300\n",
      "2168    3704         310   142159      6.0       724\n",
      "2595    1936         155   147148      2.0       802\n",
      "\n",
      "Extracting and adding data of Diagnosis\n",
      "HADM_ID ICD9_CODE V D\n",
      "      ROW_ID  SUBJECT_ID  HADM_ID  SEQ_NUM ICD9_CODE\n",
      "2164    3700         310   142159      2.0       276\n",
      "2166    3702         310   142159      4.0       E87\n",
      "2167    3703         310   142159      5.0       300\n",
      "2168    3704         310   142159      6.0       724\n",
      "2595    1936         155   147148      2.0       802\n",
      "\n",
      "Extracting and adding data of Procedures\n",
      "HADM_ID ICD9_CODE V P\n",
      "     ROW_ID  SUBJECT_ID  HADM_ID  SEQ_NUM ICD9_CODE\n",
      "639     218        4796   172049        1        45\n",
      "640     219        4796   172049        2        54\n",
      "641     220        4796   172049        3        96\n",
      "642     221        4796   172049        4        96\n",
      "643     222        4796   172049        5        96\n",
      "\n",
      "Extracting and adding data of Medications\n",
      "hadm_id drug V M\n",
      "     row_id  subject_id  hadm_id  icustay_id            startdate  \\\n",
      "334  308962       10032   140372         NaN  2138-04-02 00:00:00   \n",
      "335  308963       10032   140372         NaN  2138-04-02 00:00:00   \n",
      "336  308964       10032   140372         NaN  2138-04-02 00:00:00   \n",
      "337  308965       10032   140372         NaN  2138-04-02 00:00:00   \n",
      "338  308966       10032   140372         NaN  2138-04-02 00:00:00   \n",
      "\n",
      "                 enddate drug_type              drug     drug_name_poe  \\\n",
      "334  2138-04-15 00:00:00      MAIN  Prochlorperazine  Prochlorperazine   \n",
      "335  2138-04-09 00:00:00      MAIN          Naproxen          Naproxen   \n",
      "336  2138-04-04 00:00:00      MAIN        Furosemide        Furosemide   \n",
      "337  2138-04-10 00:00:00      MAIN   Docusate Sodium   Docusate Sodium   \n",
      "338  2138-04-10 00:00:00      MAIN             Senna             Senna   \n",
      "\n",
      "            drug_name_generic formulary_drug_cd      gsn           ndc  \\\n",
      "334  Prochlorperazine Maleate            PROC10   3846.0  7.336721e+06   \n",
      "335                  Naproxen           NAPR250   8360.0  5.107908e+10   \n",
      "336                Furosemide            FURO20   8208.0  5.482972e+07   \n",
      "337           Docusate Sodium           DOCU100   3009.0  5.107900e+10   \n",
      "338                     Senna           SENN187  19964.0  3.412008e+07   \n",
      "\n",
      "    prod_strength dose_val_rx dose_unit_rx form_val_disp form_unit_disp route  \n",
      "334      10MG TAB          10           mg             1            TAB    PO  \n",
      "335     250MG TAB         500           mg             2            TAB    PO  \n",
      "336      20mg Tab          20           mg             1            TAB    PO  \n",
      "337     100MG CAP         100           mg             1            CAP    PO  \n",
      "338         1 TAB           1          TAB             1            TAB    PO  \n",
      "\n",
      "Extracting and adding data of Lab tests\n",
      "HADM_ID ITEMID_FLAG V L\n",
      "        HADM_ID   ITEMID_FLAG\n",
      "90656  147148.0  50856_normal\n",
      "90657  147148.0  50867_normal\n",
      "90658  147148.0  50879_normal\n",
      "90659  147148.0  50880_normal\n",
      "90660  147148.0  50912_normal\n"
     ]
    },
    {
     "name": "stdout",
     "output_type": "stream",
     "text": [
      "\n",
      "Extracting and adding data of MicroBiology tests\n",
      "HADM_ID SPEC_ITEMID V B\n",
      "      ROW_ID  SUBJECT_ID  HADM_ID            CHARTDATE            CHARTTIME  \\\n",
      "2006    2656         242   192980  2122-01-16 00:00:00  2122-01-16 06:00:00   \n",
      "2007    2657         242   192980  2122-01-18 00:00:00  2122-01-18 20:00:00   \n",
      "6376    6678         515   184373  2162-06-13 00:00:00  2162-06-13 13:45:00   \n",
      "6377    6679         515   184373  2162-06-22 00:00:00  2162-06-22 05:30:00   \n",
      "6378    6680         515   184373  2162-06-22 00:00:00  2162-06-22 05:30:00   \n",
      "\n",
      "      SPEC_ITEMID    SPEC_TYPE_DESC  ORG_ITEMID ORG_NAME  ISOLATE_NUM  \\\n",
      "2006      70081.0             URINE         NaN      NaN          NaN   \n",
      "2007      70062.0            SPUTUM         NaN      NaN          NaN   \n",
      "6376      70053.0  PERITONEAL FLUID         NaN      NaN          NaN   \n",
      "6377      70087.0    Blood (CMV AB)         NaN      NaN          NaN   \n",
      "6378      70088.0       Blood (EBV)         NaN      NaN          NaN   \n",
      "\n",
      "      AB_ITEMID AB_NAME DILUTION_TEXT DILUTION_COMPARISON  DILUTION_VALUE  \\\n",
      "2006        NaN     NaN           NaN                 NaN             NaN   \n",
      "2007        NaN     NaN           NaN                 NaN             NaN   \n",
      "6376        NaN     NaN           NaN                 NaN             NaN   \n",
      "6377        NaN     NaN           NaN                 NaN             NaN   \n",
      "6378        NaN     NaN           NaN                 NaN             NaN   \n",
      "\n",
      "     INTERPRETATION  \n",
      "2006            NaN  \n",
      "2007            NaN  \n",
      "6376            NaN  \n",
      "6377            NaN  \n",
      "6378            NaN  \n",
      "number of patients = 999\n",
      "number of visits = 2473\n",
      "number of Medication = 98\n",
      "number of Diagnoses = 203\n",
      "number of Procedures = 79\n",
      "number of Labs = 728\n",
      "number of MicoBio = 60\n",
      "number of Edges = 119043\n",
      "------------------------------------------\n",
      "\n"
     ]
    },
    {
     "name": "stdout",
     "output_type": "stream",
     "text": [
      "+++++++++++++++++++++++++++++++++++++++++++++++++++++++++++\n",
      "number of patients = 999\n",
      "number of visits = 2473\n",
      "number of Medication = 98\n",
      "number of Diagnoses = 203\n",
      "number of Procedures = 79\n",
      "number of Labs = 480\n",
      "number of MicoBio = 60\n",
      "number of Edges = 118546\n",
      "------------------------------------------\n",
      "\n",
      "Removing isolated nodes\n",
      "number of patients = 999\n",
      "number of visits = 2473\n",
      "number of Medication = 98\n",
      "number of Diagnoses = 203\n",
      "number of Procedures = 79\n",
      "number of Labs = 480\n",
      "number of MicoBio = 60\n",
      "number of Edges = 118546\n",
      "------------------------------------------\n",
      "\n",
      "Number of PATIENTS to remove:  0\n"
     ]
    },
    {
     "name": "stdout",
     "output_type": "stream",
     "text": [
      "Number of nodes to remove:  0\n",
      "number of patients = 999\n",
      "number of visits = 2473\n",
      "number of Medication = 98\n",
      "number of Diagnoses = 203\n",
      "number of Procedures = 79\n",
      "number of Labs = 480\n",
      "number of MicoBio = 60\n",
      "number of Edges = 118546\n",
      "------------------------------------------\n",
      "\n",
      "+++++++++++++++++++++++++++++++++++++++++++++++++++++++++++\n"
     ]
    },
    {
     "name": "stdout",
     "output_type": "stream",
     "text": [
      "+++++++++++++++++++++++++++++++++++++++++++++++++++++++++++\n",
      "number of patients = 999\n",
      "number of visits = 2473\n",
      "number of Medication = 98\n",
      "number of Diagnoses = 203\n",
      "number of Procedures = 79\n",
      "number of Labs = 480\n",
      "number of MicoBio = 60\n",
      "number of Edges = 118546\n",
      "------------------------------------------\n",
      "\n",
      "getting the feature set for all nodes\n"
     ]
    },
    {
     "name": "stdout",
     "output_type": "stream",
     "text": [
      "getting the feature set for all nodes: visit_level\n"
     ]
    },
    {
     "name": "stdout",
     "output_type": "stream",
     "text": [
      "extracting As from HG\n",
      "\n"
     ]
    },
    {
     "name": "stdout",
     "output_type": "stream",
     "text": [
      "[(4392, 4392), (4392, 4392), (4392, 4392), (4392, 4392), (4392, 4392), (4392, 4392)]\n",
      "=============================================================\n",
      "Multiplication phase...\n",
      "\n"
     ]
    },
    {
     "name": "stdout",
     "output_type": "stream",
     "text": [
      "multiplying (4392, 4392) * (4392, 4392) in parallel...\n"
     ]
    },
    {
     "name": "stdout",
     "output_type": "stream",
     "text": [
      "Done multiplication...\n"
     ]
    },
    {
     "name": "stdout",
     "output_type": "stream",
     "text": [
      "multiplying (4392, 4392) * (4392, 4392) in parallel...\n"
     ]
    },
    {
     "name": "stdout",
     "output_type": "stream",
     "text": [
      "Done multiplication...\n"
     ]
    },
    {
     "name": "stdout",
     "output_type": "stream",
     "text": [
      "multiplying (4392, 4392) * (4392, 4392) in parallel...\n"
     ]
    },
    {
     "name": "stdout",
     "output_type": "stream",
     "text": [
      "Done multiplication...\n"
     ]
    },
    {
     "name": "stdout",
     "output_type": "stream",
     "text": [
      "multiplying (4392, 4392) * (4392, 4392) in parallel...\n"
     ]
    },
    {
     "name": "stdout",
     "output_type": "stream",
     "text": [
      "Done multiplication...\n"
     ]
    },
    {
     "name": "stdout",
     "output_type": "stream",
     "text": [
      "multiplying (4392, 4392) * (4392, 4392) in parallel...\n"
     ]
    },
    {
     "name": "stdout",
     "output_type": "stream",
     "text": [
      "Done multiplication...\n"
     ]
    },
    {
     "name": "stdout",
     "output_type": "stream",
     "text": [
      "multiplying (4392, 4392) * (4392, 4392) in parallel...\n"
     ]
    },
    {
     "name": "stdout",
     "output_type": "stream",
     "text": [
      "Done multiplication...\n"
     ]
    },
    {
     "name": "stdout",
     "output_type": "stream",
     "text": [
      "multiplying (4392, 4392) * (4392, 4392) in parallel...\n"
     ]
    },
    {
     "name": "stdout",
     "output_type": "stream",
     "text": [
      "Done multiplication...\n"
     ]
    },
    {
     "name": "stdout",
     "output_type": "stream",
     "text": [
      "multiplying (4392, 4392) * (4392, 4392) in parallel...\n"
     ]
    },
    {
     "name": "stdout",
     "output_type": "stream",
     "text": [
      "Done multiplication...\n"
     ]
    },
    {
     "name": "stdout",
     "output_type": "stream",
     "text": [
      "multiplying (4392, 4392) * (4392, 4392) in parallel...\n"
     ]
    },
    {
     "name": "stdout",
     "output_type": "stream",
     "text": [
      "Done multiplication...\n"
     ]
    },
    {
     "name": "stdout",
     "output_type": "stream",
     "text": [
      "multiplying (4392, 4392) * (4392, 4392) in parallel...\n"
     ]
    },
    {
     "name": "stdout",
     "output_type": "stream",
     "text": [
      "Done multiplication...\n"
     ]
    },
    {
     "name": "stdout",
     "output_type": "stream",
     "text": [
      "multiplying (4392, 4392) * (4392, 4392) in parallel...\n"
     ]
    },
    {
     "name": "stdout",
     "output_type": "stream",
     "text": [
      "Done multiplication...\n"
     ]
    },
    {
     "name": "stdout",
     "output_type": "stream",
     "text": [
      "multiplying (4392, 4392) * (4392, 4392) in parallel...\n"
     ]
    },
    {
     "name": "stdout",
     "output_type": "stream",
     "text": [
      "Done multiplication...\n"
     ]
    },
    {
     "name": "stdout",
     "output_type": "stream",
     "text": [
      "multiplying (4392, 4392) * (4392, 4392) in parallel...\n"
     ]
    },
    {
     "name": "stdout",
     "output_type": "stream",
     "text": [
      "Done multiplication...\n"
     ]
    },
    {
     "name": "stdout",
     "output_type": "stream",
     "text": [
      "multiplying (4392, 4392) * (4392, 4392) in parallel...\n"
     ]
    },
    {
     "name": "stdout",
     "output_type": "stream",
     "text": [
      "Done multiplication...\n"
     ]
    },
    {
     "name": "stdout",
     "output_type": "stream",
     "text": [
      "multiplying (4392, 4392) * (4392, 4392) in parallel...\n"
     ]
    },
    {
     "name": "stdout",
     "output_type": "stream",
     "text": [
      "Done multiplication...\n",
      "multiplying (4392, 4392) * (4392, 4392) in parallel...\n"
     ]
    },
    {
     "name": "stdout",
     "output_type": "stream",
     "text": [
      "Done multiplication...\n",
      "multiplying (4392, 4392) * (4392, 4392) in parallel...\n",
      "Done multiplication...\n",
      "multiplying (4392, 4392) * (4392, 4392) in parallel...\n",
      "Done multiplication...\n",
      "multiplying (4392, 4392) * (4392, 4392) in parallel...\n",
      "Done multiplication...\n",
      "multiplying (4392, 4392) * (4392, 4392) in parallel...\n",
      "Done multiplication...\n",
      "Patient-Patient completed!\n",
      "\n"
     ]
    },
    {
     "name": "stdout",
     "output_type": "stream",
     "text": [
      "multiplying (4392, 4392) * (4392, 4392) in parallel...\n",
      "Done multiplication...\n"
     ]
    },
    {
     "name": "stdout",
     "output_type": "stream",
     "text": [
      "multiplying (4392, 4392) * (4392, 4392) in parallel...\n",
      "Done multiplication...\n"
     ]
    },
    {
     "name": "stdout",
     "output_type": "stream",
     "text": [
      "multiplying (4392, 4392) * (4392, 4392) in parallel...\n",
      "Done multiplication...\n"
     ]
    },
    {
     "name": "stdout",
     "output_type": "stream",
     "text": [
      "multiplying (4392, 4392) * (4392, 4392) in parallel...\n"
     ]
    },
    {
     "name": "stdout",
     "output_type": "stream",
     "text": [
      "Done multiplication...\n"
     ]
    },
    {
     "name": "stdout",
     "output_type": "stream",
     "text": [
      "multiplying (4392, 4392) * (4392, 4392) in parallel...\n",
      "Done multiplication...\n",
      "visit-visit completed!\n",
      "\n",
      "multiplying (4392, 4392) * (4392, 4392) in parallel...\n",
      "Done multiplication...\n",
      "multiplying (4392, 4392) * (4392, 4392) in parallel...\n",
      "Done multiplication...\n",
      "multiplying (4392, 4392) * (4392, 4392) in parallel...\n",
      "Done multiplication...\n",
      "multiplying (4392, 4392) * (4392, 4392) in parallel...\n",
      "Done multiplication...\n",
      "Diagnoses-Diagnoses completed!\n",
      "\n",
      "multiplying (4392, 4392) * (4392, 4392) in parallel...\n",
      "Done multiplication...\n",
      "multiplying (4392, 4392) * (4392, 4392) in parallel...\n",
      "Done multiplication...\n",
      "multiplying (4392, 4392) * (4392, 4392) in parallel...\n",
      "Done multiplication...\n",
      "multiplying (4392, 4392) * (4392, 4392) in parallel...\n",
      "Done multiplication...\n",
      "Med-Med completed!\n",
      "\n",
      "multiplying (4392, 4392) * (4392, 4392) in parallel...\n",
      "Done multiplication...\n",
      "multiplying (4392, 4392) * (4392, 4392) in parallel...\n",
      "Done multiplication...\n",
      "multiplying (4392, 4392) * (4392, 4392) in parallel...\n",
      "Done multiplication...\n",
      "multiplying (4392, 4392) * (4392, 4392) in parallel...\n",
      "Done multiplication...\n",
      "Proced-Proced completed!\n",
      "\n",
      "multiplying (4392, 4392) * (4392, 4392) in parallel...\n",
      "Done multiplication...\n",
      "multiplying (4392, 4392) * (4392, 4392) in parallel...\n",
      "Done multiplication...\n",
      "multiplying (4392, 4392) * (4392, 4392) in parallel...\n",
      "Done multiplication...\n",
      "multiplying (4392, 4392) * (4392, 4392) in parallel...\n"
     ]
    },
    {
     "name": "stdout",
     "output_type": "stream",
     "text": [
      "Done multiplication...\n",
      "Labs-Labs completed!\n",
      "\n",
      "multiplying (4392, 4392) * (4392, 4392) in parallel...\n",
      "Done multiplication...\n",
      "multiplying (4392, 4392) * (4392, 4392) in parallel...\n",
      "Done multiplication...\n",
      "multiplying (4392, 4392) * (4392, 4392) in parallel...\n",
      "Done multiplication...\n",
      "multiplying (4392, 4392) * (4392, 4392) in parallel...\n",
      "Done multiplication...\n",
      "Micro-Bio - Micro-Bio completed!\n",
      "\n",
      "=============================================================\n",
      "Multiplication phase...\n",
      "\n",
      "Number of meta-paths = 43\n",
      "==============================================================\n",
      "Matrix 0: 16 non-zero elements\n",
      "\tSaving all non-zero values... (16 non-zero elements)\n"
     ]
    },
    {
     "name": "stdout",
     "output_type": "stream",
     "text": [
      "Matrix 1: 494517 non-zero elements\n",
      "\tSaving all non-zero values... (494517 non-zero elements)\n"
     ]
    },
    {
     "name": "stdout",
     "output_type": "stream",
     "text": [
      "Matrix 2: 439671 non-zero elements\n",
      "\tSaving all non-zero values... (439671 non-zero elements)\n",
      "Matrix 3: 0 non-zero elements\n",
      "\tSaving all non-zero values... (0 non-zero elements)\n",
      "Matrix 4: 421179 non-zero elements\n",
      "\tSaving all non-zero values... (421179 non-zero elements)\n"
     ]
    },
    {
     "name": "stdout",
     "output_type": "stream",
     "text": [
      "Matrix 5: 4288 non-zero elements\n",
      "\tSaving all non-zero values... (4288 non-zero elements)\n",
      "Matrix 6: 794651 non-zero elements\n",
      "\tSaving all non-zero values... (794651 non-zero elements)\n"
     ]
    },
    {
     "name": "stdout",
     "output_type": "stream",
     "text": [
      "Matrix 7: 601930 non-zero elements\n",
      "\tSaving all non-zero values... (601930 non-zero elements)\n"
     ]
    },
    {
     "name": "stdout",
     "output_type": "stream",
     "text": [
      "Matrix 8: 1667465 non-zero elements\n",
      "\tSaving one million non-zero values... (after reduction: 1016500 non-zero elements)\n"
     ]
    },
    {
     "name": "stdout",
     "output_type": "stream",
     "text": [
      "Matrix 9: 657355 non-zero elements\n",
      "\tSaving all non-zero values... (657355 non-zero elements)\n",
      "Matrix 10: 1024 non-zero elements\n",
      "\tSaving all non-zero values... (1024 non-zero elements)\n",
      "Matrix 11: 41209 non-zero elements\n",
      "\tSaving all non-zero values... (41209 non-zero elements)\n"
     ]
    },
    {
     "name": "stdout",
     "output_type": "stream",
     "text": [
      "Matrix 12: 0 non-zero elements\n",
      "\tSaving all non-zero values... (0 non-zero elements)\n",
      "Matrix 13: 40945 non-zero elements\n",
      "\tSaving all non-zero values... (40945 non-zero elements)\n",
      "Matrix 14: 4441 non-zero elements\n",
      "\tSaving all non-zero values... (4441 non-zero elements)\n",
      "Matrix 15: 6432 non-zero elements\n",
      "\tSaving all non-zero values... (6432 non-zero elements)\n",
      "Matrix 16: 0 non-zero elements\n",
      "\tSaving all non-zero values... (0 non-zero elements)\n",
      "Matrix 17: 4688 non-zero elements\n",
      "\tSaving all non-zero values... (4688 non-zero elements)\n"
     ]
    },
    {
     "name": "stdout",
     "output_type": "stream",
     "text": [
      "Matrix 18: 5947 non-zero elements\n",
      "\tSaving all non-zero values... (5947 non-zero elements)\n",
      "Matrix 19: 64 non-zero elements\n",
      "\tSaving all non-zero values... (64 non-zero elements)\n",
      "Matrix 20: 0 non-zero elements\n",
      "\tSaving all non-zero values... (0 non-zero elements)\n",
      "Matrix 21: 5527 non-zero elements\n",
      "\tSaving all non-zero values... (5527 non-zero elements)\n",
      "Matrix 22: 2480 non-zero elements\n",
      "\tSaving all non-zero values... (2480 non-zero elements)\n"
     ]
    },
    {
     "name": "stdout",
     "output_type": "stream",
     "text": [
      "Matrix 23: 23068 non-zero elements\n",
      "\tSaving all non-zero values... (23068 non-zero elements)\n",
      "Matrix 24: 262 non-zero elements\n",
      "\tSaving all non-zero values... (262 non-zero elements)\n"
     ]
    },
    {
     "name": "stdout",
     "output_type": "stream",
     "text": [
      "Matrix 25: 7480 non-zero elements\n",
      "\tSaving all non-zero values... (7480 non-zero elements)\n",
      "Matrix 26: 196992 non-zero elements\n",
      "\tSaving all non-zero values... (196992 non-zero elements)\n"
     ]
    },
    {
     "name": "stdout",
     "output_type": "stream",
     "text": [
      "Matrix 27: 6810 non-zero elements\n",
      "\tSaving all non-zero values... (6810 non-zero elements)\n",
      "Matrix 28: 131 non-zero elements\n",
      "\tSaving all non-zero values... (131 non-zero elements)\n",
      "Matrix 29: 10051 non-zero elements\n",
      "\tSaving all non-zero values... (10051 non-zero elements)\n"
     ]
    },
    {
     "name": "stdout",
     "output_type": "stream",
     "text": [
      "Matrix 30: 3451 non-zero elements\n",
      "\tSaving all non-zero values... (3451 non-zero elements)\n",
      "Matrix 31: 0 non-zero elements\n",
      "\tSaving all non-zero values... (0 non-zero elements)\n",
      "Matrix 32: 2956 non-zero elements\n",
      "\tSaving all non-zero values... (2956 non-zero elements)\n",
      "Matrix 33: 1185 non-zero elements\n",
      "\tSaving all non-zero values... (1185 non-zero elements)\n",
      "Matrix 34: 6064 non-zero elements\n",
      "\tSaving all non-zero values... (6064 non-zero elements)\n",
      "Matrix 35: 0 non-zero elements\n",
      "\tSaving all non-zero values... (0 non-zero elements)\n",
      "Matrix 36: 4521 non-zero elements\n",
      "\tSaving all non-zero values... (4521 non-zero elements)\n",
      "Matrix 37: 287 non-zero elements\n",
      "\tSaving all non-zero values... (287 non-zero elements)\n",
      "Matrix 38: 0 non-zero elements\n",
      "\tSaving all non-zero values... (0 non-zero elements)\n"
     ]
    },
    {
     "name": "stdout",
     "output_type": "stream",
     "text": [
      "Matrix 39: 1408 non-zero elements\n",
      "\tSaving all non-zero values... (1408 non-zero elements)\n",
      "Matrix 40: 0 non-zero elements\n",
      "\tSaving all non-zero values... (0 non-zero elements)\n",
      "Matrix 41: 151 non-zero elements\n",
      "\tSaving all non-zero values... (151 non-zero elements)\n",
      "Matrix 42: 0 non-zero elements\n",
      "\tSaving all non-zero values... (0 non-zero elements)\n",
      "==============================================================\n"
     ]
    },
    {
     "name": "stdout",
     "output_type": "stream",
     "text": [
      "done saving [unique edges]:  1613269\n",
      "Working on 0th file...\n"
     ]
    },
    {
     "name": "stdout",
     "output_type": "stream",
     "text": [
      "\tdone...\n",
      "\tSaving...\n",
      "\tDone saving edge_weight0...\n",
      "Working on 1th file...\n"
     ]
    },
    {
     "name": "stdout",
     "output_type": "stream",
     "text": [
      "\tdone...\n",
      "\tSaving...\n"
     ]
    },
    {
     "name": "stdout",
     "output_type": "stream",
     "text": [
      "\tDone saving edge_weight1...\n",
      "Working on 2th file...\n"
     ]
    },
    {
     "name": "stdout",
     "output_type": "stream",
     "text": [
      "\tdone...\n",
      "\tSaving...\n"
     ]
    },
    {
     "name": "stdout",
     "output_type": "stream",
     "text": [
      "\tDone saving edge_weight2...\n",
      "Working on 3th file...\n"
     ]
    },
    {
     "name": "stdout",
     "output_type": "stream",
     "text": [
      "\tdone...\n",
      "\tSaving...\n",
      "\tDone saving edge_weight3...\n",
      "Working on 4th file...\n"
     ]
    },
    {
     "name": "stdout",
     "output_type": "stream",
     "text": [
      "\tdone...\n",
      "\tSaving...\n"
     ]
    },
    {
     "name": "stdout",
     "output_type": "stream",
     "text": [
      "\tDone saving edge_weight4...\n",
      "Working on 5th file...\n"
     ]
    },
    {
     "name": "stdout",
     "output_type": "stream",
     "text": [
      "\tdone...\n",
      "\tSaving...\n",
      "\tDone saving edge_weight5...\n",
      "Working on 6th file...\n"
     ]
    },
    {
     "name": "stdout",
     "output_type": "stream",
     "text": [
      "\tdone...\n",
      "\tSaving...\n"
     ]
    },
    {
     "name": "stdout",
     "output_type": "stream",
     "text": [
      "\tDone saving edge_weight6...\n",
      "Working on 7th file...\n"
     ]
    },
    {
     "name": "stdout",
     "output_type": "stream",
     "text": [
      "\tdone...\n",
      "\tSaving...\n"
     ]
    },
    {
     "name": "stdout",
     "output_type": "stream",
     "text": [
      "\tDone saving edge_weight7...\n",
      "Working on 8th file...\n"
     ]
    },
    {
     "name": "stdout",
     "output_type": "stream",
     "text": [
      "\tdone...\n",
      "\tSaving...\n"
     ]
    },
    {
     "name": "stdout",
     "output_type": "stream",
     "text": [
      "\tDone saving edge_weight8...\n",
      "Working on 9th file...\n"
     ]
    },
    {
     "name": "stdout",
     "output_type": "stream",
     "text": [
      "\tdone...\n",
      "\tSaving...\n"
     ]
    },
    {
     "name": "stdout",
     "output_type": "stream",
     "text": [
      "\tDone saving edge_weight9...\n",
      "Working on 10th file...\n"
     ]
    },
    {
     "name": "stdout",
     "output_type": "stream",
     "text": [
      "\tdone...\n",
      "\tSaving...\n",
      "\tDone saving edge_weight10...\n",
      "Working on 11th file...\n"
     ]
    },
    {
     "name": "stdout",
     "output_type": "stream",
     "text": [
      "\tdone...\n",
      "\tSaving...\n",
      "\tDone saving edge_weight11...\n",
      "Working on 12th file...\n"
     ]
    },
    {
     "name": "stdout",
     "output_type": "stream",
     "text": [
      "\tdone...\n",
      "\tSaving...\n",
      "\tDone saving edge_weight12...\n",
      "Working on 13th file...\n"
     ]
    },
    {
     "name": "stdout",
     "output_type": "stream",
     "text": [
      "\tdone...\n",
      "\tSaving...\n",
      "\tDone saving edge_weight13...\n",
      "Working on 14th file...\n"
     ]
    },
    {
     "name": "stdout",
     "output_type": "stream",
     "text": [
      "\tdone...\n",
      "\tSaving...\n",
      "\tDone saving edge_weight14...\n",
      "Working on 15th file...\n"
     ]
    },
    {
     "name": "stdout",
     "output_type": "stream",
     "text": [
      "\tdone...\n",
      "\tSaving...\n",
      "\tDone saving edge_weight15...\n",
      "Working on 16th file...\n"
     ]
    },
    {
     "name": "stdout",
     "output_type": "stream",
     "text": [
      "\tdone...\n",
      "\tSaving...\n",
      "\tDone saving edge_weight16...\n",
      "Working on 17th file...\n"
     ]
    },
    {
     "name": "stdout",
     "output_type": "stream",
     "text": [
      "\tdone...\n",
      "\tSaving...\n",
      "\tDone saving edge_weight17...\n",
      "Working on 18th file...\n"
     ]
    },
    {
     "name": "stdout",
     "output_type": "stream",
     "text": [
      "\tdone...\n",
      "\tSaving...\n",
      "\tDone saving edge_weight18...\n",
      "Working on 19th file...\n"
     ]
    },
    {
     "name": "stdout",
     "output_type": "stream",
     "text": [
      "\tdone...\n",
      "\tSaving...\n",
      "\tDone saving edge_weight19...\n",
      "Working on 20th file...\n"
     ]
    },
    {
     "name": "stdout",
     "output_type": "stream",
     "text": [
      "\tdone...\n",
      "\tSaving...\n",
      "\tDone saving edge_weight20...\n",
      "Working on 21th file...\n"
     ]
    },
    {
     "name": "stdout",
     "output_type": "stream",
     "text": [
      "\tdone...\n",
      "\tSaving...\n",
      "\tDone saving edge_weight21...\n",
      "Working on 22th file...\n"
     ]
    },
    {
     "name": "stdout",
     "output_type": "stream",
     "text": [
      "\tdone...\n",
      "\tSaving...\n",
      "\tDone saving edge_weight22...\n",
      "Working on 23th file...\n"
     ]
    },
    {
     "name": "stdout",
     "output_type": "stream",
     "text": [
      "\tdone...\n",
      "\tSaving...\n",
      "\tDone saving edge_weight23...\n",
      "Working on 24th file...\n"
     ]
    },
    {
     "name": "stdout",
     "output_type": "stream",
     "text": [
      "\tdone...\n",
      "\tSaving...\n",
      "\tDone saving edge_weight24...\n",
      "Working on 25th file...\n"
     ]
    },
    {
     "name": "stdout",
     "output_type": "stream",
     "text": [
      "\tdone...\n",
      "\tSaving...\n",
      "\tDone saving edge_weight25...\n",
      "Working on 26th file...\n"
     ]
    },
    {
     "name": "stdout",
     "output_type": "stream",
     "text": [
      "\tdone...\n",
      "\tSaving...\n"
     ]
    },
    {
     "name": "stdout",
     "output_type": "stream",
     "text": [
      "\tDone saving edge_weight26...\n",
      "Working on 27th file...\n"
     ]
    },
    {
     "name": "stdout",
     "output_type": "stream",
     "text": [
      "\tdone...\n",
      "\tSaving...\n",
      "\tDone saving edge_weight27...\n",
      "Working on 28th file...\n"
     ]
    },
    {
     "name": "stdout",
     "output_type": "stream",
     "text": [
      "\tdone...\n",
      "\tSaving...\n",
      "\tDone saving edge_weight28...\n",
      "Working on 29th file...\n"
     ]
    },
    {
     "name": "stdout",
     "output_type": "stream",
     "text": [
      "\tdone...\n",
      "\tSaving...\n",
      "\tDone saving edge_weight29...\n",
      "Working on 30th file...\n"
     ]
    },
    {
     "name": "stdout",
     "output_type": "stream",
     "text": [
      "\tdone...\n",
      "\tSaving...\n",
      "\tDone saving edge_weight30...\n",
      "Working on 31th file...\n"
     ]
    },
    {
     "name": "stdout",
     "output_type": "stream",
     "text": [
      "\tdone...\n",
      "\tSaving...\n",
      "\tDone saving edge_weight31...\n",
      "Working on 32th file...\n"
     ]
    },
    {
     "name": "stdout",
     "output_type": "stream",
     "text": [
      "\tdone...\n",
      "\tSaving...\n",
      "\tDone saving edge_weight32...\n",
      "Working on 33th file...\n"
     ]
    },
    {
     "name": "stdout",
     "output_type": "stream",
     "text": [
      "\tdone...\n",
      "\tSaving...\n",
      "\tDone saving edge_weight33...\n",
      "Working on 34th file...\n"
     ]
    },
    {
     "name": "stdout",
     "output_type": "stream",
     "text": [
      "\tdone...\n",
      "\tSaving...\n",
      "\tDone saving edge_weight34...\n",
      "Working on 35th file...\n"
     ]
    },
    {
     "name": "stdout",
     "output_type": "stream",
     "text": [
      "\tdone...\n",
      "\tSaving...\n",
      "\tDone saving edge_weight35...\n",
      "Working on 36th file...\n"
     ]
    },
    {
     "name": "stdout",
     "output_type": "stream",
     "text": [
      "\tdone...\n",
      "\tSaving...\n",
      "\tDone saving edge_weight36...\n",
      "Working on 37th file...\n"
     ]
    },
    {
     "name": "stdout",
     "output_type": "stream",
     "text": [
      "\tdone...\n",
      "\tSaving...\n",
      "\tDone saving edge_weight37...\n",
      "Working on 38th file...\n"
     ]
    },
    {
     "name": "stdout",
     "output_type": "stream",
     "text": [
      "\tdone...\n",
      "\tSaving...\n",
      "\tDone saving edge_weight38...\n",
      "Working on 39th file...\n"
     ]
    },
    {
     "name": "stdout",
     "output_type": "stream",
     "text": [
      "\tdone...\n",
      "\tSaving...\n",
      "\tDone saving edge_weight39...\n",
      "Working on 40th file...\n"
     ]
    },
    {
     "name": "stdout",
     "output_type": "stream",
     "text": [
      "\tdone...\n",
      "\tSaving...\n",
      "\tDone saving edge_weight40...\n",
      "Working on 41th file...\n"
     ]
    },
    {
     "name": "stdout",
     "output_type": "stream",
     "text": [
      "\tdone...\n",
      "\tSaving...\n",
      "\tDone saving edge_weight41...\n",
      "Working on 42th file...\n"
     ]
    },
    {
     "name": "stdout",
     "output_type": "stream",
     "text": [
      "\tdone...\n",
      "\tSaving...\n",
      "\tDone saving edge_weight42...\n"
     ]
    },
    {
     "name": "stdout",
     "output_type": "stream",
     "text": [
      "saving to /lustre/home/almusawiaf/PhD_Projects/HGNN_Project/Data/203_Diagnoses/DMPLB/1000/HGNN_data/Nodes.pkl\n"
     ]
    }
   ],
   "source": [
    "from module1 import generating_HG as G_class\n",
    "from module1 import XY_preparation as XY\n",
    "from module1 import meta_path as MP\n",
    "# =================================================================================\n",
    "saving_path = f'{disease_data_path}/{num_Diseases}_Diagnoses/{DISEASE_FILE}/{num_Sample}'\n",
    "\n",
    "for p in ['HGNN_data', 'clinical_items', 'GMLs', 'OHV', 'PSGs', 'SNFs']:\n",
    "    os.makedirs(f'{saving_path}/{p}', exist_ok=True)\n",
    "\n",
    "saving_path = f'{disease_data_path}/{num_Diseases}_Diagnoses/{DISEASE_FILE}/{num_Sample}/HGNN_data'\n",
    "# =================================================================================\n",
    "HG_instance = G_class.Generate_HG(sampling = sampling, num_Patients = num_Sample)\n",
    "HG = HG_instance.HG\n",
    "G_class.G_statistics(HG)\n",
    "# =================================================================================\n",
    "if not sampling:\n",
    "    num_Sample = len(HG_instance.Patients)\n",
    "# =================================================================================\n",
    "XY_inst = XY.XY_preparation(HG)\n",
    "X = XY_inst.X\n",
    "Y = XY_inst.Y\n",
    "# =================================================================================\n",
    "MP_inst = MP.Meta_path(HG, similarity_type = 'PC', saving_path = saving_path)\n",
    "# =================================================================================\n",
    "torch.save(X, f'{saving_path}/X.pt')\n",
    "torch.save(Y, f'{saving_path}/Y.pt')\n",
    "\n",
    "save_list_as_pickle(MP_inst.Nodes,   saving_path, 'Nodes')"
   ]
  },
  {
   "cell_type": "code",
   "execution_count": null,
   "metadata": {},
   "outputs": [],
   "source": []
  }
 ],
 "metadata": {
  "kernelspec": {
   "display_name": "Python 3 (ipykernel)",
   "language": "python",
   "name": "python3"
  },
  "language_info": {
   "codemirror_mode": {
    "name": "ipython",
    "version": 3
   },
   "file_extension": ".py",
   "mimetype": "text/x-python",
   "name": "python",
   "nbconvert_exporter": "python",
   "pygments_lexer": "ipython3",
   "version": "3.9.18"
  }
 },
 "nbformat": 4,
 "nbformat_minor": 4
}
