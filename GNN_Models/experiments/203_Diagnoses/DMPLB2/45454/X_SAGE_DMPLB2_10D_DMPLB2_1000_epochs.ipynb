{
 "cells": [
  {
   "cell_type": "code",
   "execution_count": 1,
   "metadata": {
    "execution": {
     "iopub.execute_input": "2024-10-07T18:19:05.054325Z",
     "iopub.status.busy": "2024-10-07T18:19:05.054073Z",
     "iopub.status.idle": "2024-10-08T01:46:22.234916Z",
     "shell.execute_reply": "2024-10-08T01:46:22.233978Z"
    }
   },
   "outputs": [
    {
     "name": "stdout",
     "output_type": "stream",
     "text": [
      "\t- Loading the data...\n",
      "../Data/203_Diagnoses/DMPLB2/45454/HGNN_data\n"
     ]
    },
    {
     "name": "stderr",
     "output_type": "stream",
     "text": [
      "/home/almusawiaf/MyDocuments/PhD_Projects/HGNN_Project2/GNN_Models/weighted_sum_precision/GNN_functions_patients_only.py:245: FutureWarning: You are using `torch.load` with `weights_only=False` (the current default value), which uses the default pickle module implicitly. It is possible to construct malicious pickle data which will execute arbitrary code during unpickling (See https://github.com/pytorch/pytorch/blob/main/SECURITY.md#untrusted-models for more details). In a future release, the default value for `weights_only` will be flipped to `True`. This limits the functions that could be executed during unpickling. Arbitrary objects will no longer be allowed to be loaded via this mode unless they are explicitly allowlisted by the user via `torch.serialization.add_safe_globals`. We recommend you start setting `weights_only=True` for any use case where you don't have full control of the loaded file. Please open an issue on GitHub for any issues related to this experimental feature.\n",
      "  temp_Y = torch.load(f'{file_path}/Y{super_class}.pt')\n"
     ]
    },
    {
     "name": "stderr",
     "output_type": "stream",
     "text": [
      "/home/almusawiaf/MyDocuments/PhD_Projects/HGNN_Project2/GNN_Models/weighted_sum_precision/GNN_functions_patients_only.py:247: FutureWarning: You are using `torch.load` with `weights_only=False` (the current default value), which uses the default pickle module implicitly. It is possible to construct malicious pickle data which will execute arbitrary code during unpickling (See https://github.com/pytorch/pytorch/blob/main/SECURITY.md#untrusted-models for more details). In a future release, the default value for `weights_only` will be flipped to `True`. This limits the functions that could be executed during unpickling. Arbitrary objects will no longer be allowed to be loaded via this mode unless they are explicitly allowlisted by the user via `torch.serialization.add_safe_globals`. We recommend you start setting `weights_only=True` for any use case where you don't have full control of the loaded file. Please open an issue on GitHub for any issues related to this experimental feature.\n",
      "  X = torch.load(f'{file_path}/X.pt')\n"
     ]
    },
    {
     "name": "stdout",
     "output_type": "stream",
     "text": [
      "\t- Generating the Data structure ...\n",
      "\t- Generating the train, test, and validation sets...\n"
     ]
    },
    {
     "name": "stdout",
     "output_type": "stream",
     "text": [
      "\t- Number of meta-paths used is :30\n",
      "\t- Preparing the model...\n",
      "\t- Epochs...\n"
     ]
    },
    {
     "name": "stdout",
     "output_type": "stream",
     "text": [
      "Epoch: 1/1000, Loss: 3.1136, Val Precision: 0.1269, ACC: 0.0020, top_k: 0.2420, top_k=1: 0.2058\n"
     ]
    },
    {
     "name": "stdout",
     "output_type": "stream",
     "text": [
      "Epoch: 2/1000, Loss: 2.7616, Val Precision: 0.1374, ACC: 0.0019, top_k: 0.2391, top_k=1: 0.2058\n"
     ]
    },
    {
     "name": "stdout",
     "output_type": "stream",
     "text": [
      "Epoch: 3/1000, Loss: 2.2109, Val Precision: 0.1543, ACC: 0.0020, top_k: 0.2314, top_k=1: 0.2058\n"
     ]
    },
    {
     "name": "stdout",
     "output_type": "stream",
     "text": [
      "Epoch: 4/1000, Loss: 1.5757, Val Precision: 0.1798, ACC: 0.0006, top_k: 0.2172, top_k=1: 0.2058\n"
     ]
    },
    {
     "name": "stdout",
     "output_type": "stream",
     "text": [
      "Epoch: 5/1000, Loss: 1.1715, Val Precision: 0.1859, ACC: 0.0000, top_k: 0.2069, top_k=1: 0.2058\n"
     ]
    },
    {
     "name": "stdout",
     "output_type": "stream",
     "text": [
      "Epoch: 6/1000, Loss: 1.1608, Val Precision: 0.1754, ACC: 0.0000, top_k: 0.1959, top_k=1: 0.2058\n"
     ]
    },
    {
     "name": "stdout",
     "output_type": "stream",
     "text": [
      "Epoch: 7/1000, Loss: 1.4802, Val Precision: 0.1626, ACC: 0.0006, top_k: 0.1911, top_k=1: 0.2058\n"
     ]
    },
    {
     "name": "stdout",
     "output_type": "stream",
     "text": [
      "Epoch: 8/1000, Loss: 1.7408, Val Precision: 0.1542, ACC: 0.0011, top_k: 0.1912, top_k=1: 0.2058\n"
     ]
    },
    {
     "name": "stdout",
     "output_type": "stream",
     "text": [
      "Epoch: 9/1000, Loss: 1.8102, Val Precision: 0.1398, ACC: 0.0024, top_k: 0.1910, top_k=1: 0.2058\n"
     ]
    },
    {
     "name": "stdout",
     "output_type": "stream",
     "text": [
      "Epoch: 10/1000, Loss: 1.7501, Val Precision: 0.1290, ACC: 0.0053, top_k: 0.1905, top_k=1: 0.2058\n"
     ]
    },
    {
     "name": "stdout",
     "output_type": "stream",
     "text": [
      "Epoch: 11/1000, Loss: 1.6386, Val Precision: 0.1304, ACC: 0.0122, top_k: 0.1915, top_k=1: 0.2058\n"
     ]
    },
    {
     "name": "stdout",
     "output_type": "stream",
     "text": [
      "Epoch: 12/1000, Loss: 1.5155, Val Precision: 0.1283, ACC: 0.0355, top_k: 0.1929, top_k=1: 0.2058\n"
     ]
    },
    {
     "name": "stdout",
     "output_type": "stream",
     "text": [
      "Epoch: 13/1000, Loss: 1.4366, Val Precision: 0.1134, ACC: 0.0860, top_k: 0.1958, top_k=1: 0.2058\n"
     ]
    },
    {
     "name": "stdout",
     "output_type": "stream",
     "text": [
      "Epoch: 14/1000, Loss: 1.4623, Val Precision: 0.1076, ACC: 0.1348, top_k: 0.2008, top_k=1: 0.2058\n"
     ]
    },
    {
     "name": "stdout",
     "output_type": "stream",
     "text": [
      "Epoch: 15/1000, Loss: 1.4744, Val Precision: 0.1043, ACC: 0.1563, top_k: 0.2040, top_k=1: 0.2058\n"
     ]
    },
    {
     "name": "stdout",
     "output_type": "stream",
     "text": [
      "Epoch: 16/1000, Loss: 1.4437, Val Precision: 0.1172, ACC: 0.1598, top_k: 0.2057, top_k=1: 0.2058\n"
     ]
    },
    {
     "name": "stdout",
     "output_type": "stream",
     "text": [
      "Epoch: 17/1000, Loss: 1.3755, Val Precision: 0.1311, ACC: 0.1450, top_k: 0.2077, top_k=1: 0.2058\n"
     ]
    },
    {
     "name": "stdout",
     "output_type": "stream",
     "text": [
      "Epoch: 18/1000, Loss: 1.2841, Val Precision: 0.1498, ACC: 0.1398, top_k: 0.2125, top_k=1: 0.2058\n"
     ]
    },
    {
     "name": "stdout",
     "output_type": "stream",
     "text": [
      "Epoch: 19/1000, Loss: 1.1724, Val Precision: 0.1907, ACC: 0.1326, top_k: 0.2158, top_k=1: 0.2058\n"
     ]
    },
    {
     "name": "stdout",
     "output_type": "stream",
     "text": [
      "Epoch: 20/1000, Loss: 1.0434, Val Precision: 0.2152, ACC: 0.1125, top_k: 0.2201, top_k=1: 0.2058\n"
     ]
    },
    {
     "name": "stdout",
     "output_type": "stream",
     "text": [
      "Epoch: 21/1000, Loss: 0.9323, Val Precision: 0.2473, ACC: 0.0777, top_k: 0.2237, top_k=1: 0.2058\n"
     ]
    },
    {
     "name": "stdout",
     "output_type": "stream",
     "text": [
      "Epoch: 22/1000, Loss: 0.8853, Val Precision: 0.2713, ACC: 0.0613, top_k: 0.2323, top_k=1: 0.2058\n"
     ]
    },
    {
     "name": "stdout",
     "output_type": "stream",
     "text": [
      "Epoch: 23/1000, Loss: 0.9057, Val Precision: 0.2782, ACC: 0.0617, top_k: 0.2397, top_k=1: 0.2058\n"
     ]
    },
    {
     "name": "stdout",
     "output_type": "stream",
     "text": [
      "Epoch: 24/1000, Loss: 1.0185, Val Precision: 0.2996, ACC: 0.0624, top_k: 0.2443, top_k=1: 0.2058\n"
     ]
    },
    {
     "name": "stdout",
     "output_type": "stream",
     "text": [
      "Epoch: 25/1000, Loss: 1.1414, Val Precision: 0.3043, ACC: 0.0639, top_k: 0.2474, top_k=1: 0.2058\n"
     ]
    },
    {
     "name": "stdout",
     "output_type": "stream",
     "text": [
      "Epoch: 26/1000, Loss: 1.1910, Val Precision: 0.3104, ACC: 0.0668, top_k: 0.2486, top_k=1: 0.2058\n"
     ]
    },
    {
     "name": "stdout",
     "output_type": "stream",
     "text": [
      "Epoch: 27/1000, Loss: 1.1655, Val Precision: 0.3197, ACC: 0.0709, top_k: 0.2482, top_k=1: 0.2058\n"
     ]
    },
    {
     "name": "stdout",
     "output_type": "stream",
     "text": [
      "Epoch: 28/1000, Loss: 1.0985, Val Precision: 0.3197, ACC: 0.0764, top_k: 0.2461, top_k=1: 0.2058\n"
     ]
    },
    {
     "name": "stdout",
     "output_type": "stream",
     "text": [
      "Epoch: 29/1000, Loss: 1.0125, Val Precision: 0.3261, ACC: 0.0844, top_k: 0.2425, top_k=1: 0.2058\n"
     ]
    },
    {
     "name": "stdout",
     "output_type": "stream",
     "text": [
      "Epoch: 30/1000, Loss: 0.9138, Val Precision: 0.3258, ACC: 0.0989, top_k: 0.2409, top_k=1: 0.2058\n"
     ]
    },
    {
     "name": "stdout",
     "output_type": "stream",
     "text": [
      "Epoch: 31/1000, Loss: 0.8385, Val Precision: 0.3125, ACC: 0.1193, top_k: 0.2388, top_k=1: 0.2058\n"
     ]
    },
    {
     "name": "stdout",
     "output_type": "stream",
     "text": [
      "Epoch: 32/1000, Loss: 0.7952, Val Precision: 0.3025, ACC: 0.1469, top_k: 0.2391, top_k=1: 0.2058\n"
     ]
    },
    {
     "name": "stdout",
     "output_type": "stream",
     "text": [
      "Epoch: 33/1000, Loss: 0.7752, Val Precision: 0.3122, ACC: 0.1800, top_k: 0.2387, top_k=1: 0.2058\n"
     ]
    },
    {
     "name": "stdout",
     "output_type": "stream",
     "text": [
      "Epoch: 34/1000, Loss: 0.7830, Val Precision: 0.3151, ACC: 0.1866, top_k: 0.2379, top_k=1: 0.2058\n"
     ]
    },
    {
     "name": "stdout",
     "output_type": "stream",
     "text": [
      "Epoch: 35/1000, Loss: 0.7939, Val Precision: 0.3214, ACC: 0.1906, top_k: 0.2359, top_k=1: 0.2058\n"
     ]
    },
    {
     "name": "stdout",
     "output_type": "stream",
     "text": [
      "Epoch: 36/1000, Loss: 0.7887, Val Precision: 0.3223, ACC: 0.1902, top_k: 0.2345, top_k=1: 0.2058\n"
     ]
    },
    {
     "name": "stdout",
     "output_type": "stream",
     "text": [
      "Epoch: 37/1000, Loss: 0.7717, Val Precision: 0.3357, ACC: 0.1817, top_k: 0.2343, top_k=1: 0.2058\n"
     ]
    },
    {
     "name": "stdout",
     "output_type": "stream",
     "text": [
      "Epoch: 38/1000, Loss: 0.7624, Val Precision: 0.3497, ACC: 0.1680, top_k: 0.2382, top_k=1: 0.2058\n"
     ]
    },
    {
     "name": "stdout",
     "output_type": "stream",
     "text": [
      "Epoch: 39/1000, Loss: 0.7602, Val Precision: 0.3750, ACC: 0.1618, top_k: 0.2421, top_k=1: 0.2058\n"
     ]
    },
    {
     "name": "stdout",
     "output_type": "stream",
     "text": [
      "Epoch: 40/1000, Loss: 0.7490, Val Precision: 0.3749, ACC: 0.1530, top_k: 0.2458, top_k=1: 0.2058\n"
     ]
    },
    {
     "name": "stdout",
     "output_type": "stream",
     "text": [
      "Epoch: 41/1000, Loss: 0.7303, Val Precision: 0.3751, ACC: 0.1480, top_k: 0.2501, top_k=1: 0.2058\n"
     ]
    },
    {
     "name": "stdout",
     "output_type": "stream",
     "text": [
      "Epoch: 42/1000, Loss: 0.7139, Val Precision: 0.3750, ACC: 0.1471, top_k: 0.2507, top_k=1: 0.2058\n"
     ]
    },
    {
     "name": "stdout",
     "output_type": "stream",
     "text": [
      "Epoch: 43/1000, Loss: 0.6979, Val Precision: 0.3699, ACC: 0.1563, top_k: 0.2529, top_k=1: 0.2058\n"
     ]
    },
    {
     "name": "stdout",
     "output_type": "stream",
     "text": [
      "Epoch: 44/1000, Loss: 0.6828, Val Precision: 0.3759, ACC: 0.1680, top_k: 0.2549, top_k=1: 0.2058\n"
     ]
    },
    {
     "name": "stdout",
     "output_type": "stream",
     "text": [
      "Epoch: 45/1000, Loss: 0.6811, Val Precision: 0.3932, ACC: 0.1703, top_k: 0.2576, top_k=1: 0.2058\n"
     ]
    },
    {
     "name": "stdout",
     "output_type": "stream",
     "text": [
      "Epoch: 46/1000, Loss: 0.6859, Val Precision: 0.4028, ACC: 0.1779, top_k: 0.2575, top_k=1: 0.2058\n"
     ]
    },
    {
     "name": "stdout",
     "output_type": "stream",
     "text": [
      "Epoch: 47/1000, Loss: 0.6869, Val Precision: 0.4001, ACC: 0.1868, top_k: 0.2570, top_k=1: 0.2058\n"
     ]
    },
    {
     "name": "stdout",
     "output_type": "stream",
     "text": [
      "Epoch: 48/1000, Loss: 0.6833, Val Precision: 0.4102, ACC: 0.1988, top_k: 0.2576, top_k=1: 0.2058\n"
     ]
    },
    {
     "name": "stdout",
     "output_type": "stream",
     "text": [
      "Epoch: 49/1000, Loss: 0.6715, Val Precision: 0.4237, ACC: 0.2123, top_k: 0.2594, top_k=1: 0.2058\n"
     ]
    },
    {
     "name": "stdout",
     "output_type": "stream",
     "text": [
      "Epoch: 50/1000, Loss: 0.6572, Val Precision: 0.4077, ACC: 0.2097, top_k: 0.2593, top_k=1: 0.2058\n"
     ]
    },
    {
     "name": "stdout",
     "output_type": "stream",
     "text": [
      "Epoch: 51/1000, Loss: 0.6520, Val Precision: 0.3945, ACC: 0.1991, top_k: 0.2578, top_k=1: 0.2058\n"
     ]
    },
    {
     "name": "stdout",
     "output_type": "stream",
     "text": [
      "Epoch: 52/1000, Loss: 0.6553, Val Precision: 0.4054, ACC: 0.1902, top_k: 0.2595, top_k=1: 0.2058\n"
     ]
    },
    {
     "name": "stdout",
     "output_type": "stream",
     "text": [
      "Epoch: 53/1000, Loss: 0.6575, Val Precision: 0.4090, ACC: 0.1911, top_k: 0.2616, top_k=1: 0.2058\n"
     ]
    },
    {
     "name": "stdout",
     "output_type": "stream",
     "text": [
      "Epoch: 54/1000, Loss: 0.6499, Val Precision: 0.4206, ACC: 0.2070, top_k: 0.2624, top_k=1: 0.2058\n"
     ]
    },
    {
     "name": "stdout",
     "output_type": "stream",
     "text": [
      "Epoch: 55/1000, Loss: 0.6381, Val Precision: 0.4386, ACC: 0.2244, top_k: 0.2644, top_k=1: 0.2058\n"
     ]
    },
    {
     "name": "stdout",
     "output_type": "stream",
     "text": [
      "Epoch: 56/1000, Loss: 0.6329, Val Precision: 0.4395, ACC: 0.2320, top_k: 0.2654, top_k=1: 0.2058\n"
     ]
    },
    {
     "name": "stdout",
     "output_type": "stream",
     "text": [
      "Epoch: 57/1000, Loss: 0.6327, Val Precision: 0.4206, ACC: 0.2330, top_k: 0.2660, top_k=1: 0.2058\n"
     ]
    },
    {
     "name": "stdout",
     "output_type": "stream",
     "text": [
      "Epoch: 58/1000, Loss: 0.6323, Val Precision: 0.4395, ACC: 0.2339, top_k: 0.2670, top_k=1: 0.2058\n"
     ]
    },
    {
     "name": "stdout",
     "output_type": "stream",
     "text": [
      "Epoch: 59/1000, Loss: 0.6288, Val Precision: 0.4365, ACC: 0.2346, top_k: 0.2672, top_k=1: 0.2058\n"
     ]
    },
    {
     "name": "stdout",
     "output_type": "stream",
     "text": [
      "Epoch: 60/1000, Loss: 0.6222, Val Precision: 0.4279, ACC: 0.2344, top_k: 0.2674, top_k=1: 0.2058\n"
     ]
    },
    {
     "name": "stdout",
     "output_type": "stream",
     "text": [
      "Epoch: 61/1000, Loss: 0.6184, Val Precision: 0.4408, ACC: 0.2356, top_k: 0.2686, top_k=1: 0.2058\n"
     ]
    },
    {
     "name": "stdout",
     "output_type": "stream",
     "text": [
      "Epoch: 62/1000, Loss: 0.6173, Val Precision: 0.4534, ACC: 0.2387, top_k: 0.2684, top_k=1: 0.2058\n"
     ]
    },
    {
     "name": "stdout",
     "output_type": "stream",
     "text": [
      "Epoch: 63/1000, Loss: 0.6172, Val Precision: 0.4580, ACC: 0.2426, top_k: 0.2702, top_k=1: 0.2058\n"
     ]
    },
    {
     "name": "stdout",
     "output_type": "stream",
     "text": [
      "Epoch: 64/1000, Loss: 0.6115, Val Precision: 0.4503, ACC: 0.2469, top_k: 0.2723, top_k=1: 0.2058\n"
     ]
    },
    {
     "name": "stdout",
     "output_type": "stream",
     "text": [
      "Epoch: 65/1000, Loss: 0.6053, Val Precision: 0.4365, ACC: 0.2479, top_k: 0.2730, top_k=1: 0.2058\n"
     ]
    },
    {
     "name": "stdout",
     "output_type": "stream",
     "text": [
      "Epoch: 66/1000, Loss: 0.6070, Val Precision: 0.4398, ACC: 0.2498, top_k: 0.2738, top_k=1: 0.2058\n"
     ]
    },
    {
     "name": "stdout",
     "output_type": "stream",
     "text": [
      "Epoch: 67/1000, Loss: 0.6048, Val Precision: 0.4573, ACC: 0.2541, top_k: 0.2739, top_k=1: 0.2058\n"
     ]
    },
    {
     "name": "stdout",
     "output_type": "stream",
     "text": [
      "Epoch: 68/1000, Loss: 0.5994, Val Precision: 0.4649, ACC: 0.2545, top_k: 0.2753, top_k=1: 0.2058\n"
     ]
    },
    {
     "name": "stdout",
     "output_type": "stream",
     "text": [
      "Epoch: 69/1000, Loss: 0.5968, Val Precision: 0.4584, ACC: 0.2519, top_k: 0.2751, top_k=1: 0.2058\n"
     ]
    },
    {
     "name": "stdout",
     "output_type": "stream",
     "text": [
      "Epoch: 70/1000, Loss: 0.5947, Val Precision: 0.4452, ACC: 0.2519, top_k: 0.2756, top_k=1: 0.2058\n"
     ]
    },
    {
     "name": "stdout",
     "output_type": "stream",
     "text": [
      "Epoch: 71/1000, Loss: 0.5934, Val Precision: 0.4546, ACC: 0.2624, top_k: 0.2762, top_k=1: 0.2058\n"
     ]
    },
    {
     "name": "stdout",
     "output_type": "stream",
     "text": [
      "Epoch: 72/1000, Loss: 0.5894, Val Precision: 0.4693, ACC: 0.2660, top_k: 0.2772, top_k=1: 0.2058\n"
     ]
    },
    {
     "name": "stdout",
     "output_type": "stream",
     "text": [
      "Epoch: 73/1000, Loss: 0.5872, Val Precision: 0.4664, ACC: 0.2646, top_k: 0.2792, top_k=1: 0.2058\n"
     ]
    },
    {
     "name": "stdout",
     "output_type": "stream",
     "text": [
      "Epoch: 74/1000, Loss: 0.5857, Val Precision: 0.4616, ACC: 0.2634, top_k: 0.2805, top_k=1: 0.2058\n"
     ]
    },
    {
     "name": "stdout",
     "output_type": "stream",
     "text": [
      "Epoch: 75/1000, Loss: 0.5826, Val Precision: 0.4618, ACC: 0.2659, top_k: 0.2809, top_k=1: 0.2058\n"
     ]
    },
    {
     "name": "stdout",
     "output_type": "stream",
     "text": [
      "Epoch: 76/1000, Loss: 0.5811, Val Precision: 0.4695, ACC: 0.2677, top_k: 0.2814, top_k=1: 0.2058\n"
     ]
    },
    {
     "name": "stdout",
     "output_type": "stream",
     "text": [
      "Epoch: 77/1000, Loss: 0.5792, Val Precision: 0.4719, ACC: 0.2692, top_k: 0.2823, top_k=1: 0.2058\n"
     ]
    },
    {
     "name": "stdout",
     "output_type": "stream",
     "text": [
      "Epoch: 78/1000, Loss: 0.5767, Val Precision: 0.4676, ACC: 0.2697, top_k: 0.2831, top_k=1: 0.2058\n"
     ]
    },
    {
     "name": "stdout",
     "output_type": "stream",
     "text": [
      "Epoch: 79/1000, Loss: 0.5747, Val Precision: 0.4706, ACC: 0.2699, top_k: 0.2844, top_k=1: 0.2058\n"
     ]
    },
    {
     "name": "stdout",
     "output_type": "stream",
     "text": [
      "Epoch: 80/1000, Loss: 0.5733, Val Precision: 0.4699, ACC: 0.2696, top_k: 0.2847, top_k=1: 0.2058\n"
     ]
    },
    {
     "name": "stdout",
     "output_type": "stream",
     "text": [
      "Epoch: 81/1000, Loss: 0.5711, Val Precision: 0.4705, ACC: 0.2689, top_k: 0.2869, top_k=1: 0.2058\n"
     ]
    },
    {
     "name": "stdout",
     "output_type": "stream",
     "text": [
      "Epoch: 82/1000, Loss: 0.5696, Val Precision: 0.4771, ACC: 0.2715, top_k: 0.2867, top_k=1: 0.2058\n"
     ]
    },
    {
     "name": "stdout",
     "output_type": "stream",
     "text": [
      "Epoch: 83/1000, Loss: 0.5680, Val Precision: 0.4805, ACC: 0.2735, top_k: 0.2874, top_k=1: 0.2058\n"
     ]
    },
    {
     "name": "stdout",
     "output_type": "stream",
     "text": [
      "Epoch: 84/1000, Loss: 0.5662, Val Precision: 0.4721, ACC: 0.2728, top_k: 0.2886, top_k=1: 0.2058\n"
     ]
    },
    {
     "name": "stdout",
     "output_type": "stream",
     "text": [
      "Epoch: 85/1000, Loss: 0.5643, Val Precision: 0.4786, ACC: 0.2716, top_k: 0.2891, top_k=1: 0.2058\n"
     ]
    },
    {
     "name": "stdout",
     "output_type": "stream",
     "text": [
      "Epoch: 86/1000, Loss: 0.5636, Val Precision: 0.4845, ACC: 0.2715, top_k: 0.2902, top_k=1: 0.2058\n"
     ]
    },
    {
     "name": "stdout",
     "output_type": "stream",
     "text": [
      "Epoch: 87/1000, Loss: 0.5615, Val Precision: 0.4860, ACC: 0.2735, top_k: 0.2902, top_k=1: 0.2058\n"
     ]
    },
    {
     "name": "stdout",
     "output_type": "stream",
     "text": [
      "Epoch: 88/1000, Loss: 0.5605, Val Precision: 0.4878, ACC: 0.2743, top_k: 0.2908, top_k=1: 0.2058\n"
     ]
    },
    {
     "name": "stdout",
     "output_type": "stream",
     "text": [
      "Epoch: 89/1000, Loss: 0.5590, Val Precision: 0.4862, ACC: 0.2730, top_k: 0.2917, top_k=1: 0.2058\n"
     ]
    },
    {
     "name": "stdout",
     "output_type": "stream",
     "text": [
      "Epoch: 90/1000, Loss: 0.5573, Val Precision: 0.4888, ACC: 0.2740, top_k: 0.2934, top_k=1: 0.2058\n"
     ]
    },
    {
     "name": "stdout",
     "output_type": "stream",
     "text": [
      "Epoch: 91/1000, Loss: 0.5564, Val Precision: 0.4970, ACC: 0.2729, top_k: 0.2934, top_k=1: 0.2058\n"
     ]
    },
    {
     "name": "stdout",
     "output_type": "stream",
     "text": [
      "Epoch: 92/1000, Loss: 0.5547, Val Precision: 0.4874, ACC: 0.2745, top_k: 0.2931, top_k=1: 0.2058\n"
     ]
    },
    {
     "name": "stdout",
     "output_type": "stream",
     "text": [
      "Epoch: 93/1000, Loss: 0.5537, Val Precision: 0.4961, ACC: 0.2759, top_k: 0.2941, top_k=1: 0.2058\n"
     ]
    },
    {
     "name": "stdout",
     "output_type": "stream",
     "text": [
      "Epoch: 94/1000, Loss: 0.5524, Val Precision: 0.5004, ACC: 0.2746, top_k: 0.2945, top_k=1: 0.2058\n"
     ]
    },
    {
     "name": "stdout",
     "output_type": "stream",
     "text": [
      "Epoch: 95/1000, Loss: 0.5509, Val Precision: 0.4854, ACC: 0.2712, top_k: 0.2939, top_k=1: 0.2058\n"
     ]
    },
    {
     "name": "stdout",
     "output_type": "stream",
     "text": [
      "Epoch: 96/1000, Loss: 0.5522, Val Precision: 0.4905, ACC: 0.2715, top_k: 0.2951, top_k=1: 0.2058\n"
     ]
    },
    {
     "name": "stdout",
     "output_type": "stream",
     "text": [
      "Epoch: 97/1000, Loss: 0.5496, Val Precision: 0.5105, ACC: 0.2761, top_k: 0.2962, top_k=1: 0.2058\n"
     ]
    },
    {
     "name": "stdout",
     "output_type": "stream",
     "text": [
      "Epoch: 98/1000, Loss: 0.5493, Val Precision: 0.5158, ACC: 0.2763, top_k: 0.2969, top_k=1: 0.2058\n"
     ]
    },
    {
     "name": "stdout",
     "output_type": "stream",
     "text": [
      "Epoch: 99/1000, Loss: 0.5487, Val Precision: 0.4984, ACC: 0.2745, top_k: 0.2973, top_k=1: 0.2058\n"
     ]
    },
    {
     "name": "stdout",
     "output_type": "stream",
     "text": [
      "Epoch: 100/1000, Loss: 0.5458, Val Precision: 0.4943, ACC: 0.2722, top_k: 0.2972, top_k=1: 0.2058\n"
     ]
    },
    {
     "name": "stdout",
     "output_type": "stream",
     "text": [
      "Epoch: 101/1000, Loss: 0.5459, Val Precision: 0.5019, ACC: 0.2728, top_k: 0.2974, top_k=1: 0.2058\n"
     ]
    },
    {
     "name": "stdout",
     "output_type": "stream",
     "text": [
      "Epoch: 102/1000, Loss: 0.5442, Val Precision: 0.5130, ACC: 0.2756, top_k: 0.2985, top_k=1: 0.2058\n"
     ]
    },
    {
     "name": "stdout",
     "output_type": "stream",
     "text": [
      "Epoch: 103/1000, Loss: 0.5431, Val Precision: 0.5065, ACC: 0.2759, top_k: 0.2990, top_k=1: 0.2058\n"
     ]
    },
    {
     "name": "stdout",
     "output_type": "stream",
     "text": [
      "Epoch: 104/1000, Loss: 0.5428, Val Precision: 0.5059, ACC: 0.2743, top_k: 0.2992, top_k=1: 0.2058\n"
     ]
    },
    {
     "name": "stdout",
     "output_type": "stream",
     "text": [
      "Epoch: 105/1000, Loss: 0.5407, Val Precision: 0.5147, ACC: 0.2743, top_k: 0.2990, top_k=1: 0.2058\n"
     ]
    },
    {
     "name": "stdout",
     "output_type": "stream",
     "text": [
      "Epoch: 106/1000, Loss: 0.5420, Val Precision: 0.5212, ACC: 0.2736, top_k: 0.2990, top_k=1: 0.2058\n"
     ]
    },
    {
     "name": "stdout",
     "output_type": "stream",
     "text": [
      "Epoch: 107/1000, Loss: 0.5416, Val Precision: 0.5153, ACC: 0.2763, top_k: 0.3007, top_k=1: 0.2058\n"
     ]
    },
    {
     "name": "stdout",
     "output_type": "stream",
     "text": [
      "Epoch: 108/1000, Loss: 0.5382, Val Precision: 0.5052, ACC: 0.2752, top_k: 0.3000, top_k=1: 0.2058\n"
     ]
    },
    {
     "name": "stdout",
     "output_type": "stream",
     "text": [
      "Epoch: 109/1000, Loss: 0.5399, Val Precision: 0.5069, ACC: 0.2762, top_k: 0.3000, top_k=1: 0.2058\n"
     ]
    },
    {
     "name": "stdout",
     "output_type": "stream",
     "text": [
      "Epoch: 110/1000, Loss: 0.5399, Val Precision: 0.5172, ACC: 0.2773, top_k: 0.3011, top_k=1: 0.2058\n"
     ]
    },
    {
     "name": "stdout",
     "output_type": "stream",
     "text": [
      "Epoch: 111/1000, Loss: 0.5359, Val Precision: 0.5262, ACC: 0.2749, top_k: 0.3011, top_k=1: 0.2058\n"
     ]
    },
    {
     "name": "stdout",
     "output_type": "stream",
     "text": [
      "Epoch: 112/1000, Loss: 0.5368, Val Precision: 0.5213, ACC: 0.2733, top_k: 0.3011, top_k=1: 0.2058\n"
     ]
    },
    {
     "name": "stdout",
     "output_type": "stream",
     "text": [
      "Epoch: 113/1000, Loss: 0.5374, Val Precision: 0.5209, ACC: 0.2762, top_k: 0.3021, top_k=1: 0.2058\n"
     ]
    },
    {
     "name": "stdout",
     "output_type": "stream",
     "text": [
      "Epoch: 114/1000, Loss: 0.5341, Val Precision: 0.5179, ACC: 0.2773, top_k: 0.3011, top_k=1: 0.2058\n"
     ]
    },
    {
     "name": "stdout",
     "output_type": "stream",
     "text": [
      "Epoch: 115/1000, Loss: 0.5341, Val Precision: 0.5157, ACC: 0.2756, top_k: 0.3011, top_k=1: 0.2058\n"
     ]
    },
    {
     "name": "stdout",
     "output_type": "stream",
     "text": [
      "Epoch: 116/1000, Loss: 0.5355, Val Precision: 0.5192, ACC: 0.2779, top_k: 0.3021, top_k=1: 0.2058\n"
     ]
    },
    {
     "name": "stdout",
     "output_type": "stream",
     "text": [
      "Epoch: 117/1000, Loss: 0.5323, Val Precision: 0.5214, ACC: 0.2762, top_k: 0.3028, top_k=1: 0.2058\n"
     ]
    },
    {
     "name": "stdout",
     "output_type": "stream",
     "text": [
      "Epoch: 118/1000, Loss: 0.5313, Val Precision: 0.5316, ACC: 0.2743, top_k: 0.3023, top_k=1: 0.2058\n"
     ]
    },
    {
     "name": "stdout",
     "output_type": "stream",
     "text": [
      "Epoch: 119/1000, Loss: 0.5320, Val Precision: 0.5310, ACC: 0.2759, top_k: 0.3026, top_k=1: 0.2058\n"
     ]
    },
    {
     "name": "stdout",
     "output_type": "stream",
     "text": [
      "Epoch: 120/1000, Loss: 0.5302, Val Precision: 0.5229, ACC: 0.2779, top_k: 0.3032, top_k=1: 0.2058\n"
     ]
    },
    {
     "name": "stdout",
     "output_type": "stream",
     "text": [
      "Epoch: 121/1000, Loss: 0.5290, Val Precision: 0.5244, ACC: 0.2768, top_k: 0.3029, top_k=1: 0.2058\n"
     ]
    },
    {
     "name": "stdout",
     "output_type": "stream",
     "text": [
      "Epoch: 122/1000, Loss: 0.5292, Val Precision: 0.5225, ACC: 0.2766, top_k: 0.3032, top_k=1: 0.2058\n"
     ]
    },
    {
     "name": "stdout",
     "output_type": "stream",
     "text": [
      "Epoch: 123/1000, Loss: 0.5273, Val Precision: 0.5297, ACC: 0.2748, top_k: 0.3042, top_k=1: 0.2058\n"
     ]
    },
    {
     "name": "stdout",
     "output_type": "stream",
     "text": [
      "Epoch: 124/1000, Loss: 0.5287, Val Precision: 0.5407, ACC: 0.2746, top_k: 0.3043, top_k=1: 0.2058\n"
     ]
    },
    {
     "name": "stdout",
     "output_type": "stream",
     "text": [
      "Epoch: 125/1000, Loss: 0.5291, Val Precision: 0.5477, ACC: 0.2784, top_k: 0.3053, top_k=1: 0.2058\n"
     ]
    },
    {
     "name": "stdout",
     "output_type": "stream",
     "text": [
      "Epoch: 126/1000, Loss: 0.5267, Val Precision: 0.5288, ACC: 0.2771, top_k: 0.3046, top_k=1: 0.2058\n"
     ]
    },
    {
     "name": "stdout",
     "output_type": "stream",
     "text": [
      "Epoch: 127/1000, Loss: 0.5255, Val Precision: 0.5222, ACC: 0.2778, top_k: 0.3039, top_k=1: 0.2058\n"
     ]
    },
    {
     "name": "stdout",
     "output_type": "stream",
     "text": [
      "Epoch: 128/1000, Loss: 0.5261, Val Precision: 0.5311, ACC: 0.2766, top_k: 0.3039, top_k=1: 0.2058\n"
     ]
    },
    {
     "name": "stdout",
     "output_type": "stream",
     "text": [
      "Epoch: 129/1000, Loss: 0.5250, Val Precision: 0.5381, ACC: 0.2758, top_k: 0.3049, top_k=1: 0.2058\n"
     ]
    },
    {
     "name": "stdout",
     "output_type": "stream",
     "text": [
      "Epoch: 130/1000, Loss: 0.5232, Val Precision: 0.5425, ACC: 0.2785, top_k: 0.3061, top_k=1: 0.2058\n"
     ]
    },
    {
     "name": "stdout",
     "output_type": "stream",
     "text": [
      "Epoch: 131/1000, Loss: 0.5231, Val Precision: 0.5409, ACC: 0.2781, top_k: 0.3055, top_k=1: 0.2058\n"
     ]
    },
    {
     "name": "stdout",
     "output_type": "stream",
     "text": [
      "Epoch: 132/1000, Loss: 0.5228, Val Precision: 0.5401, ACC: 0.2786, top_k: 0.3051, top_k=1: 0.2058\n"
     ]
    },
    {
     "name": "stdout",
     "output_type": "stream",
     "text": [
      "Epoch: 133/1000, Loss: 0.5212, Val Precision: 0.5338, ACC: 0.2765, top_k: 0.3053, top_k=1: 0.2058\n"
     ]
    },
    {
     "name": "stdout",
     "output_type": "stream",
     "text": [
      "Epoch: 134/1000, Loss: 0.5222, Val Precision: 0.5339, ACC: 0.2758, top_k: 0.3050, top_k=1: 0.2058\n"
     ]
    },
    {
     "name": "stdout",
     "output_type": "stream",
     "text": [
      "Epoch: 135/1000, Loss: 0.5222, Val Precision: 0.5400, ACC: 0.2775, top_k: 0.3058, top_k=1: 0.2058\n"
     ]
    },
    {
     "name": "stdout",
     "output_type": "stream",
     "text": [
      "Epoch: 136/1000, Loss: 0.5196, Val Precision: 0.5463, ACC: 0.2784, top_k: 0.3065, top_k=1: 0.2058\n"
     ]
    },
    {
     "name": "stdout",
     "output_type": "stream",
     "text": [
      "Epoch: 137/1000, Loss: 0.5200, Val Precision: 0.5481, ACC: 0.2791, top_k: 0.3071, top_k=1: 0.2058\n"
     ]
    },
    {
     "name": "stdout",
     "output_type": "stream",
     "text": [
      "Epoch: 138/1000, Loss: 0.5202, Val Precision: 0.5541, ACC: 0.2806, top_k: 0.3081, top_k=1: 0.2058\n"
     ]
    },
    {
     "name": "stdout",
     "output_type": "stream",
     "text": [
      "Epoch: 139/1000, Loss: 0.5185, Val Precision: 0.5439, ACC: 0.2766, top_k: 0.3065, top_k=1: 0.2058\n"
     ]
    },
    {
     "name": "stdout",
     "output_type": "stream",
     "text": [
      "Epoch: 140/1000, Loss: 0.5180, Val Precision: 0.5425, ACC: 0.2752, top_k: 0.3056, top_k=1: 0.2058\n"
     ]
    },
    {
     "name": "stdout",
     "output_type": "stream",
     "text": [
      "Epoch: 141/1000, Loss: 0.5181, Val Precision: 0.5401, ACC: 0.2776, top_k: 0.3063, top_k=1: 0.2058\n"
     ]
    },
    {
     "name": "stdout",
     "output_type": "stream",
     "text": [
      "Epoch: 142/1000, Loss: 0.5170, Val Precision: 0.5446, ACC: 0.2785, top_k: 0.3074, top_k=1: 0.2058\n"
     ]
    },
    {
     "name": "stdout",
     "output_type": "stream",
     "text": [
      "Epoch: 143/1000, Loss: 0.5160, Val Precision: 0.5597, ACC: 0.2798, top_k: 0.3075, top_k=1: 0.2058\n"
     ]
    },
    {
     "name": "stdout",
     "output_type": "stream",
     "text": [
      "Epoch: 144/1000, Loss: 0.5159, Val Precision: 0.5579, ACC: 0.2791, top_k: 0.3090, top_k=1: 0.2058\n"
     ]
    },
    {
     "name": "stdout",
     "output_type": "stream",
     "text": [
      "Epoch: 145/1000, Loss: 0.5152, Val Precision: 0.5428, ACC: 0.2779, top_k: 0.3067, top_k=1: 0.2058\n"
     ]
    },
    {
     "name": "stdout",
     "output_type": "stream",
     "text": [
      "Epoch: 146/1000, Loss: 0.5143, Val Precision: 0.5484, ACC: 0.2779, top_k: 0.3068, top_k=1: 0.2058\n"
     ]
    },
    {
     "name": "stdout",
     "output_type": "stream",
     "text": [
      "Epoch: 147/1000, Loss: 0.5147, Val Precision: 0.5543, ACC: 0.2789, top_k: 0.3074, top_k=1: 0.2058\n"
     ]
    },
    {
     "name": "stdout",
     "output_type": "stream",
     "text": [
      "Epoch: 148/1000, Loss: 0.5136, Val Precision: 0.5514, ACC: 0.2792, top_k: 0.3083, top_k=1: 0.2058\n"
     ]
    },
    {
     "name": "stdout",
     "output_type": "stream",
     "text": [
      "Epoch: 149/1000, Loss: 0.5132, Val Precision: 0.5598, ACC: 0.2808, top_k: 0.3091, top_k=1: 0.2058\n"
     ]
    },
    {
     "name": "stdout",
     "output_type": "stream",
     "text": [
      "Epoch: 150/1000, Loss: 0.5128, Val Precision: 0.5601, ACC: 0.2794, top_k: 0.3086, top_k=1: 0.2058\n"
     ]
    },
    {
     "name": "stdout",
     "output_type": "stream",
     "text": [
      "Epoch: 151/1000, Loss: 0.5123, Val Precision: 0.5443, ACC: 0.2789, top_k: 0.3081, top_k=1: 0.2058\n"
     ]
    },
    {
     "name": "stdout",
     "output_type": "stream",
     "text": [
      "Epoch: 152/1000, Loss: 0.5112, Val Precision: 0.5565, ACC: 0.2804, top_k: 0.3086, top_k=1: 0.2058\n"
     ]
    },
    {
     "name": "stdout",
     "output_type": "stream",
     "text": [
      "Epoch: 153/1000, Loss: 0.5111, Val Precision: 0.5564, ACC: 0.2796, top_k: 0.3088, top_k=1: 0.2058\n"
     ]
    },
    {
     "name": "stdout",
     "output_type": "stream",
     "text": [
      "Epoch: 154/1000, Loss: 0.5102, Val Precision: 0.5545, ACC: 0.2784, top_k: 0.3091, top_k=1: 0.2058\n"
     ]
    },
    {
     "name": "stdout",
     "output_type": "stream",
     "text": [
      "Epoch: 155/1000, Loss: 0.5103, Val Precision: 0.5575, ACC: 0.2802, top_k: 0.3094, top_k=1: 0.2058\n"
     ]
    },
    {
     "name": "stdout",
     "output_type": "stream",
     "text": [
      "Epoch: 156/1000, Loss: 0.5098, Val Precision: 0.5682, ACC: 0.2815, top_k: 0.3099, top_k=1: 0.2058\n"
     ]
    },
    {
     "name": "stdout",
     "output_type": "stream",
     "text": [
      "Epoch: 157/1000, Loss: 0.5092, Val Precision: 0.5602, ACC: 0.2795, top_k: 0.3094, top_k=1: 0.2058\n"
     ]
    },
    {
     "name": "stdout",
     "output_type": "stream",
     "text": [
      "Epoch: 158/1000, Loss: 0.5084, Val Precision: 0.5545, ACC: 0.2799, top_k: 0.3090, top_k=1: 0.2058\n"
     ]
    },
    {
     "name": "stdout",
     "output_type": "stream",
     "text": [
      "Epoch: 159/1000, Loss: 0.5078, Val Precision: 0.5597, ACC: 0.2801, top_k: 0.3096, top_k=1: 0.2058\n"
     ]
    },
    {
     "name": "stdout",
     "output_type": "stream",
     "text": [
      "Epoch: 160/1000, Loss: 0.5076, Val Precision: 0.5632, ACC: 0.2819, top_k: 0.3100, top_k=1: 0.2058\n"
     ]
    },
    {
     "name": "stdout",
     "output_type": "stream",
     "text": [
      "Epoch: 161/1000, Loss: 0.5067, Val Precision: 0.5698, ACC: 0.2815, top_k: 0.3101, top_k=1: 0.2058\n"
     ]
    },
    {
     "name": "stdout",
     "output_type": "stream",
     "text": [
      "Epoch: 162/1000, Loss: 0.5067, Val Precision: 0.5704, ACC: 0.2819, top_k: 0.3096, top_k=1: 0.2058\n"
     ]
    },
    {
     "name": "stdout",
     "output_type": "stream",
     "text": [
      "Epoch: 163/1000, Loss: 0.5059, Val Precision: 0.5548, ACC: 0.2805, top_k: 0.3103, top_k=1: 0.2058\n"
     ]
    },
    {
     "name": "stdout",
     "output_type": "stream",
     "text": [
      "Epoch: 164/1000, Loss: 0.5054, Val Precision: 0.5633, ACC: 0.2802, top_k: 0.3095, top_k=1: 0.2058\n"
     ]
    },
    {
     "name": "stdout",
     "output_type": "stream",
     "text": [
      "Epoch: 165/1000, Loss: 0.5049, Val Precision: 0.5669, ACC: 0.2822, top_k: 0.3113, top_k=1: 0.2058\n"
     ]
    },
    {
     "name": "stdout",
     "output_type": "stream",
     "text": [
      "Epoch: 166/1000, Loss: 0.5042, Val Precision: 0.5686, ACC: 0.2819, top_k: 0.3109, top_k=1: 0.2058\n"
     ]
    },
    {
     "name": "stdout",
     "output_type": "stream",
     "text": [
      "Epoch: 167/1000, Loss: 0.5038, Val Precision: 0.5588, ACC: 0.2811, top_k: 0.3107, top_k=1: 0.2058\n"
     ]
    },
    {
     "name": "stdout",
     "output_type": "stream",
     "text": [
      "Epoch: 168/1000, Loss: 0.5035, Val Precision: 0.5636, ACC: 0.2806, top_k: 0.3102, top_k=1: 0.2058\n"
     ]
    },
    {
     "name": "stdout",
     "output_type": "stream",
     "text": [
      "Epoch: 169/1000, Loss: 0.5028, Val Precision: 0.5665, ACC: 0.2812, top_k: 0.3118, top_k=1: 0.2058\n"
     ]
    },
    {
     "name": "stdout",
     "output_type": "stream",
     "text": [
      "Epoch: 170/1000, Loss: 0.5025, Val Precision: 0.5813, ACC: 0.2828, top_k: 0.3110, top_k=1: 0.2058\n"
     ]
    },
    {
     "name": "stdout",
     "output_type": "stream",
     "text": [
      "Epoch: 171/1000, Loss: 0.5020, Val Precision: 0.5650, ACC: 0.2811, top_k: 0.3111, top_k=1: 0.2058\n"
     ]
    },
    {
     "name": "stdout",
     "output_type": "stream",
     "text": [
      "Epoch: 172/1000, Loss: 0.5010, Val Precision: 0.5520, ACC: 0.2795, top_k: 0.3117, top_k=1: 0.2058\n"
     ]
    },
    {
     "name": "stdout",
     "output_type": "stream",
     "text": [
      "Epoch: 173/1000, Loss: 0.5024, Val Precision: 0.5559, ACC: 0.2812, top_k: 0.3113, top_k=1: 0.2058\n"
     ]
    },
    {
     "name": "stdout",
     "output_type": "stream",
     "text": [
      "Epoch: 174/1000, Loss: 0.5011, Val Precision: 0.5820, ACC: 0.2829, top_k: 0.3107, top_k=1: 0.2058\n"
     ]
    },
    {
     "name": "stdout",
     "output_type": "stream",
     "text": [
      "Epoch: 175/1000, Loss: 0.5011, Val Precision: 0.5890, ACC: 0.2825, top_k: 0.3115, top_k=1: 0.2058\n"
     ]
    },
    {
     "name": "stdout",
     "output_type": "stream",
     "text": [
      "Epoch: 176/1000, Loss: 0.5004, Val Precision: 0.5687, ACC: 0.2811, top_k: 0.3118, top_k=1: 0.2058\n"
     ]
    },
    {
     "name": "stdout",
     "output_type": "stream",
     "text": [
      "Epoch: 177/1000, Loss: 0.5000, Val Precision: 0.5595, ACC: 0.2814, top_k: 0.3123, top_k=1: 0.2058\n"
     ]
    },
    {
     "name": "stdout",
     "output_type": "stream",
     "text": [
      "Epoch: 178/1000, Loss: 0.4996, Val Precision: 0.5725, ACC: 0.2821, top_k: 0.3120, top_k=1: 0.2058\n"
     ]
    },
    {
     "name": "stdout",
     "output_type": "stream",
     "text": [
      "Epoch: 179/1000, Loss: 0.4986, Val Precision: 0.5818, ACC: 0.2834, top_k: 0.3112, top_k=1: 0.2058\n"
     ]
    },
    {
     "name": "stdout",
     "output_type": "stream",
     "text": [
      "Epoch: 180/1000, Loss: 0.4982, Val Precision: 0.5658, ACC: 0.2814, top_k: 0.3121, top_k=1: 0.2058\n"
     ]
    },
    {
     "name": "stdout",
     "output_type": "stream",
     "text": [
      "Epoch: 181/1000, Loss: 0.4981, Val Precision: 0.5679, ACC: 0.2814, top_k: 0.3127, top_k=1: 0.2058\n"
     ]
    },
    {
     "name": "stdout",
     "output_type": "stream",
     "text": [
      "Epoch: 182/1000, Loss: 0.4973, Val Precision: 0.5844, ACC: 0.2825, top_k: 0.3124, top_k=1: 0.2058\n"
     ]
    },
    {
     "name": "stdout",
     "output_type": "stream",
     "text": [
      "Epoch: 183/1000, Loss: 0.4974, Val Precision: 0.5826, ACC: 0.2828, top_k: 0.3123, top_k=1: 0.2058\n"
     ]
    },
    {
     "name": "stdout",
     "output_type": "stream",
     "text": [
      "Epoch: 184/1000, Loss: 0.4969, Val Precision: 0.5684, ACC: 0.2818, top_k: 0.3131, top_k=1: 0.2058\n"
     ]
    },
    {
     "name": "stdout",
     "output_type": "stream",
     "text": [
      "Epoch: 185/1000, Loss: 0.4963, Val Precision: 0.5787, ACC: 0.2815, top_k: 0.3129, top_k=1: 0.2058\n"
     ]
    },
    {
     "name": "stdout",
     "output_type": "stream",
     "text": [
      "Epoch: 186/1000, Loss: 0.4962, Val Precision: 0.5835, ACC: 0.2831, top_k: 0.3124, top_k=1: 0.2058\n"
     ]
    },
    {
     "name": "stdout",
     "output_type": "stream",
     "text": [
      "Epoch: 187/1000, Loss: 0.4955, Val Precision: 0.5768, ACC: 0.2815, top_k: 0.3130, top_k=1: 0.2058\n"
     ]
    },
    {
     "name": "stdout",
     "output_type": "stream",
     "text": [
      "Epoch: 188/1000, Loss: 0.4959, Val Precision: 0.5725, ACC: 0.2821, top_k: 0.3136, top_k=1: 0.2058\n"
     ]
    },
    {
     "name": "stdout",
     "output_type": "stream",
     "text": [
      "Epoch: 189/1000, Loss: 0.4952, Val Precision: 0.5844, ACC: 0.2818, top_k: 0.3132, top_k=1: 0.2058\n"
     ]
    },
    {
     "name": "stdout",
     "output_type": "stream",
     "text": [
      "Epoch: 190/1000, Loss: 0.4953, Val Precision: 0.5914, ACC: 0.2812, top_k: 0.3125, top_k=1: 0.2058\n"
     ]
    },
    {
     "name": "stdout",
     "output_type": "stream",
     "text": [
      "Epoch: 191/1000, Loss: 0.4950, Val Precision: 0.5823, ACC: 0.2827, top_k: 0.3129, top_k=1: 0.2058\n"
     ]
    },
    {
     "name": "stdout",
     "output_type": "stream",
     "text": [
      "Epoch: 192/1000, Loss: 0.4942, Val Precision: 0.5669, ACC: 0.2806, top_k: 0.3135, top_k=1: 0.2058\n"
     ]
    },
    {
     "name": "stdout",
     "output_type": "stream",
     "text": [
      "Epoch: 193/1000, Loss: 0.4944, Val Precision: 0.5744, ACC: 0.2805, top_k: 0.3147, top_k=1: 0.2058\n"
     ]
    },
    {
     "name": "stdout",
     "output_type": "stream",
     "text": [
      "Epoch: 194/1000, Loss: 0.4937, Val Precision: 0.5934, ACC: 0.2817, top_k: 0.3129, top_k=1: 0.2058\n"
     ]
    },
    {
     "name": "stdout",
     "output_type": "stream",
     "text": [
      "Epoch: 195/1000, Loss: 0.4932, Val Precision: 0.5921, ACC: 0.2828, top_k: 0.3136, top_k=1: 0.2058\n"
     ]
    },
    {
     "name": "stdout",
     "output_type": "stream",
     "text": [
      "Epoch: 196/1000, Loss: 0.4930, Val Precision: 0.5758, ACC: 0.2817, top_k: 0.3138, top_k=1: 0.2058\n"
     ]
    },
    {
     "name": "stdout",
     "output_type": "stream",
     "text": [
      "Epoch: 197/1000, Loss: 0.4924, Val Precision: 0.5711, ACC: 0.2809, top_k: 0.3152, top_k=1: 0.2058\n"
     ]
    },
    {
     "name": "stdout",
     "output_type": "stream",
     "text": [
      "Epoch: 198/1000, Loss: 0.4925, Val Precision: 0.5894, ACC: 0.2821, top_k: 0.3133, top_k=1: 0.2058\n"
     ]
    },
    {
     "name": "stdout",
     "output_type": "stream",
     "text": [
      "Epoch: 199/1000, Loss: 0.4917, Val Precision: 0.5867, ACC: 0.2824, top_k: 0.3144, top_k=1: 0.2058\n"
     ]
    },
    {
     "name": "stdout",
     "output_type": "stream",
     "text": [
      "Epoch: 200/1000, Loss: 0.4915, Val Precision: 0.5801, ACC: 0.2815, top_k: 0.3148, top_k=1: 0.2058\n"
     ]
    },
    {
     "name": "stdout",
     "output_type": "stream",
     "text": [
      "Epoch: 201/1000, Loss: 0.4913, Val Precision: 0.5817, ACC: 0.2817, top_k: 0.3144, top_k=1: 0.2058\n"
     ]
    },
    {
     "name": "stdout",
     "output_type": "stream",
     "text": [
      "Epoch: 202/1000, Loss: 0.4906, Val Precision: 0.5857, ACC: 0.2825, top_k: 0.3143, top_k=1: 0.2058\n"
     ]
    },
    {
     "name": "stdout",
     "output_type": "stream",
     "text": [
      "Epoch: 203/1000, Loss: 0.4913, Val Precision: 0.5876, ACC: 0.2828, top_k: 0.3149, top_k=1: 0.2058\n"
     ]
    },
    {
     "name": "stdout",
     "output_type": "stream",
     "text": [
      "Epoch: 204/1000, Loss: 0.4901, Val Precision: 0.5802, ACC: 0.2805, top_k: 0.3158, top_k=1: 0.2058\n"
     ]
    },
    {
     "name": "stdout",
     "output_type": "stream",
     "text": [
      "Epoch: 205/1000, Loss: 0.4912, Val Precision: 0.5820, ACC: 0.2798, top_k: 0.3155, top_k=1: 0.2058\n"
     ]
    },
    {
     "name": "stdout",
     "output_type": "stream",
     "text": [
      "Epoch: 206/1000, Loss: 0.4911, Val Precision: 0.5817, ACC: 0.2824, top_k: 0.3146, top_k=1: 0.2058\n"
     ]
    },
    {
     "name": "stdout",
     "output_type": "stream",
     "text": [
      "Epoch: 207/1000, Loss: 0.4889, Val Precision: 0.5962, ACC: 0.2834, top_k: 0.3159, top_k=1: 0.2058\n"
     ]
    },
    {
     "name": "stdout",
     "output_type": "stream",
     "text": [
      "Epoch: 208/1000, Loss: 0.4907, Val Precision: 0.5990, ACC: 0.2834, top_k: 0.3163, top_k=1: 0.2058\n"
     ]
    },
    {
     "name": "stdout",
     "output_type": "stream",
     "text": [
      "Epoch: 209/1000, Loss: 0.4896, Val Precision: 0.5874, ACC: 0.2815, top_k: 0.3149, top_k=1: 0.2058\n"
     ]
    },
    {
     "name": "stdout",
     "output_type": "stream",
     "text": [
      "Epoch: 210/1000, Loss: 0.4892, Val Precision: 0.5871, ACC: 0.2794, top_k: 0.3151, top_k=1: 0.2058\n"
     ]
    },
    {
     "name": "stdout",
     "output_type": "stream",
     "text": [
      "Epoch: 211/1000, Loss: 0.4891, Val Precision: 0.5886, ACC: 0.2825, top_k: 0.3159, top_k=1: 0.2058\n"
     ]
    },
    {
     "name": "stdout",
     "output_type": "stream",
     "text": [
      "Epoch: 212/1000, Loss: 0.4882, Val Precision: 0.5883, ACC: 0.2832, top_k: 0.3156, top_k=1: 0.2058\n"
     ]
    },
    {
     "name": "stdout",
     "output_type": "stream",
     "text": [
      "Epoch: 213/1000, Loss: 0.4880, Val Precision: 0.5974, ACC: 0.2829, top_k: 0.3151, top_k=1: 0.2058\n"
     ]
    },
    {
     "name": "stdout",
     "output_type": "stream",
     "text": [
      "Epoch: 214/1000, Loss: 0.4884, Val Precision: 0.5919, ACC: 0.2831, top_k: 0.3162, top_k=1: 0.2058\n"
     ]
    },
    {
     "name": "stdout",
     "output_type": "stream",
     "text": [
      "Epoch: 215/1000, Loss: 0.4867, Val Precision: 0.5754, ACC: 0.2791, top_k: 0.3164, top_k=1: 0.2058\n"
     ]
    },
    {
     "name": "stdout",
     "output_type": "stream",
     "text": [
      "Epoch: 216/1000, Loss: 0.4910, Val Precision: 0.5849, ACC: 0.2772, top_k: 0.3165, top_k=1: 0.2058\n"
     ]
    },
    {
     "name": "stdout",
     "output_type": "stream",
     "text": [
      "Epoch: 217/1000, Loss: 0.4923, Val Precision: 0.5950, ACC: 0.2815, top_k: 0.3165, top_k=1: 0.2058\n"
     ]
    },
    {
     "name": "stdout",
     "output_type": "stream",
     "text": [
      "Epoch: 218/1000, Loss: 0.4877, Val Precision: 0.6018, ACC: 0.2832, top_k: 0.3160, top_k=1: 0.2058\n"
     ]
    },
    {
     "name": "stdout",
     "output_type": "stream",
     "text": [
      "Epoch: 219/1000, Loss: 0.4879, Val Precision: 0.6019, ACC: 0.2817, top_k: 0.3147, top_k=1: 0.2058\n"
     ]
    },
    {
     "name": "stdout",
     "output_type": "stream",
     "text": [
      "Epoch: 220/1000, Loss: 0.4905, Val Precision: 0.6015, ACC: 0.2832, top_k: 0.3160, top_k=1: 0.2058\n"
     ]
    },
    {
     "name": "stdout",
     "output_type": "stream",
     "text": [
      "Epoch: 221/1000, Loss: 0.4884, Val Precision: 0.6019, ACC: 0.2844, top_k: 0.3172, top_k=1: 0.2058\n"
     ]
    },
    {
     "name": "stdout",
     "output_type": "stream",
     "text": [
      "Epoch: 222/1000, Loss: 0.4859, Val Precision: 0.5898, ACC: 0.2798, top_k: 0.3169, top_k=1: 0.2058\n"
     ]
    },
    {
     "name": "stdout",
     "output_type": "stream",
     "text": [
      "Epoch: 223/1000, Loss: 0.4884, Val Precision: 0.5894, ACC: 0.2781, top_k: 0.3171, top_k=1: 0.2058\n"
     ]
    },
    {
     "name": "stdout",
     "output_type": "stream",
     "text": [
      "Epoch: 224/1000, Loss: 0.4886, Val Precision: 0.5876, ACC: 0.2799, top_k: 0.3161, top_k=1: 0.2058\n"
     ]
    },
    {
     "name": "stdout",
     "output_type": "stream",
     "text": [
      "Epoch: 225/1000, Loss: 0.4852, Val Precision: 0.5939, ACC: 0.2825, top_k: 0.3161, top_k=1: 0.2058\n"
     ]
    },
    {
     "name": "stdout",
     "output_type": "stream",
     "text": [
      "Epoch: 226/1000, Loss: 0.4871, Val Precision: 0.6088, ACC: 0.2851, top_k: 0.3165, top_k=1: 0.2058\n"
     ]
    },
    {
     "name": "stdout",
     "output_type": "stream",
     "text": [
      "Epoch: 227/1000, Loss: 0.4876, Val Precision: 0.6148, ACC: 0.2862, top_k: 0.3169, top_k=1: 0.2058\n"
     ]
    },
    {
     "name": "stdout",
     "output_type": "stream",
     "text": [
      "Epoch: 228/1000, Loss: 0.4863, Val Precision: 0.6075, ACC: 0.2842, top_k: 0.3184, top_k=1: 0.2058\n"
     ]
    },
    {
     "name": "stdout",
     "output_type": "stream",
     "text": [
      "Epoch: 229/1000, Loss: 0.4855, Val Precision: 0.5851, ACC: 0.2781, top_k: 0.3177, top_k=1: 0.2058\n"
     ]
    },
    {
     "name": "stdout",
     "output_type": "stream",
     "text": [
      "Epoch: 230/1000, Loss: 0.4852, Val Precision: 0.5844, ACC: 0.2805, top_k: 0.3165, top_k=1: 0.2058\n"
     ]
    },
    {
     "name": "stdout",
     "output_type": "stream",
     "text": [
      "Epoch: 231/1000, Loss: 0.4850, Val Precision: 0.6001, ACC: 0.2821, top_k: 0.3157, top_k=1: 0.2058\n"
     ]
    },
    {
     "name": "stdout",
     "output_type": "stream",
     "text": [
      "Epoch: 232/1000, Loss: 0.4845, Val Precision: 0.6065, ACC: 0.2847, top_k: 0.3170, top_k=1: 0.2058\n"
     ]
    },
    {
     "name": "stdout",
     "output_type": "stream",
     "text": [
      "Epoch: 233/1000, Loss: 0.4841, Val Precision: 0.5996, ACC: 0.2831, top_k: 0.3187, top_k=1: 0.2058\n"
     ]
    },
    {
     "name": "stdout",
     "output_type": "stream",
     "text": [
      "Epoch: 234/1000, Loss: 0.4837, Val Precision: 0.5935, ACC: 0.2825, top_k: 0.3180, top_k=1: 0.2058\n"
     ]
    },
    {
     "name": "stdout",
     "output_type": "stream",
     "text": [
      "Epoch: 235/1000, Loss: 0.4838, Val Precision: 0.5987, ACC: 0.2822, top_k: 0.3174, top_k=1: 0.2058\n"
     ]
    },
    {
     "name": "stdout",
     "output_type": "stream",
     "text": [
      "Epoch: 236/1000, Loss: 0.4833, Val Precision: 0.6031, ACC: 0.2838, top_k: 0.3171, top_k=1: 0.2058\n"
     ]
    },
    {
     "name": "stdout",
     "output_type": "stream",
     "text": [
      "Epoch: 237/1000, Loss: 0.4827, Val Precision: 0.5934, ACC: 0.2829, top_k: 0.3174, top_k=1: 0.2058\n"
     ]
    },
    {
     "name": "stdout",
     "output_type": "stream",
     "text": [
      "Epoch: 238/1000, Loss: 0.4832, Val Precision: 0.5972, ACC: 0.2832, top_k: 0.3178, top_k=1: 0.2058\n"
     ]
    },
    {
     "name": "stdout",
     "output_type": "stream",
     "text": [
      "Epoch: 239/1000, Loss: 0.4821, Val Precision: 0.6022, ACC: 0.2817, top_k: 0.3175, top_k=1: 0.2058\n"
     ]
    },
    {
     "name": "stdout",
     "output_type": "stream",
     "text": [
      "Epoch: 240/1000, Loss: 0.4843, Val Precision: 0.6022, ACC: 0.2802, top_k: 0.3169, top_k=1: 0.2058\n"
     ]
    },
    {
     "name": "stdout",
     "output_type": "stream",
     "text": [
      "Epoch: 241/1000, Loss: 0.4846, Val Precision: 0.5994, ACC: 0.2818, top_k: 0.3182, top_k=1: 0.2058\n"
     ]
    },
    {
     "name": "stdout",
     "output_type": "stream",
     "text": [
      "Epoch: 242/1000, Loss: 0.4813, Val Precision: 0.5908, ACC: 0.2829, top_k: 0.3175, top_k=1: 0.2058\n"
     ]
    },
    {
     "name": "stdout",
     "output_type": "stream",
     "text": [
      "Epoch: 243/1000, Loss: 0.4869, Val Precision: 0.6014, ACC: 0.2824, top_k: 0.3166, top_k=1: 0.2058\n"
     ]
    },
    {
     "name": "stdout",
     "output_type": "stream",
     "text": [
      "Epoch: 244/1000, Loss: 0.4907, Val Precision: 0.6085, ACC: 0.2844, top_k: 0.3179, top_k=1: 0.2058\n"
     ]
    },
    {
     "name": "stdout",
     "output_type": "stream",
     "text": [
      "Epoch: 245/1000, Loss: 0.4869, Val Precision: 0.6085, ACC: 0.2845, top_k: 0.3175, top_k=1: 0.2058\n"
     ]
    },
    {
     "name": "stdout",
     "output_type": "stream",
     "text": [
      "Epoch: 246/1000, Loss: 0.4843, Val Precision: 0.6110, ACC: 0.2829, top_k: 0.3169, top_k=1: 0.2058\n"
     ]
    },
    {
     "name": "stdout",
     "output_type": "stream",
     "text": [
      "Epoch: 247/1000, Loss: 0.4837, Val Precision: 0.6060, ACC: 0.2796, top_k: 0.3176, top_k=1: 0.2058\n"
     ]
    },
    {
     "name": "stdout",
     "output_type": "stream",
     "text": [
      "Epoch: 248/1000, Loss: 0.4839, Val Precision: 0.5973, ACC: 0.2791, top_k: 0.3185, top_k=1: 0.2058\n"
     ]
    },
    {
     "name": "stdout",
     "output_type": "stream",
     "text": [
      "Epoch: 249/1000, Loss: 0.4844, Val Precision: 0.6007, ACC: 0.2808, top_k: 0.3185, top_k=1: 0.2058\n"
     ]
    },
    {
     "name": "stdout",
     "output_type": "stream",
     "text": [
      "Epoch: 250/1000, Loss: 0.4834, Val Precision: 0.5999, ACC: 0.2842, top_k: 0.3186, top_k=1: 0.2058\n"
     ]
    },
    {
     "name": "stdout",
     "output_type": "stream",
     "text": [
      "Epoch: 251/1000, Loss: 0.4813, Val Precision: 0.6089, ACC: 0.2850, top_k: 0.3185, top_k=1: 0.2058\n"
     ]
    },
    {
     "name": "stdout",
     "output_type": "stream",
     "text": [
      "Epoch: 252/1000, Loss: 0.4821, Val Precision: 0.6115, ACC: 0.2832, top_k: 0.3177, top_k=1: 0.2058\n"
     ]
    },
    {
     "name": "stdout",
     "output_type": "stream",
     "text": [
      "Epoch: 253/1000, Loss: 0.4830, Val Precision: 0.6061, ACC: 0.2834, top_k: 0.3175, top_k=1: 0.2058\n"
     ]
    },
    {
     "name": "stdout",
     "output_type": "stream",
     "text": [
      "Epoch: 254/1000, Loss: 0.4808, Val Precision: 0.5922, ACC: 0.2811, top_k: 0.3179, top_k=1: 0.2058\n"
     ]
    },
    {
     "name": "stdout",
     "output_type": "stream",
     "text": [
      "Epoch: 255/1000, Loss: 0.4806, Val Precision: 0.5945, ACC: 0.2789, top_k: 0.3184, top_k=1: 0.2058\n"
     ]
    },
    {
     "name": "stdout",
     "output_type": "stream",
     "text": [
      "Epoch: 256/1000, Loss: 0.4819, Val Precision: 0.6045, ACC: 0.2822, top_k: 0.3199, top_k=1: 0.2058\n"
     ]
    },
    {
     "name": "stdout",
     "output_type": "stream",
     "text": [
      "Epoch: 257/1000, Loss: 0.4801, Val Precision: 0.6187, ACC: 0.2848, top_k: 0.3192, top_k=1: 0.2058\n"
     ]
    },
    {
     "name": "stdout",
     "output_type": "stream",
     "text": [
      "Epoch: 258/1000, Loss: 0.4805, Val Precision: 0.6129, ACC: 0.2841, top_k: 0.3180, top_k=1: 0.2058\n"
     ]
    },
    {
     "name": "stdout",
     "output_type": "stream",
     "text": [
      "Epoch: 259/1000, Loss: 0.4816, Val Precision: 0.5975, ACC: 0.2819, top_k: 0.3187, top_k=1: 0.2058\n"
     ]
    },
    {
     "name": "stdout",
     "output_type": "stream",
     "text": [
      "Epoch: 260/1000, Loss: 0.4800, Val Precision: 0.5987, ACC: 0.2811, top_k: 0.3189, top_k=1: 0.2058\n"
     ]
    },
    {
     "name": "stdout",
     "output_type": "stream",
     "text": [
      "Epoch: 261/1000, Loss: 0.4798, Val Precision: 0.5995, ACC: 0.2802, top_k: 0.3195, top_k=1: 0.2058\n"
     ]
    },
    {
     "name": "stdout",
     "output_type": "stream",
     "text": [
      "Epoch: 262/1000, Loss: 0.4808, Val Precision: 0.6077, ACC: 0.2819, top_k: 0.3204, top_k=1: 0.2058\n"
     ]
    },
    {
     "name": "stdout",
     "output_type": "stream",
     "text": [
      "Epoch: 263/1000, Loss: 0.4795, Val Precision: 0.6129, ACC: 0.2834, top_k: 0.3193, top_k=1: 0.2058\n"
     ]
    },
    {
     "name": "stdout",
     "output_type": "stream",
     "text": [
      "Epoch: 264/1000, Loss: 0.4792, Val Precision: 0.6079, ACC: 0.2831, top_k: 0.3182, top_k=1: 0.2058\n"
     ]
    },
    {
     "name": "stdout",
     "output_type": "stream",
     "text": [
      "Epoch: 265/1000, Loss: 0.4798, Val Precision: 0.5996, ACC: 0.2835, top_k: 0.3195, top_k=1: 0.2058\n"
     ]
    },
    {
     "name": "stdout",
     "output_type": "stream",
     "text": [
      "Epoch: 266/1000, Loss: 0.4789, Val Precision: 0.6040, ACC: 0.2831, top_k: 0.3193, top_k=1: 0.2058\n"
     ]
    },
    {
     "name": "stdout",
     "output_type": "stream",
     "text": [
      "Epoch: 267/1000, Loss: 0.4783, Val Precision: 0.6058, ACC: 0.2802, top_k: 0.3202, top_k=1: 0.2058\n"
     ]
    },
    {
     "name": "stdout",
     "output_type": "stream",
     "text": [
      "Epoch: 268/1000, Loss: 0.4787, Val Precision: 0.6155, ACC: 0.2827, top_k: 0.3196, top_k=1: 0.2058\n"
     ]
    },
    {
     "name": "stdout",
     "output_type": "stream",
     "text": [
      "Epoch: 269/1000, Loss: 0.4781, Val Precision: 0.6048, ACC: 0.2832, top_k: 0.3201, top_k=1: 0.2058\n"
     ]
    },
    {
     "name": "stdout",
     "output_type": "stream",
     "text": [
      "Epoch: 270/1000, Loss: 0.4776, Val Precision: 0.6010, ACC: 0.2834, top_k: 0.3189, top_k=1: 0.2058\n"
     ]
    },
    {
     "name": "stdout",
     "output_type": "stream",
     "text": [
      "Epoch: 271/1000, Loss: 0.4775, Val Precision: 0.6047, ACC: 0.2818, top_k: 0.3201, top_k=1: 0.2058\n"
     ]
    },
    {
     "name": "stdout",
     "output_type": "stream",
     "text": [
      "Epoch: 272/1000, Loss: 0.4771, Val Precision: 0.6128, ACC: 0.2818, top_k: 0.3193, top_k=1: 0.2058\n"
     ]
    },
    {
     "name": "stdout",
     "output_type": "stream",
     "text": [
      "Epoch: 273/1000, Loss: 0.4771, Val Precision: 0.6127, ACC: 0.2837, top_k: 0.3203, top_k=1: 0.2058\n"
     ]
    },
    {
     "name": "stdout",
     "output_type": "stream",
     "text": [
      "Epoch: 274/1000, Loss: 0.4769, Val Precision: 0.6044, ACC: 0.2838, top_k: 0.3198, top_k=1: 0.2058\n"
     ]
    },
    {
     "name": "stdout",
     "output_type": "stream",
     "text": [
      "Epoch: 275/1000, Loss: 0.4766, Val Precision: 0.6037, ACC: 0.2821, top_k: 0.3204, top_k=1: 0.2058\n"
     ]
    },
    {
     "name": "stdout",
     "output_type": "stream",
     "text": [
      "Epoch: 276/1000, Loss: 0.4764, Val Precision: 0.6201, ACC: 0.2828, top_k: 0.3193, top_k=1: 0.2058\n"
     ]
    },
    {
     "name": "stdout",
     "output_type": "stream",
     "text": [
      "Epoch: 277/1000, Loss: 0.4762, Val Precision: 0.6029, ACC: 0.2821, top_k: 0.3202, top_k=1: 0.2058\n"
     ]
    },
    {
     "name": "stdout",
     "output_type": "stream",
     "text": [
      "Epoch: 278/1000, Loss: 0.4758, Val Precision: 0.6118, ACC: 0.2844, top_k: 0.3199, top_k=1: 0.2058\n"
     ]
    },
    {
     "name": "stdout",
     "output_type": "stream",
     "text": [
      "Epoch: 279/1000, Loss: 0.4759, Val Precision: 0.6118, ACC: 0.2837, top_k: 0.3207, top_k=1: 0.2058\n"
     ]
    },
    {
     "name": "stdout",
     "output_type": "stream",
     "text": [
      "Epoch: 280/1000, Loss: 0.4751, Val Precision: 0.6008, ACC: 0.2819, top_k: 0.3195, top_k=1: 0.2058\n"
     ]
    },
    {
     "name": "stdout",
     "output_type": "stream",
     "text": [
      "Epoch: 281/1000, Loss: 0.4764, Val Precision: 0.6061, ACC: 0.2815, top_k: 0.3197, top_k=1: 0.2058\n"
     ]
    },
    {
     "name": "stdout",
     "output_type": "stream",
     "text": [
      "Epoch: 282/1000, Loss: 0.4759, Val Precision: 0.6136, ACC: 0.2840, top_k: 0.3202, top_k=1: 0.2058\n"
     ]
    },
    {
     "name": "stdout",
     "output_type": "stream",
     "text": [
      "Epoch: 283/1000, Loss: 0.4748, Val Precision: 0.6083, ACC: 0.2848, top_k: 0.3220, top_k=1: 0.2058\n"
     ]
    },
    {
     "name": "stdout",
     "output_type": "stream",
     "text": [
      "Epoch: 284/1000, Loss: 0.4756, Val Precision: 0.6158, ACC: 0.2854, top_k: 0.3219, top_k=1: 0.2058\n"
     ]
    },
    {
     "name": "stdout",
     "output_type": "stream",
     "text": [
      "Epoch: 285/1000, Loss: 0.4747, Val Precision: 0.6118, ACC: 0.2834, top_k: 0.3200, top_k=1: 0.2058\n"
     ]
    },
    {
     "name": "stdout",
     "output_type": "stream",
     "text": [
      "Epoch: 286/1000, Loss: 0.4751, Val Precision: 0.6052, ACC: 0.2814, top_k: 0.3194, top_k=1: 0.2058\n"
     ]
    },
    {
     "name": "stdout",
     "output_type": "stream",
     "text": [
      "Epoch: 287/1000, Loss: 0.4748, Val Precision: 0.6047, ACC: 0.2825, top_k: 0.3205, top_k=1: 0.2058\n"
     ]
    },
    {
     "name": "stdout",
     "output_type": "stream",
     "text": [
      "Epoch: 288/1000, Loss: 0.4746, Val Precision: 0.6159, ACC: 0.2854, top_k: 0.3219, top_k=1: 0.2058\n"
     ]
    },
    {
     "name": "stdout",
     "output_type": "stream",
     "text": [
      "Epoch: 289/1000, Loss: 0.4735, Val Precision: 0.6178, ACC: 0.2852, top_k: 0.3200, top_k=1: 0.2058\n"
     ]
    },
    {
     "name": "stdout",
     "output_type": "stream",
     "text": [
      "Epoch: 290/1000, Loss: 0.4751, Val Precision: 0.6156, ACC: 0.2837, top_k: 0.3212, top_k=1: 0.2058\n"
     ]
    },
    {
     "name": "stdout",
     "output_type": "stream",
     "text": [
      "Epoch: 291/1000, Loss: 0.4740, Val Precision: 0.6113, ACC: 0.2825, top_k: 0.3214, top_k=1: 0.2058\n"
     ]
    },
    {
     "name": "stdout",
     "output_type": "stream",
     "text": [
      "Epoch: 292/1000, Loss: 0.4738, Val Precision: 0.6151, ACC: 0.2827, top_k: 0.3212, top_k=1: 0.2058\n"
     ]
    },
    {
     "name": "stdout",
     "output_type": "stream",
     "text": [
      "Epoch: 293/1000, Loss: 0.4740, Val Precision: 0.6204, ACC: 0.2858, top_k: 0.3209, top_k=1: 0.2058\n"
     ]
    },
    {
     "name": "stdout",
     "output_type": "stream",
     "text": [
      "Epoch: 294/1000, Loss: 0.4730, Val Precision: 0.6112, ACC: 0.2835, top_k: 0.3206, top_k=1: 0.2058\n"
     ]
    },
    {
     "name": "stdout",
     "output_type": "stream",
     "text": [
      "Epoch: 295/1000, Loss: 0.4733, Val Precision: 0.6059, ACC: 0.2821, top_k: 0.3221, top_k=1: 0.2058\n"
     ]
    },
    {
     "name": "stdout",
     "output_type": "stream",
     "text": [
      "Epoch: 296/1000, Loss: 0.4727, Val Precision: 0.6212, ACC: 0.2832, top_k: 0.3226, top_k=1: 0.2058\n"
     ]
    },
    {
     "name": "stdout",
     "output_type": "stream",
     "text": [
      "Epoch: 297/1000, Loss: 0.4722, Val Precision: 0.6239, ACC: 0.2862, top_k: 0.3213, top_k=1: 0.2058\n"
     ]
    },
    {
     "name": "stdout",
     "output_type": "stream",
     "text": [
      "Epoch: 298/1000, Loss: 0.4725, Val Precision: 0.6116, ACC: 0.2838, top_k: 0.3215, top_k=1: 0.2058\n"
     ]
    },
    {
     "name": "stdout",
     "output_type": "stream",
     "text": [
      "Epoch: 299/1000, Loss: 0.4716, Val Precision: 0.6062, ACC: 0.2812, top_k: 0.3222, top_k=1: 0.2058\n"
     ]
    },
    {
     "name": "stdout",
     "output_type": "stream",
     "text": [
      "Epoch: 300/1000, Loss: 0.4724, Val Precision: 0.6140, ACC: 0.2809, top_k: 0.3225, top_k=1: 0.2058\n"
     ]
    },
    {
     "name": "stdout",
     "output_type": "stream",
     "text": [
      "Epoch: 301/1000, Loss: 0.4719, Val Precision: 0.6218, ACC: 0.2850, top_k: 0.3222, top_k=1: 0.2058\n"
     ]
    },
    {
     "name": "stdout",
     "output_type": "stream",
     "text": [
      "Epoch: 302/1000, Loss: 0.4713, Val Precision: 0.6161, ACC: 0.2847, top_k: 0.3222, top_k=1: 0.2058\n"
     ]
    },
    {
     "name": "stdout",
     "output_type": "stream",
     "text": [
      "Epoch: 303/1000, Loss: 0.4712, Val Precision: 0.6164, ACC: 0.2829, top_k: 0.3216, top_k=1: 0.2058\n"
     ]
    },
    {
     "name": "stdout",
     "output_type": "stream",
     "text": [
      "Epoch: 304/1000, Loss: 0.4707, Val Precision: 0.6108, ACC: 0.2827, top_k: 0.3221, top_k=1: 0.2058\n"
     ]
    },
    {
     "name": "stdout",
     "output_type": "stream",
     "text": [
      "Epoch: 305/1000, Loss: 0.4704, Val Precision: 0.6146, ACC: 0.2842, top_k: 0.3225, top_k=1: 0.2058\n"
     ]
    },
    {
     "name": "stdout",
     "output_type": "stream",
     "text": [
      "Epoch: 306/1000, Loss: 0.4707, Val Precision: 0.6244, ACC: 0.2858, top_k: 0.3228, top_k=1: 0.2058\n"
     ]
    },
    {
     "name": "stdout",
     "output_type": "stream",
     "text": [
      "Epoch: 307/1000, Loss: 0.4704, Val Precision: 0.6156, ACC: 0.2825, top_k: 0.3226, top_k=1: 0.2058\n"
     ]
    },
    {
     "name": "stdout",
     "output_type": "stream",
     "text": [
      "Epoch: 308/1000, Loss: 0.4701, Val Precision: 0.6067, ACC: 0.2819, top_k: 0.3220, top_k=1: 0.2058\n"
     ]
    },
    {
     "name": "stdout",
     "output_type": "stream",
     "text": [
      "Epoch: 309/1000, Loss: 0.4699, Val Precision: 0.6154, ACC: 0.2835, top_k: 0.3222, top_k=1: 0.2058\n"
     ]
    },
    {
     "name": "stdout",
     "output_type": "stream",
     "text": [
      "Epoch: 310/1000, Loss: 0.4696, Val Precision: 0.6262, ACC: 0.2860, top_k: 0.3228, top_k=1: 0.2058\n"
     ]
    },
    {
     "name": "stdout",
     "output_type": "stream",
     "text": [
      "Epoch: 311/1000, Loss: 0.4694, Val Precision: 0.6116, ACC: 0.2827, top_k: 0.3233, top_k=1: 0.2058\n"
     ]
    },
    {
     "name": "stdout",
     "output_type": "stream",
     "text": [
      "Epoch: 312/1000, Loss: 0.4693, Val Precision: 0.6128, ACC: 0.2824, top_k: 0.3229, top_k=1: 0.2058\n"
     ]
    },
    {
     "name": "stdout",
     "output_type": "stream",
     "text": [
      "Epoch: 313/1000, Loss: 0.4688, Val Precision: 0.6231, ACC: 0.2848, top_k: 0.3226, top_k=1: 0.2058\n"
     ]
    },
    {
     "name": "stdout",
     "output_type": "stream",
     "text": [
      "Epoch: 314/1000, Loss: 0.4691, Val Precision: 0.6191, ACC: 0.2847, top_k: 0.3234, top_k=1: 0.2058\n"
     ]
    },
    {
     "name": "stdout",
     "output_type": "stream",
     "text": [
      "Epoch: 315/1000, Loss: 0.4688, Val Precision: 0.6147, ACC: 0.2841, top_k: 0.3239, top_k=1: 0.2058\n"
     ]
    },
    {
     "name": "stdout",
     "output_type": "stream",
     "text": [
      "Epoch: 316/1000, Loss: 0.4681, Val Precision: 0.6190, ACC: 0.2834, top_k: 0.3230, top_k=1: 0.2058\n"
     ]
    },
    {
     "name": "stdout",
     "output_type": "stream",
     "text": [
      "Epoch: 317/1000, Loss: 0.4679, Val Precision: 0.6170, ACC: 0.2838, top_k: 0.3234, top_k=1: 0.2058\n"
     ]
    },
    {
     "name": "stdout",
     "output_type": "stream",
     "text": [
      "Epoch: 318/1000, Loss: 0.4681, Val Precision: 0.6238, ACC: 0.2851, top_k: 0.3234, top_k=1: 0.2058\n"
     ]
    },
    {
     "name": "stdout",
     "output_type": "stream",
     "text": [
      "Epoch: 319/1000, Loss: 0.4677, Val Precision: 0.6192, ACC: 0.2829, top_k: 0.3243, top_k=1: 0.2058\n"
     ]
    },
    {
     "name": "stdout",
     "output_type": "stream",
     "text": [
      "Epoch: 320/1000, Loss: 0.4675, Val Precision: 0.6134, ACC: 0.2829, top_k: 0.3241, top_k=1: 0.2058\n"
     ]
    },
    {
     "name": "stdout",
     "output_type": "stream",
     "text": [
      "Epoch: 321/1000, Loss: 0.4671, Val Precision: 0.6273, ACC: 0.2851, top_k: 0.3233, top_k=1: 0.2058\n"
     ]
    },
    {
     "name": "stdout",
     "output_type": "stream",
     "text": [
      "Epoch: 322/1000, Loss: 0.4673, Val Precision: 0.6226, ACC: 0.2851, top_k: 0.3237, top_k=1: 0.2058\n"
     ]
    },
    {
     "name": "stdout",
     "output_type": "stream",
     "text": [
      "Epoch: 323/1000, Loss: 0.4670, Val Precision: 0.6146, ACC: 0.2835, top_k: 0.3246, top_k=1: 0.2058\n"
     ]
    },
    {
     "name": "stdout",
     "output_type": "stream",
     "text": [
      "Epoch: 324/1000, Loss: 0.4664, Val Precision: 0.6289, ACC: 0.2832, top_k: 0.3244, top_k=1: 0.2058\n"
     ]
    },
    {
     "name": "stdout",
     "output_type": "stream",
     "text": [
      "Epoch: 325/1000, Loss: 0.4663, Val Precision: 0.6157, ACC: 0.2840, top_k: 0.3239, top_k=1: 0.2058\n"
     ]
    },
    {
     "name": "stdout",
     "output_type": "stream",
     "text": [
      "Epoch: 326/1000, Loss: 0.4663, Val Precision: 0.6256, ACC: 0.2852, top_k: 0.3243, top_k=1: 0.2058\n"
     ]
    },
    {
     "name": "stdout",
     "output_type": "stream",
     "text": [
      "Epoch: 327/1000, Loss: 0.4659, Val Precision: 0.6231, ACC: 0.2834, top_k: 0.3244, top_k=1: 0.2058\n"
     ]
    },
    {
     "name": "stdout",
     "output_type": "stream",
     "text": [
      "Epoch: 328/1000, Loss: 0.4657, Val Precision: 0.6150, ACC: 0.2834, top_k: 0.3246, top_k=1: 0.2058\n"
     ]
    },
    {
     "name": "stdout",
     "output_type": "stream",
     "text": [
      "Epoch: 329/1000, Loss: 0.4654, Val Precision: 0.6323, ACC: 0.2857, top_k: 0.3241, top_k=1: 0.2058\n"
     ]
    },
    {
     "name": "stdout",
     "output_type": "stream",
     "text": [
      "Epoch: 330/1000, Loss: 0.4654, Val Precision: 0.6231, ACC: 0.2852, top_k: 0.3250, top_k=1: 0.2058\n"
     ]
    },
    {
     "name": "stdout",
     "output_type": "stream",
     "text": [
      "Epoch: 331/1000, Loss: 0.4649, Val Precision: 0.6174, ACC: 0.2828, top_k: 0.3245, top_k=1: 0.2058\n"
     ]
    },
    {
     "name": "stdout",
     "output_type": "stream",
     "text": [
      "Epoch: 332/1000, Loss: 0.4649, Val Precision: 0.6253, ACC: 0.2834, top_k: 0.3248, top_k=1: 0.2058\n"
     ]
    },
    {
     "name": "stdout",
     "output_type": "stream",
     "text": [
      "Epoch: 333/1000, Loss: 0.4646, Val Precision: 0.6240, ACC: 0.2851, top_k: 0.3250, top_k=1: 0.2058\n"
     ]
    },
    {
     "name": "stdout",
     "output_type": "stream",
     "text": [
      "Epoch: 334/1000, Loss: 0.4643, Val Precision: 0.6256, ACC: 0.2847, top_k: 0.3242, top_k=1: 0.2058\n"
     ]
    },
    {
     "name": "stdout",
     "output_type": "stream",
     "text": [
      "Epoch: 335/1000, Loss: 0.4642, Val Precision: 0.6274, ACC: 0.2835, top_k: 0.3250, top_k=1: 0.2058\n"
     ]
    },
    {
     "name": "stdout",
     "output_type": "stream",
     "text": [
      "Epoch: 336/1000, Loss: 0.4639, Val Precision: 0.6180, ACC: 0.2831, top_k: 0.3250, top_k=1: 0.2058\n"
     ]
    },
    {
     "name": "stdout",
     "output_type": "stream",
     "text": [
      "Epoch: 337/1000, Loss: 0.4636, Val Precision: 0.6339, ACC: 0.2855, top_k: 0.3250, top_k=1: 0.2058\n"
     ]
    },
    {
     "name": "stdout",
     "output_type": "stream",
     "text": [
      "Epoch: 338/1000, Loss: 0.4636, Val Precision: 0.6233, ACC: 0.2841, top_k: 0.3252, top_k=1: 0.2058\n"
     ]
    },
    {
     "name": "stdout",
     "output_type": "stream",
     "text": [
      "Epoch: 339/1000, Loss: 0.4632, Val Precision: 0.6266, ACC: 0.2841, top_k: 0.3249, top_k=1: 0.2058\n"
     ]
    },
    {
     "name": "stdout",
     "output_type": "stream",
     "text": [
      "Epoch: 340/1000, Loss: 0.4631, Val Precision: 0.6229, ACC: 0.2837, top_k: 0.3258, top_k=1: 0.2058\n"
     ]
    },
    {
     "name": "stdout",
     "output_type": "stream",
     "text": [
      "Epoch: 341/1000, Loss: 0.4626, Val Precision: 0.6235, ACC: 0.2848, top_k: 0.3249, top_k=1: 0.2058\n"
     ]
    },
    {
     "name": "stdout",
     "output_type": "stream",
     "text": [
      "Epoch: 342/1000, Loss: 0.4628, Val Precision: 0.6353, ACC: 0.2858, top_k: 0.3253, top_k=1: 0.2058\n"
     ]
    },
    {
     "name": "stdout",
     "output_type": "stream",
     "text": [
      "Epoch: 343/1000, Loss: 0.4627, Val Precision: 0.6237, ACC: 0.2840, top_k: 0.3261, top_k=1: 0.2058\n"
     ]
    },
    {
     "name": "stdout",
     "output_type": "stream",
     "text": [
      "Epoch: 344/1000, Loss: 0.4618, Val Precision: 0.6229, ACC: 0.2837, top_k: 0.3253, top_k=1: 0.2058\n"
     ]
    },
    {
     "name": "stdout",
     "output_type": "stream",
     "text": [
      "Epoch: 345/1000, Loss: 0.4622, Val Precision: 0.6347, ACC: 0.2850, top_k: 0.3263, top_k=1: 0.2058\n"
     ]
    },
    {
     "name": "stdout",
     "output_type": "stream",
     "text": [
      "Epoch: 346/1000, Loss: 0.4619, Val Precision: 0.6277, ACC: 0.2840, top_k: 0.3255, top_k=1: 0.2058\n"
     ]
    },
    {
     "name": "stdout",
     "output_type": "stream",
     "text": [
      "Epoch: 347/1000, Loss: 0.4613, Val Precision: 0.6229, ACC: 0.2831, top_k: 0.3258, top_k=1: 0.2058\n"
     ]
    },
    {
     "name": "stdout",
     "output_type": "stream",
     "text": [
      "Epoch: 348/1000, Loss: 0.4618, Val Precision: 0.6272, ACC: 0.2842, top_k: 0.3263, top_k=1: 0.2058\n"
     ]
    },
    {
     "name": "stdout",
     "output_type": "stream",
     "text": [
      "Epoch: 349/1000, Loss: 0.4611, Val Precision: 0.6342, ACC: 0.2851, top_k: 0.3250, top_k=1: 0.2058\n"
     ]
    },
    {
     "name": "stdout",
     "output_type": "stream",
     "text": [
      "Epoch: 350/1000, Loss: 0.4610, Val Precision: 0.6301, ACC: 0.2838, top_k: 0.3258, top_k=1: 0.2058\n"
     ]
    },
    {
     "name": "stdout",
     "output_type": "stream",
     "text": [
      "Epoch: 351/1000, Loss: 0.4609, Val Precision: 0.6293, ACC: 0.2844, top_k: 0.3263, top_k=1: 0.2058\n"
     ]
    },
    {
     "name": "stdout",
     "output_type": "stream",
     "text": [
      "Epoch: 352/1000, Loss: 0.4601, Val Precision: 0.6261, ACC: 0.2845, top_k: 0.3248, top_k=1: 0.2058\n"
     ]
    },
    {
     "name": "stdout",
     "output_type": "stream",
     "text": [
      "Epoch: 353/1000, Loss: 0.4615, Val Precision: 0.6315, ACC: 0.2842, top_k: 0.3250, top_k=1: 0.2058\n"
     ]
    },
    {
     "name": "stdout",
     "output_type": "stream",
     "text": [
      "Epoch: 354/1000, Loss: 0.4604, Val Precision: 0.6392, ACC: 0.2852, top_k: 0.3259, top_k=1: 0.2058\n"
     ]
    },
    {
     "name": "stdout",
     "output_type": "stream",
     "text": [
      "Epoch: 355/1000, Loss: 0.4606, Val Precision: 0.6404, ACC: 0.2847, top_k: 0.3256, top_k=1: 0.2058\n"
     ]
    },
    {
     "name": "stdout",
     "output_type": "stream",
     "text": [
      "Epoch: 356/1000, Loss: 0.4607, Val Precision: 0.6329, ACC: 0.2847, top_k: 0.3264, top_k=1: 0.2058\n"
     ]
    },
    {
     "name": "stdout",
     "output_type": "stream",
     "text": [
      "Epoch: 357/1000, Loss: 0.4593, Val Precision: 0.6269, ACC: 0.2845, top_k: 0.3260, top_k=1: 0.2058\n"
     ]
    },
    {
     "name": "stdout",
     "output_type": "stream",
     "text": [
      "Epoch: 358/1000, Loss: 0.4598, Val Precision: 0.6267, ACC: 0.2841, top_k: 0.3269, top_k=1: 0.2058\n"
     ]
    },
    {
     "name": "stdout",
     "output_type": "stream",
     "text": [
      "Epoch: 359/1000, Loss: 0.4589, Val Precision: 0.6389, ACC: 0.2852, top_k: 0.3257, top_k=1: 0.2058\n"
     ]
    },
    {
     "name": "stdout",
     "output_type": "stream",
     "text": [
      "Epoch: 360/1000, Loss: 0.4609, Val Precision: 0.6421, ACC: 0.2851, top_k: 0.3257, top_k=1: 0.2058\n"
     ]
    },
    {
     "name": "stdout",
     "output_type": "stream",
     "text": [
      "Epoch: 361/1000, Loss: 0.4606, Val Precision: 0.6393, ACC: 0.2861, top_k: 0.3264, top_k=1: 0.2058\n"
     ]
    },
    {
     "name": "stdout",
     "output_type": "stream",
     "text": [
      "Epoch: 362/1000, Loss: 0.4589, Val Precision: 0.6144, ACC: 0.2828, top_k: 0.3272, top_k=1: 0.2058\n"
     ]
    },
    {
     "name": "stdout",
     "output_type": "stream",
     "text": [
      "Epoch: 363/1000, Loss: 0.4594, Val Precision: 0.6195, ACC: 0.2819, top_k: 0.3267, top_k=1: 0.2058\n"
     ]
    },
    {
     "name": "stdout",
     "output_type": "stream",
     "text": [
      "Epoch: 364/1000, Loss: 0.4592, Val Precision: 0.6447, ACC: 0.2857, top_k: 0.3261, top_k=1: 0.2058\n"
     ]
    },
    {
     "name": "stdout",
     "output_type": "stream",
     "text": [
      "Epoch: 365/1000, Loss: 0.4584, Val Precision: 0.6404, ACC: 0.2854, top_k: 0.3264, top_k=1: 0.2058\n"
     ]
    },
    {
     "name": "stdout",
     "output_type": "stream",
     "text": [
      "Epoch: 366/1000, Loss: 0.4587, Val Precision: 0.6295, ACC: 0.2850, top_k: 0.3268, top_k=1: 0.2058\n"
     ]
    },
    {
     "name": "stdout",
     "output_type": "stream",
     "text": [
      "Epoch: 367/1000, Loss: 0.4584, Val Precision: 0.6310, ACC: 0.2844, top_k: 0.3265, top_k=1: 0.2058\n"
     ]
    },
    {
     "name": "stdout",
     "output_type": "stream",
     "text": [
      "Epoch: 368/1000, Loss: 0.4579, Val Precision: 0.6360, ACC: 0.2848, top_k: 0.3266, top_k=1: 0.2058\n"
     ]
    },
    {
     "name": "stdout",
     "output_type": "stream",
     "text": [
      "Epoch: 369/1000, Loss: 0.4578, Val Precision: 0.6283, ACC: 0.2844, top_k: 0.3276, top_k=1: 0.2058\n"
     ]
    },
    {
     "name": "stdout",
     "output_type": "stream",
     "text": [
      "Epoch: 370/1000, Loss: 0.4575, Val Precision: 0.6370, ACC: 0.2850, top_k: 0.3269, top_k=1: 0.2058\n"
     ]
    },
    {
     "name": "stdout",
     "output_type": "stream",
     "text": [
      "Epoch: 371/1000, Loss: 0.4575, Val Precision: 0.6391, ACC: 0.2852, top_k: 0.3270, top_k=1: 0.2058\n"
     ]
    },
    {
     "name": "stdout",
     "output_type": "stream",
     "text": [
      "Epoch: 372/1000, Loss: 0.4570, Val Precision: 0.6195, ACC: 0.2831, top_k: 0.3275, top_k=1: 0.2058\n"
     ]
    },
    {
     "name": "stdout",
     "output_type": "stream",
     "text": [
      "Epoch: 373/1000, Loss: 0.4579, Val Precision: 0.6265, ACC: 0.2831, top_k: 0.3279, top_k=1: 0.2058\n"
     ]
    },
    {
     "name": "stdout",
     "output_type": "stream",
     "text": [
      "Epoch: 374/1000, Loss: 0.4574, Val Precision: 0.6466, ACC: 0.2854, top_k: 0.3271, top_k=1: 0.2058\n"
     ]
    },
    {
     "name": "stdout",
     "output_type": "stream",
     "text": [
      "Epoch: 375/1000, Loss: 0.4570, Val Precision: 0.6360, ACC: 0.2848, top_k: 0.3261, top_k=1: 0.2058\n"
     ]
    },
    {
     "name": "stdout",
     "output_type": "stream",
     "text": [
      "Epoch: 376/1000, Loss: 0.4570, Val Precision: 0.6247, ACC: 0.2845, top_k: 0.3270, top_k=1: 0.2058\n"
     ]
    },
    {
     "name": "stdout",
     "output_type": "stream",
     "text": [
      "Epoch: 377/1000, Loss: 0.4567, Val Precision: 0.6354, ACC: 0.2845, top_k: 0.3278, top_k=1: 0.2058\n"
     ]
    },
    {
     "name": "stdout",
     "output_type": "stream",
     "text": [
      "Epoch: 378/1000, Loss: 0.4564, Val Precision: 0.6384, ACC: 0.2845, top_k: 0.3275, top_k=1: 0.2058\n"
     ]
    },
    {
     "name": "stdout",
     "output_type": "stream",
     "text": [
      "Epoch: 379/1000, Loss: 0.4565, Val Precision: 0.6355, ACC: 0.2850, top_k: 0.3269, top_k=1: 0.2058\n"
     ]
    },
    {
     "name": "stdout",
     "output_type": "stream",
     "text": [
      "Epoch: 380/1000, Loss: 0.4560, Val Precision: 0.6348, ACC: 0.2851, top_k: 0.3279, top_k=1: 0.2058\n"
     ]
    },
    {
     "name": "stdout",
     "output_type": "stream",
     "text": [
      "Epoch: 381/1000, Loss: 0.4565, Val Precision: 0.6322, ACC: 0.2842, top_k: 0.3286, top_k=1: 0.2058\n"
     ]
    },
    {
     "name": "stdout",
     "output_type": "stream",
     "text": [
      "Epoch: 382/1000, Loss: 0.4558, Val Precision: 0.6318, ACC: 0.2845, top_k: 0.3269, top_k=1: 0.2058\n"
     ]
    },
    {
     "name": "stdout",
     "output_type": "stream",
     "text": [
      "Epoch: 383/1000, Loss: 0.4565, Val Precision: 0.6405, ACC: 0.2847, top_k: 0.3267, top_k=1: 0.2058\n"
     ]
    },
    {
     "name": "stdout",
     "output_type": "stream",
     "text": [
      "Epoch: 384/1000, Loss: 0.4565, Val Precision: 0.6376, ACC: 0.2851, top_k: 0.3280, top_k=1: 0.2058\n"
     ]
    },
    {
     "name": "stdout",
     "output_type": "stream",
     "text": [
      "Epoch: 385/1000, Loss: 0.4551, Val Precision: 0.6156, ACC: 0.2829, top_k: 0.3285, top_k=1: 0.2058\n"
     ]
    },
    {
     "name": "stdout",
     "output_type": "stream",
     "text": [
      "Epoch: 386/1000, Loss: 0.4572, Val Precision: 0.6255, ACC: 0.2842, top_k: 0.3289, top_k=1: 0.2058\n"
     ]
    },
    {
     "name": "stdout",
     "output_type": "stream",
     "text": [
      "Epoch: 387/1000, Loss: 0.4557, Val Precision: 0.6539, ACC: 0.2864, top_k: 0.3273, top_k=1: 0.2058\n"
     ]
    },
    {
     "name": "stdout",
     "output_type": "stream",
     "text": [
      "Epoch: 388/1000, Loss: 0.4560, Val Precision: 0.6506, ACC: 0.2865, top_k: 0.3268, top_k=1: 0.2058\n"
     ]
    },
    {
     "name": "stdout",
     "output_type": "stream",
     "text": [
      "Epoch: 389/1000, Loss: 0.4558, Val Precision: 0.6227, ACC: 0.2841, top_k: 0.3282, top_k=1: 0.2058\n"
     ]
    },
    {
     "name": "stdout",
     "output_type": "stream",
     "text": [
      "Epoch: 390/1000, Loss: 0.4554, Val Precision: 0.6279, ACC: 0.2844, top_k: 0.3287, top_k=1: 0.2058\n"
     ]
    },
    {
     "name": "stdout",
     "output_type": "stream",
     "text": [
      "Epoch: 391/1000, Loss: 0.4548, Val Precision: 0.6513, ACC: 0.2855, top_k: 0.3286, top_k=1: 0.2058\n"
     ]
    },
    {
     "name": "stdout",
     "output_type": "stream",
     "text": [
      "Epoch: 392/1000, Loss: 0.4552, Val Precision: 0.6453, ACC: 0.2861, top_k: 0.3278, top_k=1: 0.2058\n"
     ]
    },
    {
     "name": "stdout",
     "output_type": "stream",
     "text": [
      "Epoch: 393/1000, Loss: 0.4545, Val Precision: 0.6199, ACC: 0.2840, top_k: 0.3281, top_k=1: 0.2058\n"
     ]
    },
    {
     "name": "stdout",
     "output_type": "stream",
     "text": [
      "Epoch: 394/1000, Loss: 0.4554, Val Precision: 0.6259, ACC: 0.2841, top_k: 0.3290, top_k=1: 0.2058\n"
     ]
    },
    {
     "name": "stdout",
     "output_type": "stream",
     "text": [
      "Epoch: 395/1000, Loss: 0.4545, Val Precision: 0.6491, ACC: 0.2860, top_k: 0.3284, top_k=1: 0.2058\n"
     ]
    },
    {
     "name": "stdout",
     "output_type": "stream",
     "text": [
      "Epoch: 396/1000, Loss: 0.4546, Val Precision: 0.6514, ACC: 0.2864, top_k: 0.3281, top_k=1: 0.2058\n"
     ]
    },
    {
     "name": "stdout",
     "output_type": "stream",
     "text": [
      "Epoch: 397/1000, Loss: 0.4543, Val Precision: 0.6249, ACC: 0.2841, top_k: 0.3283, top_k=1: 0.2058\n"
     ]
    },
    {
     "name": "stdout",
     "output_type": "stream",
     "text": [
      "Epoch: 398/1000, Loss: 0.4540, Val Precision: 0.6270, ACC: 0.2845, top_k: 0.3286, top_k=1: 0.2058\n"
     ]
    },
    {
     "name": "stdout",
     "output_type": "stream",
     "text": [
      "Epoch: 399/1000, Loss: 0.4536, Val Precision: 0.6473, ACC: 0.2860, top_k: 0.3288, top_k=1: 0.2058\n"
     ]
    },
    {
     "name": "stdout",
     "output_type": "stream",
     "text": [
      "Epoch: 400/1000, Loss: 0.4538, Val Precision: 0.6439, ACC: 0.2857, top_k: 0.3288, top_k=1: 0.2058\n"
     ]
    },
    {
     "name": "stdout",
     "output_type": "stream",
     "text": [
      "Epoch: 401/1000, Loss: 0.4532, Val Precision: 0.6197, ACC: 0.2834, top_k: 0.3288, top_k=1: 0.2058\n"
     ]
    },
    {
     "name": "stdout",
     "output_type": "stream",
     "text": [
      "Epoch: 402/1000, Loss: 0.4544, Val Precision: 0.6221, ACC: 0.2842, top_k: 0.3288, top_k=1: 0.2058\n"
     ]
    },
    {
     "name": "stdout",
     "output_type": "stream",
     "text": [
      "Epoch: 403/1000, Loss: 0.4539, Val Precision: 0.6451, ACC: 0.2851, top_k: 0.3288, top_k=1: 0.2058\n"
     ]
    },
    {
     "name": "stdout",
     "output_type": "stream",
     "text": [
      "Epoch: 404/1000, Loss: 0.4529, Val Precision: 0.6473, ACC: 0.2864, top_k: 0.3291, top_k=1: 0.2058\n"
     ]
    },
    {
     "name": "stdout",
     "output_type": "stream",
     "text": [
      "Epoch: 405/1000, Loss: 0.4528, Val Precision: 0.6247, ACC: 0.2835, top_k: 0.3289, top_k=1: 0.2058\n"
     ]
    },
    {
     "name": "stdout",
     "output_type": "stream",
     "text": [
      "Epoch: 406/1000, Loss: 0.4526, Val Precision: 0.6330, ACC: 0.2854, top_k: 0.3292, top_k=1: 0.2058\n"
     ]
    },
    {
     "name": "stdout",
     "output_type": "stream",
     "text": [
      "Epoch: 407/1000, Loss: 0.4523, Val Precision: 0.6484, ACC: 0.2860, top_k: 0.3291, top_k=1: 0.2058\n"
     ]
    },
    {
     "name": "stdout",
     "output_type": "stream",
     "text": [
      "Epoch: 408/1000, Loss: 0.4524, Val Precision: 0.6405, ACC: 0.2854, top_k: 0.3296, top_k=1: 0.2058\n"
     ]
    },
    {
     "name": "stdout",
     "output_type": "stream",
     "text": [
      "Epoch: 409/1000, Loss: 0.4519, Val Precision: 0.6183, ACC: 0.2847, top_k: 0.3291, top_k=1: 0.2058\n"
     ]
    },
    {
     "name": "stdout",
     "output_type": "stream",
     "text": [
      "Epoch: 410/1000, Loss: 0.4534, Val Precision: 0.6220, ACC: 0.2854, top_k: 0.3292, top_k=1: 0.2058\n"
     ]
    },
    {
     "name": "stdout",
     "output_type": "stream",
     "text": [
      "Epoch: 411/1000, Loss: 0.4533, Val Precision: 0.6411, ACC: 0.2862, top_k: 0.3290, top_k=1: 0.2058\n"
     ]
    },
    {
     "name": "stdout",
     "output_type": "stream",
     "text": [
      "Epoch: 412/1000, Loss: 0.4513, Val Precision: 0.6357, ACC: 0.2865, top_k: 0.3288, top_k=1: 0.2058\n"
     ]
    },
    {
     "name": "stdout",
     "output_type": "stream",
     "text": [
      "Epoch: 413/1000, Loss: 0.4529, Val Precision: 0.6377, ACC: 0.2867, top_k: 0.3291, top_k=1: 0.2058\n"
     ]
    },
    {
     "name": "stdout",
     "output_type": "stream",
     "text": [
      "Epoch: 414/1000, Loss: 0.4522, Val Precision: 0.6448, ACC: 0.2857, top_k: 0.3297, top_k=1: 0.2058\n"
     ]
    },
    {
     "name": "stdout",
     "output_type": "stream",
     "text": [
      "Epoch: 415/1000, Loss: 0.4516, Val Precision: 0.6417, ACC: 0.2877, top_k: 0.3290, top_k=1: 0.2058\n"
     ]
    },
    {
     "name": "stdout",
     "output_type": "stream",
     "text": [
      "Epoch: 416/1000, Loss: 0.4520, Val Precision: 0.6343, ACC: 0.2861, top_k: 0.3287, top_k=1: 0.2058\n"
     ]
    },
    {
     "name": "stdout",
     "output_type": "stream",
     "text": [
      "Epoch: 417/1000, Loss: 0.4513, Val Precision: 0.6375, ACC: 0.2852, top_k: 0.3299, top_k=1: 0.2058\n"
     ]
    },
    {
     "name": "stdout",
     "output_type": "stream",
     "text": [
      "Epoch: 418/1000, Loss: 0.4511, Val Precision: 0.6482, ACC: 0.2865, top_k: 0.3299, top_k=1: 0.2058\n"
     ]
    },
    {
     "name": "stdout",
     "output_type": "stream",
     "text": [
      "Epoch: 419/1000, Loss: 0.4512, Val Precision: 0.6423, ACC: 0.2877, top_k: 0.3297, top_k=1: 0.2058\n"
     ]
    },
    {
     "name": "stdout",
     "output_type": "stream",
     "text": [
      "Epoch: 420/1000, Loss: 0.4504, Val Precision: 0.6289, ACC: 0.2848, top_k: 0.3293, top_k=1: 0.2058\n"
     ]
    },
    {
     "name": "stdout",
     "output_type": "stream",
     "text": [
      "Epoch: 421/1000, Loss: 0.4512, Val Precision: 0.6335, ACC: 0.2851, top_k: 0.3298, top_k=1: 0.2058\n"
     ]
    },
    {
     "name": "stdout",
     "output_type": "stream",
     "text": [
      "Epoch: 422/1000, Loss: 0.4503, Val Precision: 0.6524, ACC: 0.2870, top_k: 0.3295, top_k=1: 0.2058\n"
     ]
    },
    {
     "name": "stdout",
     "output_type": "stream",
     "text": [
      "Epoch: 423/1000, Loss: 0.4513, Val Precision: 0.6528, ACC: 0.2880, top_k: 0.3301, top_k=1: 0.2058\n"
     ]
    },
    {
     "name": "stdout",
     "output_type": "stream",
     "text": [
      "Epoch: 424/1000, Loss: 0.4513, Val Precision: 0.6357, ACC: 0.2860, top_k: 0.3299, top_k=1: 0.2058\n"
     ]
    },
    {
     "name": "stdout",
     "output_type": "stream",
     "text": [
      "Epoch: 425/1000, Loss: 0.4502, Val Precision: 0.6306, ACC: 0.2861, top_k: 0.3295, top_k=1: 0.2058\n"
     ]
    },
    {
     "name": "stdout",
     "output_type": "stream",
     "text": [
      "Epoch: 426/1000, Loss: 0.4503, Val Precision: 0.6416, ACC: 0.2865, top_k: 0.3302, top_k=1: 0.2058\n"
     ]
    },
    {
     "name": "stdout",
     "output_type": "stream",
     "text": [
      "Epoch: 427/1000, Loss: 0.4502, Val Precision: 0.6450, ACC: 0.2862, top_k: 0.3300, top_k=1: 0.2058\n"
     ]
    },
    {
     "name": "stdout",
     "output_type": "stream",
     "text": [
      "Epoch: 428/1000, Loss: 0.4497, Val Precision: 0.6381, ACC: 0.2874, top_k: 0.3299, top_k=1: 0.2058\n"
     ]
    },
    {
     "name": "stdout",
     "output_type": "stream",
     "text": [
      "Epoch: 429/1000, Loss: 0.4501, Val Precision: 0.6356, ACC: 0.2865, top_k: 0.3302, top_k=1: 0.2058\n"
     ]
    },
    {
     "name": "stdout",
     "output_type": "stream",
     "text": [
      "Epoch: 430/1000, Loss: 0.4495, Val Precision: 0.6438, ACC: 0.2858, top_k: 0.3302, top_k=1: 0.2058\n"
     ]
    },
    {
     "name": "stdout",
     "output_type": "stream",
     "text": [
      "Epoch: 431/1000, Loss: 0.4499, Val Precision: 0.6439, ACC: 0.2857, top_k: 0.3298, top_k=1: 0.2058\n"
     ]
    },
    {
     "name": "stdout",
     "output_type": "stream",
     "text": [
      "Epoch: 432/1000, Loss: 0.4500, Val Precision: 0.6386, ACC: 0.2868, top_k: 0.3296, top_k=1: 0.2058\n"
     ]
    },
    {
     "name": "stdout",
     "output_type": "stream",
     "text": [
      "Epoch: 433/1000, Loss: 0.4488, Val Precision: 0.6369, ACC: 0.2852, top_k: 0.3305, top_k=1: 0.2058\n"
     ]
    },
    {
     "name": "stdout",
     "output_type": "stream",
     "text": [
      "Epoch: 434/1000, Loss: 0.4493, Val Precision: 0.6444, ACC: 0.2877, top_k: 0.3305, top_k=1: 0.2058\n"
     ]
    },
    {
     "name": "stdout",
     "output_type": "stream",
     "text": [
      "Epoch: 435/1000, Loss: 0.4489, Val Precision: 0.6364, ACC: 0.2857, top_k: 0.3293, top_k=1: 0.2058\n"
     ]
    },
    {
     "name": "stdout",
     "output_type": "stream",
     "text": [
      "Epoch: 436/1000, Loss: 0.4485, Val Precision: 0.6347, ACC: 0.2847, top_k: 0.3305, top_k=1: 0.2058\n"
     ]
    },
    {
     "name": "stdout",
     "output_type": "stream",
     "text": [
      "Epoch: 437/1000, Loss: 0.4496, Val Precision: 0.6383, ACC: 0.2862, top_k: 0.3307, top_k=1: 0.2058\n"
     ]
    },
    {
     "name": "stdout",
     "output_type": "stream",
     "text": [
      "Epoch: 438/1000, Loss: 0.4487, Val Precision: 0.6511, ACC: 0.2871, top_k: 0.3297, top_k=1: 0.2058\n"
     ]
    },
    {
     "name": "stdout",
     "output_type": "stream",
     "text": [
      "Epoch: 439/1000, Loss: 0.4490, Val Precision: 0.6460, ACC: 0.2868, top_k: 0.3300, top_k=1: 0.2058\n"
     ]
    },
    {
     "name": "stdout",
     "output_type": "stream",
     "text": [
      "Epoch: 440/1000, Loss: 0.4488, Val Precision: 0.6348, ACC: 0.2850, top_k: 0.3305, top_k=1: 0.2058\n"
     ]
    },
    {
     "name": "stdout",
     "output_type": "stream",
     "text": [
      "Epoch: 441/1000, Loss: 0.4486, Val Precision: 0.6359, ACC: 0.2867, top_k: 0.3309, top_k=1: 0.2058\n"
     ]
    },
    {
     "name": "stdout",
     "output_type": "stream",
     "text": [
      "Epoch: 442/1000, Loss: 0.4486, Val Precision: 0.6452, ACC: 0.2878, top_k: 0.3306, top_k=1: 0.2058\n"
     ]
    },
    {
     "name": "stdout",
     "output_type": "stream",
     "text": [
      "Epoch: 443/1000, Loss: 0.4481, Val Precision: 0.6445, ACC: 0.2854, top_k: 0.3307, top_k=1: 0.2058\n"
     ]
    },
    {
     "name": "stdout",
     "output_type": "stream",
     "text": [
      "Epoch: 444/1000, Loss: 0.4481, Val Precision: 0.6354, ACC: 0.2857, top_k: 0.3306, top_k=1: 0.2058\n"
     ]
    },
    {
     "name": "stdout",
     "output_type": "stream",
     "text": [
      "Epoch: 445/1000, Loss: 0.4476, Val Precision: 0.6377, ACC: 0.2877, top_k: 0.3307, top_k=1: 0.2058\n"
     ]
    },
    {
     "name": "stdout",
     "output_type": "stream",
     "text": [
      "Epoch: 446/1000, Loss: 0.4479, Val Precision: 0.6481, ACC: 0.2877, top_k: 0.3312, top_k=1: 0.2058\n"
     ]
    },
    {
     "name": "stdout",
     "output_type": "stream",
     "text": [
      "Epoch: 447/1000, Loss: 0.4473, Val Precision: 0.6355, ACC: 0.2840, top_k: 0.3304, top_k=1: 0.2058\n"
     ]
    },
    {
     "name": "stdout",
     "output_type": "stream",
     "text": [
      "Epoch: 448/1000, Loss: 0.4484, Val Precision: 0.6334, ACC: 0.2845, top_k: 0.3307, top_k=1: 0.2058\n"
     ]
    },
    {
     "name": "stdout",
     "output_type": "stream",
     "text": [
      "Epoch: 449/1000, Loss: 0.4477, Val Precision: 0.6427, ACC: 0.2873, top_k: 0.3311, top_k=1: 0.2058\n"
     ]
    },
    {
     "name": "stdout",
     "output_type": "stream",
     "text": [
      "Epoch: 450/1000, Loss: 0.4474, Val Precision: 0.6465, ACC: 0.2875, top_k: 0.3313, top_k=1: 0.2058\n"
     ]
    },
    {
     "name": "stdout",
     "output_type": "stream",
     "text": [
      "Epoch: 451/1000, Loss: 0.4474, Val Precision: 0.6456, ACC: 0.2850, top_k: 0.3309, top_k=1: 0.2058\n"
     ]
    },
    {
     "name": "stdout",
     "output_type": "stream",
     "text": [
      "Epoch: 452/1000, Loss: 0.4472, Val Precision: 0.6328, ACC: 0.2851, top_k: 0.3311, top_k=1: 0.2058\n"
     ]
    },
    {
     "name": "stdout",
     "output_type": "stream",
     "text": [
      "Epoch: 453/1000, Loss: 0.4467, Val Precision: 0.6385, ACC: 0.2871, top_k: 0.3310, top_k=1: 0.2058\n"
     ]
    },
    {
     "name": "stdout",
     "output_type": "stream",
     "text": [
      "Epoch: 454/1000, Loss: 0.4472, Val Precision: 0.6493, ACC: 0.2881, top_k: 0.3313, top_k=1: 0.2058\n"
     ]
    },
    {
     "name": "stdout",
     "output_type": "stream",
     "text": [
      "Epoch: 455/1000, Loss: 0.4469, Val Precision: 0.6419, ACC: 0.2858, top_k: 0.3311, top_k=1: 0.2058\n"
     ]
    },
    {
     "name": "stdout",
     "output_type": "stream",
     "text": [
      "Epoch: 456/1000, Loss: 0.4466, Val Precision: 0.6287, ACC: 0.2844, top_k: 0.3314, top_k=1: 0.2058\n"
     ]
    },
    {
     "name": "stdout",
     "output_type": "stream",
     "text": [
      "Epoch: 457/1000, Loss: 0.4466, Val Precision: 0.6425, ACC: 0.2865, top_k: 0.3315, top_k=1: 0.2058\n"
     ]
    },
    {
     "name": "stdout",
     "output_type": "stream",
     "text": [
      "Epoch: 458/1000, Loss: 0.4463, Val Precision: 0.6458, ACC: 0.2873, top_k: 0.3316, top_k=1: 0.2058\n"
     ]
    },
    {
     "name": "stdout",
     "output_type": "stream",
     "text": [
      "Epoch: 459/1000, Loss: 0.4459, Val Precision: 0.6301, ACC: 0.2831, top_k: 0.3310, top_k=1: 0.2058\n"
     ]
    },
    {
     "name": "stdout",
     "output_type": "stream",
     "text": [
      "Epoch: 460/1000, Loss: 0.4482, Val Precision: 0.6293, ACC: 0.2829, top_k: 0.3311, top_k=1: 0.2058\n"
     ]
    },
    {
     "name": "stdout",
     "output_type": "stream",
     "text": [
      "Epoch: 461/1000, Loss: 0.4475, Val Precision: 0.6427, ACC: 0.2865, top_k: 0.3313, top_k=1: 0.2058\n"
     ]
    },
    {
     "name": "stdout",
     "output_type": "stream",
     "text": [
      "Epoch: 462/1000, Loss: 0.4458, Val Precision: 0.6507, ACC: 0.2881, top_k: 0.3317, top_k=1: 0.2058\n"
     ]
    },
    {
     "name": "stdout",
     "output_type": "stream",
     "text": [
      "Epoch: 463/1000, Loss: 0.4463, Val Precision: 0.6433, ACC: 0.2865, top_k: 0.3321, top_k=1: 0.2058\n"
     ]
    },
    {
     "name": "stdout",
     "output_type": "stream",
     "text": [
      "Epoch: 464/1000, Loss: 0.4457, Val Precision: 0.6372, ACC: 0.2857, top_k: 0.3318, top_k=1: 0.2058\n"
     ]
    },
    {
     "name": "stdout",
     "output_type": "stream",
     "text": [
      "Epoch: 465/1000, Loss: 0.4458, Val Precision: 0.6376, ACC: 0.2852, top_k: 0.3316, top_k=1: 0.2058\n"
     ]
    },
    {
     "name": "stdout",
     "output_type": "stream",
     "text": [
      "Epoch: 466/1000, Loss: 0.4457, Val Precision: 0.6490, ACC: 0.2877, top_k: 0.3319, top_k=1: 0.2058\n"
     ]
    },
    {
     "name": "stdout",
     "output_type": "stream",
     "text": [
      "Epoch: 467/1000, Loss: 0.4452, Val Precision: 0.6441, ACC: 0.2870, top_k: 0.3320, top_k=1: 0.2058\n"
     ]
    },
    {
     "name": "stdout",
     "output_type": "stream",
     "text": [
      "Epoch: 468/1000, Loss: 0.4453, Val Precision: 0.6393, ACC: 0.2860, top_k: 0.3320, top_k=1: 0.2058\n"
     ]
    },
    {
     "name": "stdout",
     "output_type": "stream",
     "text": [
      "Epoch: 469/1000, Loss: 0.4449, Val Precision: 0.6429, ACC: 0.2865, top_k: 0.3321, top_k=1: 0.2058\n"
     ]
    },
    {
     "name": "stdout",
     "output_type": "stream",
     "text": [
      "Epoch: 470/1000, Loss: 0.4448, Val Precision: 0.6471, ACC: 0.2871, top_k: 0.3327, top_k=1: 0.2058\n"
     ]
    },
    {
     "name": "stdout",
     "output_type": "stream",
     "text": [
      "Epoch: 471/1000, Loss: 0.4450, Val Precision: 0.6447, ACC: 0.2870, top_k: 0.3324, top_k=1: 0.2058\n"
     ]
    },
    {
     "name": "stdout",
     "output_type": "stream",
     "text": [
      "Epoch: 472/1000, Loss: 0.4445, Val Precision: 0.6395, ACC: 0.2864, top_k: 0.3318, top_k=1: 0.2058\n"
     ]
    },
    {
     "name": "stdout",
     "output_type": "stream",
     "text": [
      "Epoch: 473/1000, Loss: 0.4454, Val Precision: 0.6419, ACC: 0.2865, top_k: 0.3317, top_k=1: 0.2058\n"
     ]
    },
    {
     "name": "stdout",
     "output_type": "stream",
     "text": [
      "Epoch: 474/1000, Loss: 0.4456, Val Precision: 0.6484, ACC: 0.2877, top_k: 0.3329, top_k=1: 0.2058\n"
     ]
    },
    {
     "name": "stdout",
     "output_type": "stream",
     "text": [
      "Epoch: 475/1000, Loss: 0.4440, Val Precision: 0.6370, ACC: 0.2852, top_k: 0.3319, top_k=1: 0.2058\n"
     ]
    },
    {
     "name": "stdout",
     "output_type": "stream",
     "text": [
      "Epoch: 476/1000, Loss: 0.4462, Val Precision: 0.6348, ACC: 0.2844, top_k: 0.3319, top_k=1: 0.2058\n"
     ]
    },
    {
     "name": "stdout",
     "output_type": "stream",
     "text": [
      "Epoch: 477/1000, Loss: 0.4455, Val Precision: 0.6465, ACC: 0.2875, top_k: 0.3327, top_k=1: 0.2058\n"
     ]
    },
    {
     "name": "stdout",
     "output_type": "stream",
     "text": [
      "Epoch: 478/1000, Loss: 0.4440, Val Precision: 0.6432, ACC: 0.2871, top_k: 0.3320, top_k=1: 0.2058\n"
     ]
    },
    {
     "name": "stdout",
     "output_type": "stream",
     "text": [
      "Epoch: 479/1000, Loss: 0.4445, Val Precision: 0.6476, ACC: 0.2877, top_k: 0.3330, top_k=1: 0.2058\n"
     ]
    },
    {
     "name": "stdout",
     "output_type": "stream",
     "text": [
      "Epoch: 480/1000, Loss: 0.4434, Val Precision: 0.6277, ACC: 0.2829, top_k: 0.3325, top_k=1: 0.2058\n"
     ]
    },
    {
     "name": "stdout",
     "output_type": "stream",
     "text": [
      "Epoch: 481/1000, Loss: 0.4459, Val Precision: 0.6289, ACC: 0.2842, top_k: 0.3322, top_k=1: 0.2058\n"
     ]
    },
    {
     "name": "stdout",
     "output_type": "stream",
     "text": [
      "Epoch: 482/1000, Loss: 0.4460, Val Precision: 0.6428, ACC: 0.2870, top_k: 0.3328, top_k=1: 0.2058\n"
     ]
    },
    {
     "name": "stdout",
     "output_type": "stream",
     "text": [
      "Epoch: 483/1000, Loss: 0.4431, Val Precision: 0.6510, ACC: 0.2867, top_k: 0.3329, top_k=1: 0.2058\n"
     ]
    },
    {
     "name": "stdout",
     "output_type": "stream",
     "text": [
      "Epoch: 484/1000, Loss: 0.4463, Val Precision: 0.6567, ACC: 0.2861, top_k: 0.3318, top_k=1: 0.2058\n"
     ]
    },
    {
     "name": "stdout",
     "output_type": "stream",
     "text": [
      "Epoch: 485/1000, Loss: 0.4479, Val Precision: 0.6556, ACC: 0.2881, top_k: 0.3329, top_k=1: 0.2058\n"
     ]
    },
    {
     "name": "stdout",
     "output_type": "stream",
     "text": [
      "Epoch: 486/1000, Loss: 0.4450, Val Precision: 0.6433, ACC: 0.2868, top_k: 0.3329, top_k=1: 0.2058\n"
     ]
    },
    {
     "name": "stdout",
     "output_type": "stream",
     "text": [
      "Epoch: 487/1000, Loss: 0.4434, Val Precision: 0.6344, ACC: 0.2860, top_k: 0.3321, top_k=1: 0.2058\n"
     ]
    },
    {
     "name": "stdout",
     "output_type": "stream",
     "text": [
      "Epoch: 488/1000, Loss: 0.4451, Val Precision: 0.6353, ACC: 0.2864, top_k: 0.3327, top_k=1: 0.2058\n"
     ]
    },
    {
     "name": "stdout",
     "output_type": "stream",
     "text": [
      "Epoch: 489/1000, Loss: 0.4443, Val Precision: 0.6451, ACC: 0.2862, top_k: 0.3334, top_k=1: 0.2058\n"
     ]
    },
    {
     "name": "stdout",
     "output_type": "stream",
     "text": [
      "Epoch: 490/1000, Loss: 0.4429, Val Precision: 0.6505, ACC: 0.2875, top_k: 0.3330, top_k=1: 0.2058\n"
     ]
    },
    {
     "name": "stdout",
     "output_type": "stream",
     "text": [
      "Epoch: 491/1000, Loss: 0.4436, Val Precision: 0.6479, ACC: 0.2880, top_k: 0.3336, top_k=1: 0.2058\n"
     ]
    },
    {
     "name": "stdout",
     "output_type": "stream",
     "text": [
      "Epoch: 492/1000, Loss: 0.4432, Val Precision: 0.6421, ACC: 0.2874, top_k: 0.3331, top_k=1: 0.2058\n"
     ]
    },
    {
     "name": "stdout",
     "output_type": "stream",
     "text": [
      "Epoch: 493/1000, Loss: 0.4423, Val Precision: 0.6387, ACC: 0.2860, top_k: 0.3327, top_k=1: 0.2058\n"
     ]
    },
    {
     "name": "stdout",
     "output_type": "stream",
     "text": [
      "Epoch: 494/1000, Loss: 0.4433, Val Precision: 0.6443, ACC: 0.2870, top_k: 0.3329, top_k=1: 0.2058\n"
     ]
    },
    {
     "name": "stdout",
     "output_type": "stream",
     "text": [
      "Epoch: 495/1000, Loss: 0.4425, Val Precision: 0.6450, ACC: 0.2871, top_k: 0.3339, top_k=1: 0.2058\n"
     ]
    },
    {
     "name": "stdout",
     "output_type": "stream",
     "text": [
      "Epoch: 496/1000, Loss: 0.4421, Val Precision: 0.6462, ACC: 0.2873, top_k: 0.3336, top_k=1: 0.2058\n"
     ]
    },
    {
     "name": "stdout",
     "output_type": "stream",
     "text": [
      "Epoch: 497/1000, Loss: 0.4420, Val Precision: 0.6427, ACC: 0.2864, top_k: 0.3332, top_k=1: 0.2058\n"
     ]
    },
    {
     "name": "stdout",
     "output_type": "stream",
     "text": [
      "Epoch: 498/1000, Loss: 0.4418, Val Precision: 0.6440, ACC: 0.2867, top_k: 0.3330, top_k=1: 0.2058\n"
     ]
    },
    {
     "name": "stdout",
     "output_type": "stream",
     "text": [
      "Epoch: 499/1000, Loss: 0.4418, Val Precision: 0.6495, ACC: 0.2878, top_k: 0.3341, top_k=1: 0.2058\n"
     ]
    },
    {
     "name": "stdout",
     "output_type": "stream",
     "text": [
      "Epoch: 500/1000, Loss: 0.4419, Val Precision: 0.6475, ACC: 0.2875, top_k: 0.3341, top_k=1: 0.2058\n"
     ]
    },
    {
     "name": "stdout",
     "output_type": "stream",
     "text": [
      "Epoch: 501/1000, Loss: 0.4415, Val Precision: 0.6435, ACC: 0.2861, top_k: 0.3328, top_k=1: 0.2058\n"
     ]
    },
    {
     "name": "stdout",
     "output_type": "stream",
     "text": [
      "Epoch: 502/1000, Loss: 0.4416, Val Precision: 0.6444, ACC: 0.2871, top_k: 0.3338, top_k=1: 0.2058\n"
     ]
    },
    {
     "name": "stdout",
     "output_type": "stream",
     "text": [
      "Epoch: 503/1000, Loss: 0.4417, Val Precision: 0.6462, ACC: 0.2880, top_k: 0.3338, top_k=1: 0.2058\n"
     ]
    },
    {
     "name": "stdout",
     "output_type": "stream",
     "text": [
      "Epoch: 504/1000, Loss: 0.4411, Val Precision: 0.6517, ACC: 0.2878, top_k: 0.3342, top_k=1: 0.2058\n"
     ]
    },
    {
     "name": "stdout",
     "output_type": "stream",
     "text": [
      "Epoch: 505/1000, Loss: 0.4411, Val Precision: 0.6519, ACC: 0.2873, top_k: 0.3351, top_k=1: 0.2058\n"
     ]
    },
    {
     "name": "stdout",
     "output_type": "stream",
     "text": [
      "Epoch: 506/1000, Loss: 0.4417, Val Precision: 0.6486, ACC: 0.2881, top_k: 0.3344, top_k=1: 0.2058\n"
     ]
    },
    {
     "name": "stdout",
     "output_type": "stream",
     "text": [
      "Epoch: 507/1000, Loss: 0.4407, Val Precision: 0.6420, ACC: 0.2861, top_k: 0.3324, top_k=1: 0.2058\n"
     ]
    },
    {
     "name": "stdout",
     "output_type": "stream",
     "text": [
      "Epoch: 508/1000, Loss: 0.4446, Val Precision: 0.6423, ACC: 0.2865, top_k: 0.3319, top_k=1: 0.2058\n"
     ]
    },
    {
     "name": "stdout",
     "output_type": "stream",
     "text": [
      "Epoch: 509/1000, Loss: 0.4456, Val Precision: 0.6502, ACC: 0.2885, top_k: 0.3332, top_k=1: 0.2058\n"
     ]
    },
    {
     "name": "stdout",
     "output_type": "stream",
     "text": [
      "Epoch: 510/1000, Loss: 0.4407, Val Precision: 0.6515, ACC: 0.2874, top_k: 0.3350, top_k=1: 0.2058\n"
     ]
    },
    {
     "name": "stdout",
     "output_type": "stream",
     "text": [
      "Epoch: 511/1000, Loss: 0.4423, Val Precision: 0.6521, ACC: 0.2852, top_k: 0.3342, top_k=1: 0.2058\n"
     ]
    },
    {
     "name": "stdout",
     "output_type": "stream",
     "text": [
      "Epoch: 512/1000, Loss: 0.4441, Val Precision: 0.6569, ACC: 0.2881, top_k: 0.3349, top_k=1: 0.2058\n"
     ]
    },
    {
     "name": "stdout",
     "output_type": "stream",
     "text": [
      "Epoch: 513/1000, Loss: 0.4416, Val Precision: 0.6495, ACC: 0.2887, top_k: 0.3338, top_k=1: 0.2058\n"
     ]
    },
    {
     "name": "stdout",
     "output_type": "stream",
     "text": [
      "Epoch: 514/1000, Loss: 0.4407, Val Precision: 0.6433, ACC: 0.2877, top_k: 0.3324, top_k=1: 0.2058\n"
     ]
    },
    {
     "name": "stdout",
     "output_type": "stream",
     "text": [
      "Epoch: 515/1000, Loss: 0.4435, Val Precision: 0.6482, ACC: 0.2873, top_k: 0.3319, top_k=1: 0.2058\n"
     ]
    },
    {
     "name": "stdout",
     "output_type": "stream",
     "text": [
      "Epoch: 516/1000, Loss: 0.4415, Val Precision: 0.6528, ACC: 0.2888, top_k: 0.3344, top_k=1: 0.2058\n"
     ]
    },
    {
     "name": "stdout",
     "output_type": "stream",
     "text": [
      "Epoch: 517/1000, Loss: 0.4398, Val Precision: 0.6436, ACC: 0.2875, top_k: 0.3349, top_k=1: 0.2058\n"
     ]
    },
    {
     "name": "stdout",
     "output_type": "stream",
     "text": [
      "Epoch: 518/1000, Loss: 0.4413, Val Precision: 0.6499, ACC: 0.2888, top_k: 0.3350, top_k=1: 0.2058\n"
     ]
    },
    {
     "name": "stdout",
     "output_type": "stream",
     "text": [
      "Epoch: 519/1000, Loss: 0.4405, Val Precision: 0.6556, ACC: 0.2884, top_k: 0.3338, top_k=1: 0.2058\n"
     ]
    },
    {
     "name": "stdout",
     "output_type": "stream",
     "text": [
      "Epoch: 520/1000, Loss: 0.4396, Val Precision: 0.6469, ACC: 0.2875, top_k: 0.3331, top_k=1: 0.2058\n"
     ]
    },
    {
     "name": "stdout",
     "output_type": "stream",
     "text": [
      "Epoch: 521/1000, Loss: 0.4403, Val Precision: 0.6419, ACC: 0.2877, top_k: 0.3340, top_k=1: 0.2058\n"
     ]
    },
    {
     "name": "stdout",
     "output_type": "stream",
     "text": [
      "Epoch: 522/1000, Loss: 0.4394, Val Precision: 0.6501, ACC: 0.2884, top_k: 0.3351, top_k=1: 0.2058\n"
     ]
    },
    {
     "name": "stdout",
     "output_type": "stream",
     "text": [
      "Epoch: 523/1000, Loss: 0.4399, Val Precision: 0.6555, ACC: 0.2890, top_k: 0.3353, top_k=1: 0.2058\n"
     ]
    },
    {
     "name": "stdout",
     "output_type": "stream",
     "text": [
      "Epoch: 524/1000, Loss: 0.4399, Val Precision: 0.6484, ACC: 0.2878, top_k: 0.3347, top_k=1: 0.2058\n"
     ]
    },
    {
     "name": "stdout",
     "output_type": "stream",
     "text": [
      "Epoch: 525/1000, Loss: 0.4398, Val Precision: 0.6479, ACC: 0.2877, top_k: 0.3343, top_k=1: 0.2058\n"
     ]
    },
    {
     "name": "stdout",
     "output_type": "stream",
     "text": [
      "Epoch: 526/1000, Loss: 0.4391, Val Precision: 0.6453, ACC: 0.2873, top_k: 0.3337, top_k=1: 0.2058\n"
     ]
    },
    {
     "name": "stdout",
     "output_type": "stream",
     "text": [
      "Epoch: 527/1000, Loss: 0.4396, Val Precision: 0.6451, ACC: 0.2874, top_k: 0.3349, top_k=1: 0.2058\n"
     ]
    },
    {
     "name": "stdout",
     "output_type": "stream",
     "text": [
      "Epoch: 528/1000, Loss: 0.4388, Val Precision: 0.6467, ACC: 0.2881, top_k: 0.3351, top_k=1: 0.2058\n"
     ]
    },
    {
     "name": "stdout",
     "output_type": "stream",
     "text": [
      "Epoch: 529/1000, Loss: 0.4402, Val Precision: 0.6541, ACC: 0.2890, top_k: 0.3347, top_k=1: 0.2058\n"
     ]
    },
    {
     "name": "stdout",
     "output_type": "stream",
     "text": [
      "Epoch: 530/1000, Loss: 0.4399, Val Precision: 0.6585, ACC: 0.2891, top_k: 0.3346, top_k=1: 0.2058\n"
     ]
    },
    {
     "name": "stdout",
     "output_type": "stream",
     "text": [
      "Epoch: 531/1000, Loss: 0.4393, Val Precision: 0.6476, ACC: 0.2877, top_k: 0.3342, top_k=1: 0.2058\n"
     ]
    },
    {
     "name": "stdout",
     "output_type": "stream",
     "text": [
      "Epoch: 532/1000, Loss: 0.4391, Val Precision: 0.6365, ACC: 0.2865, top_k: 0.3346, top_k=1: 0.2058\n"
     ]
    },
    {
     "name": "stdout",
     "output_type": "stream",
     "text": [
      "Epoch: 533/1000, Loss: 0.4387, Val Precision: 0.6465, ACC: 0.2883, top_k: 0.3352, top_k=1: 0.2058\n"
     ]
    },
    {
     "name": "stdout",
     "output_type": "stream",
     "text": [
      "Epoch: 534/1000, Loss: 0.4387, Val Precision: 0.6588, ACC: 0.2890, top_k: 0.3353, top_k=1: 0.2058\n"
     ]
    },
    {
     "name": "stdout",
     "output_type": "stream",
     "text": [
      "Epoch: 535/1000, Loss: 0.4384, Val Precision: 0.6501, ACC: 0.2874, top_k: 0.3356, top_k=1: 0.2058\n"
     ]
    },
    {
     "name": "stdout",
     "output_type": "stream",
     "text": [
      "Epoch: 536/1000, Loss: 0.4382, Val Precision: 0.6423, ACC: 0.2871, top_k: 0.3352, top_k=1: 0.2058\n"
     ]
    },
    {
     "name": "stdout",
     "output_type": "stream",
     "text": [
      "Epoch: 537/1000, Loss: 0.4382, Val Precision: 0.6514, ACC: 0.2884, top_k: 0.3349, top_k=1: 0.2058\n"
     ]
    },
    {
     "name": "stdout",
     "output_type": "stream",
     "text": [
      "Epoch: 538/1000, Loss: 0.4377, Val Precision: 0.6529, ACC: 0.2893, top_k: 0.3355, top_k=1: 0.2058\n"
     ]
    },
    {
     "name": "stdout",
     "output_type": "stream",
     "text": [
      "Epoch: 539/1000, Loss: 0.4380, Val Precision: 0.6495, ACC: 0.2880, top_k: 0.3356, top_k=1: 0.2058\n"
     ]
    },
    {
     "name": "stdout",
     "output_type": "stream",
     "text": [
      "Epoch: 540/1000, Loss: 0.4377, Val Precision: 0.6485, ACC: 0.2874, top_k: 0.3358, top_k=1: 0.2058\n"
     ]
    },
    {
     "name": "stdout",
     "output_type": "stream",
     "text": [
      "Epoch: 541/1000, Loss: 0.4380, Val Precision: 0.6515, ACC: 0.2880, top_k: 0.3356, top_k=1: 0.2058\n"
     ]
    },
    {
     "name": "stdout",
     "output_type": "stream",
     "text": [
      "Epoch: 542/1000, Loss: 0.4376, Val Precision: 0.6482, ACC: 0.2875, top_k: 0.3353, top_k=1: 0.2058\n"
     ]
    },
    {
     "name": "stdout",
     "output_type": "stream",
     "text": [
      "Epoch: 543/1000, Loss: 0.4378, Val Precision: 0.6540, ACC: 0.2891, top_k: 0.3352, top_k=1: 0.2058\n"
     ]
    },
    {
     "name": "stdout",
     "output_type": "stream",
     "text": [
      "Epoch: 544/1000, Loss: 0.4381, Val Precision: 0.6539, ACC: 0.2893, top_k: 0.3366, top_k=1: 0.2058\n"
     ]
    },
    {
     "name": "stdout",
     "output_type": "stream",
     "text": [
      "Epoch: 545/1000, Loss: 0.4375, Val Precision: 0.6431, ACC: 0.2860, top_k: 0.3347, top_k=1: 0.2058\n"
     ]
    },
    {
     "name": "stdout",
     "output_type": "stream",
     "text": [
      "Epoch: 546/1000, Loss: 0.4381, Val Precision: 0.6472, ACC: 0.2865, top_k: 0.3356, top_k=1: 0.2058\n"
     ]
    },
    {
     "name": "stdout",
     "output_type": "stream",
     "text": [
      "Epoch: 547/1000, Loss: 0.4373, Val Precision: 0.6544, ACC: 0.2897, top_k: 0.3362, top_k=1: 0.2058\n"
     ]
    },
    {
     "name": "stdout",
     "output_type": "stream",
     "text": [
      "Epoch: 548/1000, Loss: 0.4373, Val Precision: 0.6544, ACC: 0.2894, top_k: 0.3359, top_k=1: 0.2058\n"
     ]
    },
    {
     "name": "stdout",
     "output_type": "stream",
     "text": [
      "Epoch: 549/1000, Loss: 0.4370, Val Precision: 0.6473, ACC: 0.2862, top_k: 0.3350, top_k=1: 0.2058\n"
     ]
    },
    {
     "name": "stdout",
     "output_type": "stream",
     "text": [
      "Epoch: 550/1000, Loss: 0.4376, Val Precision: 0.6465, ACC: 0.2873, top_k: 0.3360, top_k=1: 0.2058\n"
     ]
    },
    {
     "name": "stdout",
     "output_type": "stream",
     "text": [
      "Epoch: 551/1000, Loss: 0.4369, Val Precision: 0.6506, ACC: 0.2881, top_k: 0.3369, top_k=1: 0.2058\n"
     ]
    },
    {
     "name": "stdout",
     "output_type": "stream",
     "text": [
      "Epoch: 552/1000, Loss: 0.4369, Val Precision: 0.6626, ACC: 0.2901, top_k: 0.3360, top_k=1: 0.2058\n"
     ]
    },
    {
     "name": "stdout",
     "output_type": "stream",
     "text": [
      "Epoch: 553/1000, Loss: 0.4368, Val Precision: 0.6480, ACC: 0.2870, top_k: 0.3356, top_k=1: 0.2058\n"
     ]
    },
    {
     "name": "stdout",
     "output_type": "stream",
     "text": [
      "Epoch: 554/1000, Loss: 0.4368, Val Precision: 0.6499, ACC: 0.2881, top_k: 0.3363, top_k=1: 0.2058\n"
     ]
    },
    {
     "name": "stdout",
     "output_type": "stream",
     "text": [
      "Epoch: 555/1000, Loss: 0.4361, Val Precision: 0.6527, ACC: 0.2897, top_k: 0.3359, top_k=1: 0.2058\n"
     ]
    },
    {
     "name": "stdout",
     "output_type": "stream",
     "text": [
      "Epoch: 556/1000, Loss: 0.4372, Val Precision: 0.6569, ACC: 0.2898, top_k: 0.3361, top_k=1: 0.2058\n"
     ]
    },
    {
     "name": "stdout",
     "output_type": "stream",
     "text": [
      "Epoch: 557/1000, Loss: 0.4363, Val Precision: 0.6464, ACC: 0.2854, top_k: 0.3364, top_k=1: 0.2058\n"
     ]
    },
    {
     "name": "stdout",
     "output_type": "stream",
     "text": [
      "Epoch: 558/1000, Loss: 0.4383, Val Precision: 0.6426, ACC: 0.2861, top_k: 0.3353, top_k=1: 0.2058\n"
     ]
    },
    {
     "name": "stdout",
     "output_type": "stream",
     "text": [
      "Epoch: 559/1000, Loss: 0.4384, Val Precision: 0.6569, ACC: 0.2897, top_k: 0.3359, top_k=1: 0.2058\n"
     ]
    },
    {
     "name": "stdout",
     "output_type": "stream",
     "text": [
      "Epoch: 560/1000, Loss: 0.4365, Val Precision: 0.6549, ACC: 0.2893, top_k: 0.3364, top_k=1: 0.2058\n"
     ]
    },
    {
     "name": "stdout",
     "output_type": "stream",
     "text": [
      "Epoch: 561/1000, Loss: 0.4372, Val Precision: 0.6475, ACC: 0.2874, top_k: 0.3356, top_k=1: 0.2058\n"
     ]
    },
    {
     "name": "stdout",
     "output_type": "stream",
     "text": [
      "Epoch: 562/1000, Loss: 0.4371, Val Precision: 0.6530, ACC: 0.2875, top_k: 0.3371, top_k=1: 0.2058\n"
     ]
    },
    {
     "name": "stdout",
     "output_type": "stream",
     "text": [
      "Epoch: 563/1000, Loss: 0.4362, Val Precision: 0.6559, ACC: 0.2891, top_k: 0.3360, top_k=1: 0.2058\n"
     ]
    },
    {
     "name": "stdout",
     "output_type": "stream",
     "text": [
      "Epoch: 564/1000, Loss: 0.4364, Val Precision: 0.6504, ACC: 0.2887, top_k: 0.3362, top_k=1: 0.2058\n"
     ]
    },
    {
     "name": "stdout",
     "output_type": "stream",
     "text": [
      "Epoch: 565/1000, Loss: 0.4360, Val Precision: 0.6459, ACC: 0.2877, top_k: 0.3371, top_k=1: 0.2058\n"
     ]
    },
    {
     "name": "stdout",
     "output_type": "stream",
     "text": [
      "Epoch: 566/1000, Loss: 0.4364, Val Precision: 0.6538, ACC: 0.2883, top_k: 0.3362, top_k=1: 0.2058\n"
     ]
    },
    {
     "name": "stdout",
     "output_type": "stream",
     "text": [
      "Epoch: 567/1000, Loss: 0.4367, Val Precision: 0.6569, ACC: 0.2894, top_k: 0.3362, top_k=1: 0.2058\n"
     ]
    },
    {
     "name": "stdout",
     "output_type": "stream",
     "text": [
      "Epoch: 568/1000, Loss: 0.4360, Val Precision: 0.6523, ACC: 0.2890, top_k: 0.3361, top_k=1: 0.2058\n"
     ]
    },
    {
     "name": "stdout",
     "output_type": "stream",
     "text": [
      "Epoch: 569/1000, Loss: 0.4354, Val Precision: 0.6476, ACC: 0.2874, top_k: 0.3369, top_k=1: 0.2058\n"
     ]
    },
    {
     "name": "stdout",
     "output_type": "stream",
     "text": [
      "Epoch: 570/1000, Loss: 0.4361, Val Precision: 0.6518, ACC: 0.2881, top_k: 0.3372, top_k=1: 0.2058\n"
     ]
    },
    {
     "name": "stdout",
     "output_type": "stream",
     "text": [
      "Epoch: 571/1000, Loss: 0.4356, Val Precision: 0.6527, ACC: 0.2884, top_k: 0.3371, top_k=1: 0.2058\n"
     ]
    },
    {
     "name": "stdout",
     "output_type": "stream",
     "text": [
      "Epoch: 572/1000, Loss: 0.4352, Val Precision: 0.6560, ACC: 0.2893, top_k: 0.3372, top_k=1: 0.2058\n"
     ]
    },
    {
     "name": "stdout",
     "output_type": "stream",
     "text": [
      "Epoch: 573/1000, Loss: 0.4358, Val Precision: 0.6580, ACC: 0.2897, top_k: 0.3369, top_k=1: 0.2058\n"
     ]
    },
    {
     "name": "stdout",
     "output_type": "stream",
     "text": [
      "Epoch: 574/1000, Loss: 0.4347, Val Precision: 0.6283, ACC: 0.2832, top_k: 0.3367, top_k=1: 0.2058\n"
     ]
    },
    {
     "name": "stdout",
     "output_type": "stream",
     "text": [
      "Epoch: 575/1000, Loss: 0.4394, Val Precision: 0.6292, ACC: 0.2844, top_k: 0.3371, top_k=1: 0.2058\n"
     ]
    },
    {
     "name": "stdout",
     "output_type": "stream",
     "text": [
      "Epoch: 576/1000, Loss: 0.4380, Val Precision: 0.6558, ACC: 0.2897, top_k: 0.3375, top_k=1: 0.2058\n"
     ]
    },
    {
     "name": "stdout",
     "output_type": "stream",
     "text": [
      "Epoch: 577/1000, Loss: 0.4350, Val Precision: 0.6692, ACC: 0.2898, top_k: 0.3364, top_k=1: 0.2058\n"
     ]
    },
    {
     "name": "stdout",
     "output_type": "stream",
     "text": [
      "Epoch: 578/1000, Loss: 0.4358, Val Precision: 0.6568, ACC: 0.2887, top_k: 0.3372, top_k=1: 0.2058\n"
     ]
    },
    {
     "name": "stdout",
     "output_type": "stream",
     "text": [
      "Epoch: 579/1000, Loss: 0.4345, Val Precision: 0.6325, ACC: 0.2852, top_k: 0.3370, top_k=1: 0.2058\n"
     ]
    },
    {
     "name": "stdout",
     "output_type": "stream",
     "text": [
      "Epoch: 580/1000, Loss: 0.4372, Val Precision: 0.6338, ACC: 0.2864, top_k: 0.3363, top_k=1: 0.2058\n"
     ]
    },
    {
     "name": "stdout",
     "output_type": "stream",
     "text": [
      "Epoch: 581/1000, Loss: 0.4374, Val Precision: 0.6583, ACC: 0.2895, top_k: 0.3367, top_k=1: 0.2058\n"
     ]
    },
    {
     "name": "stdout",
     "output_type": "stream",
     "text": [
      "Epoch: 582/1000, Loss: 0.4354, Val Precision: 0.6697, ACC: 0.2901, top_k: 0.3372, top_k=1: 0.2058\n"
     ]
    },
    {
     "name": "stdout",
     "output_type": "stream",
     "text": [
      "Epoch: 583/1000, Loss: 0.4353, Val Precision: 0.6555, ACC: 0.2878, top_k: 0.3369, top_k=1: 0.2058\n"
     ]
    },
    {
     "name": "stdout",
     "output_type": "stream",
     "text": [
      "Epoch: 584/1000, Loss: 0.4360, Val Precision: 0.6428, ACC: 0.2877, top_k: 0.3373, top_k=1: 0.2058\n"
     ]
    },
    {
     "name": "stdout",
     "output_type": "stream",
     "text": [
      "Epoch: 585/1000, Loss: 0.4350, Val Precision: 0.6474, ACC: 0.2887, top_k: 0.3375, top_k=1: 0.2058\n"
     ]
    },
    {
     "name": "stdout",
     "output_type": "stream",
     "text": [
      "Epoch: 586/1000, Loss: 0.4345, Val Precision: 0.6626, ACC: 0.2895, top_k: 0.3372, top_k=1: 0.2058\n"
     ]
    },
    {
     "name": "stdout",
     "output_type": "stream",
     "text": [
      "Epoch: 587/1000, Loss: 0.4353, Val Precision: 0.6617, ACC: 0.2887, top_k: 0.3381, top_k=1: 0.2058\n"
     ]
    },
    {
     "name": "stdout",
     "output_type": "stream",
     "text": [
      "Epoch: 588/1000, Loss: 0.4349, Val Precision: 0.6506, ACC: 0.2891, top_k: 0.3375, top_k=1: 0.2058\n"
     ]
    },
    {
     "name": "stdout",
     "output_type": "stream",
     "text": [
      "Epoch: 589/1000, Loss: 0.4338, Val Precision: 0.6468, ACC: 0.2884, top_k: 0.3367, top_k=1: 0.2058\n"
     ]
    },
    {
     "name": "stdout",
     "output_type": "stream",
     "text": [
      "Epoch: 590/1000, Loss: 0.4350, Val Precision: 0.6562, ACC: 0.2888, top_k: 0.3374, top_k=1: 0.2058\n"
     ]
    },
    {
     "name": "stdout",
     "output_type": "stream",
     "text": [
      "Epoch: 591/1000, Loss: 0.4339, Val Precision: 0.6580, ACC: 0.2893, top_k: 0.3378, top_k=1: 0.2058\n"
     ]
    },
    {
     "name": "stdout",
     "output_type": "stream",
     "text": [
      "Epoch: 592/1000, Loss: 0.4342, Val Precision: 0.6585, ACC: 0.2897, top_k: 0.3380, top_k=1: 0.2058\n"
     ]
    },
    {
     "name": "stdout",
     "output_type": "stream",
     "text": [
      "Epoch: 593/1000, Loss: 0.4346, Val Precision: 0.6620, ACC: 0.2901, top_k: 0.3375, top_k=1: 0.2058\n"
     ]
    },
    {
     "name": "stdout",
     "output_type": "stream",
     "text": [
      "Epoch: 594/1000, Loss: 0.4332, Val Precision: 0.6386, ACC: 0.2864, top_k: 0.3371, top_k=1: 0.2058\n"
     ]
    },
    {
     "name": "stdout",
     "output_type": "stream",
     "text": [
      "Epoch: 595/1000, Loss: 0.4351, Val Precision: 0.6395, ACC: 0.2857, top_k: 0.3372, top_k=1: 0.2058\n"
     ]
    },
    {
     "name": "stdout",
     "output_type": "stream",
     "text": [
      "Epoch: 596/1000, Loss: 0.4350, Val Precision: 0.6558, ACC: 0.2895, top_k: 0.3380, top_k=1: 0.2058\n"
     ]
    },
    {
     "name": "stdout",
     "output_type": "stream",
     "text": [
      "Epoch: 597/1000, Loss: 0.4329, Val Precision: 0.6626, ACC: 0.2901, top_k: 0.3378, top_k=1: 0.2058\n"
     ]
    },
    {
     "name": "stdout",
     "output_type": "stream",
     "text": [
      "Epoch: 598/1000, Loss: 0.4337, Val Precision: 0.6513, ACC: 0.2897, top_k: 0.3381, top_k=1: 0.2058\n"
     ]
    },
    {
     "name": "stdout",
     "output_type": "stream",
     "text": [
      "Epoch: 599/1000, Loss: 0.4331, Val Precision: 0.6482, ACC: 0.2890, top_k: 0.3381, top_k=1: 0.2058\n"
     ]
    },
    {
     "name": "stdout",
     "output_type": "stream",
     "text": [
      "Epoch: 600/1000, Loss: 0.4332, Val Precision: 0.6573, ACC: 0.2894, top_k: 0.3381, top_k=1: 0.2058\n"
     ]
    },
    {
     "name": "stdout",
     "output_type": "stream",
     "text": [
      "Epoch: 601/1000, Loss: 0.4334, Val Precision: 0.6603, ACC: 0.2898, top_k: 0.3382, top_k=1: 0.2058\n"
     ]
    },
    {
     "name": "stdout",
     "output_type": "stream",
     "text": [
      "Epoch: 602/1000, Loss: 0.4329, Val Precision: 0.6532, ACC: 0.2906, top_k: 0.3382, top_k=1: 0.2058\n"
     ]
    },
    {
     "name": "stdout",
     "output_type": "stream",
     "text": [
      "Epoch: 603/1000, Loss: 0.4329, Val Precision: 0.6505, ACC: 0.2888, top_k: 0.3382, top_k=1: 0.2058\n"
     ]
    },
    {
     "name": "stdout",
     "output_type": "stream",
     "text": [
      "Epoch: 604/1000, Loss: 0.4328, Val Precision: 0.6503, ACC: 0.2881, top_k: 0.3383, top_k=1: 0.2058\n"
     ]
    },
    {
     "name": "stdout",
     "output_type": "stream",
     "text": [
      "Epoch: 605/1000, Loss: 0.4325, Val Precision: 0.6623, ACC: 0.2913, top_k: 0.3384, top_k=1: 0.2058\n"
     ]
    },
    {
     "name": "stdout",
     "output_type": "stream",
     "text": [
      "Epoch: 606/1000, Loss: 0.4326, Val Precision: 0.6556, ACC: 0.2895, top_k: 0.3385, top_k=1: 0.2058\n"
     ]
    },
    {
     "name": "stdout",
     "output_type": "stream",
     "text": [
      "Epoch: 607/1000, Loss: 0.4323, Val Precision: 0.6528, ACC: 0.2891, top_k: 0.3389, top_k=1: 0.2058\n"
     ]
    },
    {
     "name": "stdout",
     "output_type": "stream",
     "text": [
      "Epoch: 608/1000, Loss: 0.4321, Val Precision: 0.6481, ACC: 0.2895, top_k: 0.3377, top_k=1: 0.2058\n"
     ]
    },
    {
     "name": "stdout",
     "output_type": "stream",
     "text": [
      "Epoch: 609/1000, Loss: 0.4322, Val Precision: 0.6563, ACC: 0.2906, top_k: 0.3386, top_k=1: 0.2058\n"
     ]
    },
    {
     "name": "stdout",
     "output_type": "stream",
     "text": [
      "Epoch: 610/1000, Loss: 0.4315, Val Precision: 0.6496, ACC: 0.2868, top_k: 0.3382, top_k=1: 0.2058\n"
     ]
    },
    {
     "name": "stdout",
     "output_type": "stream",
     "text": [
      "Epoch: 611/1000, Loss: 0.4327, Val Precision: 0.6569, ACC: 0.2885, top_k: 0.3383, top_k=1: 0.2058\n"
     ]
    },
    {
     "name": "stdout",
     "output_type": "stream",
     "text": [
      "Epoch: 612/1000, Loss: 0.4319, Val Precision: 0.6567, ACC: 0.2904, top_k: 0.3376, top_k=1: 0.2058\n"
     ]
    },
    {
     "name": "stdout",
     "output_type": "stream",
     "text": [
      "Epoch: 613/1000, Loss: 0.4324, Val Precision: 0.6541, ACC: 0.2906, top_k: 0.3376, top_k=1: 0.2058\n"
     ]
    },
    {
     "name": "stdout",
     "output_type": "stream",
     "text": [
      "Epoch: 614/1000, Loss: 0.4325, Val Precision: 0.6506, ACC: 0.2898, top_k: 0.3388, top_k=1: 0.2058\n"
     ]
    },
    {
     "name": "stdout",
     "output_type": "stream",
     "text": [
      "Epoch: 615/1000, Loss: 0.4316, Val Precision: 0.6539, ACC: 0.2874, top_k: 0.3388, top_k=1: 0.2058\n"
     ]
    },
    {
     "name": "stdout",
     "output_type": "stream",
     "text": [
      "Epoch: 616/1000, Loss: 0.4318, Val Precision: 0.6611, ACC: 0.2906, top_k: 0.3382, top_k=1: 0.2058\n"
     ]
    },
    {
     "name": "stdout",
     "output_type": "stream",
     "text": [
      "Epoch: 617/1000, Loss: 0.4312, Val Precision: 0.6519, ACC: 0.2904, top_k: 0.3382, top_k=1: 0.2058\n"
     ]
    },
    {
     "name": "stdout",
     "output_type": "stream",
     "text": [
      "Epoch: 618/1000, Loss: 0.4315, Val Precision: 0.6545, ACC: 0.2895, top_k: 0.3387, top_k=1: 0.2058\n"
     ]
    },
    {
     "name": "stdout",
     "output_type": "stream",
     "text": [
      "Epoch: 619/1000, Loss: 0.4312, Val Precision: 0.6595, ACC: 0.2891, top_k: 0.3391, top_k=1: 0.2058\n"
     ]
    },
    {
     "name": "stdout",
     "output_type": "stream",
     "text": [
      "Epoch: 620/1000, Loss: 0.4310, Val Precision: 0.6507, ACC: 0.2888, top_k: 0.3387, top_k=1: 0.2058\n"
     ]
    },
    {
     "name": "stdout",
     "output_type": "stream",
     "text": [
      "Epoch: 621/1000, Loss: 0.4309, Val Precision: 0.6568, ACC: 0.2916, top_k: 0.3384, top_k=1: 0.2058\n"
     ]
    },
    {
     "name": "stdout",
     "output_type": "stream",
     "text": [
      "Epoch: 622/1000, Loss: 0.4310, Val Precision: 0.6594, ACC: 0.2897, top_k: 0.3391, top_k=1: 0.2058\n"
     ]
    },
    {
     "name": "stdout",
     "output_type": "stream",
     "text": [
      "Epoch: 623/1000, Loss: 0.4306, Val Precision: 0.6498, ACC: 0.2878, top_k: 0.3391, top_k=1: 0.2058\n"
     ]
    },
    {
     "name": "stdout",
     "output_type": "stream",
     "text": [
      "Epoch: 624/1000, Loss: 0.4314, Val Precision: 0.6519, ACC: 0.2900, top_k: 0.3384, top_k=1: 0.2058\n"
     ]
    },
    {
     "name": "stdout",
     "output_type": "stream",
     "text": [
      "Epoch: 625/1000, Loss: 0.4310, Val Precision: 0.6599, ACC: 0.2908, top_k: 0.3393, top_k=1: 0.2058\n"
     ]
    },
    {
     "name": "stdout",
     "output_type": "stream",
     "text": [
      "Epoch: 626/1000, Loss: 0.4306, Val Precision: 0.6558, ACC: 0.2884, top_k: 0.3390, top_k=1: 0.2058\n"
     ]
    },
    {
     "name": "stdout",
     "output_type": "stream",
     "text": [
      "Epoch: 627/1000, Loss: 0.4307, Val Precision: 0.6547, ACC: 0.2906, top_k: 0.3391, top_k=1: 0.2058\n"
     ]
    },
    {
     "name": "stdout",
     "output_type": "stream",
     "text": [
      "Epoch: 628/1000, Loss: 0.4300, Val Precision: 0.6610, ACC: 0.2885, top_k: 0.3386, top_k=1: 0.2058\n"
     ]
    },
    {
     "name": "stdout",
     "output_type": "stream",
     "text": [
      "Epoch: 629/1000, Loss: 0.4312, Val Precision: 0.6614, ACC: 0.2897, top_k: 0.3389, top_k=1: 0.2058\n"
     ]
    },
    {
     "name": "stdout",
     "output_type": "stream",
     "text": [
      "Epoch: 630/1000, Loss: 0.4306, Val Precision: 0.6495, ACC: 0.2893, top_k: 0.3388, top_k=1: 0.2058\n"
     ]
    },
    {
     "name": "stdout",
     "output_type": "stream",
     "text": [
      "Epoch: 631/1000, Loss: 0.4307, Val Precision: 0.6479, ACC: 0.2893, top_k: 0.3386, top_k=1: 0.2058\n"
     ]
    },
    {
     "name": "stdout",
     "output_type": "stream",
     "text": [
      "Epoch: 632/1000, Loss: 0.4308, Val Precision: 0.6613, ACC: 0.2908, top_k: 0.3385, top_k=1: 0.2058\n"
     ]
    },
    {
     "name": "stdout",
     "output_type": "stream",
     "text": [
      "Epoch: 633/1000, Loss: 0.4301, Val Precision: 0.6601, ACC: 0.2891, top_k: 0.3392, top_k=1: 0.2058\n"
     ]
    },
    {
     "name": "stdout",
     "output_type": "stream",
     "text": [
      "Epoch: 634/1000, Loss: 0.4303, Val Precision: 0.6538, ACC: 0.2891, top_k: 0.3392, top_k=1: 0.2058\n"
     ]
    },
    {
     "name": "stdout",
     "output_type": "stream",
     "text": [
      "Epoch: 635/1000, Loss: 0.4298, Val Precision: 0.6559, ACC: 0.2918, top_k: 0.3389, top_k=1: 0.2058\n"
     ]
    },
    {
     "name": "stdout",
     "output_type": "stream",
     "text": [
      "Epoch: 636/1000, Loss: 0.4296, Val Precision: 0.6544, ACC: 0.2885, top_k: 0.3390, top_k=1: 0.2058\n"
     ]
    },
    {
     "name": "stdout",
     "output_type": "stream",
     "text": [
      "Epoch: 637/1000, Loss: 0.4299, Val Precision: 0.6598, ACC: 0.2888, top_k: 0.3393, top_k=1: 0.2058\n"
     ]
    },
    {
     "name": "stdout",
     "output_type": "stream",
     "text": [
      "Epoch: 638/1000, Loss: 0.4295, Val Precision: 0.6512, ACC: 0.2887, top_k: 0.3396, top_k=1: 0.2058\n"
     ]
    },
    {
     "name": "stdout",
     "output_type": "stream",
     "text": [
      "Epoch: 639/1000, Loss: 0.4301, Val Precision: 0.6525, ACC: 0.2907, top_k: 0.3392, top_k=1: 0.2058\n"
     ]
    },
    {
     "name": "stdout",
     "output_type": "stream",
     "text": [
      "Epoch: 640/1000, Loss: 0.4295, Val Precision: 0.6626, ACC: 0.2900, top_k: 0.3389, top_k=1: 0.2058\n"
     ]
    },
    {
     "name": "stdout",
     "output_type": "stream",
     "text": [
      "Epoch: 641/1000, Loss: 0.4302, Val Precision: 0.6602, ACC: 0.2888, top_k: 0.3387, top_k=1: 0.2058\n"
     ]
    },
    {
     "name": "stdout",
     "output_type": "stream",
     "text": [
      "Epoch: 642/1000, Loss: 0.4301, Val Precision: 0.6519, ACC: 0.2893, top_k: 0.3396, top_k=1: 0.2058\n"
     ]
    },
    {
     "name": "stdout",
     "output_type": "stream",
     "text": [
      "Epoch: 643/1000, Loss: 0.4293, Val Precision: 0.6566, ACC: 0.2895, top_k: 0.3394, top_k=1: 0.2058\n"
     ]
    },
    {
     "name": "stdout",
     "output_type": "stream",
     "text": [
      "Epoch: 644/1000, Loss: 0.4304, Val Precision: 0.6621, ACC: 0.2908, top_k: 0.3394, top_k=1: 0.2058\n"
     ]
    },
    {
     "name": "stdout",
     "output_type": "stream",
     "text": [
      "Epoch: 645/1000, Loss: 0.4299, Val Precision: 0.6595, ACC: 0.2897, top_k: 0.3392, top_k=1: 0.2058\n"
     ]
    },
    {
     "name": "stdout",
     "output_type": "stream",
     "text": [
      "Epoch: 646/1000, Loss: 0.4292, Val Precision: 0.6466, ACC: 0.2875, top_k: 0.3391, top_k=1: 0.2058\n"
     ]
    },
    {
     "name": "stdout",
     "output_type": "stream",
     "text": [
      "Epoch: 647/1000, Loss: 0.4307, Val Precision: 0.6509, ACC: 0.2895, top_k: 0.3399, top_k=1: 0.2058\n"
     ]
    },
    {
     "name": "stdout",
     "output_type": "stream",
     "text": [
      "Epoch: 648/1000, Loss: 0.4287, Val Precision: 0.6622, ACC: 0.2897, top_k: 0.3391, top_k=1: 0.2058\n"
     ]
    },
    {
     "name": "stdout",
     "output_type": "stream",
     "text": [
      "Epoch: 649/1000, Loss: 0.4306, Val Precision: 0.6638, ACC: 0.2897, top_k: 0.3387, top_k=1: 0.2058\n"
     ]
    },
    {
     "name": "stdout",
     "output_type": "stream",
     "text": [
      "Epoch: 650/1000, Loss: 0.4312, Val Precision: 0.6633, ACC: 0.2914, top_k: 0.3393, top_k=1: 0.2058\n"
     ]
    },
    {
     "name": "stdout",
     "output_type": "stream",
     "text": [
      "Epoch: 651/1000, Loss: 0.4290, Val Precision: 0.6431, ACC: 0.2878, top_k: 0.3393, top_k=1: 0.2058\n"
     ]
    },
    {
     "name": "stdout",
     "output_type": "stream",
     "text": [
      "Epoch: 652/1000, Loss: 0.4303, Val Precision: 0.6455, ACC: 0.2878, top_k: 0.3391, top_k=1: 0.2058\n"
     ]
    },
    {
     "name": "stdout",
     "output_type": "stream",
     "text": [
      "Epoch: 653/1000, Loss: 0.4307, Val Precision: 0.6562, ACC: 0.2891, top_k: 0.3401, top_k=1: 0.2058\n"
     ]
    },
    {
     "name": "stdout",
     "output_type": "stream",
     "text": [
      "Epoch: 654/1000, Loss: 0.4288, Val Precision: 0.6636, ACC: 0.2910, top_k: 0.3392, top_k=1: 0.2058\n"
     ]
    },
    {
     "name": "stdout",
     "output_type": "stream",
     "text": [
      "Epoch: 655/1000, Loss: 0.4293, Val Precision: 0.6610, ACC: 0.2910, top_k: 0.3390, top_k=1: 0.2058\n"
     ]
    },
    {
     "name": "stdout",
     "output_type": "stream",
     "text": [
      "Epoch: 656/1000, Loss: 0.4299, Val Precision: 0.6567, ACC: 0.2906, top_k: 0.3393, top_k=1: 0.2058\n"
     ]
    },
    {
     "name": "stdout",
     "output_type": "stream",
     "text": [
      "Epoch: 657/1000, Loss: 0.4290, Val Precision: 0.6575, ACC: 0.2895, top_k: 0.3401, top_k=1: 0.2058\n"
     ]
    },
    {
     "name": "stdout",
     "output_type": "stream",
     "text": [
      "Epoch: 658/1000, Loss: 0.4283, Val Precision: 0.6534, ACC: 0.2888, top_k: 0.3403, top_k=1: 0.2058\n"
     ]
    },
    {
     "name": "stdout",
     "output_type": "stream",
     "text": [
      "Epoch: 659/1000, Loss: 0.4288, Val Precision: 0.6533, ACC: 0.2898, top_k: 0.3403, top_k=1: 0.2058\n"
     ]
    },
    {
     "name": "stdout",
     "output_type": "stream",
     "text": [
      "Epoch: 660/1000, Loss: 0.4277, Val Precision: 0.6572, ACC: 0.2903, top_k: 0.3389, top_k=1: 0.2058\n"
     ]
    },
    {
     "name": "stdout",
     "output_type": "stream",
     "text": [
      "Epoch: 661/1000, Loss: 0.4296, Val Precision: 0.6635, ACC: 0.2910, top_k: 0.3394, top_k=1: 0.2058\n"
     ]
    },
    {
     "name": "stdout",
     "output_type": "stream",
     "text": [
      "Epoch: 662/1000, Loss: 0.4293, Val Precision: 0.6640, ACC: 0.2923, top_k: 0.3405, top_k=1: 0.2058\n"
     ]
    },
    {
     "name": "stdout",
     "output_type": "stream",
     "text": [
      "Epoch: 663/1000, Loss: 0.4278, Val Precision: 0.6368, ACC: 0.2870, top_k: 0.3406, top_k=1: 0.2058\n"
     ]
    },
    {
     "name": "stdout",
     "output_type": "stream",
     "text": [
      "Epoch: 664/1000, Loss: 0.4291, Val Precision: 0.6383, ACC: 0.2874, top_k: 0.3403, top_k=1: 0.2058\n"
     ]
    },
    {
     "name": "stdout",
     "output_type": "stream",
     "text": [
      "Epoch: 665/1000, Loss: 0.4292, Val Precision: 0.6599, ACC: 0.2900, top_k: 0.3402, top_k=1: 0.2058\n"
     ]
    },
    {
     "name": "stdout",
     "output_type": "stream",
     "text": [
      "Epoch: 666/1000, Loss: 0.4277, Val Precision: 0.6697, ACC: 0.2929, top_k: 0.3396, top_k=1: 0.2058\n"
     ]
    },
    {
     "name": "stdout",
     "output_type": "stream",
     "text": [
      "Epoch: 667/1000, Loss: 0.4280, Val Precision: 0.6558, ACC: 0.2910, top_k: 0.3402, top_k=1: 0.2058\n"
     ]
    },
    {
     "name": "stdout",
     "output_type": "stream",
     "text": [
      "Epoch: 668/1000, Loss: 0.4283, Val Precision: 0.6555, ACC: 0.2897, top_k: 0.3403, top_k=1: 0.2058\n"
     ]
    },
    {
     "name": "stdout",
     "output_type": "stream",
     "text": [
      "Epoch: 669/1000, Loss: 0.4274, Val Precision: 0.6594, ACC: 0.2911, top_k: 0.3395, top_k=1: 0.2058\n"
     ]
    },
    {
     "name": "stdout",
     "output_type": "stream",
     "text": [
      "Epoch: 670/1000, Loss: 0.4281, Val Precision: 0.6609, ACC: 0.2904, top_k: 0.3394, top_k=1: 0.2058\n"
     ]
    },
    {
     "name": "stdout",
     "output_type": "stream",
     "text": [
      "Epoch: 671/1000, Loss: 0.4284, Val Precision: 0.6570, ACC: 0.2906, top_k: 0.3407, top_k=1: 0.2058\n"
     ]
    },
    {
     "name": "stdout",
     "output_type": "stream",
     "text": [
      "Epoch: 672/1000, Loss: 0.4268, Val Precision: 0.6517, ACC: 0.2891, top_k: 0.3408, top_k=1: 0.2058\n"
     ]
    },
    {
     "name": "stdout",
     "output_type": "stream",
     "text": [
      "Epoch: 673/1000, Loss: 0.4286, Val Precision: 0.6592, ACC: 0.2916, top_k: 0.3405, top_k=1: 0.2058\n"
     ]
    },
    {
     "name": "stdout",
     "output_type": "stream",
     "text": [
      "Epoch: 674/1000, Loss: 0.4278, Val Precision: 0.6723, ACC: 0.2927, top_k: 0.3394, top_k=1: 0.2058\n"
     ]
    },
    {
     "name": "stdout",
     "output_type": "stream",
     "text": [
      "Epoch: 675/1000, Loss: 0.4282, Val Precision: 0.6650, ACC: 0.2914, top_k: 0.3401, top_k=1: 0.2058\n"
     ]
    },
    {
     "name": "stdout",
     "output_type": "stream",
     "text": [
      "Epoch: 676/1000, Loss: 0.4278, Val Precision: 0.6461, ACC: 0.2888, top_k: 0.3405, top_k=1: 0.2058\n"
     ]
    },
    {
     "name": "stdout",
     "output_type": "stream",
     "text": [
      "Epoch: 677/1000, Loss: 0.4277, Val Precision: 0.6477, ACC: 0.2880, top_k: 0.3410, top_k=1: 0.2058\n"
     ]
    },
    {
     "name": "stdout",
     "output_type": "stream",
     "text": [
      "Epoch: 678/1000, Loss: 0.4279, Val Precision: 0.6652, ACC: 0.2911, top_k: 0.3405, top_k=1: 0.2058\n"
     ]
    },
    {
     "name": "stdout",
     "output_type": "stream",
     "text": [
      "Epoch: 679/1000, Loss: 0.4266, Val Precision: 0.6631, ACC: 0.2918, top_k: 0.3403, top_k=1: 0.2058\n"
     ]
    },
    {
     "name": "stdout",
     "output_type": "stream",
     "text": [
      "Epoch: 680/1000, Loss: 0.4271, Val Precision: 0.6556, ACC: 0.2917, top_k: 0.3410, top_k=1: 0.2058\n"
     ]
    },
    {
     "name": "stdout",
     "output_type": "stream",
     "text": [
      "Epoch: 681/1000, Loss: 0.4265, Val Precision: 0.6589, ACC: 0.2880, top_k: 0.3405, top_k=1: 0.2058\n"
     ]
    },
    {
     "name": "stdout",
     "output_type": "stream",
     "text": [
      "Epoch: 682/1000, Loss: 0.4273, Val Precision: 0.6610, ACC: 0.2904, top_k: 0.3405, top_k=1: 0.2058\n"
     ]
    },
    {
     "name": "stdout",
     "output_type": "stream",
     "text": [
      "Epoch: 683/1000, Loss: 0.4266, Val Precision: 0.6565, ACC: 0.2911, top_k: 0.3407, top_k=1: 0.2058\n"
     ]
    },
    {
     "name": "stdout",
     "output_type": "stream",
     "text": [
      "Epoch: 684/1000, Loss: 0.4273, Val Precision: 0.6584, ACC: 0.2921, top_k: 0.3404, top_k=1: 0.2058\n"
     ]
    },
    {
     "name": "stdout",
     "output_type": "stream",
     "text": [
      "Epoch: 685/1000, Loss: 0.4272, Val Precision: 0.6674, ACC: 0.2917, top_k: 0.3401, top_k=1: 0.2058\n"
     ]
    },
    {
     "name": "stdout",
     "output_type": "stream",
     "text": [
      "Epoch: 686/1000, Loss: 0.4265, Val Precision: 0.6586, ACC: 0.2890, top_k: 0.3408, top_k=1: 0.2058\n"
     ]
    },
    {
     "name": "stdout",
     "output_type": "stream",
     "text": [
      "Epoch: 687/1000, Loss: 0.4266, Val Precision: 0.6508, ACC: 0.2906, top_k: 0.3410, top_k=1: 0.2058\n"
     ]
    },
    {
     "name": "stdout",
     "output_type": "stream",
     "text": [
      "Epoch: 688/1000, Loss: 0.4265, Val Precision: 0.6579, ACC: 0.2916, top_k: 0.3412, top_k=1: 0.2058\n"
     ]
    },
    {
     "name": "stdout",
     "output_type": "stream",
     "text": [
      "Epoch: 689/1000, Loss: 0.4262, Val Precision: 0.6692, ACC: 0.2920, top_k: 0.3401, top_k=1: 0.2058\n"
     ]
    },
    {
     "name": "stdout",
     "output_type": "stream",
     "text": [
      "Epoch: 690/1000, Loss: 0.4267, Val Precision: 0.6631, ACC: 0.2901, top_k: 0.3405, top_k=1: 0.2058\n"
     ]
    },
    {
     "name": "stdout",
     "output_type": "stream",
     "text": [
      "Epoch: 691/1000, Loss: 0.4267, Val Precision: 0.6546, ACC: 0.2917, top_k: 0.3411, top_k=1: 0.2058\n"
     ]
    },
    {
     "name": "stdout",
     "output_type": "stream",
     "text": [
      "Epoch: 692/1000, Loss: 0.4260, Val Precision: 0.6567, ACC: 0.2914, top_k: 0.3412, top_k=1: 0.2058\n"
     ]
    },
    {
     "name": "stdout",
     "output_type": "stream",
     "text": [
      "Epoch: 693/1000, Loss: 0.4262, Val Precision: 0.6665, ACC: 0.2910, top_k: 0.3408, top_k=1: 0.2058\n"
     ]
    },
    {
     "name": "stdout",
     "output_type": "stream",
     "text": [
      "Epoch: 694/1000, Loss: 0.4259, Val Precision: 0.6594, ACC: 0.2901, top_k: 0.3410, top_k=1: 0.2058\n"
     ]
    },
    {
     "name": "stdout",
     "output_type": "stream",
     "text": [
      "Epoch: 695/1000, Loss: 0.4259, Val Precision: 0.6546, ACC: 0.2918, top_k: 0.3407, top_k=1: 0.2058\n"
     ]
    },
    {
     "name": "stdout",
     "output_type": "stream",
     "text": [
      "Epoch: 696/1000, Loss: 0.4259, Val Precision: 0.6634, ACC: 0.2924, top_k: 0.3412, top_k=1: 0.2058\n"
     ]
    },
    {
     "name": "stdout",
     "output_type": "stream",
     "text": [
      "Epoch: 697/1000, Loss: 0.4256, Val Precision: 0.6607, ACC: 0.2895, top_k: 0.3411, top_k=1: 0.2058\n"
     ]
    },
    {
     "name": "stdout",
     "output_type": "stream",
     "text": [
      "Epoch: 698/1000, Loss: 0.4258, Val Precision: 0.6553, ACC: 0.2904, top_k: 0.3412, top_k=1: 0.2058\n"
     ]
    },
    {
     "name": "stdout",
     "output_type": "stream",
     "text": [
      "Epoch: 699/1000, Loss: 0.4255, Val Precision: 0.6608, ACC: 0.2920, top_k: 0.3411, top_k=1: 0.2058\n"
     ]
    },
    {
     "name": "stdout",
     "output_type": "stream",
     "text": [
      "Epoch: 700/1000, Loss: 0.4257, Val Precision: 0.6648, ACC: 0.2929, top_k: 0.3407, top_k=1: 0.2058\n"
     ]
    },
    {
     "name": "stdout",
     "output_type": "stream",
     "text": [
      "Epoch: 701/1000, Loss: 0.4254, Val Precision: 0.6560, ACC: 0.2901, top_k: 0.3414, top_k=1: 0.2058\n"
     ]
    },
    {
     "name": "stdout",
     "output_type": "stream",
     "text": [
      "Epoch: 702/1000, Loss: 0.4256, Val Precision: 0.6576, ACC: 0.2901, top_k: 0.3414, top_k=1: 0.2058\n"
     ]
    },
    {
     "name": "stdout",
     "output_type": "stream",
     "text": [
      "Epoch: 703/1000, Loss: 0.4253, Val Precision: 0.6651, ACC: 0.2924, top_k: 0.3409, top_k=1: 0.2058\n"
     ]
    },
    {
     "name": "stdout",
     "output_type": "stream",
     "text": [
      "Epoch: 704/1000, Loss: 0.4256, Val Precision: 0.6637, ACC: 0.2931, top_k: 0.3407, top_k=1: 0.2058\n"
     ]
    },
    {
     "name": "stdout",
     "output_type": "stream",
     "text": [
      "Epoch: 705/1000, Loss: 0.4255, Val Precision: 0.6579, ACC: 0.2914, top_k: 0.3413, top_k=1: 0.2058\n"
     ]
    },
    {
     "name": "stdout",
     "output_type": "stream",
     "text": [
      "Epoch: 706/1000, Loss: 0.4253, Val Precision: 0.6590, ACC: 0.2897, top_k: 0.3414, top_k=1: 0.2058\n"
     ]
    },
    {
     "name": "stdout",
     "output_type": "stream",
     "text": [
      "Epoch: 707/1000, Loss: 0.4258, Val Precision: 0.6639, ACC: 0.2907, top_k: 0.3419, top_k=1: 0.2058\n"
     ]
    },
    {
     "name": "stdout",
     "output_type": "stream",
     "text": [
      "Epoch: 708/1000, Loss: 0.4247, Val Precision: 0.6576, ACC: 0.2923, top_k: 0.3407, top_k=1: 0.2058\n"
     ]
    },
    {
     "name": "stdout",
     "output_type": "stream",
     "text": [
      "Epoch: 709/1000, Loss: 0.4257, Val Precision: 0.6608, ACC: 0.2931, top_k: 0.3410, top_k=1: 0.2058\n"
     ]
    },
    {
     "name": "stdout",
     "output_type": "stream",
     "text": [
      "Epoch: 710/1000, Loss: 0.4256, Val Precision: 0.6672, ACC: 0.2926, top_k: 0.3408, top_k=1: 0.2058\n"
     ]
    },
    {
     "name": "stdout",
     "output_type": "stream",
     "text": [
      "Epoch: 711/1000, Loss: 0.4249, Val Precision: 0.6625, ACC: 0.2898, top_k: 0.3417, top_k=1: 0.2058\n"
     ]
    },
    {
     "name": "stdout",
     "output_type": "stream",
     "text": [
      "Epoch: 712/1000, Loss: 0.4253, Val Precision: 0.6546, ACC: 0.2901, top_k: 0.3419, top_k=1: 0.2058\n"
     ]
    },
    {
     "name": "stdout",
     "output_type": "stream",
     "text": [
      "Epoch: 713/1000, Loss: 0.4247, Val Precision: 0.6587, ACC: 0.2926, top_k: 0.3413, top_k=1: 0.2058\n"
     ]
    },
    {
     "name": "stdout",
     "output_type": "stream",
     "text": [
      "Epoch: 714/1000, Loss: 0.4246, Val Precision: 0.6704, ACC: 0.2939, top_k: 0.3410, top_k=1: 0.2058\n"
     ]
    },
    {
     "name": "stdout",
     "output_type": "stream",
     "text": [
      "Epoch: 715/1000, Loss: 0.4251, Val Precision: 0.6657, ACC: 0.2921, top_k: 0.3415, top_k=1: 0.2058\n"
     ]
    },
    {
     "name": "stdout",
     "output_type": "stream",
     "text": [
      "Epoch: 716/1000, Loss: 0.4241, Val Precision: 0.6394, ACC: 0.2878, top_k: 0.3420, top_k=1: 0.2058\n"
     ]
    },
    {
     "name": "stdout",
     "output_type": "stream",
     "text": [
      "Epoch: 717/1000, Loss: 0.4262, Val Precision: 0.6367, ACC: 0.2877, top_k: 0.3422, top_k=1: 0.2058\n"
     ]
    },
    {
     "name": "stdout",
     "output_type": "stream",
     "text": [
      "Epoch: 718/1000, Loss: 0.4267, Val Precision: 0.6577, ACC: 0.2904, top_k: 0.3421, top_k=1: 0.2058\n"
     ]
    },
    {
     "name": "stdout",
     "output_type": "stream",
     "text": [
      "Epoch: 719/1000, Loss: 0.4237, Val Precision: 0.6836, ACC: 0.2951, top_k: 0.3402, top_k=1: 0.2058\n"
     ]
    },
    {
     "name": "stdout",
     "output_type": "stream",
     "text": [
      "Epoch: 720/1000, Loss: 0.4274, Val Precision: 0.6875, ACC: 0.2949, top_k: 0.3396, top_k=1: 0.2058\n"
     ]
    },
    {
     "name": "stdout",
     "output_type": "stream",
     "text": [
      "Epoch: 721/1000, Loss: 0.4295, Val Precision: 0.6730, ACC: 0.2937, top_k: 0.3402, top_k=1: 0.2058\n"
     ]
    },
    {
     "name": "stdout",
     "output_type": "stream",
     "text": [
      "Epoch: 722/1000, Loss: 0.4271, Val Precision: 0.6531, ACC: 0.2907, top_k: 0.3415, top_k=1: 0.2058\n"
     ]
    },
    {
     "name": "stdout",
     "output_type": "stream",
     "text": [
      "Epoch: 723/1000, Loss: 0.4249, Val Precision: 0.6440, ACC: 0.2877, top_k: 0.3422, top_k=1: 0.2058\n"
     ]
    },
    {
     "name": "stdout",
     "output_type": "stream",
     "text": [
      "Epoch: 724/1000, Loss: 0.4266, Val Precision: 0.6524, ACC: 0.2884, top_k: 0.3416, top_k=1: 0.2058\n"
     ]
    },
    {
     "name": "stdout",
     "output_type": "stream",
     "text": [
      "Epoch: 725/1000, Loss: 0.4286, Val Precision: 0.6641, ACC: 0.2906, top_k: 0.3416, top_k=1: 0.2058\n"
     ]
    },
    {
     "name": "stdout",
     "output_type": "stream",
     "text": [
      "Epoch: 726/1000, Loss: 0.4261, Val Precision: 0.6709, ACC: 0.2939, top_k: 0.3414, top_k=1: 0.2058\n"
     ]
    },
    {
     "name": "stdout",
     "output_type": "stream",
     "text": [
      "Epoch: 727/1000, Loss: 0.4242, Val Precision: 0.6597, ACC: 0.2924, top_k: 0.3414, top_k=1: 0.2058\n"
     ]
    },
    {
     "name": "stdout",
     "output_type": "stream",
     "text": [
      "Epoch: 728/1000, Loss: 0.4256, Val Precision: 0.6571, ACC: 0.2916, top_k: 0.3410, top_k=1: 0.2058\n"
     ]
    },
    {
     "name": "stdout",
     "output_type": "stream",
     "text": [
      "Epoch: 729/1000, Loss: 0.4255, Val Precision: 0.6653, ACC: 0.2926, top_k: 0.3412, top_k=1: 0.2058\n"
     ]
    },
    {
     "name": "stdout",
     "output_type": "stream",
     "text": [
      "Epoch: 730/1000, Loss: 0.4244, Val Precision: 0.6666, ACC: 0.2917, top_k: 0.3417, top_k=1: 0.2058\n"
     ]
    },
    {
     "name": "stdout",
     "output_type": "stream",
     "text": [
      "Epoch: 731/1000, Loss: 0.4239, Val Precision: 0.6564, ACC: 0.2910, top_k: 0.3415, top_k=1: 0.2058\n"
     ]
    },
    {
     "name": "stdout",
     "output_type": "stream",
     "text": [
      "Epoch: 732/1000, Loss: 0.4245, Val Precision: 0.6525, ACC: 0.2908, top_k: 0.3416, top_k=1: 0.2058\n"
     ]
    },
    {
     "name": "stdout",
     "output_type": "stream",
     "text": [
      "Epoch: 733/1000, Loss: 0.4243, Val Precision: 0.6648, ACC: 0.2923, top_k: 0.3417, top_k=1: 0.2058\n"
     ]
    },
    {
     "name": "stdout",
     "output_type": "stream",
     "text": [
      "Epoch: 734/1000, Loss: 0.4233, Val Precision: 0.6666, ACC: 0.2929, top_k: 0.3410, top_k=1: 0.2058\n"
     ]
    },
    {
     "name": "stdout",
     "output_type": "stream",
     "text": [
      "Epoch: 735/1000, Loss: 0.4249, Val Precision: 0.6660, ACC: 0.2918, top_k: 0.3412, top_k=1: 0.2058\n"
     ]
    },
    {
     "name": "stdout",
     "output_type": "stream",
     "text": [
      "Epoch: 736/1000, Loss: 0.4249, Val Precision: 0.6646, ACC: 0.2929, top_k: 0.3422, top_k=1: 0.2058\n"
     ]
    },
    {
     "name": "stdout",
     "output_type": "stream",
     "text": [
      "Epoch: 737/1000, Loss: 0.4228, Val Precision: 0.6491, ACC: 0.2881, top_k: 0.3416, top_k=1: 0.2058\n"
     ]
    },
    {
     "name": "stdout",
     "output_type": "stream",
     "text": [
      "Epoch: 738/1000, Loss: 0.4278, Val Precision: 0.6527, ACC: 0.2885, top_k: 0.3413, top_k=1: 0.2058\n"
     ]
    },
    {
     "name": "stdout",
     "output_type": "stream",
     "text": [
      "Epoch: 739/1000, Loss: 0.4286, Val Precision: 0.6667, ACC: 0.2926, top_k: 0.3419, top_k=1: 0.2058\n"
     ]
    },
    {
     "name": "stdout",
     "output_type": "stream",
     "text": [
      "Epoch: 740/1000, Loss: 0.4243, Val Precision: 0.6669, ACC: 0.2930, top_k: 0.3407, top_k=1: 0.2058\n"
     ]
    },
    {
     "name": "stdout",
     "output_type": "stream",
     "text": [
      "Epoch: 741/1000, Loss: 0.4261, Val Precision: 0.6641, ACC: 0.2926, top_k: 0.3393, top_k=1: 0.2058\n"
     ]
    },
    {
     "name": "stdout",
     "output_type": "stream",
     "text": [
      "Epoch: 742/1000, Loss: 0.4284, Val Precision: 0.6680, ACC: 0.2931, top_k: 0.3408, top_k=1: 0.2058\n"
     ]
    },
    {
     "name": "stdout",
     "output_type": "stream",
     "text": [
      "Epoch: 743/1000, Loss: 0.4248, Val Precision: 0.6620, ACC: 0.2920, top_k: 0.3421, top_k=1: 0.2058\n"
     ]
    },
    {
     "name": "stdout",
     "output_type": "stream",
     "text": [
      "Epoch: 744/1000, Loss: 0.4240, Val Precision: 0.6619, ACC: 0.2917, top_k: 0.3420, top_k=1: 0.2058\n"
     ]
    },
    {
     "name": "stdout",
     "output_type": "stream",
     "text": [
      "Epoch: 745/1000, Loss: 0.4249, Val Precision: 0.6598, ACC: 0.2920, top_k: 0.3421, top_k=1: 0.2058\n"
     ]
    },
    {
     "name": "stdout",
     "output_type": "stream",
     "text": [
      "Epoch: 746/1000, Loss: 0.4242, Val Precision: 0.6652, ACC: 0.2930, top_k: 0.3413, top_k=1: 0.2058\n"
     ]
    },
    {
     "name": "stdout",
     "output_type": "stream",
     "text": [
      "Epoch: 747/1000, Loss: 0.4234, Val Precision: 0.6648, ACC: 0.2931, top_k: 0.3416, top_k=1: 0.2058\n"
     ]
    },
    {
     "name": "stdout",
     "output_type": "stream",
     "text": [
      "Epoch: 748/1000, Loss: 0.4242, Val Precision: 0.6635, ACC: 0.2929, top_k: 0.3421, top_k=1: 0.2058\n"
     ]
    },
    {
     "name": "stdout",
     "output_type": "stream",
     "text": [
      "Epoch: 749/1000, Loss: 0.4238, Val Precision: 0.6626, ACC: 0.2907, top_k: 0.3423, top_k=1: 0.2058\n"
     ]
    },
    {
     "name": "stdout",
     "output_type": "stream",
     "text": [
      "Epoch: 750/1000, Loss: 0.4233, Val Precision: 0.6585, ACC: 0.2900, top_k: 0.3411, top_k=1: 0.2058\n"
     ]
    },
    {
     "name": "stdout",
     "output_type": "stream",
     "text": [
      "Epoch: 751/1000, Loss: 0.4242, Val Precision: 0.6668, ACC: 0.2926, top_k: 0.3418, top_k=1: 0.2058\n"
     ]
    },
    {
     "name": "stdout",
     "output_type": "stream",
     "text": [
      "Epoch: 752/1000, Loss: 0.4228, Val Precision: 0.6643, ACC: 0.2929, top_k: 0.3420, top_k=1: 0.2058\n"
     ]
    },
    {
     "name": "stdout",
     "output_type": "stream",
     "text": [
      "Epoch: 753/1000, Loss: 0.4237, Val Precision: 0.6618, ACC: 0.2931, top_k: 0.3423, top_k=1: 0.2058\n"
     ]
    },
    {
     "name": "stdout",
     "output_type": "stream",
     "text": [
      "Epoch: 754/1000, Loss: 0.4234, Val Precision: 0.6606, ACC: 0.2913, top_k: 0.3420, top_k=1: 0.2058\n"
     ]
    },
    {
     "name": "stdout",
     "output_type": "stream",
     "text": [
      "Epoch: 755/1000, Loss: 0.4226, Val Precision: 0.6699, ACC: 0.2923, top_k: 0.3415, top_k=1: 0.2058\n"
     ]
    },
    {
     "name": "stdout",
     "output_type": "stream",
     "text": [
      "Epoch: 756/1000, Loss: 0.4230, Val Precision: 0.6643, ACC: 0.2916, top_k: 0.3426, top_k=1: 0.2058\n"
     ]
    },
    {
     "name": "stdout",
     "output_type": "stream",
     "text": [
      "Epoch: 757/1000, Loss: 0.4224, Val Precision: 0.6518, ACC: 0.2900, top_k: 0.3425, top_k=1: 0.2058\n"
     ]
    },
    {
     "name": "stdout",
     "output_type": "stream",
     "text": [
      "Epoch: 758/1000, Loss: 0.4231, Val Precision: 0.6581, ACC: 0.2910, top_k: 0.3419, top_k=1: 0.2058\n"
     ]
    },
    {
     "name": "stdout",
     "output_type": "stream",
     "text": [
      "Epoch: 759/1000, Loss: 0.4228, Val Precision: 0.6750, ACC: 0.2940, top_k: 0.3415, top_k=1: 0.2058\n"
     ]
    },
    {
     "name": "stdout",
     "output_type": "stream",
     "text": [
      "Epoch: 760/1000, Loss: 0.4227, Val Precision: 0.6680, ACC: 0.2924, top_k: 0.3420, top_k=1: 0.2058\n"
     ]
    },
    {
     "name": "stdout",
     "output_type": "stream",
     "text": [
      "Epoch: 761/1000, Loss: 0.4225, Val Precision: 0.6520, ACC: 0.2906, top_k: 0.3427, top_k=1: 0.2058\n"
     ]
    },
    {
     "name": "stdout",
     "output_type": "stream",
     "text": [
      "Epoch: 762/1000, Loss: 0.4224, Val Precision: 0.6595, ACC: 0.2913, top_k: 0.3425, top_k=1: 0.2058\n"
     ]
    },
    {
     "name": "stdout",
     "output_type": "stream",
     "text": [
      "Epoch: 763/1000, Loss: 0.4223, Val Precision: 0.6713, ACC: 0.2933, top_k: 0.3423, top_k=1: 0.2058\n"
     ]
    },
    {
     "name": "stdout",
     "output_type": "stream",
     "text": [
      "Epoch: 764/1000, Loss: 0.4221, Val Precision: 0.6631, ACC: 0.2923, top_k: 0.3423, top_k=1: 0.2058\n"
     ]
    },
    {
     "name": "stdout",
     "output_type": "stream",
     "text": [
      "Epoch: 765/1000, Loss: 0.4225, Val Precision: 0.6615, ACC: 0.2913, top_k: 0.3426, top_k=1: 0.2058\n"
     ]
    },
    {
     "name": "stdout",
     "output_type": "stream",
     "text": [
      "Epoch: 766/1000, Loss: 0.4219, Val Precision: 0.6663, ACC: 0.2911, top_k: 0.3421, top_k=1: 0.2058\n"
     ]
    },
    {
     "name": "stdout",
     "output_type": "stream",
     "text": [
      "Epoch: 767/1000, Loss: 0.4224, Val Precision: 0.6690, ACC: 0.2924, top_k: 0.3422, top_k=1: 0.2058\n"
     ]
    },
    {
     "name": "stdout",
     "output_type": "stream",
     "text": [
      "Epoch: 768/1000, Loss: 0.4217, Val Precision: 0.6569, ACC: 0.2916, top_k: 0.3421, top_k=1: 0.2058\n"
     ]
    },
    {
     "name": "stdout",
     "output_type": "stream",
     "text": [
      "Epoch: 769/1000, Loss: 0.4230, Val Precision: 0.6654, ACC: 0.2924, top_k: 0.3426, top_k=1: 0.2058\n"
     ]
    },
    {
     "name": "stdout",
     "output_type": "stream",
     "text": [
      "Epoch: 770/1000, Loss: 0.4226, Val Precision: 0.6735, ACC: 0.2929, top_k: 0.3428, top_k=1: 0.2058\n"
     ]
    },
    {
     "name": "stdout",
     "output_type": "stream",
     "text": [
      "Epoch: 771/1000, Loss: 0.4219, Val Precision: 0.6572, ACC: 0.2901, top_k: 0.3419, top_k=1: 0.2058\n"
     ]
    },
    {
     "name": "stdout",
     "output_type": "stream",
     "text": [
      "Epoch: 772/1000, Loss: 0.4226, Val Precision: 0.6553, ACC: 0.2913, top_k: 0.3426, top_k=1: 0.2058\n"
     ]
    },
    {
     "name": "stdout",
     "output_type": "stream",
     "text": [
      "Epoch: 773/1000, Loss: 0.4220, Val Precision: 0.6702, ACC: 0.2931, top_k: 0.3426, top_k=1: 0.2058\n"
     ]
    },
    {
     "name": "stdout",
     "output_type": "stream",
     "text": [
      "Epoch: 774/1000, Loss: 0.4220, Val Precision: 0.6737, ACC: 0.2931, top_k: 0.3429, top_k=1: 0.2058\n"
     ]
    },
    {
     "name": "stdout",
     "output_type": "stream",
     "text": [
      "Epoch: 775/1000, Loss: 0.4220, Val Precision: 0.6612, ACC: 0.2907, top_k: 0.3427, top_k=1: 0.2058\n"
     ]
    },
    {
     "name": "stdout",
     "output_type": "stream",
     "text": [
      "Epoch: 776/1000, Loss: 0.4216, Val Precision: 0.6580, ACC: 0.2914, top_k: 0.3431, top_k=1: 0.2058\n"
     ]
    },
    {
     "name": "stdout",
     "output_type": "stream",
     "text": [
      "Epoch: 777/1000, Loss: 0.4215, Val Precision: 0.6664, ACC: 0.2934, top_k: 0.3424, top_k=1: 0.2058\n"
     ]
    },
    {
     "name": "stdout",
     "output_type": "stream",
     "text": [
      "Epoch: 778/1000, Loss: 0.4215, Val Precision: 0.6722, ACC: 0.2929, top_k: 0.3426, top_k=1: 0.2058\n"
     ]
    },
    {
     "name": "stdout",
     "output_type": "stream",
     "text": [
      "Epoch: 779/1000, Loss: 0.4212, Val Precision: 0.6556, ACC: 0.2903, top_k: 0.3427, top_k=1: 0.2058\n"
     ]
    },
    {
     "name": "stdout",
     "output_type": "stream",
     "text": [
      "Epoch: 780/1000, Loss: 0.4213, Val Precision: 0.6635, ACC: 0.2918, top_k: 0.3430, top_k=1: 0.2058\n"
     ]
    },
    {
     "name": "stdout",
     "output_type": "stream",
     "text": [
      "Epoch: 781/1000, Loss: 0.4211, Val Precision: 0.6667, ACC: 0.2931, top_k: 0.3431, top_k=1: 0.2058\n"
     ]
    },
    {
     "name": "stdout",
     "output_type": "stream",
     "text": [
      "Epoch: 782/1000, Loss: 0.4209, Val Precision: 0.6556, ACC: 0.2906, top_k: 0.3425, top_k=1: 0.2058\n"
     ]
    },
    {
     "name": "stdout",
     "output_type": "stream",
     "text": [
      "Epoch: 783/1000, Loss: 0.4219, Val Precision: 0.6663, ACC: 0.2924, top_k: 0.3428, top_k=1: 0.2058\n"
     ]
    },
    {
     "name": "stdout",
     "output_type": "stream",
     "text": [
      "Epoch: 784/1000, Loss: 0.4218, Val Precision: 0.6730, ACC: 0.2943, top_k: 0.3436, top_k=1: 0.2058\n"
     ]
    },
    {
     "name": "stdout",
     "output_type": "stream",
     "text": [
      "Epoch: 785/1000, Loss: 0.4209, Val Precision: 0.6464, ACC: 0.2888, top_k: 0.3422, top_k=1: 0.2058\n"
     ]
    },
    {
     "name": "stdout",
     "output_type": "stream",
     "text": [
      "Epoch: 786/1000, Loss: 0.4228, Val Precision: 0.6474, ACC: 0.2898, top_k: 0.3423, top_k=1: 0.2058\n"
     ]
    },
    {
     "name": "stdout",
     "output_type": "stream",
     "text": [
      "Epoch: 787/1000, Loss: 0.4215, Val Precision: 0.6729, ACC: 0.2933, top_k: 0.3430, top_k=1: 0.2058\n"
     ]
    },
    {
     "name": "stdout",
     "output_type": "stream",
     "text": [
      "Epoch: 788/1000, Loss: 0.4211, Val Precision: 0.6745, ACC: 0.2937, top_k: 0.3434, top_k=1: 0.2058\n"
     ]
    },
    {
     "name": "stdout",
     "output_type": "stream",
     "text": [
      "Epoch: 789/1000, Loss: 0.4211, Val Precision: 0.6572, ACC: 0.2917, top_k: 0.3435, top_k=1: 0.2058\n"
     ]
    },
    {
     "name": "stdout",
     "output_type": "stream",
     "text": [
      "Epoch: 790/1000, Loss: 0.4204, Val Precision: 0.6606, ACC: 0.2908, top_k: 0.3422, top_k=1: 0.2058\n"
     ]
    },
    {
     "name": "stdout",
     "output_type": "stream",
     "text": [
      "Epoch: 791/1000, Loss: 0.4216, Val Precision: 0.6683, ACC: 0.2933, top_k: 0.3421, top_k=1: 0.2058\n"
     ]
    },
    {
     "name": "stdout",
     "output_type": "stream",
     "text": [
      "Epoch: 792/1000, Loss: 0.4210, Val Precision: 0.6631, ACC: 0.2931, top_k: 0.3432, top_k=1: 0.2058\n"
     ]
    },
    {
     "name": "stdout",
     "output_type": "stream",
     "text": [
      "Epoch: 793/1000, Loss: 0.4208, Val Precision: 0.6650, ACC: 0.2926, top_k: 0.3435, top_k=1: 0.2058\n"
     ]
    },
    {
     "name": "stdout",
     "output_type": "stream",
     "text": [
      "Epoch: 794/1000, Loss: 0.4208, Val Precision: 0.6680, ACC: 0.2923, top_k: 0.3431, top_k=1: 0.2058\n"
     ]
    },
    {
     "name": "stdout",
     "output_type": "stream",
     "text": [
      "Epoch: 795/1000, Loss: 0.4206, Val Precision: 0.6616, ACC: 0.2921, top_k: 0.3424, top_k=1: 0.2058\n"
     ]
    },
    {
     "name": "stdout",
     "output_type": "stream",
     "text": [
      "Epoch: 796/1000, Loss: 0.4209, Val Precision: 0.6617, ACC: 0.2923, top_k: 0.3430, top_k=1: 0.2058\n"
     ]
    },
    {
     "name": "stdout",
     "output_type": "stream",
     "text": [
      "Epoch: 797/1000, Loss: 0.4200, Val Precision: 0.6700, ACC: 0.2923, top_k: 0.3434, top_k=1: 0.2058\n"
     ]
    },
    {
     "name": "stdout",
     "output_type": "stream",
     "text": [
      "Epoch: 798/1000, Loss: 0.4206, Val Precision: 0.6686, ACC: 0.2923, top_k: 0.3432, top_k=1: 0.2058\n"
     ]
    },
    {
     "name": "stdout",
     "output_type": "stream",
     "text": [
      "Epoch: 799/1000, Loss: 0.4203, Val Precision: 0.6593, ACC: 0.2926, top_k: 0.3435, top_k=1: 0.2058\n"
     ]
    },
    {
     "name": "stdout",
     "output_type": "stream",
     "text": [
      "Epoch: 800/1000, Loss: 0.4203, Val Precision: 0.6613, ACC: 0.2917, top_k: 0.3424, top_k=1: 0.2058\n"
     ]
    },
    {
     "name": "stdout",
     "output_type": "stream",
     "text": [
      "Epoch: 801/1000, Loss: 0.4204, Val Precision: 0.6677, ACC: 0.2924, top_k: 0.3428, top_k=1: 0.2058\n"
     ]
    },
    {
     "name": "stdout",
     "output_type": "stream",
     "text": [
      "Epoch: 802/1000, Loss: 0.4199, Val Precision: 0.6655, ACC: 0.2916, top_k: 0.3437, top_k=1: 0.2058\n"
     ]
    },
    {
     "name": "stdout",
     "output_type": "stream",
     "text": [
      "Epoch: 803/1000, Loss: 0.4199, Val Precision: 0.6646, ACC: 0.2927, top_k: 0.3436, top_k=1: 0.2058\n"
     ]
    },
    {
     "name": "stdout",
     "output_type": "stream",
     "text": [
      "Epoch: 804/1000, Loss: 0.4201, Val Precision: 0.6698, ACC: 0.2939, top_k: 0.3432, top_k=1: 0.2058\n"
     ]
    },
    {
     "name": "stdout",
     "output_type": "stream",
     "text": [
      "Epoch: 805/1000, Loss: 0.4194, Val Precision: 0.6583, ACC: 0.2907, top_k: 0.3430, top_k=1: 0.2058\n"
     ]
    },
    {
     "name": "stdout",
     "output_type": "stream",
     "text": [
      "Epoch: 806/1000, Loss: 0.4204, Val Precision: 0.6591, ACC: 0.2903, top_k: 0.3436, top_k=1: 0.2058\n"
     ]
    },
    {
     "name": "stdout",
     "output_type": "stream",
     "text": [
      "Epoch: 807/1000, Loss: 0.4197, Val Precision: 0.6715, ACC: 0.2946, top_k: 0.3434, top_k=1: 0.2058\n"
     ]
    },
    {
     "name": "stdout",
     "output_type": "stream",
     "text": [
      "Epoch: 808/1000, Loss: 0.4198, Val Precision: 0.6713, ACC: 0.2940, top_k: 0.3435, top_k=1: 0.2058\n"
     ]
    },
    {
     "name": "stdout",
     "output_type": "stream",
     "text": [
      "Epoch: 809/1000, Loss: 0.4199, Val Precision: 0.6632, ACC: 0.2929, top_k: 0.3430, top_k=1: 0.2058\n"
     ]
    },
    {
     "name": "stdout",
     "output_type": "stream",
     "text": [
      "Epoch: 810/1000, Loss: 0.4193, Val Precision: 0.6597, ACC: 0.2906, top_k: 0.3440, top_k=1: 0.2058\n"
     ]
    },
    {
     "name": "stdout",
     "output_type": "stream",
     "text": [
      "Epoch: 811/1000, Loss: 0.4200, Val Precision: 0.6632, ACC: 0.2914, top_k: 0.3437, top_k=1: 0.2058\n"
     ]
    },
    {
     "name": "stdout",
     "output_type": "stream",
     "text": [
      "Epoch: 812/1000, Loss: 0.4190, Val Precision: 0.6629, ACC: 0.2936, top_k: 0.3433, top_k=1: 0.2058\n"
     ]
    },
    {
     "name": "stdout",
     "output_type": "stream",
     "text": [
      "Epoch: 813/1000, Loss: 0.4196, Val Precision: 0.6708, ACC: 0.2949, top_k: 0.3434, top_k=1: 0.2058\n"
     ]
    },
    {
     "name": "stdout",
     "output_type": "stream",
     "text": [
      "Epoch: 814/1000, Loss: 0.4194, Val Precision: 0.6687, ACC: 0.2927, top_k: 0.3435, top_k=1: 0.2058\n"
     ]
    },
    {
     "name": "stdout",
     "output_type": "stream",
     "text": [
      "Epoch: 815/1000, Loss: 0.4189, Val Precision: 0.6543, ACC: 0.2890, top_k: 0.3443, top_k=1: 0.2058\n"
     ]
    },
    {
     "name": "stdout",
     "output_type": "stream",
     "text": [
      "Epoch: 816/1000, Loss: 0.4195, Val Precision: 0.6578, ACC: 0.2923, top_k: 0.3436, top_k=1: 0.2058\n"
     ]
    },
    {
     "name": "stdout",
     "output_type": "stream",
     "text": [
      "Epoch: 817/1000, Loss: 0.4187, Val Precision: 0.6756, ACC: 0.2957, top_k: 0.3436, top_k=1: 0.2058\n"
     ]
    },
    {
     "name": "stdout",
     "output_type": "stream",
     "text": [
      "Epoch: 818/1000, Loss: 0.4191, Val Precision: 0.6705, ACC: 0.2940, top_k: 0.3436, top_k=1: 0.2058\n"
     ]
    },
    {
     "name": "stdout",
     "output_type": "stream",
     "text": [
      "Epoch: 819/1000, Loss: 0.4185, Val Precision: 0.6503, ACC: 0.2897, top_k: 0.3440, top_k=1: 0.2058\n"
     ]
    },
    {
     "name": "stdout",
     "output_type": "stream",
     "text": [
      "Epoch: 820/1000, Loss: 0.4198, Val Precision: 0.6515, ACC: 0.2894, top_k: 0.3440, top_k=1: 0.2058\n"
     ]
    },
    {
     "name": "stdout",
     "output_type": "stream",
     "text": [
      "Epoch: 821/1000, Loss: 0.4201, Val Precision: 0.6667, ACC: 0.2939, top_k: 0.3437, top_k=1: 0.2058\n"
     ]
    },
    {
     "name": "stdout",
     "output_type": "stream",
     "text": [
      "Epoch: 822/1000, Loss: 0.4181, Val Precision: 0.6704, ACC: 0.2947, top_k: 0.3437, top_k=1: 0.2058\n"
     ]
    },
    {
     "name": "stdout",
     "output_type": "stream",
     "text": [
      "Epoch: 823/1000, Loss: 0.4189, Val Precision: 0.6697, ACC: 0.2937, top_k: 0.3439, top_k=1: 0.2058\n"
     ]
    },
    {
     "name": "stdout",
     "output_type": "stream",
     "text": [
      "Epoch: 824/1000, Loss: 0.4187, Val Precision: 0.6645, ACC: 0.2921, top_k: 0.3445, top_k=1: 0.2058\n"
     ]
    },
    {
     "name": "stdout",
     "output_type": "stream",
     "text": [
      "Epoch: 825/1000, Loss: 0.4182, Val Precision: 0.6589, ACC: 0.2917, top_k: 0.3433, top_k=1: 0.2058\n"
     ]
    },
    {
     "name": "stdout",
     "output_type": "stream",
     "text": [
      "Epoch: 826/1000, Loss: 0.4187, Val Precision: 0.6647, ACC: 0.2944, top_k: 0.3438, top_k=1: 0.2058\n"
     ]
    },
    {
     "name": "stdout",
     "output_type": "stream",
     "text": [
      "Epoch: 827/1000, Loss: 0.4180, Val Precision: 0.6745, ACC: 0.2939, top_k: 0.3442, top_k=1: 0.2058\n"
     ]
    },
    {
     "name": "stdout",
     "output_type": "stream",
     "text": [
      "Epoch: 828/1000, Loss: 0.4185, Val Precision: 0.6701, ACC: 0.2929, top_k: 0.3446, top_k=1: 0.2058\n"
     ]
    },
    {
     "name": "stdout",
     "output_type": "stream",
     "text": [
      "Epoch: 829/1000, Loss: 0.4181, Val Precision: 0.6568, ACC: 0.2936, top_k: 0.3440, top_k=1: 0.2058\n"
     ]
    },
    {
     "name": "stdout",
     "output_type": "stream",
     "text": [
      "Epoch: 830/1000, Loss: 0.4183, Val Precision: 0.6636, ACC: 0.2941, top_k: 0.3433, top_k=1: 0.2058\n"
     ]
    },
    {
     "name": "stdout",
     "output_type": "stream",
     "text": [
      "Epoch: 831/1000, Loss: 0.4186, Val Precision: 0.6711, ACC: 0.2946, top_k: 0.3441, top_k=1: 0.2058\n"
     ]
    },
    {
     "name": "stdout",
     "output_type": "stream",
     "text": [
      "Epoch: 832/1000, Loss: 0.4177, Val Precision: 0.6602, ACC: 0.2917, top_k: 0.3446, top_k=1: 0.2058\n"
     ]
    },
    {
     "name": "stdout",
     "output_type": "stream",
     "text": [
      "Epoch: 833/1000, Loss: 0.4184, Val Precision: 0.6620, ACC: 0.2930, top_k: 0.3443, top_k=1: 0.2058\n"
     ]
    },
    {
     "name": "stdout",
     "output_type": "stream",
     "text": [
      "Epoch: 834/1000, Loss: 0.4180, Val Precision: 0.6743, ACC: 0.2954, top_k: 0.3440, top_k=1: 0.2058\n"
     ]
    },
    {
     "name": "stdout",
     "output_type": "stream",
     "text": [
      "Epoch: 835/1000, Loss: 0.4178, Val Precision: 0.6666, ACC: 0.2943, top_k: 0.3437, top_k=1: 0.2058\n"
     ]
    },
    {
     "name": "stdout",
     "output_type": "stream",
     "text": [
      "Epoch: 836/1000, Loss: 0.4178, Val Precision: 0.6547, ACC: 0.2929, top_k: 0.3442, top_k=1: 0.2058\n"
     ]
    },
    {
     "name": "stdout",
     "output_type": "stream",
     "text": [
      "Epoch: 837/1000, Loss: 0.4174, Val Precision: 0.6702, ACC: 0.2934, top_k: 0.3445, top_k=1: 0.2058\n"
     ]
    },
    {
     "name": "stdout",
     "output_type": "stream",
     "text": [
      "Epoch: 838/1000, Loss: 0.4177, Val Precision: 0.6738, ACC: 0.2944, top_k: 0.3442, top_k=1: 0.2058\n"
     ]
    },
    {
     "name": "stdout",
     "output_type": "stream",
     "text": [
      "Epoch: 839/1000, Loss: 0.4173, Val Precision: 0.6494, ACC: 0.2921, top_k: 0.3442, top_k=1: 0.2058\n"
     ]
    },
    {
     "name": "stdout",
     "output_type": "stream",
     "text": [
      "Epoch: 840/1000, Loss: 0.4181, Val Precision: 0.6546, ACC: 0.2929, top_k: 0.3439, top_k=1: 0.2058\n"
     ]
    },
    {
     "name": "stdout",
     "output_type": "stream",
     "text": [
      "Epoch: 841/1000, Loss: 0.4175, Val Precision: 0.6758, ACC: 0.2943, top_k: 0.3444, top_k=1: 0.2058\n"
     ]
    },
    {
     "name": "stdout",
     "output_type": "stream",
     "text": [
      "Epoch: 842/1000, Loss: 0.4177, Val Precision: 0.6757, ACC: 0.2943, top_k: 0.3447, top_k=1: 0.2058\n"
     ]
    },
    {
     "name": "stdout",
     "output_type": "stream",
     "text": [
      "Epoch: 843/1000, Loss: 0.4172, Val Precision: 0.6502, ACC: 0.2924, top_k: 0.3440, top_k=1: 0.2058\n"
     ]
    },
    {
     "name": "stdout",
     "output_type": "stream",
     "text": [
      "Epoch: 844/1000, Loss: 0.4185, Val Precision: 0.6507, ACC: 0.2936, top_k: 0.3443, top_k=1: 0.2058\n"
     ]
    },
    {
     "name": "stdout",
     "output_type": "stream",
     "text": [
      "Epoch: 845/1000, Loss: 0.4181, Val Precision: 0.6711, ACC: 0.2943, top_k: 0.3444, top_k=1: 0.2058\n"
     ]
    },
    {
     "name": "stdout",
     "output_type": "stream",
     "text": [
      "Epoch: 846/1000, Loss: 0.4168, Val Precision: 0.6654, ACC: 0.2927, top_k: 0.3445, top_k=1: 0.2058\n"
     ]
    },
    {
     "name": "stdout",
     "output_type": "stream",
     "text": [
      "Epoch: 847/1000, Loss: 0.4170, Val Precision: 0.6585, ACC: 0.2921, top_k: 0.3445, top_k=1: 0.2058\n"
     ]
    },
    {
     "name": "stdout",
     "output_type": "stream",
     "text": [
      "Epoch: 848/1000, Loss: 0.4167, Val Precision: 0.6692, ACC: 0.2960, top_k: 0.3443, top_k=1: 0.2058\n"
     ]
    },
    {
     "name": "stdout",
     "output_type": "stream",
     "text": [
      "Epoch: 849/1000, Loss: 0.4170, Val Precision: 0.6707, ACC: 0.2951, top_k: 0.3442, top_k=1: 0.2058\n"
     ]
    },
    {
     "name": "stdout",
     "output_type": "stream",
     "text": [
      "Epoch: 850/1000, Loss: 0.4166, Val Precision: 0.6524, ACC: 0.2910, top_k: 0.3444, top_k=1: 0.2058\n"
     ]
    },
    {
     "name": "stdout",
     "output_type": "stream",
     "text": [
      "Epoch: 851/1000, Loss: 0.4176, Val Precision: 0.6608, ACC: 0.2936, top_k: 0.3447, top_k=1: 0.2058\n"
     ]
    },
    {
     "name": "stdout",
     "output_type": "stream",
     "text": [
      "Epoch: 852/1000, Loss: 0.4165, Val Precision: 0.6726, ACC: 0.2959, top_k: 0.3444, top_k=1: 0.2058\n"
     ]
    },
    {
     "name": "stdout",
     "output_type": "stream",
     "text": [
      "Epoch: 853/1000, Loss: 0.4179, Val Precision: 0.6778, ACC: 0.2969, top_k: 0.3440, top_k=1: 0.2058\n"
     ]
    },
    {
     "name": "stdout",
     "output_type": "stream",
     "text": [
      "Epoch: 854/1000, Loss: 0.4177, Val Precision: 0.6602, ACC: 0.2934, top_k: 0.3447, top_k=1: 0.2058\n"
     ]
    },
    {
     "name": "stdout",
     "output_type": "stream",
     "text": [
      "Epoch: 855/1000, Loss: 0.4167, Val Precision: 0.6524, ACC: 0.2916, top_k: 0.3446, top_k=1: 0.2058\n"
     ]
    },
    {
     "name": "stdout",
     "output_type": "stream",
     "text": [
      "Epoch: 856/1000, Loss: 0.4175, Val Precision: 0.6625, ACC: 0.2920, top_k: 0.3452, top_k=1: 0.2058\n"
     ]
    },
    {
     "name": "stdout",
     "output_type": "stream",
     "text": [
      "Epoch: 857/1000, Loss: 0.4168, Val Precision: 0.6766, ACC: 0.2962, top_k: 0.3446, top_k=1: 0.2058\n"
     ]
    },
    {
     "name": "stdout",
     "output_type": "stream",
     "text": [
      "Epoch: 858/1000, Loss: 0.4166, Val Precision: 0.6656, ACC: 0.2947, top_k: 0.3452, top_k=1: 0.2058\n"
     ]
    },
    {
     "name": "stdout",
     "output_type": "stream",
     "text": [
      "Epoch: 859/1000, Loss: 0.4169, Val Precision: 0.6597, ACC: 0.2927, top_k: 0.3446, top_k=1: 0.2058\n"
     ]
    },
    {
     "name": "stdout",
     "output_type": "stream",
     "text": [
      "Epoch: 860/1000, Loss: 0.4159, Val Precision: 0.6721, ACC: 0.2931, top_k: 0.3448, top_k=1: 0.2058\n"
     ]
    },
    {
     "name": "stdout",
     "output_type": "stream",
     "text": [
      "Epoch: 861/1000, Loss: 0.4176, Val Precision: 0.6765, ACC: 0.2929, top_k: 0.3449, top_k=1: 0.2058\n"
     ]
    },
    {
     "name": "stdout",
     "output_type": "stream",
     "text": [
      "Epoch: 862/1000, Loss: 0.4172, Val Precision: 0.6649, ACC: 0.2956, top_k: 0.3452, top_k=1: 0.2058\n"
     ]
    },
    {
     "name": "stdout",
     "output_type": "stream",
     "text": [
      "Epoch: 863/1000, Loss: 0.4161, Val Precision: 0.6539, ACC: 0.2930, top_k: 0.3448, top_k=1: 0.2058\n"
     ]
    },
    {
     "name": "stdout",
     "output_type": "stream",
     "text": [
      "Epoch: 864/1000, Loss: 0.4174, Val Precision: 0.6681, ACC: 0.2943, top_k: 0.3449, top_k=1: 0.2058\n"
     ]
    },
    {
     "name": "stdout",
     "output_type": "stream",
     "text": [
      "Epoch: 865/1000, Loss: 0.4157, Val Precision: 0.6627, ACC: 0.2916, top_k: 0.3450, top_k=1: 0.2058\n"
     ]
    },
    {
     "name": "stdout",
     "output_type": "stream",
     "text": [
      "Epoch: 866/1000, Loss: 0.4175, Val Precision: 0.6704, ACC: 0.2923, top_k: 0.3450, top_k=1: 0.2058\n"
     ]
    },
    {
     "name": "stdout",
     "output_type": "stream",
     "text": [
      "Epoch: 867/1000, Loss: 0.4179, Val Precision: 0.6748, ACC: 0.2943, top_k: 0.3451, top_k=1: 0.2058\n"
     ]
    },
    {
     "name": "stdout",
     "output_type": "stream",
     "text": [
      "Epoch: 868/1000, Loss: 0.4163, Val Precision: 0.6553, ACC: 0.2926, top_k: 0.3448, top_k=1: 0.2058\n"
     ]
    },
    {
     "name": "stdout",
     "output_type": "stream",
     "text": [
      "Epoch: 869/1000, Loss: 0.4172, Val Precision: 0.6494, ACC: 0.2907, top_k: 0.3451, top_k=1: 0.2058\n"
     ]
    },
    {
     "name": "stdout",
     "output_type": "stream",
     "text": [
      "Epoch: 870/1000, Loss: 0.4177, Val Precision: 0.6641, ACC: 0.2933, top_k: 0.3454, top_k=1: 0.2058\n"
     ]
    },
    {
     "name": "stdout",
     "output_type": "stream",
     "text": [
      "Epoch: 871/1000, Loss: 0.4152, Val Precision: 0.6754, ACC: 0.2939, top_k: 0.3442, top_k=1: 0.2058\n"
     ]
    },
    {
     "name": "stdout",
     "output_type": "stream",
     "text": [
      "Epoch: 872/1000, Loss: 0.4184, Val Precision: 0.6817, ACC: 0.2939, top_k: 0.3446, top_k=1: 0.2058\n"
     ]
    },
    {
     "name": "stdout",
     "output_type": "stream",
     "text": [
      "Epoch: 873/1000, Loss: 0.4176, Val Precision: 0.6710, ACC: 0.2946, top_k: 0.3452, top_k=1: 0.2058\n"
     ]
    },
    {
     "name": "stdout",
     "output_type": "stream",
     "text": [
      "Epoch: 874/1000, Loss: 0.4159, Val Precision: 0.6446, ACC: 0.2920, top_k: 0.3446, top_k=1: 0.2058\n"
     ]
    },
    {
     "name": "stdout",
     "output_type": "stream",
     "text": [
      "Epoch: 875/1000, Loss: 0.4171, Val Precision: 0.6448, ACC: 0.2904, top_k: 0.3444, top_k=1: 0.2058\n"
     ]
    },
    {
     "name": "stdout",
     "output_type": "stream",
     "text": [
      "Epoch: 876/1000, Loss: 0.4178, Val Precision: 0.6665, ACC: 0.2936, top_k: 0.3450, top_k=1: 0.2058\n"
     ]
    },
    {
     "name": "stdout",
     "output_type": "stream",
     "text": [
      "Epoch: 877/1000, Loss: 0.4152, Val Precision: 0.6713, ACC: 0.2943, top_k: 0.3455, top_k=1: 0.2058\n"
     ]
    },
    {
     "name": "stdout",
     "output_type": "stream",
     "text": [
      "Epoch: 878/1000, Loss: 0.4161, Val Precision: 0.6636, ACC: 0.2927, top_k: 0.3453, top_k=1: 0.2058\n"
     ]
    },
    {
     "name": "stdout",
     "output_type": "stream",
     "text": [
      "Epoch: 879/1000, Loss: 0.4156, Val Precision: 0.6634, ACC: 0.2940, top_k: 0.3447, top_k=1: 0.2058\n"
     ]
    },
    {
     "name": "stdout",
     "output_type": "stream",
     "text": [
      "Epoch: 880/1000, Loss: 0.4153, Val Precision: 0.6576, ACC: 0.2913, top_k: 0.3454, top_k=1: 0.2058\n"
     ]
    },
    {
     "name": "stdout",
     "output_type": "stream",
     "text": [
      "Epoch: 881/1000, Loss: 0.4160, Val Precision: 0.6596, ACC: 0.2933, top_k: 0.3458, top_k=1: 0.2058\n"
     ]
    },
    {
     "name": "stdout",
     "output_type": "stream",
     "text": [
      "Epoch: 882/1000, Loss: 0.4155, Val Precision: 0.6692, ACC: 0.2940, top_k: 0.3450, top_k=1: 0.2058\n"
     ]
    },
    {
     "name": "stdout",
     "output_type": "stream",
     "text": [
      "Epoch: 883/1000, Loss: 0.4151, Val Precision: 0.6655, ACC: 0.2936, top_k: 0.3449, top_k=1: 0.2058\n"
     ]
    },
    {
     "name": "stdout",
     "output_type": "stream",
     "text": [
      "Epoch: 884/1000, Loss: 0.4153, Val Precision: 0.6622, ACC: 0.2939, top_k: 0.3454, top_k=1: 0.2058\n"
     ]
    },
    {
     "name": "stdout",
     "output_type": "stream",
     "text": [
      "Epoch: 885/1000, Loss: 0.4145, Val Precision: 0.6629, ACC: 0.2926, top_k: 0.3448, top_k=1: 0.2058\n"
     ]
    },
    {
     "name": "stdout",
     "output_type": "stream",
     "text": [
      "Epoch: 886/1000, Loss: 0.4159, Val Precision: 0.6653, ACC: 0.2937, top_k: 0.3451, top_k=1: 0.2058\n"
     ]
    },
    {
     "name": "stdout",
     "output_type": "stream",
     "text": [
      "Epoch: 887/1000, Loss: 0.4148, Val Precision: 0.6632, ACC: 0.2939, top_k: 0.3456, top_k=1: 0.2058\n"
     ]
    },
    {
     "name": "stdout",
     "output_type": "stream",
     "text": [
      "Epoch: 888/1000, Loss: 0.4160, Val Precision: 0.6675, ACC: 0.2950, top_k: 0.3457, top_k=1: 0.2058\n"
     ]
    },
    {
     "name": "stdout",
     "output_type": "stream",
     "text": [
      "Epoch: 889/1000, Loss: 0.4166, Val Precision: 0.6787, ACC: 0.2954, top_k: 0.3451, top_k=1: 0.2058\n"
     ]
    },
    {
     "name": "stdout",
     "output_type": "stream",
     "text": [
      "Epoch: 890/1000, Loss: 0.4151, Val Precision: 0.6654, ACC: 0.2929, top_k: 0.3449, top_k=1: 0.2058\n"
     ]
    },
    {
     "name": "stdout",
     "output_type": "stream",
     "text": [
      "Epoch: 891/1000, Loss: 0.4154, Val Precision: 0.6509, ACC: 0.2920, top_k: 0.3457, top_k=1: 0.2058\n"
     ]
    },
    {
     "name": "stdout",
     "output_type": "stream",
     "text": [
      "Epoch: 892/1000, Loss: 0.4154, Val Precision: 0.6603, ACC: 0.2933, top_k: 0.3459, top_k=1: 0.2058\n"
     ]
    },
    {
     "name": "stdout",
     "output_type": "stream",
     "text": [
      "Epoch: 893/1000, Loss: 0.4145, Val Precision: 0.6792, ACC: 0.2962, top_k: 0.3455, top_k=1: 0.2058\n"
     ]
    },
    {
     "name": "stdout",
     "output_type": "stream",
     "text": [
      "Epoch: 894/1000, Loss: 0.4153, Val Precision: 0.6781, ACC: 0.2946, top_k: 0.3454, top_k=1: 0.2058\n"
     ]
    },
    {
     "name": "stdout",
     "output_type": "stream",
     "text": [
      "Epoch: 895/1000, Loss: 0.4148, Val Precision: 0.6547, ACC: 0.2916, top_k: 0.3459, top_k=1: 0.2058\n"
     ]
    },
    {
     "name": "stdout",
     "output_type": "stream",
     "text": [
      "Epoch: 896/1000, Loss: 0.4150, Val Precision: 0.6508, ACC: 0.2914, top_k: 0.3458, top_k=1: 0.2058\n"
     ]
    },
    {
     "name": "stdout",
     "output_type": "stream",
     "text": [
      "Epoch: 897/1000, Loss: 0.4150, Val Precision: 0.6662, ACC: 0.2940, top_k: 0.3453, top_k=1: 0.2058\n"
     ]
    },
    {
     "name": "stdout",
     "output_type": "stream",
     "text": [
      "Epoch: 898/1000, Loss: 0.4144, Val Precision: 0.6755, ACC: 0.2954, top_k: 0.3455, top_k=1: 0.2058\n"
     ]
    },
    {
     "name": "stdout",
     "output_type": "stream",
     "text": [
      "Epoch: 899/1000, Loss: 0.4145, Val Precision: 0.6614, ACC: 0.2923, top_k: 0.3461, top_k=1: 0.2058\n"
     ]
    },
    {
     "name": "stdout",
     "output_type": "stream",
     "text": [
      "Epoch: 900/1000, Loss: 0.4144, Val Precision: 0.6624, ACC: 0.2943, top_k: 0.3458, top_k=1: 0.2058\n"
     ]
    },
    {
     "name": "stdout",
     "output_type": "stream",
     "text": [
      "Epoch: 901/1000, Loss: 0.4142, Val Precision: 0.6687, ACC: 0.2947, top_k: 0.3452, top_k=1: 0.2058\n"
     ]
    },
    {
     "name": "stdout",
     "output_type": "stream",
     "text": [
      "Epoch: 902/1000, Loss: 0.4142, Val Precision: 0.6651, ACC: 0.2944, top_k: 0.3455, top_k=1: 0.2058\n"
     ]
    },
    {
     "name": "stdout",
     "output_type": "stream",
     "text": [
      "Epoch: 903/1000, Loss: 0.4141, Val Precision: 0.6591, ACC: 0.2927, top_k: 0.3460, top_k=1: 0.2058\n"
     ]
    },
    {
     "name": "stdout",
     "output_type": "stream",
     "text": [
      "Epoch: 904/1000, Loss: 0.4140, Val Precision: 0.6649, ACC: 0.2939, top_k: 0.3460, top_k=1: 0.2058\n"
     ]
    },
    {
     "name": "stdout",
     "output_type": "stream",
     "text": [
      "Epoch: 905/1000, Loss: 0.4139, Val Precision: 0.6716, ACC: 0.2960, top_k: 0.3452, top_k=1: 0.2058\n"
     ]
    },
    {
     "name": "stdout",
     "output_type": "stream",
     "text": [
      "Epoch: 906/1000, Loss: 0.4143, Val Precision: 0.6678, ACC: 0.2954, top_k: 0.3455, top_k=1: 0.2058\n"
     ]
    },
    {
     "name": "stdout",
     "output_type": "stream",
     "text": [
      "Epoch: 907/1000, Loss: 0.4140, Val Precision: 0.6556, ACC: 0.2926, top_k: 0.3458, top_k=1: 0.2058\n"
     ]
    },
    {
     "name": "stdout",
     "output_type": "stream",
     "text": [
      "Epoch: 908/1000, Loss: 0.4140, Val Precision: 0.6603, ACC: 0.2927, top_k: 0.3460, top_k=1: 0.2058\n"
     ]
    },
    {
     "name": "stdout",
     "output_type": "stream",
     "text": [
      "Epoch: 909/1000, Loss: 0.4139, Val Precision: 0.6719, ACC: 0.2944, top_k: 0.3459, top_k=1: 0.2058\n"
     ]
    },
    {
     "name": "stdout",
     "output_type": "stream",
     "text": [
      "Epoch: 910/1000, Loss: 0.4136, Val Precision: 0.6713, ACC: 0.2957, top_k: 0.3457, top_k=1: 0.2058\n"
     ]
    },
    {
     "name": "stdout",
     "output_type": "stream",
     "text": [
      "Epoch: 911/1000, Loss: 0.4135, Val Precision: 0.6552, ACC: 0.2921, top_k: 0.3458, top_k=1: 0.2058\n"
     ]
    },
    {
     "name": "stdout",
     "output_type": "stream",
     "text": [
      "Epoch: 912/1000, Loss: 0.4138, Val Precision: 0.6575, ACC: 0.2931, top_k: 0.3461, top_k=1: 0.2058\n"
     ]
    },
    {
     "name": "stdout",
     "output_type": "stream",
     "text": [
      "Epoch: 913/1000, Loss: 0.4136, Val Precision: 0.6728, ACC: 0.2951, top_k: 0.3460, top_k=1: 0.2058\n"
     ]
    },
    {
     "name": "stdout",
     "output_type": "stream",
     "text": [
      "Epoch: 914/1000, Loss: 0.4134, Val Precision: 0.6736, ACC: 0.2956, top_k: 0.3460, top_k=1: 0.2058\n"
     ]
    },
    {
     "name": "stdout",
     "output_type": "stream",
     "text": [
      "Epoch: 915/1000, Loss: 0.4134, Val Precision: 0.6590, ACC: 0.2939, top_k: 0.3464, top_k=1: 0.2058\n"
     ]
    },
    {
     "name": "stdout",
     "output_type": "stream",
     "text": [
      "Epoch: 916/1000, Loss: 0.4134, Val Precision: 0.6582, ACC: 0.2929, top_k: 0.3461, top_k=1: 0.2058\n"
     ]
    },
    {
     "name": "stdout",
     "output_type": "stream",
     "text": [
      "Epoch: 917/1000, Loss: 0.4132, Val Precision: 0.6722, ACC: 0.2943, top_k: 0.3461, top_k=1: 0.2058\n"
     ]
    },
    {
     "name": "stdout",
     "output_type": "stream",
     "text": [
      "Epoch: 918/1000, Loss: 0.4134, Val Precision: 0.6726, ACC: 0.2956, top_k: 0.3459, top_k=1: 0.2058\n"
     ]
    },
    {
     "name": "stdout",
     "output_type": "stream",
     "text": [
      "Epoch: 919/1000, Loss: 0.4132, Val Precision: 0.6595, ACC: 0.2934, top_k: 0.3465, top_k=1: 0.2058\n"
     ]
    },
    {
     "name": "stdout",
     "output_type": "stream",
     "text": [
      "Epoch: 920/1000, Loss: 0.4132, Val Precision: 0.6607, ACC: 0.2930, top_k: 0.3464, top_k=1: 0.2058\n"
     ]
    },
    {
     "name": "stdout",
     "output_type": "stream",
     "text": [
      "Epoch: 921/1000, Loss: 0.4130, Val Precision: 0.6714, ACC: 0.2943, top_k: 0.3458, top_k=1: 0.2058\n"
     ]
    },
    {
     "name": "stdout",
     "output_type": "stream",
     "text": [
      "Epoch: 922/1000, Loss: 0.4130, Val Precision: 0.6708, ACC: 0.2950, top_k: 0.3465, top_k=1: 0.2058\n"
     ]
    },
    {
     "name": "stdout",
     "output_type": "stream",
     "text": [
      "Epoch: 923/1000, Loss: 0.4128, Val Precision: 0.6615, ACC: 0.2940, top_k: 0.3462, top_k=1: 0.2058\n"
     ]
    },
    {
     "name": "stdout",
     "output_type": "stream",
     "text": [
      "Epoch: 924/1000, Loss: 0.4130, Val Precision: 0.6604, ACC: 0.2934, top_k: 0.3464, top_k=1: 0.2058\n"
     ]
    },
    {
     "name": "stdout",
     "output_type": "stream",
     "text": [
      "Epoch: 925/1000, Loss: 0.4127, Val Precision: 0.6708, ACC: 0.2944, top_k: 0.3460, top_k=1: 0.2058\n"
     ]
    },
    {
     "name": "stdout",
     "output_type": "stream",
     "text": [
      "Epoch: 926/1000, Loss: 0.4128, Val Precision: 0.6689, ACC: 0.2943, top_k: 0.3460, top_k=1: 0.2058\n"
     ]
    },
    {
     "name": "stdout",
     "output_type": "stream",
     "text": [
      "Epoch: 927/1000, Loss: 0.4126, Val Precision: 0.6602, ACC: 0.2939, top_k: 0.3465, top_k=1: 0.2058\n"
     ]
    },
    {
     "name": "stdout",
     "output_type": "stream",
     "text": [
      "Epoch: 928/1000, Loss: 0.4127, Val Precision: 0.6624, ACC: 0.2947, top_k: 0.3466, top_k=1: 0.2058\n"
     ]
    },
    {
     "name": "stdout",
     "output_type": "stream",
     "text": [
      "Epoch: 929/1000, Loss: 0.4125, Val Precision: 0.6716, ACC: 0.2946, top_k: 0.3460, top_k=1: 0.2058\n"
     ]
    },
    {
     "name": "stdout",
     "output_type": "stream",
     "text": [
      "Epoch: 930/1000, Loss: 0.4125, Val Precision: 0.6695, ACC: 0.2946, top_k: 0.3465, top_k=1: 0.2058\n"
     ]
    },
    {
     "name": "stdout",
     "output_type": "stream",
     "text": [
      "Epoch: 931/1000, Loss: 0.4123, Val Precision: 0.6599, ACC: 0.2941, top_k: 0.3467, top_k=1: 0.2058\n"
     ]
    },
    {
     "name": "stdout",
     "output_type": "stream",
     "text": [
      "Epoch: 932/1000, Loss: 0.4124, Val Precision: 0.6625, ACC: 0.2941, top_k: 0.3465, top_k=1: 0.2058\n"
     ]
    },
    {
     "name": "stdout",
     "output_type": "stream",
     "text": [
      "Epoch: 933/1000, Loss: 0.4122, Val Precision: 0.6713, ACC: 0.2959, top_k: 0.3465, top_k=1: 0.2058\n"
     ]
    },
    {
     "name": "stdout",
     "output_type": "stream",
     "text": [
      "Epoch: 934/1000, Loss: 0.4122, Val Precision: 0.6684, ACC: 0.2936, top_k: 0.3466, top_k=1: 0.2058\n"
     ]
    },
    {
     "name": "stdout",
     "output_type": "stream",
     "text": [
      "Epoch: 935/1000, Loss: 0.4121, Val Precision: 0.6610, ACC: 0.2946, top_k: 0.3469, top_k=1: 0.2058\n"
     ]
    },
    {
     "name": "stdout",
     "output_type": "stream",
     "text": [
      "Epoch: 936/1000, Loss: 0.4121, Val Precision: 0.6639, ACC: 0.2943, top_k: 0.3466, top_k=1: 0.2058\n"
     ]
    },
    {
     "name": "stdout",
     "output_type": "stream",
     "text": [
      "Epoch: 937/1000, Loss: 0.4119, Val Precision: 0.6724, ACC: 0.2953, top_k: 0.3463, top_k=1: 0.2058\n"
     ]
    },
    {
     "name": "stdout",
     "output_type": "stream",
     "text": [
      "Epoch: 938/1000, Loss: 0.4120, Val Precision: 0.6673, ACC: 0.2940, top_k: 0.3466, top_k=1: 0.2058\n"
     ]
    },
    {
     "name": "stdout",
     "output_type": "stream",
     "text": [
      "Epoch: 939/1000, Loss: 0.4119, Val Precision: 0.6635, ACC: 0.2944, top_k: 0.3468, top_k=1: 0.2058\n"
     ]
    },
    {
     "name": "stdout",
     "output_type": "stream",
     "text": [
      "Epoch: 940/1000, Loss: 0.4117, Val Precision: 0.6640, ACC: 0.2949, top_k: 0.3466, top_k=1: 0.2058\n"
     ]
    },
    {
     "name": "stdout",
     "output_type": "stream",
     "text": [
      "Epoch: 941/1000, Loss: 0.4116, Val Precision: 0.6714, ACC: 0.2941, top_k: 0.3464, top_k=1: 0.2058\n"
     ]
    },
    {
     "name": "stdout",
     "output_type": "stream",
     "text": [
      "Epoch: 942/1000, Loss: 0.4119, Val Precision: 0.6687, ACC: 0.2940, top_k: 0.3468, top_k=1: 0.2058\n"
     ]
    },
    {
     "name": "stdout",
     "output_type": "stream",
     "text": [
      "Epoch: 943/1000, Loss: 0.4118, Val Precision: 0.6640, ACC: 0.2947, top_k: 0.3467, top_k=1: 0.2058\n"
     ]
    },
    {
     "name": "stdout",
     "output_type": "stream",
     "text": [
      "Epoch: 944/1000, Loss: 0.4114, Val Precision: 0.6645, ACC: 0.2950, top_k: 0.3469, top_k=1: 0.2058\n"
     ]
    },
    {
     "name": "stdout",
     "output_type": "stream",
     "text": [
      "Epoch: 945/1000, Loss: 0.4113, Val Precision: 0.6654, ACC: 0.2937, top_k: 0.3467, top_k=1: 0.2058\n"
     ]
    },
    {
     "name": "stdout",
     "output_type": "stream",
     "text": [
      "Epoch: 946/1000, Loss: 0.4121, Val Precision: 0.6711, ACC: 0.2950, top_k: 0.3464, top_k=1: 0.2058\n"
     ]
    },
    {
     "name": "stdout",
     "output_type": "stream",
     "text": [
      "Epoch: 947/1000, Loss: 0.4117, Val Precision: 0.6683, ACC: 0.2947, top_k: 0.3467, top_k=1: 0.2058\n"
     ]
    },
    {
     "name": "stdout",
     "output_type": "stream",
     "text": [
      "Epoch: 948/1000, Loss: 0.4112, Val Precision: 0.6532, ACC: 0.2931, top_k: 0.3466, top_k=1: 0.2058\n"
     ]
    },
    {
     "name": "stdout",
     "output_type": "stream",
     "text": [
      "Epoch: 949/1000, Loss: 0.4144, Val Precision: 0.6550, ACC: 0.2940, top_k: 0.3470, top_k=1: 0.2058\n"
     ]
    },
    {
     "name": "stdout",
     "output_type": "stream",
     "text": [
      "Epoch: 950/1000, Loss: 0.4137, Val Precision: 0.6690, ACC: 0.2954, top_k: 0.3469, top_k=1: 0.2058\n"
     ]
    },
    {
     "name": "stdout",
     "output_type": "stream",
     "text": [
      "Epoch: 951/1000, Loss: 0.4116, Val Precision: 0.6717, ACC: 0.2937, top_k: 0.3461, top_k=1: 0.2058\n"
     ]
    },
    {
     "name": "stdout",
     "output_type": "stream",
     "text": [
      "Epoch: 952/1000, Loss: 0.4131, Val Precision: 0.6713, ACC: 0.2951, top_k: 0.3468, top_k=1: 0.2058\n"
     ]
    },
    {
     "name": "stdout",
     "output_type": "stream",
     "text": [
      "Epoch: 953/1000, Loss: 0.4116, Val Precision: 0.6665, ACC: 0.2946, top_k: 0.3467, top_k=1: 0.2058\n"
     ]
    },
    {
     "name": "stdout",
     "output_type": "stream",
     "text": [
      "Epoch: 954/1000, Loss: 0.4118, Val Precision: 0.6646, ACC: 0.2947, top_k: 0.3466, top_k=1: 0.2058\n"
     ]
    },
    {
     "name": "stdout",
     "output_type": "stream",
     "text": [
      "Epoch: 955/1000, Loss: 0.4117, Val Precision: 0.6630, ACC: 0.2941, top_k: 0.3463, top_k=1: 0.2058\n"
     ]
    },
    {
     "name": "stdout",
     "output_type": "stream",
     "text": [
      "Epoch: 956/1000, Loss: 0.4123, Val Precision: 0.6654, ACC: 0.2944, top_k: 0.3471, top_k=1: 0.2058\n"
     ]
    },
    {
     "name": "stdout",
     "output_type": "stream",
     "text": [
      "Epoch: 957/1000, Loss: 0.4106, Val Precision: 0.6735, ACC: 0.2963, top_k: 0.3460, top_k=1: 0.2058\n"
     ]
    },
    {
     "name": "stdout",
     "output_type": "stream",
     "text": [
      "Epoch: 958/1000, Loss: 0.4130, Val Precision: 0.6759, ACC: 0.2963, top_k: 0.3458, top_k=1: 0.2058\n"
     ]
    },
    {
     "name": "stdout",
     "output_type": "stream",
     "text": [
      "Epoch: 959/1000, Loss: 0.4122, Val Precision: 0.6639, ACC: 0.2944, top_k: 0.3471, top_k=1: 0.2058\n"
     ]
    },
    {
     "name": "stdout",
     "output_type": "stream",
     "text": [
      "Epoch: 960/1000, Loss: 0.4113, Val Precision: 0.6557, ACC: 0.2930, top_k: 0.3470, top_k=1: 0.2058\n"
     ]
    },
    {
     "name": "stdout",
     "output_type": "stream",
     "text": [
      "Epoch: 961/1000, Loss: 0.4117, Val Precision: 0.6658, ACC: 0.2954, top_k: 0.3464, top_k=1: 0.2058\n"
     ]
    },
    {
     "name": "stdout",
     "output_type": "stream",
     "text": [
      "Epoch: 962/1000, Loss: 0.4111, Val Precision: 0.6737, ACC: 0.2970, top_k: 0.3471, top_k=1: 0.2058\n"
     ]
    },
    {
     "name": "stdout",
     "output_type": "stream",
     "text": [
      "Epoch: 963/1000, Loss: 0.4112, Val Precision: 0.6634, ACC: 0.2939, top_k: 0.3471, top_k=1: 0.2058\n"
     ]
    },
    {
     "name": "stdout",
     "output_type": "stream",
     "text": [
      "Epoch: 964/1000, Loss: 0.4110, Val Precision: 0.6608, ACC: 0.2929, top_k: 0.3469, top_k=1: 0.2058\n"
     ]
    },
    {
     "name": "stdout",
     "output_type": "stream",
     "text": [
      "Epoch: 965/1000, Loss: 0.4109, Val Precision: 0.6700, ACC: 0.2969, top_k: 0.3464, top_k=1: 0.2058\n"
     ]
    },
    {
     "name": "stdout",
     "output_type": "stream",
     "text": [
      "Epoch: 966/1000, Loss: 0.4113, Val Precision: 0.6741, ACC: 0.2962, top_k: 0.3475, top_k=1: 0.2058\n"
     ]
    },
    {
     "name": "stdout",
     "output_type": "stream",
     "text": [
      "Epoch: 967/1000, Loss: 0.4111, Val Precision: 0.6596, ACC: 0.2931, top_k: 0.3471, top_k=1: 0.2058\n"
     ]
    },
    {
     "name": "stdout",
     "output_type": "stream",
     "text": [
      "Epoch: 968/1000, Loss: 0.4113, Val Precision: 0.6563, ACC: 0.2926, top_k: 0.3468, top_k=1: 0.2058\n"
     ]
    },
    {
     "name": "stdout",
     "output_type": "stream",
     "text": [
      "Epoch: 969/1000, Loss: 0.4118, Val Precision: 0.6684, ACC: 0.2954, top_k: 0.3466, top_k=1: 0.2058\n"
     ]
    },
    {
     "name": "stdout",
     "output_type": "stream",
     "text": [
      "Epoch: 970/1000, Loss: 0.4105, Val Precision: 0.6731, ACC: 0.2963, top_k: 0.3474, top_k=1: 0.2058\n"
     ]
    },
    {
     "name": "stdout",
     "output_type": "stream",
     "text": [
      "Epoch: 971/1000, Loss: 0.4108, Val Precision: 0.6618, ACC: 0.2943, top_k: 0.3475, top_k=1: 0.2058\n"
     ]
    },
    {
     "name": "stdout",
     "output_type": "stream",
     "text": [
      "Epoch: 972/1000, Loss: 0.4113, Val Precision: 0.6606, ACC: 0.2943, top_k: 0.3474, top_k=1: 0.2058\n"
     ]
    },
    {
     "name": "stdout",
     "output_type": "stream",
     "text": [
      "Epoch: 973/1000, Loss: 0.4102, Val Precision: 0.6730, ACC: 0.2949, top_k: 0.3460, top_k=1: 0.2058\n"
     ]
    },
    {
     "name": "stdout",
     "output_type": "stream",
     "text": [
      "Epoch: 974/1000, Loss: 0.4118, Val Precision: 0.6752, ACC: 0.2956, top_k: 0.3460, top_k=1: 0.2058\n"
     ]
    },
    {
     "name": "stdout",
     "output_type": "stream",
     "text": [
      "Epoch: 975/1000, Loss: 0.4118, Val Precision: 0.6691, ACC: 0.2951, top_k: 0.3474, top_k=1: 0.2058\n"
     ]
    },
    {
     "name": "stdout",
     "output_type": "stream",
     "text": [
      "Epoch: 976/1000, Loss: 0.4104, Val Precision: 0.6558, ACC: 0.2933, top_k: 0.3470, top_k=1: 0.2058\n"
     ]
    },
    {
     "name": "stdout",
     "output_type": "stream",
     "text": [
      "Epoch: 977/1000, Loss: 0.4121, Val Precision: 0.6576, ACC: 0.2934, top_k: 0.3470, top_k=1: 0.2058\n"
     ]
    },
    {
     "name": "stdout",
     "output_type": "stream",
     "text": [
      "Epoch: 978/1000, Loss: 0.4129, Val Precision: 0.6655, ACC: 0.2944, top_k: 0.3477, top_k=1: 0.2058\n"
     ]
    },
    {
     "name": "stdout",
     "output_type": "stream",
     "text": [
      "Epoch: 979/1000, Loss: 0.4100, Val Precision: 0.6701, ACC: 0.2950, top_k: 0.3452, top_k=1: 0.2058\n"
     ]
    },
    {
     "name": "stdout",
     "output_type": "stream",
     "text": [
      "Epoch: 980/1000, Loss: 0.4133, Val Precision: 0.6794, ACC: 0.2969, top_k: 0.3443, top_k=1: 0.2058\n"
     ]
    },
    {
     "name": "stdout",
     "output_type": "stream",
     "text": [
      "Epoch: 981/1000, Loss: 0.4150, Val Precision: 0.6825, ACC: 0.2976, top_k: 0.3457, top_k=1: 0.2058\n"
     ]
    },
    {
     "name": "stdout",
     "output_type": "stream",
     "text": [
      "Epoch: 982/1000, Loss: 0.4133, Val Precision: 0.6757, ACC: 0.2963, top_k: 0.3469, top_k=1: 0.2058\n"
     ]
    },
    {
     "name": "stdout",
     "output_type": "stream",
     "text": [
      "Epoch: 983/1000, Loss: 0.4112, Val Precision: 0.6534, ACC: 0.2929, top_k: 0.3467, top_k=1: 0.2058\n"
     ]
    },
    {
     "name": "stdout",
     "output_type": "stream",
     "text": [
      "Epoch: 984/1000, Loss: 0.4123, Val Precision: 0.6469, ACC: 0.2920, top_k: 0.3466, top_k=1: 0.2058\n"
     ]
    },
    {
     "name": "stdout",
     "output_type": "stream",
     "text": [
      "Epoch: 985/1000, Loss: 0.4155, Val Precision: 0.6561, ACC: 0.2931, top_k: 0.3464, top_k=1: 0.2058\n"
     ]
    },
    {
     "name": "stdout",
     "output_type": "stream",
     "text": [
      "Epoch: 986/1000, Loss: 0.4124, Val Precision: 0.6748, ACC: 0.2967, top_k: 0.3474, top_k=1: 0.2058\n"
     ]
    },
    {
     "name": "stdout",
     "output_type": "stream",
     "text": [
      "Epoch: 987/1000, Loss: 0.4100, Val Precision: 0.6687, ACC: 0.2939, top_k: 0.3469, top_k=1: 0.2058\n"
     ]
    },
    {
     "name": "stdout",
     "output_type": "stream",
     "text": [
      "Epoch: 988/1000, Loss: 0.4114, Val Precision: 0.6680, ACC: 0.2943, top_k: 0.3465, top_k=1: 0.2058\n"
     ]
    },
    {
     "name": "stdout",
     "output_type": "stream",
     "text": [
      "Epoch: 989/1000, Loss: 0.4101, Val Precision: 0.6646, ACC: 0.2953, top_k: 0.3465, top_k=1: 0.2058\n"
     ]
    },
    {
     "name": "stdout",
     "output_type": "stream",
     "text": [
      "Epoch: 990/1000, Loss: 0.4112, Val Precision: 0.6659, ACC: 0.2949, top_k: 0.3467, top_k=1: 0.2058\n"
     ]
    },
    {
     "name": "stdout",
     "output_type": "stream",
     "text": [
      "Epoch: 991/1000, Loss: 0.4120, Val Precision: 0.6680, ACC: 0.2947, top_k: 0.3474, top_k=1: 0.2058\n"
     ]
    },
    {
     "name": "stdout",
     "output_type": "stream",
     "text": [
      "Epoch: 992/1000, Loss: 0.4098, Val Precision: 0.6608, ACC: 0.2926, top_k: 0.3461, top_k=1: 0.2058\n"
     ]
    },
    {
     "name": "stdout",
     "output_type": "stream",
     "text": [
      "Epoch: 993/1000, Loss: 0.4123, Val Precision: 0.6620, ACC: 0.2930, top_k: 0.3457, top_k=1: 0.2058\n"
     ]
    },
    {
     "name": "stdout",
     "output_type": "stream",
     "text": [
      "Epoch: 994/1000, Loss: 0.4129, Val Precision: 0.6726, ACC: 0.2960, top_k: 0.3458, top_k=1: 0.2058\n"
     ]
    },
    {
     "name": "stdout",
     "output_type": "stream",
     "text": [
      "Epoch: 995/1000, Loss: 0.4116, Val Precision: 0.6793, ACC: 0.2972, top_k: 0.3469, top_k=1: 0.2058\n"
     ]
    },
    {
     "name": "stdout",
     "output_type": "stream",
     "text": [
      "Epoch: 996/1000, Loss: 0.4107, Val Precision: 0.6617, ACC: 0.2940, top_k: 0.3469, top_k=1: 0.2058\n"
     ]
    },
    {
     "name": "stdout",
     "output_type": "stream",
     "text": [
      "Epoch: 997/1000, Loss: 0.4115, Val Precision: 0.6490, ACC: 0.2920, top_k: 0.3467, top_k=1: 0.2058\n"
     ]
    },
    {
     "name": "stdout",
     "output_type": "stream",
     "text": [
      "Epoch: 998/1000, Loss: 0.4126, Val Precision: 0.6512, ACC: 0.2917, top_k: 0.3476, top_k=1: 0.2058\n"
     ]
    },
    {
     "name": "stdout",
     "output_type": "stream",
     "text": [
      "Epoch: 999/1000, Loss: 0.4108, Val Precision: 0.6740, ACC: 0.2964, top_k: 0.3471, top_k=1: 0.2058\n"
     ]
    },
    {
     "name": "stdout",
     "output_type": "stream",
     "text": [
      "{\n",
      "    \"accuracy\": 0.2862474877978754,\n",
      "    \"micro_precision\": 0.6842253918938003,\n",
      "    \"macro_precision\": 0.6909607535555851,\n",
      "    \"recall\": 0.31115221057465325,\n",
      "    \"f1_score\": 0.4160564526540818,\n",
      "    \"auc\": 0.8016715230706151,\n",
      "    \"top_k_1\": 0.21290555596351624,\n",
      "    \"top_k_pred\": 0.35892191529273987\n",
      "}\n",
      "\t- Extracting and saving embeddings...\n"
     ]
    },
    {
     "name": "stdout",
     "output_type": "stream",
     "text": [
      "              precision    recall  f1-score   support\n",
      "\n",
      "     Class 0       0.64      0.48      0.55      2370\n",
      "     Class 1       0.59      0.27      0.37      1785\n",
      "     Class 2       0.67      0.31      0.42      1574\n",
      "     Class 3       0.80      0.53      0.64      1570\n",
      "     Class 4       0.74      0.21      0.33      1461\n",
      "     Class 5       0.63      0.28      0.39      1388\n",
      "     Class 6       0.71      0.38      0.49      1277\n",
      "     Class 7       0.73      0.23      0.35      1255\n",
      "     Class 8       0.66      0.10      0.17      1142\n",
      "     Class 9       0.74      0.33      0.46      1009\n",
      "\n",
      "   micro avg       0.68      0.33      0.44     14831\n",
      "   macro avg       0.69      0.31      0.42     14831\n",
      "weighted avg       0.68      0.33      0.43     14831\n",
      " samples avg       0.29      0.20      0.22     14831\n",
      "\n"
     ]
    },
    {
     "data": {
      "image/png": "[encoded data removed]",
      "text/plain": [
       "<Figure size 1500x800 with 2 Axes>"
      ]
     },
     "metadata": {},
     "output_type": "display_data"
    }
   ],
   "source": [
    "import os\n",
    "\n",
    "from weighted_sum_precision.GNN_functions_patients_only import *\n",
    "from weighted_sum_precision.GNN_SAGE import SAGE_MLC\n",
    "from weighted_sum_precision.GNN_GCN import GCN_MLC\n",
    "\n",
    "\n",
    "if __name__ == \"__main__\":\n",
    "    num_Sample     = int(os.getenv('num_Sample', 250))  # Default to 10000 if not set\n",
    "    num_Labels     = int(os.getenv('NUM_DISEASES', 203))  # Default to 100 if not set\n",
    "    num_top_Labels = int(os.getenv('NUM_TOP_DISEASES', 203))  # Selecting the top most frequent labels\n",
    "    disease_name   = os.getenv('DISEASE_FILE', f'DMPLB2')  # Default to 'sample/10000' if not set\n",
    "    num_Meta_Path  = int(os.getenv('num_Meta_Path', 10))  # Default to 10\n",
    "    num_epochs     = int(os.getenv('num_epochs', 50))    \n",
    "    # ============================================================================\n",
    "\n",
    "    saving_path = f'../Data/{num_Labels}_Diagnoses/{disease_name}/{num_Sample}/HGNN_data'\n",
    "\n",
    "    GNN_model = SAGE_MLC\n",
    "    with_SNF = False\n",
    "    super_class = '' # '_sc'\n",
    "    \n",
    "    exp_name = f'{num_epochs}_epochs_SNF{super_class}'\n",
    "\n",
    "    losses, val_metrics = main(saving_path, \n",
    "                               GNN_Model=GNN_model, \n",
    "                               num_epochs = num_epochs,\n",
    "                               with_SNF = with_SNF,\n",
    "                               exp_name = exp_name,\n",
    "                               super_class = super_class, \n",
    "                               num_Meta_Path = num_Meta_Path,\n",
    "                               top_k = 5,\n",
    "                               num_D = num_top_Labels)\n",
    "\n",
    "    plot_combined_metrics_and_loss(losses, val_metrics)\n",
    "\n",
    "    if with_SNF:\n",
    "        save_results(losses, val_metrics, f'{saving_path}/performance_SAGE_{num_epochs}_eps_SNF')\n",
    "    else:\n",
    "        save_results(losses, val_metrics, f'{saving_path}/performance_SAGE_{num_epochs}_eps')\n"
   ]
  }
 ],
 "metadata": {
  "kernelspec": {
   "display_name": "Python 3 (ipykernel)",
   "language": "python",
   "name": "python3"
  },
  "language_info": {
   "codemirror_mode": {
    "name": "ipython",
    "version": 3
   },
   "file_extension": ".py",
   "mimetype": "text/x-python",
   "name": "python",
   "nbconvert_exporter": "python",
   "pygments_lexer": "ipython3",
   "version": "3.11.9"
  }
 },
 "nbformat": 4,
 "nbformat_minor": 4
}
