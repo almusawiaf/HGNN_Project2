{
 "cells": [
  {
   "cell_type": "code",
   "execution_count": 1,
   "metadata": {
    "execution": {
     "iopub.execute_input": "2024-10-03T15:40:23.063488Z",
     "iopub.status.busy": "2024-10-03T15:40:23.063238Z",
     "iopub.status.idle": "2024-10-03T17:38:29.634475Z",
     "shell.execute_reply": "2024-10-03T17:38:29.633532Z"
    }
   },
   "outputs": [
    {
     "name": "stdout",
     "output_type": "stream",
     "text": [
      "\t- Loading the data...\n",
      "../Data/203_Diagnoses/DMPLB2/45454/HGNN_data\n"
     ]
    },
    {
     "name": "stderr",
     "output_type": "stream",
     "text": [
      "/home/almusawiaf/MyDocuments/PhD_Projects/HGNN_Project2/GNN_Models/weighted_sum_precision/GNN_functions_patients_only.py:245: FutureWarning: You are using `torch.load` with `weights_only=False` (the current default value), which uses the default pickle module implicitly. It is possible to construct malicious pickle data which will execute arbitrary code during unpickling (See https://github.com/pytorch/pytorch/blob/main/SECURITY.md#untrusted-models for more details). In a future release, the default value for `weights_only` will be flipped to `True`. This limits the functions that could be executed during unpickling. Arbitrary objects will no longer be allowed to be loaded via this mode unless they are explicitly allowlisted by the user via `torch.serialization.add_safe_globals`. We recommend you start setting `weights_only=True` for any use case where you don't have full control of the loaded file. Please open an issue on GitHub for any issues related to this experimental feature.\n",
      "  temp_Y = torch.load(f'{file_path}/Y{super_class}.pt')\n"
     ]
    },
    {
     "name": "stderr",
     "output_type": "stream",
     "text": [
      "/home/almusawiaf/MyDocuments/PhD_Projects/HGNN_Project2/GNN_Models/weighted_sum_precision/GNN_functions_patients_only.py:247: FutureWarning: You are using `torch.load` with `weights_only=False` (the current default value), which uses the default pickle module implicitly. It is possible to construct malicious pickle data which will execute arbitrary code during unpickling (See https://github.com/pytorch/pytorch/blob/main/SECURITY.md#untrusted-models for more details). In a future release, the default value for `weights_only` will be flipped to `True`. This limits the functions that could be executed during unpickling. Arbitrary objects will no longer be allowed to be loaded via this mode unless they are explicitly allowlisted by the user via `torch.serialization.add_safe_globals`. We recommend you start setting `weights_only=True` for any use case where you don't have full control of the loaded file. Please open an issue on GitHub for any issues related to this experimental feature.\n",
      "  X = torch.load(f'{file_path}/X.pt')\n"
     ]
    },
    {
     "name": "stdout",
     "output_type": "stream",
     "text": [
      "\t- Generating the Data structure ...\n",
      "\t- Generating the train, test, and validation sets...\n",
      "\t- Number of meta-paths used is :30\n",
      "\t- Preparing the model...\n",
      "\t- Epochs...\n"
     ]
    },
    {
     "name": "stdout",
     "output_type": "stream",
     "text": [
      "Epoch: 1/250, Loss: 4.7516, Val Precision: 0.0324, ACC: 0.0000, top_k: 0.0262, top_k=1: 0.0315\n"
     ]
    },
    {
     "name": "stdout",
     "output_type": "stream",
     "text": [
      "Epoch: 2/250, Loss: 4.2367, Val Precision: 0.0319, ACC: 0.0000, top_k: 0.0267, top_k=1: 0.0322\n"
     ]
    },
    {
     "name": "stdout",
     "output_type": "stream",
     "text": [
      "Epoch: 3/250, Loss: 3.4907, Val Precision: 0.0305, ACC: 0.0000, top_k: 0.0280, top_k=1: 0.0331\n"
     ]
    },
    {
     "name": "stdout",
     "output_type": "stream",
     "text": [
      "Epoch: 4/250, Loss: 2.6818, Val Precision: 0.0284, ACC: 0.0000, top_k: 0.0295, top_k=1: 0.0351\n"
     ]
    },
    {
     "name": "stdout",
     "output_type": "stream",
     "text": [
      "Epoch: 5/250, Loss: 1.9456, Val Precision: 0.0263, ACC: 0.0000, top_k: 0.0320, top_k=1: 0.0375\n"
     ]
    },
    {
     "name": "stdout",
     "output_type": "stream",
     "text": [
      "Epoch: 6/250, Loss: 1.3699, Val Precision: 0.0249, ACC: 0.0000, top_k: 0.0373, top_k=1: 0.0471\n"
     ]
    },
    {
     "name": "stdout",
     "output_type": "stream",
     "text": [
      "Epoch: 7/250, Loss: 0.9636, Val Precision: 0.0261, ACC: 0.0000, top_k: 0.0568, top_k=1: 0.0760\n"
     ]
    },
    {
     "name": "stdout",
     "output_type": "stream",
     "text": [
      "Epoch: 8/250, Loss: 0.7049, Val Precision: 0.0316, ACC: 0.0000, top_k: 0.1084, top_k=1: 0.1069\n"
     ]
    },
    {
     "name": "stdout",
     "output_type": "stream",
     "text": [
      "Epoch: 9/250, Loss: 0.5798, Val Precision: 0.0327, ACC: 0.0000, top_k: 0.1264, top_k=1: 0.1150\n"
     ]
    },
    {
     "name": "stdout",
     "output_type": "stream",
     "text": [
      "Epoch: 10/250, Loss: 0.5273, Val Precision: 0.0318, ACC: 0.0000, top_k: 0.1287, top_k=1: 0.1178\n"
     ]
    },
    {
     "name": "stdout",
     "output_type": "stream",
     "text": [
      "Epoch: 11/250, Loss: 0.5109, Val Precision: 0.0325, ACC: 0.0000, top_k: 0.1384, top_k=1: 0.1184\n"
     ]
    },
    {
     "name": "stdout",
     "output_type": "stream",
     "text": [
      "Epoch: 12/250, Loss: 0.4935, Val Precision: 0.0346, ACC: 0.0004, top_k: 0.1745, top_k=1: 0.1264\n"
     ]
    },
    {
     "name": "stdout",
     "output_type": "stream",
     "text": [
      "Epoch: 13/250, Loss: 0.4850, Val Precision: 0.0345, ACC: 0.0006, top_k: 0.2032, top_k=1: 0.1326\n"
     ]
    },
    {
     "name": "stdout",
     "output_type": "stream",
     "text": [
      "Epoch: 14/250, Loss: 0.4801, Val Precision: 0.0337, ACC: 0.0003, top_k: 0.2020, top_k=1: 0.1428\n"
     ]
    },
    {
     "name": "stdout",
     "output_type": "stream",
     "text": [
      "Epoch: 15/250, Loss: 0.4740, Val Precision: 0.0347, ACC: 0.0001, top_k: 0.1931, top_k=1: 0.1558\n"
     ]
    },
    {
     "name": "stdout",
     "output_type": "stream",
     "text": [
      "Epoch: 16/250, Loss: 0.4659, Val Precision: 0.0372, ACC: 0.0000, top_k: 0.1937, top_k=1: 0.1680\n"
     ]
    },
    {
     "name": "stdout",
     "output_type": "stream",
     "text": [
      "Epoch: 17/250, Loss: 0.4586, Val Precision: 0.0389, ACC: 0.0000, top_k: 0.1970, top_k=1: 0.1734\n"
     ]
    },
    {
     "name": "stdout",
     "output_type": "stream",
     "text": [
      "Epoch: 18/250, Loss: 0.4546, Val Precision: 0.0413, ACC: 0.0000, top_k: 0.1998, top_k=1: 0.1750\n"
     ]
    },
    {
     "name": "stdout",
     "output_type": "stream",
     "text": [
      "Epoch: 19/250, Loss: 0.4524, Val Precision: 0.0441, ACC: 0.0000, top_k: 0.2048, top_k=1: 0.1708\n"
     ]
    },
    {
     "name": "stdout",
     "output_type": "stream",
     "text": [
      "Epoch: 20/250, Loss: 0.4474, Val Precision: 0.0447, ACC: 0.0000, top_k: 0.2033, top_k=1: 0.1699\n"
     ]
    },
    {
     "name": "stdout",
     "output_type": "stream",
     "text": [
      "Epoch: 21/250, Loss: 0.4402, Val Precision: 0.0461, ACC: 0.0004, top_k: 0.2101, top_k=1: 0.1708\n"
     ]
    },
    {
     "name": "stdout",
     "output_type": "stream",
     "text": [
      "Epoch: 22/250, Loss: 0.4320, Val Precision: 0.0433, ACC: 0.0001, top_k: 0.2191, top_k=1: 0.1723\n"
     ]
    },
    {
     "name": "stdout",
     "output_type": "stream",
     "text": [
      "Epoch: 23/250, Loss: 0.4271, Val Precision: 0.0437, ACC: 0.0001, top_k: 0.2172, top_k=1: 0.1732\n"
     ]
    },
    {
     "name": "stdout",
     "output_type": "stream",
     "text": [
      "Epoch: 24/250, Loss: 0.4218, Val Precision: 0.0452, ACC: 0.0010, top_k: 0.2053, top_k=1: 0.1730\n"
     ]
    },
    {
     "name": "stdout",
     "output_type": "stream",
     "text": [
      "Epoch: 25/250, Loss: 0.4162, Val Precision: 0.0406, ACC: 0.0016, top_k: 0.1955, top_k=1: 0.1699\n"
     ]
    },
    {
     "name": "stdout",
     "output_type": "stream",
     "text": [
      "Epoch: 26/250, Loss: 0.4126, Val Precision: 0.0453, ACC: 0.0019, top_k: 0.1987, top_k=1: 0.1705\n"
     ]
    },
    {
     "name": "stdout",
     "output_type": "stream",
     "text": [
      "Epoch: 27/250, Loss: 0.4075, Val Precision: 0.0527, ACC: 0.0030, top_k: 0.2116, top_k=1: 0.1741\n"
     ]
    },
    {
     "name": "stdout",
     "output_type": "stream",
     "text": [
      "Epoch: 28/250, Loss: 0.3990, Val Precision: 0.0505, ACC: 0.0047, top_k: 0.2327, top_k=1: 0.1800\n"
     ]
    },
    {
     "name": "stdout",
     "output_type": "stream",
     "text": [
      "Epoch: 29/250, Loss: 0.3907, Val Precision: 0.0509, ACC: 0.0034, top_k: 0.2504, top_k=1: 0.1845\n"
     ]
    },
    {
     "name": "stdout",
     "output_type": "stream",
     "text": [
      "Epoch: 30/250, Loss: 0.3834, Val Precision: 0.0491, ACC: 0.0033, top_k: 0.2491, top_k=1: 0.1882\n"
     ]
    },
    {
     "name": "stdout",
     "output_type": "stream",
     "text": [
      "Epoch: 31/250, Loss: 0.3773, Val Precision: 0.0575, ACC: 0.0026, top_k: 0.2476, top_k=1: 0.1938\n"
     ]
    },
    {
     "name": "stdout",
     "output_type": "stream",
     "text": [
      "Epoch: 32/250, Loss: 0.3725, Val Precision: 0.0571, ACC: 0.0039, top_k: 0.2494, top_k=1: 0.1990\n"
     ]
    },
    {
     "name": "stdout",
     "output_type": "stream",
     "text": [
      "Epoch: 33/250, Loss: 0.3682, Val Precision: 0.0531, ACC: 0.0049, top_k: 0.2632, top_k=1: 0.2012\n"
     ]
    },
    {
     "name": "stdout",
     "output_type": "stream",
     "text": [
      "Epoch: 34/250, Loss: 0.3627, Val Precision: 0.0524, ACC: 0.0040, top_k: 0.2751, top_k=1: 0.2036\n"
     ]
    },
    {
     "name": "stdout",
     "output_type": "stream",
     "text": [
      "Epoch: 35/250, Loss: 0.3563, Val Precision: 0.0573, ACC: 0.0043, top_k: 0.2778, top_k=1: 0.2034\n"
     ]
    },
    {
     "name": "stdout",
     "output_type": "stream",
     "text": [
      "Epoch: 36/250, Loss: 0.3500, Val Precision: 0.0593, ACC: 0.0055, top_k: 0.2835, top_k=1: 0.2051\n"
     ]
    },
    {
     "name": "stdout",
     "output_type": "stream",
     "text": [
      "Epoch: 37/250, Loss: 0.3444, Val Precision: 0.0623, ACC: 0.0060, top_k: 0.2872, top_k=1: 0.2073\n"
     ]
    },
    {
     "name": "stdout",
     "output_type": "stream",
     "text": [
      "Epoch: 38/250, Loss: 0.3396, Val Precision: 0.0652, ACC: 0.0057, top_k: 0.2919, top_k=1: 0.2099\n"
     ]
    },
    {
     "name": "stdout",
     "output_type": "stream",
     "text": [
      "Epoch: 39/250, Loss: 0.3344, Val Precision: 0.0674, ACC: 0.0055, top_k: 0.2930, top_k=1: 0.2095\n"
     ]
    },
    {
     "name": "stdout",
     "output_type": "stream",
     "text": [
      "Epoch: 40/250, Loss: 0.3287, Val Precision: 0.0626, ACC: 0.0047, top_k: 0.2814, top_k=1: 0.2075\n"
     ]
    },
    {
     "name": "stdout",
     "output_type": "stream",
     "text": [
      "Epoch: 41/250, Loss: 0.3256, Val Precision: 0.0598, ACC: 0.0062, top_k: 0.2723, top_k=1: 0.2055\n"
     ]
    },
    {
     "name": "stdout",
     "output_type": "stream",
     "text": [
      "Epoch: 42/250, Loss: 0.3236, Val Precision: 0.0641, ACC: 0.0080, top_k: 0.2717, top_k=1: 0.2042\n"
     ]
    },
    {
     "name": "stdout",
     "output_type": "stream",
     "text": [
      "Epoch: 43/250, Loss: 0.3199, Val Precision: 0.0699, ACC: 0.0118, top_k: 0.2781, top_k=1: 0.2061\n"
     ]
    },
    {
     "name": "stdout",
     "output_type": "stream",
     "text": [
      "Epoch: 44/250, Loss: 0.3152, Val Precision: 0.0626, ACC: 0.0148, top_k: 0.2880, top_k=1: 0.2092\n"
     ]
    },
    {
     "name": "stdout",
     "output_type": "stream",
     "text": [
      "Epoch: 45/250, Loss: 0.3108, Val Precision: 0.0686, ACC: 0.0167, top_k: 0.2976, top_k=1: 0.2107\n"
     ]
    },
    {
     "name": "stdout",
     "output_type": "stream",
     "text": [
      "Epoch: 46/250, Loss: 0.3074, Val Precision: 0.0665, ACC: 0.0172, top_k: 0.3075, top_k=1: 0.2142\n"
     ]
    },
    {
     "name": "stdout",
     "output_type": "stream",
     "text": [
      "Epoch: 47/250, Loss: 0.3037, Val Precision: 0.0825, ACC: 0.0182, top_k: 0.3187, top_k=1: 0.2185\n"
     ]
    },
    {
     "name": "stdout",
     "output_type": "stream",
     "text": [
      "Epoch: 48/250, Loss: 0.2993, Val Precision: 0.0694, ACC: 0.0201, top_k: 0.3232, top_k=1: 0.2228\n"
     ]
    },
    {
     "name": "stdout",
     "output_type": "stream",
     "text": [
      "Epoch: 49/250, Loss: 0.2950, Val Precision: 0.0695, ACC: 0.0207, top_k: 0.3221, top_k=1: 0.2258\n"
     ]
    },
    {
     "name": "stdout",
     "output_type": "stream",
     "text": [
      "Epoch: 50/250, Loss: 0.2921, Val Precision: 0.0746, ACC: 0.0207, top_k: 0.3224, top_k=1: 0.2278\n"
     ]
    },
    {
     "name": "stdout",
     "output_type": "stream",
     "text": [
      "Epoch: 51/250, Loss: 0.2897, Val Precision: 0.0740, ACC: 0.0208, top_k: 0.3235, top_k=1: 0.2289\n"
     ]
    },
    {
     "name": "stdout",
     "output_type": "stream",
     "text": [
      "Epoch: 52/250, Loss: 0.2870, Val Precision: 0.0793, ACC: 0.0230, top_k: 0.3239, top_k=1: 0.2290\n"
     ]
    },
    {
     "name": "stdout",
     "output_type": "stream",
     "text": [
      "Epoch: 53/250, Loss: 0.2840, Val Precision: 0.0812, ACC: 0.0257, top_k: 0.3250, top_k=1: 0.2281\n"
     ]
    },
    {
     "name": "stdout",
     "output_type": "stream",
     "text": [
      "Epoch: 54/250, Loss: 0.2806, Val Precision: 0.0868, ACC: 0.0291, top_k: 0.3272, top_k=1: 0.2277\n"
     ]
    },
    {
     "name": "stdout",
     "output_type": "stream",
     "text": [
      "Epoch: 55/250, Loss: 0.2768, Val Precision: 0.0860, ACC: 0.0314, top_k: 0.3312, top_k=1: 0.2283\n"
     ]
    },
    {
     "name": "stdout",
     "output_type": "stream",
     "text": [
      "Epoch: 56/250, Loss: 0.2732, Val Precision: 0.0821, ACC: 0.0336, top_k: 0.3299, top_k=1: 0.2287\n"
     ]
    },
    {
     "name": "stdout",
     "output_type": "stream",
     "text": [
      "Epoch: 57/250, Loss: 0.2708, Val Precision: 0.0853, ACC: 0.0340, top_k: 0.3273, top_k=1: 0.2284\n"
     ]
    },
    {
     "name": "stdout",
     "output_type": "stream",
     "text": [
      "Epoch: 58/250, Loss: 0.2686, Val Precision: 0.0869, ACC: 0.0353, top_k: 0.3288, top_k=1: 0.2284\n"
     ]
    },
    {
     "name": "stdout",
     "output_type": "stream",
     "text": [
      "Epoch: 59/250, Loss: 0.2660, Val Precision: 0.0883, ACC: 0.0365, top_k: 0.3286, top_k=1: 0.2269\n"
     ]
    },
    {
     "name": "stdout",
     "output_type": "stream",
     "text": [
      "Epoch: 60/250, Loss: 0.2635, Val Precision: 0.0919, ACC: 0.0340, top_k: 0.3225, top_k=1: 0.2250\n"
     ]
    },
    {
     "name": "stdout",
     "output_type": "stream",
     "text": [
      "Epoch: 61/250, Loss: 0.2617, Val Precision: 0.0846, ACC: 0.0346, top_k: 0.3186, top_k=1: 0.2244\n"
     ]
    },
    {
     "name": "stdout",
     "output_type": "stream",
     "text": [
      "Epoch: 62/250, Loss: 0.2602, Val Precision: 0.0922, ACC: 0.0342, top_k: 0.3211, top_k=1: 0.2264\n"
     ]
    },
    {
     "name": "stdout",
     "output_type": "stream",
     "text": [
      "Epoch: 63/250, Loss: 0.2583, Val Precision: 0.0931, ACC: 0.0350, top_k: 0.3263, top_k=1: 0.2302\n"
     ]
    },
    {
     "name": "stdout",
     "output_type": "stream",
     "text": [
      "Epoch: 64/250, Loss: 0.2557, Val Precision: 0.0902, ACC: 0.0363, top_k: 0.3307, top_k=1: 0.2338\n"
     ]
    },
    {
     "name": "stdout",
     "output_type": "stream",
     "text": [
      "Epoch: 65/250, Loss: 0.2535, Val Precision: 0.0896, ACC: 0.0376, top_k: 0.3358, top_k=1: 0.2359\n"
     ]
    },
    {
     "name": "stdout",
     "output_type": "stream",
     "text": [
      "Epoch: 66/250, Loss: 0.2515, Val Precision: 0.0874, ACC: 0.0379, top_k: 0.3396, top_k=1: 0.2375\n"
     ]
    },
    {
     "name": "stdout",
     "output_type": "stream",
     "text": [
      "Epoch: 67/250, Loss: 0.2500, Val Precision: 0.0944, ACC: 0.0382, top_k: 0.3429, top_k=1: 0.2391\n"
     ]
    },
    {
     "name": "stdout",
     "output_type": "stream",
     "text": [
      "Epoch: 68/250, Loss: 0.2487, Val Precision: 0.0924, ACC: 0.0401, top_k: 0.3462, top_k=1: 0.2405\n"
     ]
    },
    {
     "name": "stdout",
     "output_type": "stream",
     "text": [
      "Epoch: 69/250, Loss: 0.2471, Val Precision: 0.0935, ACC: 0.0405, top_k: 0.3471, top_k=1: 0.2420\n"
     ]
    },
    {
     "name": "stdout",
     "output_type": "stream",
     "text": [
      "Epoch: 70/250, Loss: 0.2455, Val Precision: 0.1004, ACC: 0.0398, top_k: 0.3474, top_k=1: 0.2428\n"
     ]
    },
    {
     "name": "stdout",
     "output_type": "stream",
     "text": [
      "Epoch: 71/250, Loss: 0.2438, Val Precision: 0.0972, ACC: 0.0389, top_k: 0.3475, top_k=1: 0.2445\n"
     ]
    },
    {
     "name": "stdout",
     "output_type": "stream",
     "text": [
      "Epoch: 72/250, Loss: 0.2421, Val Precision: 0.0922, ACC: 0.0392, top_k: 0.3487, top_k=1: 0.2453\n"
     ]
    },
    {
     "name": "stdout",
     "output_type": "stream",
     "text": [
      "Epoch: 73/250, Loss: 0.2407, Val Precision: 0.0943, ACC: 0.0389, top_k: 0.3483, top_k=1: 0.2460\n"
     ]
    },
    {
     "name": "stdout",
     "output_type": "stream",
     "text": [
      "Epoch: 74/250, Loss: 0.2394, Val Precision: 0.0979, ACC: 0.0393, top_k: 0.3495, top_k=1: 0.2464\n"
     ]
    },
    {
     "name": "stdout",
     "output_type": "stream",
     "text": [
      "Epoch: 75/250, Loss: 0.2379, Val Precision: 0.0969, ACC: 0.0399, top_k: 0.3520, top_k=1: 0.2469\n"
     ]
    },
    {
     "name": "stdout",
     "output_type": "stream",
     "text": [
      "Epoch: 76/250, Loss: 0.2364, Val Precision: 0.0958, ACC: 0.0403, top_k: 0.3553, top_k=1: 0.2475\n"
     ]
    },
    {
     "name": "stdout",
     "output_type": "stream",
     "text": [
      "Epoch: 77/250, Loss: 0.2350, Val Precision: 0.0965, ACC: 0.0409, top_k: 0.3568, top_k=1: 0.2481\n"
     ]
    },
    {
     "name": "stdout",
     "output_type": "stream",
     "text": [
      "Epoch: 78/250, Loss: 0.2337, Val Precision: 0.0948, ACC: 0.0412, top_k: 0.3586, top_k=1: 0.2490\n"
     ]
    },
    {
     "name": "stdout",
     "output_type": "stream",
     "text": [
      "Epoch: 79/250, Loss: 0.2325, Val Precision: 0.0985, ACC: 0.0416, top_k: 0.3606, top_k=1: 0.2494\n"
     ]
    },
    {
     "name": "stdout",
     "output_type": "stream",
     "text": [
      "Epoch: 80/250, Loss: 0.2312, Val Precision: 0.0973, ACC: 0.0416, top_k: 0.3610, top_k=1: 0.2495\n"
     ]
    },
    {
     "name": "stdout",
     "output_type": "stream",
     "text": [
      "Epoch: 81/250, Loss: 0.2300, Val Precision: 0.0940, ACC: 0.0413, top_k: 0.3609, top_k=1: 0.2498\n"
     ]
    },
    {
     "name": "stdout",
     "output_type": "stream",
     "text": [
      "Epoch: 82/250, Loss: 0.2290, Val Precision: 0.0950, ACC: 0.0412, top_k: 0.3614, top_k=1: 0.2505\n"
     ]
    },
    {
     "name": "stdout",
     "output_type": "stream",
     "text": [
      "Epoch: 83/250, Loss: 0.2280, Val Precision: 0.0935, ACC: 0.0408, top_k: 0.3618, top_k=1: 0.2515\n"
     ]
    },
    {
     "name": "stdout",
     "output_type": "stream",
     "text": [
      "Epoch: 84/250, Loss: 0.2270, Val Precision: 0.0949, ACC: 0.0409, top_k: 0.3627, top_k=1: 0.2521\n"
     ]
    },
    {
     "name": "stdout",
     "output_type": "stream",
     "text": [
      "Epoch: 85/250, Loss: 0.2259, Val Precision: 0.0953, ACC: 0.0411, top_k: 0.3643, top_k=1: 0.2530\n"
     ]
    },
    {
     "name": "stdout",
     "output_type": "stream",
     "text": [
      "Epoch: 86/250, Loss: 0.2248, Val Precision: 0.0980, ACC: 0.0412, top_k: 0.3660, top_k=1: 0.2538\n"
     ]
    },
    {
     "name": "stdout",
     "output_type": "stream",
     "text": [
      "Epoch: 87/250, Loss: 0.2239, Val Precision: 0.1004, ACC: 0.0418, top_k: 0.3679, top_k=1: 0.2550\n"
     ]
    },
    {
     "name": "stdout",
     "output_type": "stream",
     "text": [
      "Epoch: 88/250, Loss: 0.2231, Val Precision: 0.0913, ACC: 0.0412, top_k: 0.3708, top_k=1: 0.2557\n"
     ]
    },
    {
     "name": "stdout",
     "output_type": "stream",
     "text": [
      "Epoch: 89/250, Loss: 0.2222, Val Precision: 0.0964, ACC: 0.0412, top_k: 0.3716, top_k=1: 0.2562\n"
     ]
    },
    {
     "name": "stdout",
     "output_type": "stream",
     "text": [
      "Epoch: 90/250, Loss: 0.2213, Val Precision: 0.1013, ACC: 0.0416, top_k: 0.3711, top_k=1: 0.2566\n"
     ]
    },
    {
     "name": "stdout",
     "output_type": "stream",
     "text": [
      "Epoch: 91/250, Loss: 0.2204, Val Precision: 0.1060, ACC: 0.0416, top_k: 0.3711, top_k=1: 0.2566\n"
     ]
    },
    {
     "name": "stdout",
     "output_type": "stream",
     "text": [
      "Epoch: 92/250, Loss: 0.2196, Val Precision: 0.1066, ACC: 0.0419, top_k: 0.3710, top_k=1: 0.2567\n"
     ]
    },
    {
     "name": "stdout",
     "output_type": "stream",
     "text": [
      "Epoch: 93/250, Loss: 0.2188, Val Precision: 0.1039, ACC: 0.0419, top_k: 0.3716, top_k=1: 0.2565\n"
     ]
    },
    {
     "name": "stdout",
     "output_type": "stream",
     "text": [
      "Epoch: 94/250, Loss: 0.2180, Val Precision: 0.1054, ACC: 0.0415, top_k: 0.3723, top_k=1: 0.2564\n"
     ]
    },
    {
     "name": "stdout",
     "output_type": "stream",
     "text": [
      "Epoch: 95/250, Loss: 0.2173, Val Precision: 0.1006, ACC: 0.0416, top_k: 0.3732, top_k=1: 0.2565\n"
     ]
    },
    {
     "name": "stdout",
     "output_type": "stream",
     "text": [
      "Epoch: 96/250, Loss: 0.2166, Val Precision: 0.0990, ACC: 0.0419, top_k: 0.3738, top_k=1: 0.2561\n"
     ]
    },
    {
     "name": "stdout",
     "output_type": "stream",
     "text": [
      "Epoch: 97/250, Loss: 0.2160, Val Precision: 0.1056, ACC: 0.0416, top_k: 0.3739, top_k=1: 0.2564\n"
     ]
    },
    {
     "name": "stdout",
     "output_type": "stream",
     "text": [
      "Epoch: 98/250, Loss: 0.2153, Val Precision: 0.1063, ACC: 0.0416, top_k: 0.3741, top_k=1: 0.2562\n"
     ]
    },
    {
     "name": "stdout",
     "output_type": "stream",
     "text": [
      "Epoch: 99/250, Loss: 0.2146, Val Precision: 0.1087, ACC: 0.0419, top_k: 0.3740, top_k=1: 0.2567\n"
     ]
    },
    {
     "name": "stdout",
     "output_type": "stream",
     "text": [
      "Epoch: 100/250, Loss: 0.2140, Val Precision: 0.1047, ACC: 0.0422, top_k: 0.3734, top_k=1: 0.2571\n"
     ]
    },
    {
     "name": "stdout",
     "output_type": "stream",
     "text": [
      "Epoch: 101/250, Loss: 0.2134, Val Precision: 0.1058, ACC: 0.0421, top_k: 0.3733, top_k=1: 0.2574\n"
     ]
    },
    {
     "name": "stdout",
     "output_type": "stream",
     "text": [
      "Epoch: 102/250, Loss: 0.2128, Val Precision: 0.1064, ACC: 0.0418, top_k: 0.3747, top_k=1: 0.2576\n"
     ]
    },
    {
     "name": "stdout",
     "output_type": "stream",
     "text": [
      "Epoch: 103/250, Loss: 0.2123, Val Precision: 0.1077, ACC: 0.0421, top_k: 0.3765, top_k=1: 0.2583\n"
     ]
    },
    {
     "name": "stdout",
     "output_type": "stream",
     "text": [
      "Epoch: 104/250, Loss: 0.2117, Val Precision: 0.1101, ACC: 0.0422, top_k: 0.3789, top_k=1: 0.2591\n"
     ]
    },
    {
     "name": "stdout",
     "output_type": "stream",
     "text": [
      "Epoch: 105/250, Loss: 0.2111, Val Precision: 0.1156, ACC: 0.0425, top_k: 0.3806, top_k=1: 0.2600\n"
     ]
    },
    {
     "name": "stdout",
     "output_type": "stream",
     "text": [
      "Epoch: 106/250, Loss: 0.2105, Val Precision: 0.1136, ACC: 0.0429, top_k: 0.3831, top_k=1: 0.2610\n"
     ]
    },
    {
     "name": "stdout",
     "output_type": "stream",
     "text": [
      "Epoch: 107/250, Loss: 0.2099, Val Precision: 0.1114, ACC: 0.0428, top_k: 0.3854, top_k=1: 0.2622\n"
     ]
    },
    {
     "name": "stdout",
     "output_type": "stream",
     "text": [
      "Epoch: 108/250, Loss: 0.2095, Val Precision: 0.1156, ACC: 0.0426, top_k: 0.3872, top_k=1: 0.2632\n"
     ]
    },
    {
     "name": "stdout",
     "output_type": "stream",
     "text": [
      "Epoch: 109/250, Loss: 0.2089, Val Precision: 0.1205, ACC: 0.0428, top_k: 0.3880, top_k=1: 0.2645\n"
     ]
    },
    {
     "name": "stdout",
     "output_type": "stream",
     "text": [
      "Epoch: 110/250, Loss: 0.2084, Val Precision: 0.1198, ACC: 0.0432, top_k: 0.3894, top_k=1: 0.2650\n"
     ]
    },
    {
     "name": "stdout",
     "output_type": "stream",
     "text": [
      "Epoch: 111/250, Loss: 0.2079, Val Precision: 0.1193, ACC: 0.0431, top_k: 0.3906, top_k=1: 0.2655\n"
     ]
    },
    {
     "name": "stdout",
     "output_type": "stream",
     "text": [
      "Epoch: 112/250, Loss: 0.2074, Val Precision: 0.1223, ACC: 0.0431, top_k: 0.3920, top_k=1: 0.2663\n"
     ]
    },
    {
     "name": "stdout",
     "output_type": "stream",
     "text": [
      "Epoch: 113/250, Loss: 0.2069, Val Precision: 0.1212, ACC: 0.0431, top_k: 0.3923, top_k=1: 0.2665\n"
     ]
    },
    {
     "name": "stdout",
     "output_type": "stream",
     "text": [
      "Epoch: 114/250, Loss: 0.2065, Val Precision: 0.1243, ACC: 0.0432, top_k: 0.3931, top_k=1: 0.2669\n"
     ]
    },
    {
     "name": "stdout",
     "output_type": "stream",
     "text": [
      "Epoch: 115/250, Loss: 0.2060, Val Precision: 0.1254, ACC: 0.0429, top_k: 0.3937, top_k=1: 0.2676\n"
     ]
    },
    {
     "name": "stdout",
     "output_type": "stream",
     "text": [
      "Epoch: 116/250, Loss: 0.2055, Val Precision: 0.1194, ACC: 0.0431, top_k: 0.3945, top_k=1: 0.2683\n"
     ]
    },
    {
     "name": "stdout",
     "output_type": "stream",
     "text": [
      "Epoch: 117/250, Loss: 0.2051, Val Precision: 0.1174, ACC: 0.0431, top_k: 0.3949, top_k=1: 0.2685\n"
     ]
    },
    {
     "name": "stdout",
     "output_type": "stream",
     "text": [
      "Epoch: 118/250, Loss: 0.2047, Val Precision: 0.1211, ACC: 0.0434, top_k: 0.3960, top_k=1: 0.2688\n"
     ]
    },
    {
     "name": "stdout",
     "output_type": "stream",
     "text": [
      "Epoch: 119/250, Loss: 0.2042, Val Precision: 0.1214, ACC: 0.0435, top_k: 0.3966, top_k=1: 0.2690\n"
     ]
    },
    {
     "name": "stdout",
     "output_type": "stream",
     "text": [
      "Epoch: 120/250, Loss: 0.2038, Val Precision: 0.1209, ACC: 0.0431, top_k: 0.3970, top_k=1: 0.2692\n"
     ]
    },
    {
     "name": "stdout",
     "output_type": "stream",
     "text": [
      "Epoch: 121/250, Loss: 0.2034, Val Precision: 0.1214, ACC: 0.0431, top_k: 0.3980, top_k=1: 0.2692\n"
     ]
    },
    {
     "name": "stdout",
     "output_type": "stream",
     "text": [
      "Epoch: 122/250, Loss: 0.2030, Val Precision: 0.1247, ACC: 0.0434, top_k: 0.3988, top_k=1: 0.2697\n"
     ]
    },
    {
     "name": "stdout",
     "output_type": "stream",
     "text": [
      "Epoch: 123/250, Loss: 0.2026, Val Precision: 0.1229, ACC: 0.0435, top_k: 0.3989, top_k=1: 0.2702\n"
     ]
    },
    {
     "name": "stdout",
     "output_type": "stream",
     "text": [
      "Epoch: 124/250, Loss: 0.2022, Val Precision: 0.1222, ACC: 0.0434, top_k: 0.3994, top_k=1: 0.2708\n"
     ]
    },
    {
     "name": "stdout",
     "output_type": "stream",
     "text": [
      "Epoch: 125/250, Loss: 0.2018, Val Precision: 0.1223, ACC: 0.0432, top_k: 0.4004, top_k=1: 0.2710\n"
     ]
    },
    {
     "name": "stdout",
     "output_type": "stream",
     "text": [
      "Epoch: 126/250, Loss: 0.2014, Val Precision: 0.1225, ACC: 0.0434, top_k: 0.4011, top_k=1: 0.2716\n"
     ]
    },
    {
     "name": "stdout",
     "output_type": "stream",
     "text": [
      "Epoch: 127/250, Loss: 0.2010, Val Precision: 0.1208, ACC: 0.0434, top_k: 0.4016, top_k=1: 0.2721\n"
     ]
    },
    {
     "name": "stdout",
     "output_type": "stream",
     "text": [
      "Epoch: 128/250, Loss: 0.2007, Val Precision: 0.1206, ACC: 0.0434, top_k: 0.4021, top_k=1: 0.2724\n"
     ]
    },
    {
     "name": "stdout",
     "output_type": "stream",
     "text": [
      "Epoch: 129/250, Loss: 0.2003, Val Precision: 0.1221, ACC: 0.0435, top_k: 0.4028, top_k=1: 0.2727\n"
     ]
    },
    {
     "name": "stdout",
     "output_type": "stream",
     "text": [
      "Epoch: 130/250, Loss: 0.2000, Val Precision: 0.1231, ACC: 0.0436, top_k: 0.4028, top_k=1: 0.2730\n"
     ]
    },
    {
     "name": "stdout",
     "output_type": "stream",
     "text": [
      "Epoch: 131/250, Loss: 0.1996, Val Precision: 0.1268, ACC: 0.0439, top_k: 0.4032, top_k=1: 0.2732\n"
     ]
    },
    {
     "name": "stdout",
     "output_type": "stream",
     "text": [
      "Epoch: 132/250, Loss: 0.1993, Val Precision: 0.1260, ACC: 0.0436, top_k: 0.4037, top_k=1: 0.2735\n"
     ]
    },
    {
     "name": "stdout",
     "output_type": "stream",
     "text": [
      "Epoch: 133/250, Loss: 0.1989, Val Precision: 0.1270, ACC: 0.0438, top_k: 0.4041, top_k=1: 0.2738\n"
     ]
    },
    {
     "name": "stdout",
     "output_type": "stream",
     "text": [
      "Epoch: 134/250, Loss: 0.1986, Val Precision: 0.1244, ACC: 0.0439, top_k: 0.4050, top_k=1: 0.2740\n"
     ]
    },
    {
     "name": "stdout",
     "output_type": "stream",
     "text": [
      "Epoch: 135/250, Loss: 0.1983, Val Precision: 0.1260, ACC: 0.0441, top_k: 0.4051, top_k=1: 0.2743\n"
     ]
    },
    {
     "name": "stdout",
     "output_type": "stream",
     "text": [
      "Epoch: 136/250, Loss: 0.1979, Val Precision: 0.1273, ACC: 0.0439, top_k: 0.4052, top_k=1: 0.2746\n"
     ]
    },
    {
     "name": "stdout",
     "output_type": "stream",
     "text": [
      "Epoch: 137/250, Loss: 0.1976, Val Precision: 0.1262, ACC: 0.0439, top_k: 0.4058, top_k=1: 0.2749\n"
     ]
    },
    {
     "name": "stdout",
     "output_type": "stream",
     "text": [
      "Epoch: 138/250, Loss: 0.1973, Val Precision: 0.1263, ACC: 0.0441, top_k: 0.4059, top_k=1: 0.2751\n"
     ]
    },
    {
     "name": "stdout",
     "output_type": "stream",
     "text": [
      "Epoch: 139/250, Loss: 0.1970, Val Precision: 0.1272, ACC: 0.0442, top_k: 0.4064, top_k=1: 0.2754\n"
     ]
    },
    {
     "name": "stdout",
     "output_type": "stream",
     "text": [
      "Epoch: 140/250, Loss: 0.1967, Val Precision: 0.1299, ACC: 0.0442, top_k: 0.4067, top_k=1: 0.2755\n"
     ]
    },
    {
     "name": "stdout",
     "output_type": "stream",
     "text": [
      "Epoch: 141/250, Loss: 0.1964, Val Precision: 0.1316, ACC: 0.0444, top_k: 0.4073, top_k=1: 0.2760\n"
     ]
    },
    {
     "name": "stdout",
     "output_type": "stream",
     "text": [
      "Epoch: 142/250, Loss: 0.1961, Val Precision: 0.1310, ACC: 0.0442, top_k: 0.4075, top_k=1: 0.2763\n"
     ]
    },
    {
     "name": "stdout",
     "output_type": "stream",
     "text": [
      "Epoch: 143/250, Loss: 0.1958, Val Precision: 0.1297, ACC: 0.0444, top_k: 0.4081, top_k=1: 0.2765\n"
     ]
    },
    {
     "name": "stdout",
     "output_type": "stream",
     "text": [
      "Epoch: 144/250, Loss: 0.1955, Val Precision: 0.1295, ACC: 0.0444, top_k: 0.4083, top_k=1: 0.2770\n"
     ]
    },
    {
     "name": "stdout",
     "output_type": "stream",
     "text": [
      "Epoch: 145/250, Loss: 0.1952, Val Precision: 0.1297, ACC: 0.0442, top_k: 0.4089, top_k=1: 0.2772\n"
     ]
    },
    {
     "name": "stdout",
     "output_type": "stream",
     "text": [
      "Epoch: 146/250, Loss: 0.1949, Val Precision: 0.1301, ACC: 0.0442, top_k: 0.4092, top_k=1: 0.2774\n"
     ]
    },
    {
     "name": "stdout",
     "output_type": "stream",
     "text": [
      "Epoch: 147/250, Loss: 0.1946, Val Precision: 0.1319, ACC: 0.0439, top_k: 0.4101, top_k=1: 0.2774\n"
     ]
    },
    {
     "name": "stdout",
     "output_type": "stream",
     "text": [
      "Epoch: 148/250, Loss: 0.1943, Val Precision: 0.1318, ACC: 0.0439, top_k: 0.4104, top_k=1: 0.2778\n"
     ]
    },
    {
     "name": "stdout",
     "output_type": "stream",
     "text": [
      "Epoch: 149/250, Loss: 0.1940, Val Precision: 0.1299, ACC: 0.0439, top_k: 0.4105, top_k=1: 0.2780\n"
     ]
    },
    {
     "name": "stdout",
     "output_type": "stream",
     "text": [
      "Epoch: 150/250, Loss: 0.1937, Val Precision: 0.1361, ACC: 0.0439, top_k: 0.4111, top_k=1: 0.2780\n"
     ]
    },
    {
     "name": "stdout",
     "output_type": "stream",
     "text": [
      "Epoch: 151/250, Loss: 0.1934, Val Precision: 0.1327, ACC: 0.0439, top_k: 0.4114, top_k=1: 0.2784\n"
     ]
    },
    {
     "name": "stdout",
     "output_type": "stream",
     "text": [
      "Epoch: 152/250, Loss: 0.1932, Val Precision: 0.1358, ACC: 0.0439, top_k: 0.4117, top_k=1: 0.2789\n"
     ]
    },
    {
     "name": "stdout",
     "output_type": "stream",
     "text": [
      "Epoch: 153/250, Loss: 0.1929, Val Precision: 0.1311, ACC: 0.0439, top_k: 0.4115, top_k=1: 0.2788\n"
     ]
    },
    {
     "name": "stdout",
     "output_type": "stream",
     "text": [
      "Epoch: 154/250, Loss: 0.1927, Val Precision: 0.1325, ACC: 0.0439, top_k: 0.4121, top_k=1: 0.2792\n"
     ]
    },
    {
     "name": "stdout",
     "output_type": "stream",
     "text": [
      "Epoch: 155/250, Loss: 0.1924, Val Precision: 0.1323, ACC: 0.0439, top_k: 0.4126, top_k=1: 0.2793\n"
     ]
    },
    {
     "name": "stdout",
     "output_type": "stream",
     "text": [
      "Epoch: 156/250, Loss: 0.1921, Val Precision: 0.1349, ACC: 0.0438, top_k: 0.4129, top_k=1: 0.2794\n"
     ]
    },
    {
     "name": "stdout",
     "output_type": "stream",
     "text": [
      "Epoch: 157/250, Loss: 0.1919, Val Precision: 0.1324, ACC: 0.0435, top_k: 0.4131, top_k=1: 0.2797\n"
     ]
    },
    {
     "name": "stdout",
     "output_type": "stream",
     "text": [
      "Epoch: 158/250, Loss: 0.1916, Val Precision: 0.1331, ACC: 0.0435, top_k: 0.4131, top_k=1: 0.2800\n"
     ]
    },
    {
     "name": "stdout",
     "output_type": "stream",
     "text": [
      "Epoch: 159/250, Loss: 0.1914, Val Precision: 0.1333, ACC: 0.0435, top_k: 0.4137, top_k=1: 0.2802\n"
     ]
    },
    {
     "name": "stdout",
     "output_type": "stream",
     "text": [
      "Epoch: 160/250, Loss: 0.1911, Val Precision: 0.1386, ACC: 0.0435, top_k: 0.4134, top_k=1: 0.2804\n"
     ]
    },
    {
     "name": "stdout",
     "output_type": "stream",
     "text": [
      "Epoch: 161/250, Loss: 0.1908, Val Precision: 0.1348, ACC: 0.0435, top_k: 0.4141, top_k=1: 0.2807\n"
     ]
    },
    {
     "name": "stdout",
     "output_type": "stream",
     "text": [
      "Epoch: 162/250, Loss: 0.1906, Val Precision: 0.1315, ACC: 0.0435, top_k: 0.4140, top_k=1: 0.2808\n"
     ]
    },
    {
     "name": "stdout",
     "output_type": "stream",
     "text": [
      "Epoch: 163/250, Loss: 0.1903, Val Precision: 0.1355, ACC: 0.0435, top_k: 0.4146, top_k=1: 0.2811\n"
     ]
    },
    {
     "name": "stdout",
     "output_type": "stream",
     "text": [
      "Epoch: 164/250, Loss: 0.1901, Val Precision: 0.1315, ACC: 0.0435, top_k: 0.4148, top_k=1: 0.2812\n"
     ]
    },
    {
     "name": "stdout",
     "output_type": "stream",
     "text": [
      "Epoch: 165/250, Loss: 0.1899, Val Precision: 0.1349, ACC: 0.0434, top_k: 0.4153, top_k=1: 0.2818\n"
     ]
    },
    {
     "name": "stdout",
     "output_type": "stream",
     "text": [
      "Epoch: 166/250, Loss: 0.1896, Val Precision: 0.1407, ACC: 0.0435, top_k: 0.4152, top_k=1: 0.2818\n"
     ]
    },
    {
     "name": "stdout",
     "output_type": "stream",
     "text": [
      "Epoch: 167/250, Loss: 0.1894, Val Precision: 0.1379, ACC: 0.0434, top_k: 0.4154, top_k=1: 0.2821\n"
     ]
    },
    {
     "name": "stdout",
     "output_type": "stream",
     "text": [
      "Epoch: 168/250, Loss: 0.1892, Val Precision: 0.1390, ACC: 0.0436, top_k: 0.4159, top_k=1: 0.2822\n"
     ]
    },
    {
     "name": "stdout",
     "output_type": "stream",
     "text": [
      "Epoch: 169/250, Loss: 0.1890, Val Precision: 0.1338, ACC: 0.0435, top_k: 0.4159, top_k=1: 0.2824\n"
     ]
    },
    {
     "name": "stdout",
     "output_type": "stream",
     "text": [
      "Epoch: 170/250, Loss: 0.1887, Val Precision: 0.1340, ACC: 0.0434, top_k: 0.4165, top_k=1: 0.2826\n"
     ]
    },
    {
     "name": "stdout",
     "output_type": "stream",
     "text": [
      "Epoch: 171/250, Loss: 0.1885, Val Precision: 0.1350, ACC: 0.0434, top_k: 0.4168, top_k=1: 0.2826\n"
     ]
    },
    {
     "name": "stdout",
     "output_type": "stream",
     "text": [
      "Epoch: 172/250, Loss: 0.1882, Val Precision: 0.1388, ACC: 0.0431, top_k: 0.4169, top_k=1: 0.2829\n"
     ]
    },
    {
     "name": "stdout",
     "output_type": "stream",
     "text": [
      "Epoch: 173/250, Loss: 0.1880, Val Precision: 0.1412, ACC: 0.0434, top_k: 0.4171, top_k=1: 0.2832\n"
     ]
    },
    {
     "name": "stdout",
     "output_type": "stream",
     "text": [
      "Epoch: 174/250, Loss: 0.1878, Val Precision: 0.1353, ACC: 0.0435, top_k: 0.4177, top_k=1: 0.2835\n"
     ]
    },
    {
     "name": "stdout",
     "output_type": "stream",
     "text": [
      "Epoch: 175/250, Loss: 0.1876, Val Precision: 0.1367, ACC: 0.0435, top_k: 0.4175, top_k=1: 0.2835\n"
     ]
    },
    {
     "name": "stdout",
     "output_type": "stream",
     "text": [
      "Epoch: 176/250, Loss: 0.1874, Val Precision: 0.1323, ACC: 0.0435, top_k: 0.4181, top_k=1: 0.2837\n"
     ]
    },
    {
     "name": "stdout",
     "output_type": "stream",
     "text": [
      "Epoch: 177/250, Loss: 0.1871, Val Precision: 0.1374, ACC: 0.0436, top_k: 0.4184, top_k=1: 0.2840\n"
     ]
    },
    {
     "name": "stdout",
     "output_type": "stream",
     "text": [
      "Epoch: 178/250, Loss: 0.1869, Val Precision: 0.1398, ACC: 0.0436, top_k: 0.4187, top_k=1: 0.2843\n"
     ]
    },
    {
     "name": "stdout",
     "output_type": "stream",
     "text": [
      "Epoch: 179/250, Loss: 0.1867, Val Precision: 0.1385, ACC: 0.0436, top_k: 0.4190, top_k=1: 0.2844\n"
     ]
    },
    {
     "name": "stdout",
     "output_type": "stream",
     "text": [
      "Epoch: 180/250, Loss: 0.1865, Val Precision: 0.1358, ACC: 0.0436, top_k: 0.4191, top_k=1: 0.2845\n"
     ]
    },
    {
     "name": "stdout",
     "output_type": "stream",
     "text": [
      "Epoch: 181/250, Loss: 0.1863, Val Precision: 0.1357, ACC: 0.0436, top_k: 0.4195, top_k=1: 0.2846\n"
     ]
    },
    {
     "name": "stdout",
     "output_type": "stream",
     "text": [
      "Epoch: 182/250, Loss: 0.1861, Val Precision: 0.1367, ACC: 0.0436, top_k: 0.4196, top_k=1: 0.2845\n"
     ]
    },
    {
     "name": "stdout",
     "output_type": "stream",
     "text": [
      "Epoch: 183/250, Loss: 0.1859, Val Precision: 0.1371, ACC: 0.0436, top_k: 0.4198, top_k=1: 0.2848\n"
     ]
    },
    {
     "name": "stdout",
     "output_type": "stream",
     "text": [
      "Epoch: 184/250, Loss: 0.1856, Val Precision: 0.1396, ACC: 0.0436, top_k: 0.4200, top_k=1: 0.2850\n"
     ]
    },
    {
     "name": "stdout",
     "output_type": "stream",
     "text": [
      "Epoch: 185/250, Loss: 0.1854, Val Precision: 0.1401, ACC: 0.0436, top_k: 0.4202, top_k=1: 0.2853\n"
     ]
    },
    {
     "name": "stdout",
     "output_type": "stream",
     "text": [
      "Epoch: 186/250, Loss: 0.1852, Val Precision: 0.1400, ACC: 0.0436, top_k: 0.4200, top_k=1: 0.2853\n"
     ]
    },
    {
     "name": "stdout",
     "output_type": "stream",
     "text": [
      "Epoch: 187/250, Loss: 0.1851, Val Precision: 0.1369, ACC: 0.0438, top_k: 0.4207, top_k=1: 0.2854\n"
     ]
    },
    {
     "name": "stdout",
     "output_type": "stream",
     "text": [
      "Epoch: 188/250, Loss: 0.1848, Val Precision: 0.1359, ACC: 0.0438, top_k: 0.4207, top_k=1: 0.2859\n"
     ]
    },
    {
     "name": "stdout",
     "output_type": "stream",
     "text": [
      "Epoch: 189/250, Loss: 0.1846, Val Precision: 0.1410, ACC: 0.0438, top_k: 0.4205, top_k=1: 0.2861\n"
     ]
    },
    {
     "name": "stdout",
     "output_type": "stream",
     "text": [
      "Epoch: 190/250, Loss: 0.1845, Val Precision: 0.1394, ACC: 0.0436, top_k: 0.4210, top_k=1: 0.2861\n"
     ]
    },
    {
     "name": "stdout",
     "output_type": "stream",
     "text": [
      "Epoch: 191/250, Loss: 0.1842, Val Precision: 0.1340, ACC: 0.0435, top_k: 0.4207, top_k=1: 0.2864\n"
     ]
    },
    {
     "name": "stdout",
     "output_type": "stream",
     "text": [
      "Epoch: 192/250, Loss: 0.1841, Val Precision: 0.1352, ACC: 0.0435, top_k: 0.4216, top_k=1: 0.2864\n"
     ]
    },
    {
     "name": "stdout",
     "output_type": "stream",
     "text": [
      "Epoch: 193/250, Loss: 0.1839, Val Precision: 0.1370, ACC: 0.0435, top_k: 0.4216, top_k=1: 0.2867\n"
     ]
    },
    {
     "name": "stdout",
     "output_type": "stream",
     "text": [
      "Epoch: 194/250, Loss: 0.1837, Val Precision: 0.1356, ACC: 0.0435, top_k: 0.4218, top_k=1: 0.2869\n"
     ]
    },
    {
     "name": "stdout",
     "output_type": "stream",
     "text": [
      "Epoch: 195/250, Loss: 0.1835, Val Precision: 0.1363, ACC: 0.0435, top_k: 0.4223, top_k=1: 0.2868\n"
     ]
    },
    {
     "name": "stdout",
     "output_type": "stream",
     "text": [
      "Epoch: 196/250, Loss: 0.1833, Val Precision: 0.1409, ACC: 0.0434, top_k: 0.4221, top_k=1: 0.2871\n"
     ]
    },
    {
     "name": "stdout",
     "output_type": "stream",
     "text": [
      "Epoch: 197/250, Loss: 0.1831, Val Precision: 0.1414, ACC: 0.0435, top_k: 0.4224, top_k=1: 0.2871\n"
     ]
    },
    {
     "name": "stdout",
     "output_type": "stream",
     "text": [
      "Epoch: 198/250, Loss: 0.1829, Val Precision: 0.1391, ACC: 0.0434, top_k: 0.4225, top_k=1: 0.2874\n"
     ]
    },
    {
     "name": "stdout",
     "output_type": "stream",
     "text": [
      "Epoch: 199/250, Loss: 0.1827, Val Precision: 0.1379, ACC: 0.0435, top_k: 0.4230, top_k=1: 0.2875\n"
     ]
    },
    {
     "name": "stdout",
     "output_type": "stream",
     "text": [
      "Epoch: 200/250, Loss: 0.1825, Val Precision: 0.1422, ACC: 0.0436, top_k: 0.4233, top_k=1: 0.2877\n"
     ]
    },
    {
     "name": "stdout",
     "output_type": "stream",
     "text": [
      "Epoch: 201/250, Loss: 0.1824, Val Precision: 0.1419, ACC: 0.0435, top_k: 0.4236, top_k=1: 0.2877\n"
     ]
    },
    {
     "name": "stdout",
     "output_type": "stream",
     "text": [
      "Epoch: 202/250, Loss: 0.1822, Val Precision: 0.1372, ACC: 0.0436, top_k: 0.4238, top_k=1: 0.2877\n"
     ]
    },
    {
     "name": "stdout",
     "output_type": "stream",
     "text": [
      "Epoch: 203/250, Loss: 0.1820, Val Precision: 0.1386, ACC: 0.0435, top_k: 0.4240, top_k=1: 0.2878\n"
     ]
    },
    {
     "name": "stdout",
     "output_type": "stream",
     "text": [
      "Epoch: 204/250, Loss: 0.1819, Val Precision: 0.1469, ACC: 0.0434, top_k: 0.4247, top_k=1: 0.2879\n"
     ]
    },
    {
     "name": "stdout",
     "output_type": "stream",
     "text": [
      "Epoch: 205/250, Loss: 0.1817, Val Precision: 0.1473, ACC: 0.0432, top_k: 0.4247, top_k=1: 0.2880\n"
     ]
    },
    {
     "name": "stdout",
     "output_type": "stream",
     "text": [
      "Epoch: 206/250, Loss: 0.1815, Val Precision: 0.1442, ACC: 0.0434, top_k: 0.4248, top_k=1: 0.2882\n"
     ]
    },
    {
     "name": "stdout",
     "output_type": "stream",
     "text": [
      "Epoch: 207/250, Loss: 0.1813, Val Precision: 0.1449, ACC: 0.0434, top_k: 0.4250, top_k=1: 0.2883\n"
     ]
    },
    {
     "name": "stdout",
     "output_type": "stream",
     "text": [
      "Epoch: 208/250, Loss: 0.1811, Val Precision: 0.1475, ACC: 0.0434, top_k: 0.4253, top_k=1: 0.2885\n"
     ]
    },
    {
     "name": "stdout",
     "output_type": "stream",
     "text": [
      "Epoch: 209/250, Loss: 0.1810, Val Precision: 0.1459, ACC: 0.0434, top_k: 0.4256, top_k=1: 0.2886\n"
     ]
    },
    {
     "name": "stdout",
     "output_type": "stream",
     "text": [
      "Epoch: 210/250, Loss: 0.1808, Val Precision: 0.1468, ACC: 0.0434, top_k: 0.4256, top_k=1: 0.2888\n"
     ]
    },
    {
     "name": "stdout",
     "output_type": "stream",
     "text": [
      "Epoch: 211/250, Loss: 0.1806, Val Precision: 0.1457, ACC: 0.0434, top_k: 0.4257, top_k=1: 0.2887\n"
     ]
    },
    {
     "name": "stdout",
     "output_type": "stream",
     "text": [
      "Epoch: 212/250, Loss: 0.1805, Val Precision: 0.1446, ACC: 0.0434, top_k: 0.4258, top_k=1: 0.2891\n"
     ]
    },
    {
     "name": "stdout",
     "output_type": "stream",
     "text": [
      "Epoch: 213/250, Loss: 0.1803, Val Precision: 0.1470, ACC: 0.0432, top_k: 0.4261, top_k=1: 0.2891\n"
     ]
    },
    {
     "name": "stdout",
     "output_type": "stream",
     "text": [
      "Epoch: 214/250, Loss: 0.1801, Val Precision: 0.1464, ACC: 0.0434, top_k: 0.4261, top_k=1: 0.2890\n"
     ]
    },
    {
     "name": "stdout",
     "output_type": "stream",
     "text": [
      "Epoch: 215/250, Loss: 0.1800, Val Precision: 0.1450, ACC: 0.0434, top_k: 0.4266, top_k=1: 0.2893\n"
     ]
    },
    {
     "name": "stdout",
     "output_type": "stream",
     "text": [
      "Epoch: 216/250, Loss: 0.1798, Val Precision: 0.1452, ACC: 0.0434, top_k: 0.4267, top_k=1: 0.2896\n"
     ]
    },
    {
     "name": "stdout",
     "output_type": "stream",
     "text": [
      "Epoch: 217/250, Loss: 0.1796, Val Precision: 0.1460, ACC: 0.0434, top_k: 0.4269, top_k=1: 0.2895\n"
     ]
    },
    {
     "name": "stdout",
     "output_type": "stream",
     "text": [
      "Epoch: 218/250, Loss: 0.1795, Val Precision: 0.1471, ACC: 0.0435, top_k: 0.4271, top_k=1: 0.2898\n"
     ]
    },
    {
     "name": "stdout",
     "output_type": "stream",
     "text": [
      "Epoch: 219/250, Loss: 0.1793, Val Precision: 0.1474, ACC: 0.0435, top_k: 0.4274, top_k=1: 0.2897\n"
     ]
    },
    {
     "name": "stdout",
     "output_type": "stream",
     "text": [
      "Epoch: 220/250, Loss: 0.1791, Val Precision: 0.1470, ACC: 0.0434, top_k: 0.4268, top_k=1: 0.2899\n"
     ]
    },
    {
     "name": "stdout",
     "output_type": "stream",
     "text": [
      "Epoch: 221/250, Loss: 0.1790, Val Precision: 0.1531, ACC: 0.0434, top_k: 0.4277, top_k=1: 0.2901\n"
     ]
    },
    {
     "name": "stdout",
     "output_type": "stream",
     "text": [
      "Epoch: 222/250, Loss: 0.1789, Val Precision: 0.1530, ACC: 0.0435, top_k: 0.4277, top_k=1: 0.2903\n"
     ]
    },
    {
     "name": "stdout",
     "output_type": "stream",
     "text": [
      "Epoch: 223/250, Loss: 0.1787, Val Precision: 0.1521, ACC: 0.0436, top_k: 0.4284, top_k=1: 0.2903\n"
     ]
    },
    {
     "name": "stdout",
     "output_type": "stream",
     "text": [
      "Epoch: 224/250, Loss: 0.1785, Val Precision: 0.1497, ACC: 0.0436, top_k: 0.4285, top_k=1: 0.2902\n"
     ]
    },
    {
     "name": "stdout",
     "output_type": "stream",
     "text": [
      "Epoch: 225/250, Loss: 0.1783, Val Precision: 0.1533, ACC: 0.0434, top_k: 0.4282, top_k=1: 0.2900\n"
     ]
    },
    {
     "name": "stdout",
     "output_type": "stream",
     "text": [
      "Epoch: 226/250, Loss: 0.1783, Val Precision: 0.1556, ACC: 0.0436, top_k: 0.4291, top_k=1: 0.2907\n"
     ]
    },
    {
     "name": "stdout",
     "output_type": "stream",
     "text": [
      "Epoch: 227/250, Loss: 0.1781, Val Precision: 0.1515, ACC: 0.0436, top_k: 0.4291, top_k=1: 0.2905\n"
     ]
    },
    {
     "name": "stdout",
     "output_type": "stream",
     "text": [
      "Epoch: 228/250, Loss: 0.1779, Val Precision: 0.1515, ACC: 0.0435, top_k: 0.4296, top_k=1: 0.2908\n"
     ]
    },
    {
     "name": "stdout",
     "output_type": "stream",
     "text": [
      "Epoch: 229/250, Loss: 0.1778, Val Precision: 0.1509, ACC: 0.0435, top_k: 0.4300, top_k=1: 0.2908\n"
     ]
    },
    {
     "name": "stdout",
     "output_type": "stream",
     "text": [
      "Epoch: 230/250, Loss: 0.1777, Val Precision: 0.1530, ACC: 0.0436, top_k: 0.4299, top_k=1: 0.2911\n"
     ]
    },
    {
     "name": "stdout",
     "output_type": "stream",
     "text": [
      "Epoch: 231/250, Loss: 0.1775, Val Precision: 0.1528, ACC: 0.0436, top_k: 0.4303, top_k=1: 0.2911\n"
     ]
    },
    {
     "name": "stdout",
     "output_type": "stream",
     "text": [
      "Epoch: 232/250, Loss: 0.1773, Val Precision: 0.1526, ACC: 0.0435, top_k: 0.4306, top_k=1: 0.2913\n"
     ]
    },
    {
     "name": "stdout",
     "output_type": "stream",
     "text": [
      "Epoch: 233/250, Loss: 0.1771, Val Precision: 0.1549, ACC: 0.0435, top_k: 0.4303, top_k=1: 0.2914\n"
     ]
    },
    {
     "name": "stdout",
     "output_type": "stream",
     "text": [
      "Epoch: 234/250, Loss: 0.1770, Val Precision: 0.1575, ACC: 0.0432, top_k: 0.4303, top_k=1: 0.2915\n"
     ]
    },
    {
     "name": "stdout",
     "output_type": "stream",
     "text": [
      "Epoch: 235/250, Loss: 0.1769, Val Precision: 0.1572, ACC: 0.0435, top_k: 0.4307, top_k=1: 0.2918\n"
     ]
    },
    {
     "name": "stdout",
     "output_type": "stream",
     "text": [
      "Epoch: 236/250, Loss: 0.1767, Val Precision: 0.1567, ACC: 0.0434, top_k: 0.4316, top_k=1: 0.2919\n"
     ]
    },
    {
     "name": "stdout",
     "output_type": "stream",
     "text": [
      "Epoch: 237/250, Loss: 0.1765, Val Precision: 0.1597, ACC: 0.0436, top_k: 0.4314, top_k=1: 0.2918\n"
     ]
    },
    {
     "name": "stdout",
     "output_type": "stream",
     "text": [
      "Epoch: 238/250, Loss: 0.1764, Val Precision: 0.1568, ACC: 0.0432, top_k: 0.4321, top_k=1: 0.2922\n"
     ]
    },
    {
     "name": "stdout",
     "output_type": "stream",
     "text": [
      "Epoch: 239/250, Loss: 0.1763, Val Precision: 0.1552, ACC: 0.0438, top_k: 0.4320, top_k=1: 0.2921\n"
     ]
    },
    {
     "name": "stdout",
     "output_type": "stream",
     "text": [
      "Epoch: 240/250, Loss: 0.1761, Val Precision: 0.1591, ACC: 0.0435, top_k: 0.4322, top_k=1: 0.2925\n"
     ]
    },
    {
     "name": "stdout",
     "output_type": "stream",
     "text": [
      "Epoch: 241/250, Loss: 0.1760, Val Precision: 0.1606, ACC: 0.0439, top_k: 0.4323, top_k=1: 0.2926\n"
     ]
    },
    {
     "name": "stdout",
     "output_type": "stream",
     "text": [
      "Epoch: 242/250, Loss: 0.1758, Val Precision: 0.1654, ACC: 0.0439, top_k: 0.4327, top_k=1: 0.2928\n"
     ]
    },
    {
     "name": "stdout",
     "output_type": "stream",
     "text": [
      "Epoch: 243/250, Loss: 0.1757, Val Precision: 0.1625, ACC: 0.0434, top_k: 0.4332, top_k=1: 0.2931\n"
     ]
    },
    {
     "name": "stdout",
     "output_type": "stream",
     "text": [
      "Epoch: 244/250, Loss: 0.1755, Val Precision: 0.1592, ACC: 0.0441, top_k: 0.4326, top_k=1: 0.2933\n"
     ]
    },
    {
     "name": "stdout",
     "output_type": "stream",
     "text": [
      "Epoch: 245/250, Loss: 0.1754, Val Precision: 0.1666, ACC: 0.0439, top_k: 0.4334, top_k=1: 0.2934\n"
     ]
    },
    {
     "name": "stdout",
     "output_type": "stream",
     "text": [
      "Epoch: 246/250, Loss: 0.1752, Val Precision: 0.1627, ACC: 0.0436, top_k: 0.4333, top_k=1: 0.2935\n"
     ]
    },
    {
     "name": "stdout",
     "output_type": "stream",
     "text": [
      "Epoch: 247/250, Loss: 0.1751, Val Precision: 0.1591, ACC: 0.0439, top_k: 0.4339, top_k=1: 0.2937\n"
     ]
    },
    {
     "name": "stdout",
     "output_type": "stream",
     "text": [
      "Epoch: 248/250, Loss: 0.1750, Val Precision: 0.1596, ACC: 0.0438, top_k: 0.4340, top_k=1: 0.2939\n"
     ]
    },
    {
     "name": "stdout",
     "output_type": "stream",
     "text": [
      "Epoch: 249/250, Loss: 0.1748, Val Precision: 0.1619, ACC: 0.0438, top_k: 0.4338, top_k=1: 0.2937\n"
     ]
    },
    {
     "name": "stdout",
     "output_type": "stream",
     "text": [
      "{\n",
      "    \"accuracy\": 0.040482342807924204,\n",
      "    \"micro_precision\": 0.6128391793514228,\n",
      "    \"macro_precision\": 0.15302996842858038,\n",
      "    \"recall\": 0.028976387009498228,\n",
      "    \"f1_score\": 0.03848888772038324,\n",
      "    \"auc\": 0.5433923260080897,\n",
      "    \"top_k_1\": 0.29675570130348206,\n",
      "    \"top_k_pred\": 0.43410852551460266\n",
      "}\n",
      "\t- Extracting and saving embeddings...\n"
     ]
    },
    {
     "name": "stdout",
     "output_type": "stream",
     "text": [
      "              precision    recall  f1-score   support\n",
      "\n",
      "     Class 0       0.60      0.40      0.48      2370\n",
      "     Class 1       0.52      0.13      0.21      1785\n",
      "     Class 2       0.60      0.14      0.22      1574\n",
      "     Class 3       0.76      0.18      0.29      1570\n",
      "     Class 4       0.54      0.09      0.15      1461\n",
      "     Class 5       0.50      0.15      0.23      1388\n",
      "     Class 6       0.69      0.23      0.34      1277\n",
      "     Class 7       0.51      0.10      0.17      1255\n",
      "     Class 8       0.50      0.05      0.10      1142\n",
      "     Class 9       0.48      0.09      0.15      1009\n",
      "    Class 10       0.82      0.88      0.85       932\n",
      "    Class 11       0.78      0.86      0.82       853\n",
      "    Class 12       0.79      0.84      0.82       858\n",
      "    Class 13       0.42      0.04      0.08       814\n",
      "    Class 14       0.21      0.00      0.01       729\n",
      "    Class 15       0.36      0.03      0.06       675\n",
      "    Class 16       0.05      0.00      0.00       607\n",
      "    Class 17       0.38      0.03      0.06       604\n",
      "    Class 18       0.30      0.02      0.04       559\n",
      "    Class 19       0.53      0.03      0.06       573\n",
      "    Class 20       0.00      0.00      0.00       565\n",
      "    Class 21       0.22      0.00      0.01       581\n",
      "    Class 22       0.49      0.08      0.14       532\n",
      "    Class 23       0.60      0.09      0.16       576\n",
      "    Class 24       0.45      0.02      0.03       557\n",
      "    Class 25       0.00      0.00      0.00       543\n",
      "    Class 26       0.22      0.00      0.01       521\n",
      "    Class 27       0.39      0.02      0.04       513\n",
      "    Class 28       0.67      0.13      0.22       538\n",
      "    Class 29       0.69      0.24      0.36       483\n",
      "    Class 30       0.33      0.04      0.08       484\n",
      "    Class 31       0.30      0.02      0.03       459\n",
      "    Class 32       0.00      0.00      0.00       454\n",
      "    Class 33       0.00      0.00      0.00       433\n",
      "    Class 34       0.20      0.00      0.00       424\n",
      "    Class 35       0.54      0.16      0.25       393\n",
      "    Class 36       0.00      0.00      0.00       415\n",
      "    Class 37       0.64      0.17      0.27       387\n",
      "    Class 38       0.20      0.02      0.04       372\n",
      "    Class 39       0.25      0.00      0.01       379\n",
      "    Class 40       0.12      0.01      0.01       351\n",
      "    Class 41       0.22      0.01      0.01       344\n",
      "    Class 42       0.11      0.01      0.02       356\n",
      "    Class 43       0.30      0.01      0.02       373\n",
      "    Class 44       0.14      0.00      0.01       323\n",
      "    Class 45       0.08      0.00      0.01       336\n",
      "    Class 46       0.13      0.01      0.01       305\n",
      "    Class 47       0.33      0.00      0.01       280\n",
      "    Class 48       0.00      0.00      0.00       315\n",
      "    Class 49       1.00      0.01      0.01       298\n",
      "    Class 50       0.17      0.01      0.01       292\n",
      "    Class 51       0.00      0.00      0.00       298\n",
      "    Class 52       0.00      0.00      0.00       256\n",
      "    Class 53       0.50      0.04      0.07       300\n",
      "    Class 54       0.00      0.00      0.00       289\n",
      "    Class 55       0.18      0.01      0.01       285\n",
      "    Class 56       0.56      0.09      0.15       227\n",
      "    Class 57       0.33      0.02      0.04       251\n",
      "    Class 58       0.00      0.00      0.00       216\n",
      "    Class 59       0.25      0.01      0.01       196\n",
      "    Class 60       0.00      0.00      0.00       240\n",
      "    Class 61       0.09      0.01      0.02       224\n",
      "    Class 62       0.00      0.00      0.00       203\n",
      "    Class 63       0.20      0.00      0.01       221\n",
      "    Class 64       0.00      0.00      0.00       210\n",
      "    Class 65       0.00      0.00      0.00       211\n",
      "    Class 66       0.00      0.00      0.00       210\n",
      "    Class 67       0.25      0.01      0.02       185\n",
      "    Class 68       0.27      0.01      0.03       211\n",
      "    Class 69       0.00      0.00      0.00       183\n",
      "    Class 70       0.00      0.00      0.00       189\n",
      "    Class 71       0.00      0.00      0.00       188\n",
      "    Class 72       0.00      0.00      0.00       198\n",
      "    Class 73       0.00      0.00      0.00       184\n",
      "    Class 74       0.00      0.00      0.00       199\n",
      "    Class 75       0.17      0.01      0.01       198\n",
      "    Class 76       0.00      0.00      0.00       166\n",
      "    Class 77       0.30      0.05      0.09       188\n",
      "    Class 78       0.00      0.00      0.00       169\n",
      "    Class 79       0.00      0.00      0.00       180\n",
      "    Class 80       0.50      0.02      0.03       187\n",
      "    Class 81       0.00      0.00      0.00       174\n",
      "    Class 82       0.33      0.01      0.01       169\n",
      "    Class 83       1.00      0.01      0.01       174\n",
      "    Class 84       0.00      0.00      0.00       153\n",
      "    Class 85       0.00      0.00      0.00       180\n",
      "    Class 86       0.00      0.00      0.00       160\n",
      "    Class 87       0.00      0.00      0.00       155\n",
      "    Class 88       0.00      0.00      0.00       156\n",
      "    Class 89       0.00      0.00      0.00       134\n",
      "    Class 90       0.31      0.03      0.05       169\n",
      "    Class 91       0.00      0.00      0.00       171\n",
      "    Class 92       1.00      0.01      0.01       170\n",
      "    Class 93       0.00      0.00      0.00       152\n",
      "    Class 94       0.00      0.00      0.00       153\n",
      "    Class 95       0.00      0.00      0.00       149\n",
      "    Class 96       0.00      0.00      0.00       137\n",
      "    Class 97       0.00      0.00      0.00       124\n",
      "    Class 98       0.00      0.00      0.00       161\n",
      "    Class 99       0.00      0.00      0.00       156\n",
      "   Class 100       0.00      0.00      0.00       132\n",
      "   Class 101       0.00      0.00      0.00       126\n",
      "   Class 102       0.00      0.00      0.00       126\n",
      "   Class 103       0.00      0.00      0.00       137\n",
      "   Class 104       0.00      0.00      0.00       121\n",
      "   Class 105       0.00      0.00      0.00       104\n",
      "   Class 106       0.00      0.00      0.00       145\n",
      "   Class 107       0.00      0.00      0.00       135\n",
      "   Class 108       1.00      0.01      0.02       131\n",
      "   Class 109       0.00      0.00      0.00       114\n",
      "   Class 110       0.00      0.00      0.00       132\n",
      "   Class 111       0.00      0.00      0.00       116\n",
      "   Class 112       0.00      0.00      0.00       123\n",
      "   Class 113       0.20      0.01      0.03       134\n",
      "   Class 114       0.00      0.00      0.00       133\n",
      "   Class 115       0.00      0.00      0.00       115\n",
      "   Class 116       0.50      0.01      0.02       103\n",
      "   Class 117       0.00      0.00      0.00       112\n",
      "   Class 118       0.00      0.00      0.00       134\n",
      "   Class 119       0.00      0.00      0.00       115\n",
      "   Class 120       0.25      0.01      0.02       120\n",
      "   Class 121       0.50      0.01      0.02       106\n",
      "   Class 122       0.00      0.00      0.00       120\n",
      "   Class 123       0.00      0.00      0.00       118\n",
      "   Class 124       0.00      0.00      0.00       109\n",
      "   Class 125       0.00      0.00      0.00       109\n",
      "   Class 126       0.00      0.00      0.00       104\n",
      "   Class 127       0.00      0.00      0.00       108\n",
      "   Class 128       0.00      0.00      0.00        96\n",
      "   Class 129       0.00      0.00      0.00       100\n",
      "   Class 130       0.00      0.00      0.00        98\n",
      "   Class 131       0.00      0.00      0.00        89\n",
      "   Class 132       0.00      0.00      0.00        91\n",
      "   Class 133       0.00      0.00      0.00        98\n",
      "   Class 134       0.00      0.00      0.00        85\n",
      "   Class 135       0.00      0.00      0.00        98\n",
      "   Class 136       0.00      0.00      0.00        99\n",
      "   Class 137       1.00      0.01      0.02        86\n",
      "   Class 138       0.00      0.00      0.00        71\n",
      "   Class 139       0.00      0.00      0.00        93\n",
      "   Class 140       0.29      0.02      0.04        82\n",
      "   Class 141       0.25      0.01      0.02       104\n",
      "   Class 142       0.00      0.00      0.00        82\n",
      "   Class 143       0.00      0.00      0.00        79\n",
      "   Class 144       0.33      0.01      0.02        80\n",
      "   Class 145       0.17      0.01      0.02        85\n",
      "   Class 146       0.00      0.00      0.00        93\n",
      "   Class 147       0.50      0.02      0.04        96\n",
      "   Class 148       0.00      0.00      0.00        75\n",
      "   Class 149       0.00      0.00      0.00        65\n",
      "   Class 150       0.00      0.00      0.00        67\n",
      "   Class 151       0.00      0.00      0.00        67\n",
      "   Class 152       0.18      0.03      0.06        61\n",
      "   Class 153       0.00      0.00      0.00        71\n",
      "   Class 154       0.00      0.00      0.00        81\n",
      "   Class 155       0.00      0.00      0.00        61\n",
      "   Class 156       0.00      0.00      0.00        64\n",
      "   Class 157       0.00      0.00      0.00        62\n",
      "   Class 158       0.00      0.00      0.00        68\n",
      "   Class 159       0.00      0.00      0.00        58\n",
      "   Class 160       0.00      0.00      0.00        79\n",
      "   Class 161       0.00      0.00      0.00        85\n",
      "   Class 162       0.00      0.00      0.00        61\n",
      "   Class 163       0.00      0.00      0.00        62\n",
      "   Class 164       0.00      0.00      0.00        76\n",
      "   Class 165       0.00      0.00      0.00        59\n",
      "   Class 166       0.50      0.02      0.04        54\n",
      "   Class 167       0.00      0.00      0.00        79\n",
      "   Class 168       0.00      0.00      0.00        54\n",
      "   Class 169       0.00      0.00      0.00        61\n",
      "   Class 170       0.00      0.00      0.00        64\n",
      "   Class 171       0.00      0.00      0.00        70\n",
      "   Class 172       0.00      0.00      0.00        66\n",
      "   Class 173       0.00      0.00      0.00        64\n",
      "   Class 174       0.00      0.00      0.00        68\n",
      "   Class 175       0.00      0.00      0.00        56\n",
      "   Class 176       0.00      0.00      0.00        76\n",
      "   Class 177       0.00      0.00      0.00        58\n",
      "   Class 178       0.00      0.00      0.00        49\n",
      "   Class 179       0.00      0.00      0.00        54\n",
      "   Class 180       0.00      0.00      0.00        57\n",
      "   Class 181       0.00      0.00      0.00        53\n",
      "   Class 182       0.00      0.00      0.00        61\n",
      "   Class 183       0.00      0.00      0.00        48\n",
      "   Class 184       0.00      0.00      0.00        55\n",
      "   Class 185       0.00      0.00      0.00        46\n",
      "   Class 186       0.00      0.00      0.00        53\n",
      "   Class 187       0.00      0.00      0.00        49\n",
      "   Class 188       0.00      0.00      0.00        41\n",
      "   Class 189       0.00      0.00      0.00        56\n",
      "   Class 190       0.00      0.00      0.00        56\n",
      "   Class 191       0.00      0.00      0.00        53\n",
      "   Class 192       0.00      0.00      0.00        43\n",
      "   Class 193       0.00      0.00      0.00        51\n",
      "   Class 194       0.00      0.00      0.00        44\n",
      "   Class 195       0.00      0.00      0.00        31\n",
      "   Class 196       0.00      0.00      0.00        44\n",
      "   Class 197       0.00      0.00      0.00        44\n",
      "   Class 198       0.00      0.00      0.00        41\n",
      "   Class 199       0.00      0.00      0.00        42\n",
      "   Class 200       0.00      0.00      0.00        45\n",
      "   Class 201       0.00      0.00      0.00        33\n",
      "   Class 202       0.00      0.00      0.00        27\n",
      "\n",
      "   micro avg       0.61      0.10      0.18     53031\n",
      "   macro avg       0.15      0.03      0.04     53031\n",
      "weighted avg       0.34      0.10      0.13     53031\n",
      " samples avg       0.34      0.15      0.17     53031\n",
      "\n"
     ]
    },
    {
     "data": {
      "image/png": "[encoded data removed]",
      "text/plain": [
       "<Figure size 1500x800 with 2 Axes>"
      ]
     },
     "metadata": {},
     "output_type": "display_data"
    }
   ],
   "source": [
    "import os\n",
    "\n",
    "from weighted_sum_precision.GNN_functions_patients_only import *\n",
    "from weighted_sum_precision.GNN_SAGE import SAGE_MLC\n",
    "from weighted_sum_precision.GNN_GCN import GCN_MLC\n",
    "\n",
    "\n",
    "if __name__ == \"__main__\":\n",
    "    num_Sample     = int(os.getenv('num_Sample', 250))  # Default to 10000 if not set\n",
    "    num_Labels     = int(os.getenv('NUM_DISEASES', 203))  # Default to 100 if not set\n",
    "    num_top_Labels = int(os.getenv('NUM_TOP_DISEASES', 203))  # Selecting the top most frequent labels\n",
    "    disease_name   = os.getenv('DISEASE_FILE', f'DMPLB2')  # Default to 'sample/10000' if not set\n",
    "    num_Meta_Path  = int(os.getenv('num_Meta_Path', 10))  # Default to 10\n",
    "    num_epochs     = int(os.getenv('num_epochs', 50))    \n",
    "    # ============================================================================\n",
    "\n",
    "    saving_path = f'../Data/{num_Labels}_Diagnoses/{disease_name}/{num_Sample}/HGNN_data'\n",
    "\n",
    "    GNN_model = SAGE_MLC\n",
    "    with_SNF = False\n",
    "    super_class = '' # '_sc'\n",
    "    \n",
    "    exp_name = f'{num_epochs}_epochs_SNF{super_class}'\n",
    "\n",
    "    losses, val_metrics = main(saving_path, \n",
    "                               GNN_Model=GNN_model, \n",
    "                               num_epochs = num_epochs,\n",
    "                               with_SNF = with_SNF,\n",
    "                               exp_name = exp_name,\n",
    "                               super_class = super_class, \n",
    "                               num_Meta_Path = num_Meta_Path,\n",
    "                               top_k = 5,\n",
    "                               num_D = num_top_Labels)\n",
    "\n",
    "    plot_combined_metrics_and_loss(losses, val_metrics)\n",
    "\n",
    "    if with_SNF:\n",
    "        save_results(losses, val_metrics, f'{saving_path}/performance_SAGE_{num_epochs}_eps_SNF')\n",
    "    else:\n",
    "        save_results(losses, val_metrics, f'{saving_path}/performance_SAGE_{num_epochs}_eps')\n"
   ]
  }
 ],
 "metadata": {
  "kernelspec": {
   "display_name": "Python 3 (ipykernel)",
   "language": "python",
   "name": "python3"
  },
  "language_info": {
   "codemirror_mode": {
    "name": "ipython",
    "version": 3
   },
   "file_extension": ".py",
   "mimetype": "text/x-python",
   "name": "python",
   "nbconvert_exporter": "python",
   "pygments_lexer": "ipython3",
   "version": "3.11.9"
  }
 },
 "nbformat": 4,
 "nbformat_minor": 4
}
