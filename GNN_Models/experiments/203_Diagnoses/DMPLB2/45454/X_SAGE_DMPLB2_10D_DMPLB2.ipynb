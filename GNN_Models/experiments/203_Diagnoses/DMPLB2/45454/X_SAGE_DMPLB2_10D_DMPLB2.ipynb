{
 "cells": [
  {
   "cell_type": "code",
   "execution_count": 1,
   "metadata": {
    "execution": {
     "iopub.execute_input": "2024-10-03T19:21:45.103314Z",
     "iopub.status.busy": "2024-10-03T19:21:45.103012Z",
     "iopub.status.idle": "2024-10-03T21:16:14.270854Z",
     "shell.execute_reply": "2024-10-03T21:16:14.269898Z"
    }
   },
   "outputs": [
    {
     "name": "stdout",
     "output_type": "stream",
     "text": [
      "\t- Loading the data...\n",
      "../Data/203_Diagnoses/DMPLB2/45454/HGNN_data\n"
     ]
    },
    {
     "name": "stderr",
     "output_type": "stream",
     "text": [
      "/home/almusawiaf/MyDocuments/PhD_Projects/HGNN_Project2/GNN_Models/weighted_sum_precision/GNN_functions_patients_only.py:245: FutureWarning: You are using `torch.load` with `weights_only=False` (the current default value), which uses the default pickle module implicitly. It is possible to construct malicious pickle data which will execute arbitrary code during unpickling (See https://github.com/pytorch/pytorch/blob/main/SECURITY.md#untrusted-models for more details). In a future release, the default value for `weights_only` will be flipped to `True`. This limits the functions that could be executed during unpickling. Arbitrary objects will no longer be allowed to be loaded via this mode unless they are explicitly allowlisted by the user via `torch.serialization.add_safe_globals`. We recommend you start setting `weights_only=True` for any use case where you don't have full control of the loaded file. Please open an issue on GitHub for any issues related to this experimental feature.\n",
      "  temp_Y = torch.load(f'{file_path}/Y{super_class}.pt')\n"
     ]
    },
    {
     "name": "stderr",
     "output_type": "stream",
     "text": [
      "/home/almusawiaf/MyDocuments/PhD_Projects/HGNN_Project2/GNN_Models/weighted_sum_precision/GNN_functions_patients_only.py:247: FutureWarning: You are using `torch.load` with `weights_only=False` (the current default value), which uses the default pickle module implicitly. It is possible to construct malicious pickle data which will execute arbitrary code during unpickling (See https://github.com/pytorch/pytorch/blob/main/SECURITY.md#untrusted-models for more details). In a future release, the default value for `weights_only` will be flipped to `True`. This limits the functions that could be executed during unpickling. Arbitrary objects will no longer be allowed to be loaded via this mode unless they are explicitly allowlisted by the user via `torch.serialization.add_safe_globals`. We recommend you start setting `weights_only=True` for any use case where you don't have full control of the loaded file. Please open an issue on GitHub for any issues related to this experimental feature.\n",
      "  X = torch.load(f'{file_path}/X.pt')\n"
     ]
    },
    {
     "name": "stdout",
     "output_type": "stream",
     "text": [
      "\t- Generating the Data structure ...\n",
      "\t- Generating the train, test, and validation sets...\n",
      "\t- Number of meta-paths used is :30\n",
      "\t- Preparing the model...\n"
     ]
    },
    {
     "name": "stdout",
     "output_type": "stream",
     "text": [
      "\t- Epochs...\n"
     ]
    },
    {
     "name": "stdout",
     "output_type": "stream",
     "text": [
      "Epoch: 1/250, Loss: 6.0477, Val Precision: 0.1847, ACC: 0.0013, top_k: 0.1802, top_k=1: 0.2058\n"
     ]
    },
    {
     "name": "stdout",
     "output_type": "stream",
     "text": [
      "Epoch: 2/250, Loss: 5.5102, Val Precision: 0.1907, ACC: 0.0039, top_k: 0.1773, top_k=1: 0.2058\n"
     ]
    },
    {
     "name": "stdout",
     "output_type": "stream",
     "text": [
      "Epoch: 3/250, Loss: 4.6914, Val Precision: 0.2070, ACC: 0.0039, top_k: 0.1733, top_k=1: 0.2058\n"
     ]
    },
    {
     "name": "stdout",
     "output_type": "stream",
     "text": [
      "Epoch: 4/250, Loss: 3.7400, Val Precision: 0.2106, ACC: 0.0043, top_k: 0.1717, top_k=1: 0.2058\n"
     ]
    },
    {
     "name": "stdout",
     "output_type": "stream",
     "text": [
      "Epoch: 5/250, Loss: 2.8010, Val Precision: 0.1840, ACC: 0.0049, top_k: 0.1761, top_k=1: 0.2058\n"
     ]
    },
    {
     "name": "stdout",
     "output_type": "stream",
     "text": [
      "Epoch: 6/250, Loss: 2.1116, Val Precision: 0.1484, ACC: 0.0082, top_k: 0.1804, top_k=1: 0.2058\n"
     ]
    },
    {
     "name": "stdout",
     "output_type": "stream",
     "text": [
      "Epoch: 7/250, Loss: 1.8086, Val Precision: 0.1368, ACC: 0.0095, top_k: 0.1896, top_k=1: 0.2058\n"
     ]
    },
    {
     "name": "stdout",
     "output_type": "stream",
     "text": [
      "Epoch: 8/250, Loss: 1.6358, Val Precision: 0.1115, ACC: 0.0138, top_k: 0.1960, top_k=1: 0.2058\n"
     ]
    },
    {
     "name": "stdout",
     "output_type": "stream",
     "text": [
      "Epoch: 9/250, Loss: 1.5173, Val Precision: 0.0849, ACC: 0.0303, top_k: 0.2010, top_k=1: 0.2058\n"
     ]
    },
    {
     "name": "stdout",
     "output_type": "stream",
     "text": [
      "Epoch: 10/250, Loss: 1.5210, Val Precision: 0.0839, ACC: 0.0520, top_k: 0.2016, top_k=1: 0.2058\n"
     ]
    },
    {
     "name": "stdout",
     "output_type": "stream",
     "text": [
      "Epoch: 11/250, Loss: 1.5471, Val Precision: 0.1013, ACC: 0.0764, top_k: 0.2010, top_k=1: 0.2058\n"
     ]
    },
    {
     "name": "stdout",
     "output_type": "stream",
     "text": [
      "Epoch: 12/250, Loss: 1.6070, Val Precision: 0.1068, ACC: 0.0794, top_k: 0.2042, top_k=1: 0.2058\n"
     ]
    },
    {
     "name": "stdout",
     "output_type": "stream",
     "text": [
      "Epoch: 13/250, Loss: 1.6726, Val Precision: 0.1236, ACC: 0.0837, top_k: 0.2082, top_k=1: 0.2058\n"
     ]
    },
    {
     "name": "stdout",
     "output_type": "stream",
     "text": [
      "Epoch: 14/250, Loss: 1.7038, Val Precision: 0.1198, ACC: 0.0866, top_k: 0.2083, top_k=1: 0.2058\n"
     ]
    },
    {
     "name": "stdout",
     "output_type": "stream",
     "text": [
      "Epoch: 15/250, Loss: 1.7147, Val Precision: 0.1260, ACC: 0.0943, top_k: 0.2068, top_k=1: 0.2058\n"
     ]
    },
    {
     "name": "stdout",
     "output_type": "stream",
     "text": [
      "Epoch: 16/250, Loss: 1.6869, Val Precision: 0.1352, ACC: 0.1087, top_k: 0.2043, top_k=1: 0.2058\n"
     ]
    },
    {
     "name": "stdout",
     "output_type": "stream",
     "text": [
      "Epoch: 17/250, Loss: 1.6148, Val Precision: 0.1474, ACC: 0.1219, top_k: 0.2010, top_k=1: 0.2058\n"
     ]
    },
    {
     "name": "stdout",
     "output_type": "stream",
     "text": [
      "Epoch: 18/250, Loss: 1.5117, Val Precision: 0.1600, ACC: 0.1375, top_k: 0.2002, top_k=1: 0.2058\n"
     ]
    },
    {
     "name": "stdout",
     "output_type": "stream",
     "text": [
      "Epoch: 19/250, Loss: 1.4076, Val Precision: 0.1897, ACC: 0.1563, top_k: 0.2026, top_k=1: 0.2058\n"
     ]
    },
    {
     "name": "stdout",
     "output_type": "stream",
     "text": [
      "Epoch: 20/250, Loss: 1.3063, Val Precision: 0.1857, ACC: 0.1736, top_k: 0.2050, top_k=1: 0.2058\n"
     ]
    },
    {
     "name": "stdout",
     "output_type": "stream",
     "text": [
      "Epoch: 21/250, Loss: 1.2145, Val Precision: 0.1769, ACC: 0.1665, top_k: 0.2128, top_k=1: 0.2058\n"
     ]
    },
    {
     "name": "stdout",
     "output_type": "stream",
     "text": [
      "Epoch: 22/250, Loss: 1.1702, Val Precision: 0.1791, ACC: 0.1483, top_k: 0.2189, top_k=1: 0.2058\n"
     ]
    },
    {
     "name": "stdout",
     "output_type": "stream",
     "text": [
      "Epoch: 23/250, Loss: 1.1841, Val Precision: 0.1931, ACC: 0.1341, top_k: 0.2199, top_k=1: 0.2058\n"
     ]
    },
    {
     "name": "stdout",
     "output_type": "stream",
     "text": [
      "Epoch: 24/250, Loss: 1.2239, Val Precision: 0.2002, ACC: 0.1293, top_k: 0.2150, top_k=1: 0.2058\n"
     ]
    },
    {
     "name": "stdout",
     "output_type": "stream",
     "text": [
      "Epoch: 25/250, Loss: 1.2608, Val Precision: 0.2067, ACC: 0.1291, top_k: 0.2101, top_k=1: 0.2058\n"
     ]
    },
    {
     "name": "stdout",
     "output_type": "stream",
     "text": [
      "Epoch: 26/250, Loss: 1.2585, Val Precision: 0.2113, ACC: 0.1296, top_k: 0.2091, top_k=1: 0.2058\n"
     ]
    },
    {
     "name": "stdout",
     "output_type": "stream",
     "text": [
      "Epoch: 27/250, Loss: 1.2291, Val Precision: 0.2196, ACC: 0.1322, top_k: 0.2122, top_k=1: 0.2058\n"
     ]
    },
    {
     "name": "stdout",
     "output_type": "stream",
     "text": [
      "Epoch: 28/250, Loss: 1.1796, Val Precision: 0.2323, ACC: 0.1381, top_k: 0.2128, top_k=1: 0.2058\n"
     ]
    },
    {
     "name": "stdout",
     "output_type": "stream",
     "text": [
      "Epoch: 29/250, Loss: 1.1044, Val Precision: 0.2322, ACC: 0.1471, top_k: 0.2139, top_k=1: 0.2058\n"
     ]
    },
    {
     "name": "stdout",
     "output_type": "stream",
     "text": [
      "Epoch: 30/250, Loss: 1.0304, Val Precision: 0.2348, ACC: 0.1621, top_k: 0.2148, top_k=1: 0.2058\n"
     ]
    },
    {
     "name": "stdout",
     "output_type": "stream",
     "text": [
      "Epoch: 31/250, Loss: 0.9623, Val Precision: 0.2397, ACC: 0.1885, top_k: 0.2156, top_k=1: 0.2058\n"
     ]
    },
    {
     "name": "stdout",
     "output_type": "stream",
     "text": [
      "Epoch: 32/250, Loss: 0.9206, Val Precision: 0.2504, ACC: 0.2054, top_k: 0.2169, top_k=1: 0.2058\n"
     ]
    },
    {
     "name": "stdout",
     "output_type": "stream",
     "text": [
      "Epoch: 33/250, Loss: 0.9043, Val Precision: 0.2505, ACC: 0.2139, top_k: 0.2174, top_k=1: 0.2058\n"
     ]
    },
    {
     "name": "stdout",
     "output_type": "stream",
     "text": [
      "Epoch: 34/250, Loss: 0.8941, Val Precision: 0.2620, ACC: 0.2145, top_k: 0.2246, top_k=1: 0.2058\n"
     ]
    },
    {
     "name": "stdout",
     "output_type": "stream",
     "text": [
      "Epoch: 35/250, Loss: 0.8801, Val Precision: 0.2547, ACC: 0.2175, top_k: 0.2304, top_k=1: 0.2058\n"
     ]
    },
    {
     "name": "stdout",
     "output_type": "stream",
     "text": [
      "Epoch: 36/250, Loss: 0.8709, Val Precision: 0.2570, ACC: 0.2189, top_k: 0.2329, top_k=1: 0.2058\n"
     ]
    },
    {
     "name": "stdout",
     "output_type": "stream",
     "text": [
      "Epoch: 37/250, Loss: 0.8767, Val Precision: 0.2641, ACC: 0.2169, top_k: 0.2333, top_k=1: 0.2058\n"
     ]
    },
    {
     "name": "stdout",
     "output_type": "stream",
     "text": [
      "Epoch: 38/250, Loss: 0.8847, Val Precision: 0.2740, ACC: 0.2149, top_k: 0.2313, top_k=1: 0.2058\n"
     ]
    },
    {
     "name": "stdout",
     "output_type": "stream",
     "text": [
      "Epoch: 39/250, Loss: 0.8773, Val Precision: 0.2677, ACC: 0.2129, top_k: 0.2295, top_k=1: 0.2058\n"
     ]
    },
    {
     "name": "stdout",
     "output_type": "stream",
     "text": [
      "Epoch: 40/250, Loss: 0.8534, Val Precision: 0.2732, ACC: 0.2138, top_k: 0.2300, top_k=1: 0.2058\n"
     ]
    },
    {
     "name": "stdout",
     "output_type": "stream",
     "text": [
      "Epoch: 41/250, Loss: 0.8255, Val Precision: 0.2797, ACC: 0.2067, top_k: 0.2309, top_k=1: 0.2058\n"
     ]
    },
    {
     "name": "stdout",
     "output_type": "stream",
     "text": [
      "Epoch: 42/250, Loss: 0.8034, Val Precision: 0.2866, ACC: 0.2063, top_k: 0.2331, top_k=1: 0.2058\n"
     ]
    },
    {
     "name": "stdout",
     "output_type": "stream",
     "text": [
      "Epoch: 43/250, Loss: 0.7863, Val Precision: 0.2864, ACC: 0.2010, top_k: 0.2359, top_k=1: 0.2058\n"
     ]
    },
    {
     "name": "stdout",
     "output_type": "stream",
     "text": [
      "Epoch: 44/250, Loss: 0.7745, Val Precision: 0.2916, ACC: 0.2007, top_k: 0.2397, top_k=1: 0.2058\n"
     ]
    },
    {
     "name": "stdout",
     "output_type": "stream",
     "text": [
      "Epoch: 45/250, Loss: 0.7704, Val Precision: 0.2907, ACC: 0.1988, top_k: 0.2428, top_k=1: 0.2058\n"
     ]
    },
    {
     "name": "stdout",
     "output_type": "stream",
     "text": [
      "Epoch: 46/250, Loss: 0.7712, Val Precision: 0.2900, ACC: 0.2017, top_k: 0.2462, top_k=1: 0.2058\n"
     ]
    },
    {
     "name": "stdout",
     "output_type": "stream",
     "text": [
      "Epoch: 47/250, Loss: 0.7681, Val Precision: 0.2917, ACC: 0.2107, top_k: 0.2459, top_k=1: 0.2058\n"
     ]
    },
    {
     "name": "stdout",
     "output_type": "stream",
     "text": [
      "Epoch: 48/250, Loss: 0.7591, Val Precision: 0.2938, ACC: 0.2231, top_k: 0.2450, top_k=1: 0.2058\n"
     ]
    },
    {
     "name": "stdout",
     "output_type": "stream",
     "text": [
      "Epoch: 49/250, Loss: 0.7471, Val Precision: 0.2929, ACC: 0.2294, top_k: 0.2465, top_k=1: 0.2058\n"
     ]
    },
    {
     "name": "stdout",
     "output_type": "stream",
     "text": [
      "Epoch: 50/250, Loss: 0.7372, Val Precision: 0.2985, ACC: 0.2280, top_k: 0.2451, top_k=1: 0.2058\n"
     ]
    },
    {
     "name": "stdout",
     "output_type": "stream",
     "text": [
      "Epoch: 51/250, Loss: 0.7270, Val Precision: 0.3015, ACC: 0.2209, top_k: 0.2446, top_k=1: 0.2058\n"
     ]
    },
    {
     "name": "stdout",
     "output_type": "stream",
     "text": [
      "Epoch: 52/250, Loss: 0.7149, Val Precision: 0.3101, ACC: 0.2116, top_k: 0.2407, top_k=1: 0.2058\n"
     ]
    },
    {
     "name": "stdout",
     "output_type": "stream",
     "text": [
      "Epoch: 53/250, Loss: 0.7074, Val Precision: 0.3183, ACC: 0.2057, top_k: 0.2392, top_k=1: 0.2058\n"
     ]
    },
    {
     "name": "stdout",
     "output_type": "stream",
     "text": [
      "Epoch: 54/250, Loss: 0.7034, Val Precision: 0.3193, ACC: 0.2046, top_k: 0.2371, top_k=1: 0.2058\n"
     ]
    },
    {
     "name": "stdout",
     "output_type": "stream",
     "text": [
      "Epoch: 55/250, Loss: 0.7013, Val Precision: 0.3248, ACC: 0.2087, top_k: 0.2363, top_k=1: 0.2058\n"
     ]
    },
    {
     "name": "stdout",
     "output_type": "stream",
     "text": [
      "Epoch: 56/250, Loss: 0.6934, Val Precision: 0.3293, ACC: 0.2189, top_k: 0.2372, top_k=1: 0.2058\n"
     ]
    },
    {
     "name": "stdout",
     "output_type": "stream",
     "text": [
      "Epoch: 57/250, Loss: 0.6840, Val Precision: 0.3284, ACC: 0.2252, top_k: 0.2398, top_k=1: 0.2058\n"
     ]
    },
    {
     "name": "stdout",
     "output_type": "stream",
     "text": [
      "Epoch: 58/250, Loss: 0.6754, Val Precision: 0.3282, ACC: 0.2318, top_k: 0.2422, top_k=1: 0.2058\n"
     ]
    },
    {
     "name": "stdout",
     "output_type": "stream",
     "text": [
      "Epoch: 59/250, Loss: 0.6684, Val Precision: 0.3264, ACC: 0.2301, top_k: 0.2457, top_k=1: 0.2058\n"
     ]
    },
    {
     "name": "stdout",
     "output_type": "stream",
     "text": [
      "Epoch: 60/250, Loss: 0.6627, Val Precision: 0.3324, ACC: 0.2229, top_k: 0.2460, top_k=1: 0.2058\n"
     ]
    },
    {
     "name": "stdout",
     "output_type": "stream",
     "text": [
      "Epoch: 61/250, Loss: 0.6590, Val Precision: 0.3372, ACC: 0.2199, top_k: 0.2461, top_k=1: 0.2058\n"
     ]
    },
    {
     "name": "stdout",
     "output_type": "stream",
     "text": [
      "Epoch: 62/250, Loss: 0.6545, Val Precision: 0.3366, ACC: 0.2244, top_k: 0.2449, top_k=1: 0.2058\n"
     ]
    },
    {
     "name": "stdout",
     "output_type": "stream",
     "text": [
      "Epoch: 63/250, Loss: 0.6460, Val Precision: 0.3440, ACC: 0.2347, top_k: 0.2437, top_k=1: 0.2058\n"
     ]
    },
    {
     "name": "stdout",
     "output_type": "stream",
     "text": [
      "Epoch: 64/250, Loss: 0.6392, Val Precision: 0.3502, ACC: 0.2429, top_k: 0.2393, top_k=1: 0.2058\n"
     ]
    },
    {
     "name": "stdout",
     "output_type": "stream",
     "text": [
      "Epoch: 65/250, Loss: 0.6375, Val Precision: 0.3569, ACC: 0.2448, top_k: 0.2412, top_k=1: 0.2058\n"
     ]
    },
    {
     "name": "stdout",
     "output_type": "stream",
     "text": [
      "Epoch: 66/250, Loss: 0.6350, Val Precision: 0.3591, ACC: 0.2428, top_k: 0.2445, top_k=1: 0.2058\n"
     ]
    },
    {
     "name": "stdout",
     "output_type": "stream",
     "text": [
      "Epoch: 67/250, Loss: 0.6296, Val Precision: 0.3582, ACC: 0.2425, top_k: 0.2439, top_k=1: 0.2058\n"
     ]
    },
    {
     "name": "stdout",
     "output_type": "stream",
     "text": [
      "Epoch: 68/250, Loss: 0.6221, Val Precision: 0.3620, ACC: 0.2426, top_k: 0.2434, top_k=1: 0.2058\n"
     ]
    },
    {
     "name": "stdout",
     "output_type": "stream",
     "text": [
      "Epoch: 69/250, Loss: 0.6209, Val Precision: 0.3652, ACC: 0.2456, top_k: 0.2463, top_k=1: 0.2058\n"
     ]
    },
    {
     "name": "stdout",
     "output_type": "stream",
     "text": [
      "Epoch: 70/250, Loss: 0.6186, Val Precision: 0.3733, ACC: 0.2525, top_k: 0.2499, top_k=1: 0.2058\n"
     ]
    },
    {
     "name": "stdout",
     "output_type": "stream",
     "text": [
      "Epoch: 71/250, Loss: 0.6132, Val Precision: 0.3812, ACC: 0.2558, top_k: 0.2514, top_k=1: 0.2058\n"
     ]
    },
    {
     "name": "stdout",
     "output_type": "stream",
     "text": [
      "Epoch: 72/250, Loss: 0.6108, Val Precision: 0.3806, ACC: 0.2584, top_k: 0.2505, top_k=1: 0.2058\n"
     ]
    },
    {
     "name": "stdout",
     "output_type": "stream",
     "text": [
      "Epoch: 73/250, Loss: 0.6071, Val Precision: 0.3800, ACC: 0.2583, top_k: 0.2494, top_k=1: 0.2058\n"
     ]
    },
    {
     "name": "stdout",
     "output_type": "stream",
     "text": [
      "Epoch: 74/250, Loss: 0.6030, Val Precision: 0.3806, ACC: 0.2547, top_k: 0.2499, top_k=1: 0.2058\n"
     ]
    },
    {
     "name": "stdout",
     "output_type": "stream",
     "text": [
      "Epoch: 75/250, Loss: 0.6013, Val Precision: 0.3797, ACC: 0.2574, top_k: 0.2500, top_k=1: 0.2058\n"
     ]
    },
    {
     "name": "stdout",
     "output_type": "stream",
     "text": [
      "Epoch: 76/250, Loss: 0.6000, Val Precision: 0.3872, ACC: 0.2607, top_k: 0.2517, top_k=1: 0.2058\n"
     ]
    },
    {
     "name": "stdout",
     "output_type": "stream",
     "text": [
      "Epoch: 77/250, Loss: 0.5958, Val Precision: 0.3994, ACC: 0.2646, top_k: 0.2558, top_k=1: 0.2058\n"
     ]
    },
    {
     "name": "stdout",
     "output_type": "stream",
     "text": [
      "Epoch: 78/250, Loss: 0.5927, Val Precision: 0.4005, ACC: 0.2630, top_k: 0.2600, top_k=1: 0.2058\n"
     ]
    },
    {
     "name": "stdout",
     "output_type": "stream",
     "text": [
      "Epoch: 79/250, Loss: 0.5924, Val Precision: 0.3976, ACC: 0.2646, top_k: 0.2621, top_k=1: 0.2058\n"
     ]
    },
    {
     "name": "stdout",
     "output_type": "stream",
     "text": [
      "Epoch: 80/250, Loss: 0.5894, Val Precision: 0.4070, ACC: 0.2672, top_k: 0.2595, top_k=1: 0.2058\n"
     ]
    },
    {
     "name": "stdout",
     "output_type": "stream",
     "text": [
      "Epoch: 81/250, Loss: 0.5873, Val Precision: 0.4055, ACC: 0.2667, top_k: 0.2591, top_k=1: 0.2058\n"
     ]
    },
    {
     "name": "stdout",
     "output_type": "stream",
     "text": [
      "Epoch: 82/250, Loss: 0.5853, Val Precision: 0.4039, ACC: 0.2677, top_k: 0.2627, top_k=1: 0.2058\n"
     ]
    },
    {
     "name": "stdout",
     "output_type": "stream",
     "text": [
      "Epoch: 83/250, Loss: 0.5820, Val Precision: 0.4065, ACC: 0.2666, top_k: 0.2648, top_k=1: 0.2058\n"
     ]
    },
    {
     "name": "stdout",
     "output_type": "stream",
     "text": [
      "Epoch: 84/250, Loss: 0.5806, Val Precision: 0.4196, ACC: 0.2684, top_k: 0.2653, top_k=1: 0.2058\n"
     ]
    },
    {
     "name": "stdout",
     "output_type": "stream",
     "text": [
      "Epoch: 85/250, Loss: 0.5782, Val Precision: 0.4182, ACC: 0.2703, top_k: 0.2673, top_k=1: 0.2058\n"
     ]
    },
    {
     "name": "stdout",
     "output_type": "stream",
     "text": [
      "Epoch: 86/250, Loss: 0.5761, Val Precision: 0.4139, ACC: 0.2696, top_k: 0.2717, top_k=1: 0.2058\n"
     ]
    },
    {
     "name": "stdout",
     "output_type": "stream",
     "text": [
      "Epoch: 87/250, Loss: 0.5754, Val Precision: 0.4156, ACC: 0.2707, top_k: 0.2723, top_k=1: 0.2058\n"
     ]
    },
    {
     "name": "stdout",
     "output_type": "stream",
     "text": [
      "Epoch: 88/250, Loss: 0.5732, Val Precision: 0.4230, ACC: 0.2705, top_k: 0.2712, top_k=1: 0.2058\n"
     ]
    },
    {
     "name": "stdout",
     "output_type": "stream",
     "text": [
      "Epoch: 89/250, Loss: 0.5710, Val Precision: 0.4152, ACC: 0.2696, top_k: 0.2735, top_k=1: 0.2058\n"
     ]
    },
    {
     "name": "stdout",
     "output_type": "stream",
     "text": [
      "Epoch: 90/250, Loss: 0.5699, Val Precision: 0.4216, ACC: 0.2706, top_k: 0.2773, top_k=1: 0.2058\n"
     ]
    },
    {
     "name": "stdout",
     "output_type": "stream",
     "text": [
      "Epoch: 91/250, Loss: 0.5678, Val Precision: 0.4250, ACC: 0.2728, top_k: 0.2782, top_k=1: 0.2058\n"
     ]
    },
    {
     "name": "stdout",
     "output_type": "stream",
     "text": [
      "Epoch: 92/250, Loss: 0.5667, Val Precision: 0.4220, ACC: 0.2723, top_k: 0.2789, top_k=1: 0.2058\n"
     ]
    },
    {
     "name": "stdout",
     "output_type": "stream",
     "text": [
      "Epoch: 93/250, Loss: 0.5649, Val Precision: 0.4193, ACC: 0.2705, top_k: 0.2809, top_k=1: 0.2058\n"
     ]
    },
    {
     "name": "stdout",
     "output_type": "stream",
     "text": [
      "Epoch: 94/250, Loss: 0.5638, Val Precision: 0.4249, ACC: 0.2717, top_k: 0.2811, top_k=1: 0.2058\n"
     ]
    },
    {
     "name": "stdout",
     "output_type": "stream",
     "text": [
      "Epoch: 95/250, Loss: 0.5621, Val Precision: 0.4280, ACC: 0.2748, top_k: 0.2826, top_k=1: 0.2058\n"
     ]
    },
    {
     "name": "stdout",
     "output_type": "stream",
     "text": [
      "Epoch: 96/250, Loss: 0.5613, Val Precision: 0.4302, ACC: 0.2745, top_k: 0.2826, top_k=1: 0.2058\n"
     ]
    },
    {
     "name": "stdout",
     "output_type": "stream",
     "text": [
      "Epoch: 97/250, Loss: 0.5596, Val Precision: 0.4195, ACC: 0.2702, top_k: 0.2845, top_k=1: 0.2058\n"
     ]
    },
    {
     "name": "stdout",
     "output_type": "stream",
     "text": [
      "Epoch: 98/250, Loss: 0.5593, Val Precision: 0.4235, ACC: 0.2707, top_k: 0.2852, top_k=1: 0.2058\n"
     ]
    },
    {
     "name": "stdout",
     "output_type": "stream",
     "text": [
      "Epoch: 99/250, Loss: 0.5580, Val Precision: 0.4345, ACC: 0.2752, top_k: 0.2856, top_k=1: 0.2058\n"
     ]
    },
    {
     "name": "stdout",
     "output_type": "stream",
     "text": [
      "Epoch: 100/250, Loss: 0.5557, Val Precision: 0.4384, ACC: 0.2775, top_k: 0.2857, top_k=1: 0.2058\n"
     ]
    },
    {
     "name": "stdout",
     "output_type": "stream",
     "text": [
      "Epoch: 101/250, Loss: 0.5550, Val Precision: 0.4330, ACC: 0.2756, top_k: 0.2869, top_k=1: 0.2058\n"
     ]
    },
    {
     "name": "stdout",
     "output_type": "stream",
     "text": [
      "Epoch: 102/250, Loss: 0.5536, Val Precision: 0.4293, ACC: 0.2738, top_k: 0.2862, top_k=1: 0.2058\n"
     ]
    },
    {
     "name": "stdout",
     "output_type": "stream",
     "text": [
      "Epoch: 103/250, Loss: 0.5525, Val Precision: 0.4398, ACC: 0.2768, top_k: 0.2873, top_k=1: 0.2058\n"
     ]
    },
    {
     "name": "stdout",
     "output_type": "stream",
     "text": [
      "Epoch: 104/250, Loss: 0.5518, Val Precision: 0.4421, ACC: 0.2779, top_k: 0.2879, top_k=1: 0.2058\n"
     ]
    },
    {
     "name": "stdout",
     "output_type": "stream",
     "text": [
      "Epoch: 105/250, Loss: 0.5505, Val Precision: 0.4354, ACC: 0.2726, top_k: 0.2878, top_k=1: 0.2058\n"
     ]
    },
    {
     "name": "stdout",
     "output_type": "stream",
     "text": [
      "Epoch: 106/250, Loss: 0.5504, Val Precision: 0.4355, ACC: 0.2738, top_k: 0.2880, top_k=1: 0.2058\n"
     ]
    },
    {
     "name": "stdout",
     "output_type": "stream",
     "text": [
      "Epoch: 107/250, Loss: 0.5493, Val Precision: 0.4435, ACC: 0.2776, top_k: 0.2890, top_k=1: 0.2058\n"
     ]
    },
    {
     "name": "stdout",
     "output_type": "stream",
     "text": [
      "Epoch: 108/250, Loss: 0.5476, Val Precision: 0.4492, ACC: 0.2779, top_k: 0.2899, top_k=1: 0.2058\n"
     ]
    },
    {
     "name": "stdout",
     "output_type": "stream",
     "text": [
      "Epoch: 109/250, Loss: 0.5469, Val Precision: 0.4498, ACC: 0.2763, top_k: 0.2904, top_k=1: 0.2058\n"
     ]
    },
    {
     "name": "stdout",
     "output_type": "stream",
     "text": [
      "Epoch: 110/250, Loss: 0.5455, Val Precision: 0.4452, ACC: 0.2743, top_k: 0.2896, top_k=1: 0.2058\n"
     ]
    },
    {
     "name": "stdout",
     "output_type": "stream",
     "text": [
      "Epoch: 111/250, Loss: 0.5449, Val Precision: 0.4456, ACC: 0.2768, top_k: 0.2907, top_k=1: 0.2058\n"
     ]
    },
    {
     "name": "stdout",
     "output_type": "stream",
     "text": [
      "Epoch: 112/250, Loss: 0.5436, Val Precision: 0.4540, ACC: 0.2784, top_k: 0.2919, top_k=1: 0.2058\n"
     ]
    },
    {
     "name": "stdout",
     "output_type": "stream",
     "text": [
      "Epoch: 113/250, Loss: 0.5429, Val Precision: 0.4531, ACC: 0.2769, top_k: 0.2922, top_k=1: 0.2058\n"
     ]
    },
    {
     "name": "stdout",
     "output_type": "stream",
     "text": [
      "Epoch: 114/250, Loss: 0.5420, Val Precision: 0.4526, ACC: 0.2759, top_k: 0.2915, top_k=1: 0.2058\n"
     ]
    },
    {
     "name": "stdout",
     "output_type": "stream",
     "text": [
      "Epoch: 115/250, Loss: 0.5411, Val Precision: 0.4512, ACC: 0.2763, top_k: 0.2922, top_k=1: 0.2058\n"
     ]
    },
    {
     "name": "stdout",
     "output_type": "stream",
     "text": [
      "Epoch: 116/250, Loss: 0.5400, Val Precision: 0.4576, ACC: 0.2785, top_k: 0.2942, top_k=1: 0.2058\n"
     ]
    },
    {
     "name": "stdout",
     "output_type": "stream",
     "text": [
      "Epoch: 117/250, Loss: 0.5391, Val Precision: 0.4521, ACC: 0.2758, top_k: 0.2923, top_k=1: 0.2058\n"
     ]
    },
    {
     "name": "stdout",
     "output_type": "stream",
     "text": [
      "Epoch: 118/250, Loss: 0.5386, Val Precision: 0.4616, ACC: 0.2768, top_k: 0.2937, top_k=1: 0.2058\n"
     ]
    },
    {
     "name": "stdout",
     "output_type": "stream",
     "text": [
      "Epoch: 119/250, Loss: 0.5377, Val Precision: 0.4600, ACC: 0.2775, top_k: 0.2941, top_k=1: 0.2058\n"
     ]
    },
    {
     "name": "stdout",
     "output_type": "stream",
     "text": [
      "Epoch: 120/250, Loss: 0.5362, Val Precision: 0.4572, ACC: 0.2771, top_k: 0.2937, top_k=1: 0.2058\n"
     ]
    },
    {
     "name": "stdout",
     "output_type": "stream",
     "text": [
      "Epoch: 121/250, Loss: 0.5372, Val Precision: 0.4613, ACC: 0.2781, top_k: 0.2940, top_k=1: 0.2058\n"
     ]
    },
    {
     "name": "stdout",
     "output_type": "stream",
     "text": [
      "Epoch: 122/250, Loss: 0.5349, Val Precision: 0.4684, ACC: 0.2769, top_k: 0.2953, top_k=1: 0.2058\n"
     ]
    },
    {
     "name": "stdout",
     "output_type": "stream",
     "text": [
      "Epoch: 123/250, Loss: 0.5358, Val Precision: 0.4667, ACC: 0.2789, top_k: 0.2962, top_k=1: 0.2058\n"
     ]
    },
    {
     "name": "stdout",
     "output_type": "stream",
     "text": [
      "Epoch: 124/250, Loss: 0.5352, Val Precision: 0.4633, ACC: 0.2794, top_k: 0.2964, top_k=1: 0.2058\n"
     ]
    },
    {
     "name": "stdout",
     "output_type": "stream",
     "text": [
      "Epoch: 125/250, Loss: 0.5331, Val Precision: 0.4655, ACC: 0.2766, top_k: 0.2961, top_k=1: 0.2058\n"
     ]
    },
    {
     "name": "stdout",
     "output_type": "stream",
     "text": [
      "Epoch: 126/250, Loss: 0.5326, Val Precision: 0.4662, ACC: 0.2775, top_k: 0.2962, top_k=1: 0.2058\n"
     ]
    },
    {
     "name": "stdout",
     "output_type": "stream",
     "text": [
      "Epoch: 127/250, Loss: 0.5322, Val Precision: 0.4814, ACC: 0.2791, top_k: 0.2968, top_k=1: 0.2058\n"
     ]
    },
    {
     "name": "stdout",
     "output_type": "stream",
     "text": [
      "Epoch: 128/250, Loss: 0.5309, Val Precision: 0.4716, ACC: 0.2788, top_k: 0.2977, top_k=1: 0.2058\n"
     ]
    },
    {
     "name": "stdout",
     "output_type": "stream",
     "text": [
      "Epoch: 129/250, Loss: 0.5303, Val Precision: 0.4736, ACC: 0.2795, top_k: 0.2986, top_k=1: 0.2058\n"
     ]
    },
    {
     "name": "stdout",
     "output_type": "stream",
     "text": [
      "Epoch: 130/250, Loss: 0.5297, Val Precision: 0.4805, ACC: 0.2788, top_k: 0.2988, top_k=1: 0.2058\n"
     ]
    },
    {
     "name": "stdout",
     "output_type": "stream",
     "text": [
      "Epoch: 131/250, Loss: 0.5283, Val Precision: 0.4724, ACC: 0.2772, top_k: 0.2963, top_k=1: 0.2058\n"
     ]
    },
    {
     "name": "stdout",
     "output_type": "stream",
     "text": [
      "Epoch: 132/250, Loss: 0.5290, Val Precision: 0.4803, ACC: 0.2791, top_k: 0.2972, top_k=1: 0.2058\n"
     ]
    },
    {
     "name": "stdout",
     "output_type": "stream",
     "text": [
      "Epoch: 133/250, Loss: 0.5278, Val Precision: 0.4789, ACC: 0.2798, top_k: 0.2995, top_k=1: 0.2058\n"
     ]
    },
    {
     "name": "stdout",
     "output_type": "stream",
     "text": [
      "Epoch: 134/250, Loss: 0.5267, Val Precision: 0.4794, ACC: 0.2765, top_k: 0.3009, top_k=1: 0.2058\n"
     ]
    },
    {
     "name": "stdout",
     "output_type": "stream",
     "text": [
      "Epoch: 135/250, Loss: 0.5274, Val Precision: 0.4820, ACC: 0.2781, top_k: 0.3012, top_k=1: 0.2058\n"
     ]
    },
    {
     "name": "stdout",
     "output_type": "stream",
     "text": [
      "Epoch: 136/250, Loss: 0.5258, Val Precision: 0.4917, ACC: 0.2795, top_k: 0.2975, top_k=1: 0.2058\n"
     ]
    },
    {
     "name": "stdout",
     "output_type": "stream",
     "text": [
      "Epoch: 137/250, Loss: 0.5270, Val Precision: 0.4864, ACC: 0.2784, top_k: 0.2967, top_k=1: 0.2058\n"
     ]
    },
    {
     "name": "stdout",
     "output_type": "stream",
     "text": [
      "Epoch: 138/250, Loss: 0.5276, Val Precision: 0.4808, ACC: 0.2789, top_k: 0.2989, top_k=1: 0.2058\n"
     ]
    },
    {
     "name": "stdout",
     "output_type": "stream",
     "text": [
      "Epoch: 139/250, Loss: 0.5241, Val Precision: 0.4853, ACC: 0.2761, top_k: 0.3018, top_k=1: 0.2058\n"
     ]
    },
    {
     "name": "stdout",
     "output_type": "stream",
     "text": [
      "Epoch: 140/250, Loss: 0.5268, Val Precision: 0.4886, ACC: 0.2766, top_k: 0.3024, top_k=1: 0.2058\n"
     ]
    },
    {
     "name": "stdout",
     "output_type": "stream",
     "text": [
      "Epoch: 141/250, Loss: 0.5282, Val Precision: 0.4957, ACC: 0.2804, top_k: 0.3032, top_k=1: 0.2058\n"
     ]
    },
    {
     "name": "stdout",
     "output_type": "stream",
     "text": [
      "Epoch: 142/250, Loss: 0.5263, Val Precision: 0.4886, ACC: 0.2791, top_k: 0.3011, top_k=1: 0.2058\n"
     ]
    },
    {
     "name": "stdout",
     "output_type": "stream",
     "text": [
      "Epoch: 143/250, Loss: 0.5247, Val Precision: 0.4913, ACC: 0.2772, top_k: 0.2997, top_k=1: 0.2058\n"
     ]
    },
    {
     "name": "stdout",
     "output_type": "stream",
     "text": [
      "Epoch: 144/250, Loss: 0.5230, Val Precision: 0.4798, ACC: 0.2763, top_k: 0.3001, top_k=1: 0.2058\n"
     ]
    },
    {
     "name": "stdout",
     "output_type": "stream",
     "text": [
      "Epoch: 145/250, Loss: 0.5240, Val Precision: 0.4879, ACC: 0.2773, top_k: 0.3007, top_k=1: 0.2058\n"
     ]
    },
    {
     "name": "stdout",
     "output_type": "stream",
     "text": [
      "Epoch: 146/250, Loss: 0.5242, Val Precision: 0.5023, ACC: 0.2791, top_k: 0.3024, top_k=1: 0.2058\n"
     ]
    },
    {
     "name": "stdout",
     "output_type": "stream",
     "text": [
      "Epoch: 147/250, Loss: 0.5219, Val Precision: 0.4977, ACC: 0.2795, top_k: 0.3019, top_k=1: 0.2058\n"
     ]
    },
    {
     "name": "stdout",
     "output_type": "stream",
     "text": [
      "Epoch: 148/250, Loss: 0.5211, Val Precision: 0.4875, ACC: 0.2772, top_k: 0.3013, top_k=1: 0.2058\n"
     ]
    },
    {
     "name": "stdout",
     "output_type": "stream",
     "text": [
      "Epoch: 149/250, Loss: 0.5222, Val Precision: 0.4971, ACC: 0.2784, top_k: 0.3022, top_k=1: 0.2058\n"
     ]
    },
    {
     "name": "stdout",
     "output_type": "stream",
     "text": [
      "Epoch: 150/250, Loss: 0.5199, Val Precision: 0.5007, ACC: 0.2785, top_k: 0.3023, top_k=1: 0.2058\n"
     ]
    },
    {
     "name": "stdout",
     "output_type": "stream",
     "text": [
      "Epoch: 151/250, Loss: 0.5208, Val Precision: 0.4979, ACC: 0.2784, top_k: 0.3004, top_k=1: 0.2058\n"
     ]
    },
    {
     "name": "stdout",
     "output_type": "stream",
     "text": [
      "Epoch: 152/250, Loss: 0.5219, Val Precision: 0.5010, ACC: 0.2785, top_k: 0.3021, top_k=1: 0.2058\n"
     ]
    },
    {
     "name": "stdout",
     "output_type": "stream",
     "text": [
      "Epoch: 153/250, Loss: 0.5190, Val Precision: 0.4957, ACC: 0.2785, top_k: 0.3029, top_k=1: 0.2058\n"
     ]
    },
    {
     "name": "stdout",
     "output_type": "stream",
     "text": [
      "Epoch: 154/250, Loss: 0.5190, Val Precision: 0.4972, ACC: 0.2779, top_k: 0.3039, top_k=1: 0.2058\n"
     ]
    },
    {
     "name": "stdout",
     "output_type": "stream",
     "text": [
      "Epoch: 155/250, Loss: 0.5198, Val Precision: 0.5022, ACC: 0.2802, top_k: 0.3041, top_k=1: 0.2058\n"
     ]
    },
    {
     "name": "stdout",
     "output_type": "stream",
     "text": [
      "Epoch: 156/250, Loss: 0.5179, Val Precision: 0.5044, ACC: 0.2785, top_k: 0.3036, top_k=1: 0.2058\n"
     ]
    },
    {
     "name": "stdout",
     "output_type": "stream",
     "text": [
      "Epoch: 157/250, Loss: 0.5185, Val Precision: 0.4984, ACC: 0.2781, top_k: 0.3020, top_k=1: 0.2058\n"
     ]
    },
    {
     "name": "stdout",
     "output_type": "stream",
     "text": [
      "Epoch: 158/250, Loss: 0.5185, Val Precision: 0.5067, ACC: 0.2792, top_k: 0.3030, top_k=1: 0.2058\n"
     ]
    },
    {
     "name": "stdout",
     "output_type": "stream",
     "text": [
      "Epoch: 159/250, Loss: 0.5172, Val Precision: 0.5113, ACC: 0.2796, top_k: 0.3040, top_k=1: 0.2058\n"
     ]
    },
    {
     "name": "stdout",
     "output_type": "stream",
     "text": [
      "Epoch: 160/250, Loss: 0.5166, Val Precision: 0.5035, ACC: 0.2795, top_k: 0.3044, top_k=1: 0.2058\n"
     ]
    },
    {
     "name": "stdout",
     "output_type": "stream",
     "text": [
      "Epoch: 161/250, Loss: 0.5164, Val Precision: 0.5001, ACC: 0.2796, top_k: 0.3053, top_k=1: 0.2058\n"
     ]
    },
    {
     "name": "stdout",
     "output_type": "stream",
     "text": [
      "Epoch: 162/250, Loss: 0.5158, Val Precision: 0.5115, ACC: 0.2804, top_k: 0.3053, top_k=1: 0.2058\n"
     ]
    },
    {
     "name": "stdout",
     "output_type": "stream",
     "text": [
      "Epoch: 163/250, Loss: 0.5156, Val Precision: 0.5118, ACC: 0.2799, top_k: 0.3044, top_k=1: 0.2058\n"
     ]
    },
    {
     "name": "stdout",
     "output_type": "stream",
     "text": [
      "Epoch: 164/250, Loss: 0.5146, Val Precision: 0.5030, ACC: 0.2784, top_k: 0.3028, top_k=1: 0.2058\n"
     ]
    },
    {
     "name": "stdout",
     "output_type": "stream",
     "text": [
      "Epoch: 165/250, Loss: 0.5152, Val Precision: 0.5024, ACC: 0.2779, top_k: 0.3041, top_k=1: 0.2058\n"
     ]
    },
    {
     "name": "stdout",
     "output_type": "stream",
     "text": [
      "Epoch: 166/250, Loss: 0.5147, Val Precision: 0.5140, ACC: 0.2806, top_k: 0.3054, top_k=1: 0.2058\n"
     ]
    },
    {
     "name": "stdout",
     "output_type": "stream",
     "text": [
      "Epoch: 167/250, Loss: 0.5135, Val Precision: 0.5140, ACC: 0.2806, top_k: 0.3064, top_k=1: 0.2058\n"
     ]
    },
    {
     "name": "stdout",
     "output_type": "stream",
     "text": [
      "Epoch: 168/250, Loss: 0.5135, Val Precision: 0.5140, ACC: 0.2792, top_k: 0.3047, top_k=1: 0.2058\n"
     ]
    },
    {
     "name": "stdout",
     "output_type": "stream",
     "text": [
      "Epoch: 169/250, Loss: 0.5132, Val Precision: 0.5141, ACC: 0.2798, top_k: 0.3051, top_k=1: 0.2058\n"
     ]
    },
    {
     "name": "stdout",
     "output_type": "stream",
     "text": [
      "Epoch: 170/250, Loss: 0.5121, Val Precision: 0.5164, ACC: 0.2794, top_k: 0.3054, top_k=1: 0.2058\n"
     ]
    },
    {
     "name": "stdout",
     "output_type": "stream",
     "text": [
      "Epoch: 171/250, Loss: 0.5132, Val Precision: 0.5205, ACC: 0.2796, top_k: 0.3054, top_k=1: 0.2058\n"
     ]
    },
    {
     "name": "stdout",
     "output_type": "stream",
     "text": [
      "Epoch: 172/250, Loss: 0.5129, Val Precision: 0.5194, ACC: 0.2811, top_k: 0.3058, top_k=1: 0.2058\n"
     ]
    },
    {
     "name": "stdout",
     "output_type": "stream",
     "text": [
      "Epoch: 173/250, Loss: 0.5108, Val Precision: 0.5160, ACC: 0.2794, top_k: 0.3057, top_k=1: 0.2058\n"
     ]
    },
    {
     "name": "stdout",
     "output_type": "stream",
     "text": [
      "Epoch: 174/250, Loss: 0.5134, Val Precision: 0.5209, ACC: 0.2798, top_k: 0.3063, top_k=1: 0.2058\n"
     ]
    },
    {
     "name": "stdout",
     "output_type": "stream",
     "text": [
      "Epoch: 175/250, Loss: 0.5134, Val Precision: 0.5185, ACC: 0.2802, top_k: 0.3072, top_k=1: 0.2058\n"
     ]
    },
    {
     "name": "stdout",
     "output_type": "stream",
     "text": [
      "Epoch: 176/250, Loss: 0.5098, Val Precision: 0.5154, ACC: 0.2789, top_k: 0.3049, top_k=1: 0.2058\n"
     ]
    },
    {
     "name": "stdout",
     "output_type": "stream",
     "text": [
      "Epoch: 177/250, Loss: 0.5149, Val Precision: 0.5130, ACC: 0.2768, top_k: 0.3028, top_k=1: 0.2058\n"
     ]
    },
    {
     "name": "stdout",
     "output_type": "stream",
     "text": [
      "Epoch: 178/250, Loss: 0.5182, Val Precision: 0.5181, ACC: 0.2781, top_k: 0.3034, top_k=1: 0.2058\n"
     ]
    },
    {
     "name": "stdout",
     "output_type": "stream",
     "text": [
      "Epoch: 179/250, Loss: 0.5132, Val Precision: 0.5282, ACC: 0.2811, top_k: 0.3060, top_k=1: 0.2058\n"
     ]
    },
    {
     "name": "stdout",
     "output_type": "stream",
     "text": [
      "Epoch: 180/250, Loss: 0.5097, Val Precision: 0.5140, ACC: 0.2775, top_k: 0.3077, top_k=1: 0.2058\n"
     ]
    },
    {
     "name": "stdout",
     "output_type": "stream",
     "text": [
      "Epoch: 181/250, Loss: 0.5115, Val Precision: 0.5129, ACC: 0.2762, top_k: 0.3075, top_k=1: 0.2058\n"
     ]
    },
    {
     "name": "stdout",
     "output_type": "stream",
     "text": [
      "Epoch: 182/250, Loss: 0.5124, Val Precision: 0.5168, ACC: 0.2798, top_k: 0.3075, top_k=1: 0.2058\n"
     ]
    },
    {
     "name": "stdout",
     "output_type": "stream",
     "text": [
      "Epoch: 183/250, Loss: 0.5108, Val Precision: 0.5351, ACC: 0.2821, top_k: 0.3080, top_k=1: 0.2058\n"
     ]
    },
    {
     "name": "stdout",
     "output_type": "stream",
     "text": [
      "Epoch: 184/250, Loss: 0.5089, Val Precision: 0.5294, ACC: 0.2812, top_k: 0.3055, top_k=1: 0.2058\n"
     ]
    },
    {
     "name": "stdout",
     "output_type": "stream",
     "text": [
      "Epoch: 185/250, Loss: 0.5089, Val Precision: 0.5123, ACC: 0.2781, top_k: 0.3062, top_k=1: 0.2058\n"
     ]
    },
    {
     "name": "stdout",
     "output_type": "stream",
     "text": [
      "Epoch: 186/250, Loss: 0.5088, Val Precision: 0.5099, ACC: 0.2778, top_k: 0.3076, top_k=1: 0.2058\n"
     ]
    },
    {
     "name": "stdout",
     "output_type": "stream",
     "text": [
      "Epoch: 187/250, Loss: 0.5083, Val Precision: 0.5236, ACC: 0.2795, top_k: 0.3080, top_k=1: 0.2058\n"
     ]
    },
    {
     "name": "stdout",
     "output_type": "stream",
     "text": [
      "Epoch: 188/250, Loss: 0.5071, Val Precision: 0.5366, ACC: 0.2819, top_k: 0.3079, top_k=1: 0.2058\n"
     ]
    },
    {
     "name": "stdout",
     "output_type": "stream",
     "text": [
      "Epoch: 189/250, Loss: 0.5076, Val Precision: 0.5377, ACC: 0.2822, top_k: 0.3081, top_k=1: 0.2058\n"
     ]
    },
    {
     "name": "stdout",
     "output_type": "stream",
     "text": [
      "Epoch: 190/250, Loss: 0.5075, Val Precision: 0.5199, ACC: 0.2808, top_k: 0.3087, top_k=1: 0.2058\n"
     ]
    },
    {
     "name": "stdout",
     "output_type": "stream",
     "text": [
      "Epoch: 191/250, Loss: 0.5055, Val Precision: 0.5204, ACC: 0.2781, top_k: 0.3070, top_k=1: 0.2058\n"
     ]
    },
    {
     "name": "stdout",
     "output_type": "stream",
     "text": [
      "Epoch: 192/250, Loss: 0.5072, Val Precision: 0.5209, ACC: 0.2786, top_k: 0.3067, top_k=1: 0.2058\n"
     ]
    },
    {
     "name": "stdout",
     "output_type": "stream",
     "text": [
      "Epoch: 193/250, Loss: 0.5070, Val Precision: 0.5334, ACC: 0.2814, top_k: 0.3082, top_k=1: 0.2058\n"
     ]
    },
    {
     "name": "stdout",
     "output_type": "stream",
     "text": [
      "Epoch: 194/250, Loss: 0.5051, Val Precision: 0.5285, ACC: 0.2809, top_k: 0.3087, top_k=1: 0.2058\n"
     ]
    },
    {
     "name": "stdout",
     "output_type": "stream",
     "text": [
      "Epoch: 195/250, Loss: 0.5051, Val Precision: 0.5200, ACC: 0.2804, top_k: 0.3092, top_k=1: 0.2058\n"
     ]
    },
    {
     "name": "stdout",
     "output_type": "stream",
     "text": [
      "Epoch: 196/250, Loss: 0.5052, Val Precision: 0.5264, ACC: 0.2806, top_k: 0.3085, top_k=1: 0.2058\n"
     ]
    },
    {
     "name": "stdout",
     "output_type": "stream",
     "text": [
      "Epoch: 197/250, Loss: 0.5041, Val Precision: 0.5324, ACC: 0.2805, top_k: 0.3081, top_k=1: 0.2058\n"
     ]
    },
    {
     "name": "stdout",
     "output_type": "stream",
     "text": [
      "Epoch: 198/250, Loss: 0.5048, Val Precision: 0.5325, ACC: 0.2799, top_k: 0.3080, top_k=1: 0.2058\n"
     ]
    },
    {
     "name": "stdout",
     "output_type": "stream",
     "text": [
      "Epoch: 199/250, Loss: 0.5044, Val Precision: 0.5311, ACC: 0.2808, top_k: 0.3086, top_k=1: 0.2058\n"
     ]
    },
    {
     "name": "stdout",
     "output_type": "stream",
     "text": [
      "Epoch: 200/250, Loss: 0.5033, Val Precision: 0.5259, ACC: 0.2808, top_k: 0.3093, top_k=1: 0.2058\n"
     ]
    },
    {
     "name": "stdout",
     "output_type": "stream",
     "text": [
      "Epoch: 201/250, Loss: 0.5028, Val Precision: 0.5328, ACC: 0.2805, top_k: 0.3099, top_k=1: 0.2058\n"
     ]
    },
    {
     "name": "stdout",
     "output_type": "stream",
     "text": [
      "Epoch: 202/250, Loss: 0.5033, Val Precision: 0.5357, ACC: 0.2818, top_k: 0.3091, top_k=1: 0.2058\n"
     ]
    },
    {
     "name": "stdout",
     "output_type": "stream",
     "text": [
      "Epoch: 203/250, Loss: 0.5022, Val Precision: 0.5295, ACC: 0.2799, top_k: 0.3091, top_k=1: 0.2058\n"
     ]
    },
    {
     "name": "stdout",
     "output_type": "stream",
     "text": [
      "Epoch: 204/250, Loss: 0.5026, Val Precision: 0.5257, ACC: 0.2788, top_k: 0.3084, top_k=1: 0.2058\n"
     ]
    },
    {
     "name": "stdout",
     "output_type": "stream",
     "text": [
      "Epoch: 205/250, Loss: 0.5024, Val Precision: 0.5363, ACC: 0.2801, top_k: 0.3094, top_k=1: 0.2058\n"
     ]
    },
    {
     "name": "stdout",
     "output_type": "stream",
     "text": [
      "Epoch: 206/250, Loss: 0.5013, Val Precision: 0.5371, ACC: 0.2818, top_k: 0.3097, top_k=1: 0.2058\n"
     ]
    },
    {
     "name": "stdout",
     "output_type": "stream",
     "text": [
      "Epoch: 207/250, Loss: 0.5010, Val Precision: 0.5300, ACC: 0.2795, top_k: 0.3095, top_k=1: 0.2058\n"
     ]
    },
    {
     "name": "stdout",
     "output_type": "stream",
     "text": [
      "Epoch: 208/250, Loss: 0.5011, Val Precision: 0.5308, ACC: 0.2809, top_k: 0.3102, top_k=1: 0.2058\n"
     ]
    },
    {
     "name": "stdout",
     "output_type": "stream",
     "text": [
      "Epoch: 209/250, Loss: 0.5001, Val Precision: 0.5428, ACC: 0.2801, top_k: 0.3097, top_k=1: 0.2058\n"
     ]
    },
    {
     "name": "stdout",
     "output_type": "stream",
     "text": [
      "Epoch: 210/250, Loss: 0.5006, Val Precision: 0.5423, ACC: 0.2801, top_k: 0.3095, top_k=1: 0.2058\n"
     ]
    },
    {
     "name": "stdout",
     "output_type": "stream",
     "text": [
      "Epoch: 211/250, Loss: 0.5002, Val Precision: 0.5338, ACC: 0.2792, top_k: 0.3107, top_k=1: 0.2058\n"
     ]
    },
    {
     "name": "stdout",
     "output_type": "stream",
     "text": [
      "Epoch: 212/250, Loss: 0.4993, Val Precision: 0.5326, ACC: 0.2812, top_k: 0.3103, top_k=1: 0.2058\n"
     ]
    },
    {
     "name": "stdout",
     "output_type": "stream",
     "text": [
      "Epoch: 213/250, Loss: 0.4991, Val Precision: 0.5430, ACC: 0.2809, top_k: 0.3110, top_k=1: 0.2058\n"
     ]
    },
    {
     "name": "stdout",
     "output_type": "stream",
     "text": [
      "Epoch: 214/250, Loss: 0.4989, Val Precision: 0.5431, ACC: 0.2806, top_k: 0.3110, top_k=1: 0.2058\n"
     ]
    },
    {
     "name": "stdout",
     "output_type": "stream",
     "text": [
      "Epoch: 215/250, Loss: 0.4980, Val Precision: 0.5341, ACC: 0.2801, top_k: 0.3100, top_k=1: 0.2058\n"
     ]
    },
    {
     "name": "stdout",
     "output_type": "stream",
     "text": [
      "Epoch: 216/250, Loss: 0.4988, Val Precision: 0.5340, ACC: 0.2812, top_k: 0.3096, top_k=1: 0.2058\n"
     ]
    },
    {
     "name": "stdout",
     "output_type": "stream",
     "text": [
      "Epoch: 217/250, Loss: 0.4983, Val Precision: 0.5432, ACC: 0.2796, top_k: 0.3116, top_k=1: 0.2058\n"
     ]
    },
    {
     "name": "stdout",
     "output_type": "stream",
     "text": [
      "Epoch: 218/250, Loss: 0.4973, Val Precision: 0.5465, ACC: 0.2815, top_k: 0.3113, top_k=1: 0.2058\n"
     ]
    },
    {
     "name": "stdout",
     "output_type": "stream",
     "text": [
      "Epoch: 219/250, Loss: 0.4969, Val Precision: 0.5369, ACC: 0.2819, top_k: 0.3111, top_k=1: 0.2058\n"
     ]
    },
    {
     "name": "stdout",
     "output_type": "stream",
     "text": [
      "Epoch: 220/250, Loss: 0.4970, Val Precision: 0.5393, ACC: 0.2812, top_k: 0.3109, top_k=1: 0.2058\n"
     ]
    },
    {
     "name": "stdout",
     "output_type": "stream",
     "text": [
      "Epoch: 221/250, Loss: 0.4961, Val Precision: 0.5467, ACC: 0.2795, top_k: 0.3117, top_k=1: 0.2058\n"
     ]
    },
    {
     "name": "stdout",
     "output_type": "stream",
     "text": [
      "Epoch: 222/250, Loss: 0.4969, Val Precision: 0.5513, ACC: 0.2805, top_k: 0.3112, top_k=1: 0.2058\n"
     ]
    },
    {
     "name": "stdout",
     "output_type": "stream",
     "text": [
      "Epoch: 223/250, Loss: 0.4968, Val Precision: 0.5504, ACC: 0.2825, top_k: 0.3112, top_k=1: 0.2058\n"
     ]
    },
    {
     "name": "stdout",
     "output_type": "stream",
     "text": [
      "Epoch: 224/250, Loss: 0.4951, Val Precision: 0.5282, ACC: 0.2779, top_k: 0.3119, top_k=1: 0.2058\n"
     ]
    },
    {
     "name": "stdout",
     "output_type": "stream",
     "text": [
      "Epoch: 225/250, Loss: 0.4964, Val Precision: 0.5290, ACC: 0.2786, top_k: 0.3120, top_k=1: 0.2058\n"
     ]
    },
    {
     "name": "stdout",
     "output_type": "stream",
     "text": [
      "Epoch: 226/250, Loss: 0.4964, Val Precision: 0.5475, ACC: 0.2815, top_k: 0.3120, top_k=1: 0.2058\n"
     ]
    },
    {
     "name": "stdout",
     "output_type": "stream",
     "text": [
      "Epoch: 227/250, Loss: 0.4947, Val Precision: 0.5590, ACC: 0.2824, top_k: 0.3122, top_k=1: 0.2058\n"
     ]
    },
    {
     "name": "stdout",
     "output_type": "stream",
     "text": [
      "Epoch: 228/250, Loss: 0.4943, Val Precision: 0.5422, ACC: 0.2806, top_k: 0.3114, top_k=1: 0.2058\n"
     ]
    },
    {
     "name": "stdout",
     "output_type": "stream",
     "text": [
      "Epoch: 229/250, Loss: 0.4943, Val Precision: 0.5399, ACC: 0.2798, top_k: 0.3110, top_k=1: 0.2058\n"
     ]
    },
    {
     "name": "stdout",
     "output_type": "stream",
     "text": [
      "Epoch: 230/250, Loss: 0.4939, Val Precision: 0.5501, ACC: 0.2817, top_k: 0.3120, top_k=1: 0.2058\n"
     ]
    },
    {
     "name": "stdout",
     "output_type": "stream",
     "text": [
      "Epoch: 231/250, Loss: 0.4929, Val Precision: 0.5583, ACC: 0.2806, top_k: 0.3128, top_k=1: 0.2058\n"
     ]
    },
    {
     "name": "stdout",
     "output_type": "stream",
     "text": [
      "Epoch: 232/250, Loss: 0.4939, Val Precision: 0.5560, ACC: 0.2814, top_k: 0.3129, top_k=1: 0.2058\n"
     ]
    },
    {
     "name": "stdout",
     "output_type": "stream",
     "text": [
      "Epoch: 233/250, Loss: 0.4929, Val Precision: 0.5533, ACC: 0.2819, top_k: 0.3119, top_k=1: 0.2058\n"
     ]
    },
    {
     "name": "stdout",
     "output_type": "stream",
     "text": [
      "Epoch: 234/250, Loss: 0.4932, Val Precision: 0.5462, ACC: 0.2815, top_k: 0.3113, top_k=1: 0.2058\n"
     ]
    },
    {
     "name": "stdout",
     "output_type": "stream",
     "text": [
      "Epoch: 235/250, Loss: 0.4933, Val Precision: 0.5498, ACC: 0.2798, top_k: 0.3121, top_k=1: 0.2058\n"
     ]
    },
    {
     "name": "stdout",
     "output_type": "stream",
     "text": [
      "Epoch: 236/250, Loss: 0.4919, Val Precision: 0.5627, ACC: 0.2802, top_k: 0.3136, top_k=1: 0.2058\n"
     ]
    },
    {
     "name": "stdout",
     "output_type": "stream",
     "text": [
      "Epoch: 237/250, Loss: 0.4917, Val Precision: 0.5596, ACC: 0.2827, top_k: 0.3134, top_k=1: 0.2058\n"
     ]
    },
    {
     "name": "stdout",
     "output_type": "stream",
     "text": [
      "Epoch: 238/250, Loss: 0.4917, Val Precision: 0.5468, ACC: 0.2815, top_k: 0.3124, top_k=1: 0.2058\n"
     ]
    },
    {
     "name": "stdout",
     "output_type": "stream",
     "text": [
      "Epoch: 239/250, Loss: 0.4911, Val Precision: 0.5530, ACC: 0.2794, top_k: 0.3137, top_k=1: 0.2058\n"
     ]
    },
    {
     "name": "stdout",
     "output_type": "stream",
     "text": [
      "Epoch: 240/250, Loss: 0.4909, Val Precision: 0.5601, ACC: 0.2808, top_k: 0.3135, top_k=1: 0.2058\n"
     ]
    },
    {
     "name": "stdout",
     "output_type": "stream",
     "text": [
      "Epoch: 241/250, Loss: 0.4904, Val Precision: 0.5598, ACC: 0.2827, top_k: 0.3124, top_k=1: 0.2058\n"
     ]
    },
    {
     "name": "stdout",
     "output_type": "stream",
     "text": [
      "Epoch: 242/250, Loss: 0.4907, Val Precision: 0.5588, ACC: 0.2821, top_k: 0.3133, top_k=1: 0.2058\n"
     ]
    },
    {
     "name": "stdout",
     "output_type": "stream",
     "text": [
      "Epoch: 243/250, Loss: 0.4900, Val Precision: 0.5555, ACC: 0.2801, top_k: 0.3142, top_k=1: 0.2058\n"
     ]
    },
    {
     "name": "stdout",
     "output_type": "stream",
     "text": [
      "Epoch: 244/250, Loss: 0.4898, Val Precision: 0.5583, ACC: 0.2811, top_k: 0.3148, top_k=1: 0.2058\n"
     ]
    },
    {
     "name": "stdout",
     "output_type": "stream",
     "text": [
      "Epoch: 245/250, Loss: 0.4895, Val Precision: 0.5595, ACC: 0.2821, top_k: 0.3138, top_k=1: 0.2058\n"
     ]
    },
    {
     "name": "stdout",
     "output_type": "stream",
     "text": [
      "Epoch: 246/250, Loss: 0.4890, Val Precision: 0.5614, ACC: 0.2819, top_k: 0.3137, top_k=1: 0.2058\n"
     ]
    },
    {
     "name": "stdout",
     "output_type": "stream",
     "text": [
      "Epoch: 247/250, Loss: 0.4887, Val Precision: 0.5609, ACC: 0.2801, top_k: 0.3143, top_k=1: 0.2058\n"
     ]
    },
    {
     "name": "stdout",
     "output_type": "stream",
     "text": [
      "Epoch: 248/250, Loss: 0.4885, Val Precision: 0.5618, ACC: 0.2811, top_k: 0.3143, top_k=1: 0.2058\n"
     ]
    },
    {
     "name": "stdout",
     "output_type": "stream",
     "text": [
      "Epoch: 249/250, Loss: 0.4879, Val Precision: 0.5666, ACC: 0.2822, top_k: 0.3142, top_k=1: 0.2058\n"
     ]
    },
    {
     "name": "stdout",
     "output_type": "stream",
     "text": [
      "{\n",
      "    \"accuracy\": 0.26973873097904105,\n",
      "    \"micro_precision\": 0.5887077722655327,\n",
      "    \"macro_precision\": 0.5621675992187886,\n",
      "    \"recall\": 0.1534260093766999,\n",
      "    \"f1_score\": 0.23311588655159685,\n",
      "    \"auc\": 0.6830072201288466,\n",
      "    \"top_k_1\": 0.21290555596351624,\n",
      "    \"top_k_pred\": 0.3245765268802643\n",
      "}\n",
      "\t- Extracting and saving embeddings...\n"
     ]
    },
    {
     "name": "stdout",
     "output_type": "stream",
     "text": [
      "              precision    recall  f1-score   support\n",
      "\n",
      "     Class 0       0.61      0.36      0.45      2370\n",
      "     Class 1       0.58      0.11      0.18      1785\n",
      "     Class 2       0.58      0.12      0.20      1574\n",
      "     Class 3       0.75      0.17      0.27      1570\n",
      "     Class 4       0.57      0.15      0.24      1461\n",
      "     Class 5       0.52      0.12      0.19      1388\n",
      "     Class 6       0.67      0.26      0.37      1277\n",
      "     Class 7       0.43      0.09      0.15      1255\n",
      "     Class 8       0.43      0.05      0.08      1142\n",
      "     Class 9       0.48      0.11      0.18      1009\n",
      "\n",
      "   micro avg       0.59      0.17      0.26     14831\n",
      "   macro avg       0.56      0.15      0.23     14831\n",
      "weighted avg       0.57      0.17      0.25     14831\n",
      " samples avg       0.21      0.11      0.13     14831\n",
      "\n"
     ]
    },
    {
     "data": {
      "image/png": "[encoded data removed]",
      "text/plain": [
       "<Figure size 1500x800 with 2 Axes>"
      ]
     },
     "metadata": {},
     "output_type": "display_data"
    }
   ],
   "source": [
    "import os\n",
    "\n",
    "from weighted_sum_precision.GNN_functions_patients_only import *\n",
    "from weighted_sum_precision.GNN_SAGE import SAGE_MLC\n",
    "from weighted_sum_precision.GNN_GCN import GCN_MLC\n",
    "\n",
    "\n",
    "if __name__ == \"__main__\":\n",
    "    num_Sample     = int(os.getenv('num_Sample', 250))  # Default to 10000 if not set\n",
    "    num_Labels     = int(os.getenv('NUM_DISEASES', 203))  # Default to 100 if not set\n",
    "    num_top_Labels = int(os.getenv('NUM_TOP_DISEASES', 203))  # Selecting the top most frequent labels\n",
    "    disease_name   = os.getenv('DISEASE_FILE', f'DMPLB2')  # Default to 'sample/10000' if not set\n",
    "    num_Meta_Path  = int(os.getenv('num_Meta_Path', 10))  # Default to 10\n",
    "    num_epochs     = int(os.getenv('num_epochs', 50))    \n",
    "    # ============================================================================\n",
    "\n",
    "    saving_path = f'../Data/{num_Labels}_Diagnoses/{disease_name}/{num_Sample}/HGNN_data'\n",
    "\n",
    "    GNN_model = SAGE_MLC\n",
    "    with_SNF = False\n",
    "    super_class = '' # '_sc'\n",
    "    \n",
    "    exp_name = f'{num_epochs}_epochs_SNF{super_class}'\n",
    "\n",
    "    losses, val_metrics = main(saving_path, \n",
    "                               GNN_Model=GNN_model, \n",
    "                               num_epochs = num_epochs,\n",
    "                               with_SNF = with_SNF,\n",
    "                               exp_name = exp_name,\n",
    "                               super_class = super_class, \n",
    "                               num_Meta_Path = num_Meta_Path,\n",
    "                               top_k = 5,\n",
    "                               num_D = num_top_Labels)\n",
    "\n",
    "    plot_combined_metrics_and_loss(losses, val_metrics)\n",
    "\n",
    "    if with_SNF:\n",
    "        save_results(losses, val_metrics, f'{saving_path}/performance_SAGE_{num_epochs}_eps_SNF')\n",
    "    else:\n",
    "        save_results(losses, val_metrics, f'{saving_path}/performance_SAGE_{num_epochs}_eps')\n"
   ]
  }
 ],
 "metadata": {
  "kernelspec": {
   "display_name": "Python 3 (ipykernel)",
   "language": "python",
   "name": "python3"
  },
  "language_info": {
   "codemirror_mode": {
    "name": "ipython",
    "version": 3
   },
   "file_extension": ".py",
   "mimetype": "text/x-python",
   "name": "python",
   "nbconvert_exporter": "python",
   "pygments_lexer": "ipython3",
   "version": "3.11.9"
  }
 },
 "nbformat": 4,
 "nbformat_minor": 4
}
