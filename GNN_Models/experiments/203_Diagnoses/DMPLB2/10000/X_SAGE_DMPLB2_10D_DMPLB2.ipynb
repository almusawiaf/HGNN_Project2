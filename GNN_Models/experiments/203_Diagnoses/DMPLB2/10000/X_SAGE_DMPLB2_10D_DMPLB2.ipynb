{
 "cells": [
  {
   "cell_type": "code",
   "execution_count": 1,
   "metadata": {
    "execution": {
     "iopub.execute_input": "2024-09-30T13:57:49.290584Z",
     "iopub.status.busy": "2024-09-30T13:57:49.290244Z",
     "iopub.status.idle": "2024-09-30T14:58:47.637897Z",
     "shell.execute_reply": "2024-09-30T14:58:47.637122Z"
    }
   },
   "outputs": [
    {
     "name": "stderr",
     "output_type": "stream",
     "text": [
      "/lustre/home/almusawiaf/.local/lib/python3.9/site-packages/tqdm/auto.py:21: TqdmWarning: IProgress not found. Please update jupyter and ipywidgets. See https://ipywidgets.readthedocs.io/en/stable/user_install.html\n",
      "  from .autonotebook import tqdm as notebook_tqdm\n"
     ]
    },
    {
     "name": "stdout",
     "output_type": "stream",
     "text": [
      "\t- Loading the data...\n",
      "/lustre/home/almusawiaf/PhD_Projects/HGNN_Project2/Data/203_Diagnoses/DMPLB2/10000/HGNN_data\n"
     ]
    },
    {
     "name": "stdout",
     "output_type": "stream",
     "text": [
      "\t- Generating the Data structure ...\n"
     ]
    },
    {
     "name": "stdout",
     "output_type": "stream",
     "text": [
      "\t- Generating the train, test, and validation sets...\n"
     ]
    },
    {
     "name": "stdout",
     "output_type": "stream",
     "text": [
      "\t- Number of meta-paths used is :43\n",
      "\t- Preparing the model...\n"
     ]
    },
    {
     "name": "stdout",
     "output_type": "stream",
     "text": [
      "\t- Epochs...\n"
     ]
    },
    {
     "name": "stdout",
     "output_type": "stream",
     "text": [
      "Epoch: 1/250, Loss: 12.3551, Val Precision: 0.1713, ACC: 0.0000, top_k: 0.2015, top_k=1: 0.2195\n"
     ]
    },
    {
     "name": "stdout",
     "output_type": "stream",
     "text": [
      "Epoch: 2/250, Loss: 11.3785, Val Precision: 0.2041, ACC: 0.0007, top_k: 0.2105, top_k=1: 0.2195\n"
     ]
    },
    {
     "name": "stdout",
     "output_type": "stream",
     "text": [
      "Epoch: 3/250, Loss: 9.9174, Val Precision: 0.1969, ACC: 0.0007, top_k: 0.2230, top_k=1: 0.2195\n"
     ]
    },
    {
     "name": "stdout",
     "output_type": "stream",
     "text": [
      "Epoch: 4/250, Loss: 8.4158, Val Precision: 0.1840, ACC: 0.0007, top_k: 0.2328, top_k=1: 0.2195\n"
     ]
    },
    {
     "name": "stdout",
     "output_type": "stream",
     "text": [
      "Epoch: 5/250, Loss: 7.0490, Val Precision: 0.1902, ACC: 0.0013, top_k: 0.2260, top_k=1: 0.2195\n"
     ]
    },
    {
     "name": "stdout",
     "output_type": "stream",
     "text": [
      "Epoch: 6/250, Loss: 5.5303, Val Precision: 0.1864, ACC: 0.0007, top_k: 0.2232, top_k=1: 0.2195\n"
     ]
    },
    {
     "name": "stdout",
     "output_type": "stream",
     "text": [
      "Epoch: 7/250, Loss: 4.1415, Val Precision: 0.1995, ACC: 0.0013, top_k: 0.2100, top_k=1: 0.2195\n"
     ]
    },
    {
     "name": "stdout",
     "output_type": "stream",
     "text": [
      "Epoch: 8/250, Loss: 3.2371, Val Precision: 0.1745, ACC: 0.0067, top_k: 0.2045, top_k=1: 0.2195\n"
     ]
    },
    {
     "name": "stdout",
     "output_type": "stream",
     "text": [
      "Epoch: 9/250, Loss: 2.9179, Val Precision: 0.1383, ACC: 0.0100, top_k: 0.2380, top_k=1: 0.2195\n"
     ]
    },
    {
     "name": "stdout",
     "output_type": "stream",
     "text": [
      "Epoch: 10/250, Loss: 3.0990, Val Precision: 0.1739, ACC: 0.0053, top_k: 0.2447, top_k=1: 0.2195\n"
     ]
    },
    {
     "name": "stdout",
     "output_type": "stream",
     "text": [
      "Epoch: 11/250, Loss: 3.3130, Val Precision: 0.1807, ACC: 0.0020, top_k: 0.2397, top_k=1: 0.2195\n"
     ]
    },
    {
     "name": "stdout",
     "output_type": "stream",
     "text": [
      "Epoch: 12/250, Loss: 3.7310, Val Precision: 0.1851, ACC: 0.0020, top_k: 0.2402, top_k=1: 0.2195\n"
     ]
    },
    {
     "name": "stdout",
     "output_type": "stream",
     "text": [
      "Epoch: 13/250, Loss: 4.0789, Val Precision: 0.2407, ACC: 0.0033, top_k: 0.2417, top_k=1: 0.2195\n"
     ]
    },
    {
     "name": "stdout",
     "output_type": "stream",
     "text": [
      "Epoch: 14/250, Loss: 4.2213, Val Precision: 0.2373, ACC: 0.0040, top_k: 0.2498, top_k=1: 0.2195\n"
     ]
    },
    {
     "name": "stdout",
     "output_type": "stream",
     "text": [
      "Epoch: 15/250, Loss: 4.3028, Val Precision: 0.1703, ACC: 0.0087, top_k: 0.2548, top_k=1: 0.2195\n"
     ]
    },
    {
     "name": "stdout",
     "output_type": "stream",
     "text": [
      "Epoch: 16/250, Loss: 4.2341, Val Precision: 0.1586, ACC: 0.0087, top_k: 0.2513, top_k=1: 0.2195\n"
     ]
    },
    {
     "name": "stdout",
     "output_type": "stream",
     "text": [
      "Epoch: 17/250, Loss: 4.0434, Val Precision: 0.1714, ACC: 0.0073, top_k: 0.2495, top_k=1: 0.2195\n"
     ]
    },
    {
     "name": "stdout",
     "output_type": "stream",
     "text": [
      "Epoch: 18/250, Loss: 3.7980, Val Precision: 0.1760, ACC: 0.0100, top_k: 0.2452, top_k=1: 0.2195\n"
     ]
    },
    {
     "name": "stdout",
     "output_type": "stream",
     "text": [
      "Epoch: 19/250, Loss: 3.5532, Val Precision: 0.1853, ACC: 0.0133, top_k: 0.2467, top_k=1: 0.2195\n"
     ]
    },
    {
     "name": "stdout",
     "output_type": "stream",
     "text": [
      "Epoch: 20/250, Loss: 3.3111, Val Precision: 0.2046, ACC: 0.0267, top_k: 0.2512, top_k=1: 0.2195\n"
     ]
    },
    {
     "name": "stdout",
     "output_type": "stream",
     "text": [
      "Epoch: 21/250, Loss: 3.1392, Val Precision: 0.2069, ACC: 0.0347, top_k: 0.2548, top_k=1: 0.2195\n"
     ]
    },
    {
     "name": "stdout",
     "output_type": "stream",
     "text": [
      "Epoch: 22/250, Loss: 2.9615, Val Precision: 0.1942, ACC: 0.0360, top_k: 0.2585, top_k=1: 0.2195\n"
     ]
    },
    {
     "name": "stdout",
     "output_type": "stream",
     "text": [
      "Epoch: 23/250, Loss: 2.7746, Val Precision: 0.1958, ACC: 0.0487, top_k: 0.2558, top_k=1: 0.2195\n"
     ]
    },
    {
     "name": "stdout",
     "output_type": "stream",
     "text": [
      "Epoch: 24/250, Loss: 2.7507, Val Precision: 0.1960, ACC: 0.0547, top_k: 0.2568, top_k=1: 0.2195\n"
     ]
    },
    {
     "name": "stdout",
     "output_type": "stream",
     "text": [
      "Epoch: 25/250, Loss: 2.7823, Val Precision: 0.1865, ACC: 0.0493, top_k: 0.2592, top_k=1: 0.2195\n"
     ]
    },
    {
     "name": "stdout",
     "output_type": "stream",
     "text": [
      "Epoch: 26/250, Loss: 2.7250, Val Precision: 0.1911, ACC: 0.0473, top_k: 0.2597, top_k=1: 0.2195\n"
     ]
    },
    {
     "name": "stdout",
     "output_type": "stream",
     "text": [
      "Epoch: 27/250, Loss: 2.5884, Val Precision: 0.1937, ACC: 0.0613, top_k: 0.2585, top_k=1: 0.2195\n"
     ]
    },
    {
     "name": "stdout",
     "output_type": "stream",
     "text": [
      "Epoch: 28/250, Loss: 2.3637, Val Precision: 0.2065, ACC: 0.0707, top_k: 0.2592, top_k=1: 0.2195\n"
     ]
    },
    {
     "name": "stdout",
     "output_type": "stream",
     "text": [
      "Epoch: 29/250, Loss: 2.0720, Val Precision: 0.2200, ACC: 0.0700, top_k: 0.2527, top_k=1: 0.2195\n"
     ]
    },
    {
     "name": "stdout",
     "output_type": "stream",
     "text": [
      "Epoch: 30/250, Loss: 1.7896, Val Precision: 0.2342, ACC: 0.0513, top_k: 0.2425, top_k=1: 0.2195\n"
     ]
    },
    {
     "name": "stdout",
     "output_type": "stream",
     "text": [
      "Epoch: 31/250, Loss: 1.6431, Val Precision: 0.2432, ACC: 0.0413, top_k: 0.2303, top_k=1: 0.2195\n"
     ]
    },
    {
     "name": "stdout",
     "output_type": "stream",
     "text": [
      "Epoch: 32/250, Loss: 1.6249, Val Precision: 0.2671, ACC: 0.0407, top_k: 0.2243, top_k=1: 0.2195\n"
     ]
    },
    {
     "name": "stdout",
     "output_type": "stream",
     "text": [
      "Epoch: 33/250, Loss: 1.6520, Val Precision: 0.2851, ACC: 0.0320, top_k: 0.2102, top_k=1: 0.2195\n"
     ]
    },
    {
     "name": "stdout",
     "output_type": "stream",
     "text": [
      "Epoch: 34/250, Loss: 1.6876, Val Precision: 0.2858, ACC: 0.0280, top_k: 0.2042, top_k=1: 0.2195\n"
     ]
    },
    {
     "name": "stdout",
     "output_type": "stream",
     "text": [
      "Epoch: 35/250, Loss: 1.7972, Val Precision: 0.2798, ACC: 0.0273, top_k: 0.2080, top_k=1: 0.2195\n"
     ]
    },
    {
     "name": "stdout",
     "output_type": "stream",
     "text": [
      "Epoch: 36/250, Loss: 1.8682, Val Precision: 0.2845, ACC: 0.0287, top_k: 0.2113, top_k=1: 0.2195\n"
     ]
    },
    {
     "name": "stdout",
     "output_type": "stream",
     "text": [
      "Epoch: 37/250, Loss: 1.8235, Val Precision: 0.2831, ACC: 0.0333, top_k: 0.2177, top_k=1: 0.2195\n"
     ]
    },
    {
     "name": "stdout",
     "output_type": "stream",
     "text": [
      "Epoch: 38/250, Loss: 1.6858, Val Precision: 0.2757, ACC: 0.0373, top_k: 0.2198, top_k=1: 0.2195\n"
     ]
    },
    {
     "name": "stdout",
     "output_type": "stream",
     "text": [
      "Epoch: 39/250, Loss: 1.5007, Val Precision: 0.2749, ACC: 0.0480, top_k: 0.2325, top_k=1: 0.2195\n"
     ]
    },
    {
     "name": "stdout",
     "output_type": "stream",
     "text": [
      "Epoch: 40/250, Loss: 1.3101, Val Precision: 0.2650, ACC: 0.0607, top_k: 0.2425, top_k=1: 0.2195\n"
     ]
    },
    {
     "name": "stdout",
     "output_type": "stream",
     "text": [
      "Epoch: 41/250, Loss: 1.1704, Val Precision: 0.2623, ACC: 0.0667, top_k: 0.2478, top_k=1: 0.2195\n"
     ]
    },
    {
     "name": "stdout",
     "output_type": "stream",
     "text": [
      "Epoch: 42/250, Loss: 1.1827, Val Precision: 0.2616, ACC: 0.0767, top_k: 0.2558, top_k=1: 0.2195\n"
     ]
    },
    {
     "name": "stdout",
     "output_type": "stream",
     "text": [
      "Epoch: 43/250, Loss: 1.2504, Val Precision: 0.2664, ACC: 0.0900, top_k: 0.2593, top_k=1: 0.2195\n"
     ]
    },
    {
     "name": "stdout",
     "output_type": "stream",
     "text": [
      "Epoch: 44/250, Loss: 1.2690, Val Precision: 0.2689, ACC: 0.0920, top_k: 0.2618, top_k=1: 0.2195\n"
     ]
    },
    {
     "name": "stdout",
     "output_type": "stream",
     "text": [
      "Epoch: 45/250, Loss: 1.2404, Val Precision: 0.2660, ACC: 0.0987, top_k: 0.2612, top_k=1: 0.2195\n"
     ]
    },
    {
     "name": "stdout",
     "output_type": "stream",
     "text": [
      "Epoch: 46/250, Loss: 1.2049, Val Precision: 0.2624, ACC: 0.0947, top_k: 0.2567, top_k=1: 0.2195\n"
     ]
    },
    {
     "name": "stdout",
     "output_type": "stream",
     "text": [
      "Epoch: 47/250, Loss: 1.1920, Val Precision: 0.2815, ACC: 0.0960, top_k: 0.2540, top_k=1: 0.2195\n"
     ]
    },
    {
     "name": "stdout",
     "output_type": "stream",
     "text": [
      "Epoch: 48/250, Loss: 1.1872, Val Precision: 0.3023, ACC: 0.1000, top_k: 0.2505, top_k=1: 0.2195\n"
     ]
    },
    {
     "name": "stdout",
     "output_type": "stream",
     "text": [
      "Epoch: 49/250, Loss: 1.1732, Val Precision: 0.2953, ACC: 0.1127, top_k: 0.2482, top_k=1: 0.2195\n"
     ]
    },
    {
     "name": "stdout",
     "output_type": "stream",
     "text": [
      "Epoch: 50/250, Loss: 1.1346, Val Precision: 0.2992, ACC: 0.1233, top_k: 0.2447, top_k=1: 0.2195\n"
     ]
    },
    {
     "name": "stdout",
     "output_type": "stream",
     "text": [
      "Epoch: 51/250, Loss: 1.0807, Val Precision: 0.2966, ACC: 0.1367, top_k: 0.2425, top_k=1: 0.2195\n"
     ]
    },
    {
     "name": "stdout",
     "output_type": "stream",
     "text": [
      "Epoch: 52/250, Loss: 1.0378, Val Precision: 0.2925, ACC: 0.1293, top_k: 0.2392, top_k=1: 0.2195\n"
     ]
    },
    {
     "name": "stdout",
     "output_type": "stream",
     "text": [
      "Epoch: 53/250, Loss: 1.0116, Val Precision: 0.3020, ACC: 0.1260, top_k: 0.2418, top_k=1: 0.2195\n"
     ]
    },
    {
     "name": "stdout",
     "output_type": "stream",
     "text": [
      "Epoch: 54/250, Loss: 1.0208, Val Precision: 0.3007, ACC: 0.1247, top_k: 0.2427, top_k=1: 0.2195\n"
     ]
    },
    {
     "name": "stdout",
     "output_type": "stream",
     "text": [
      "Epoch: 55/250, Loss: 1.0403, Val Precision: 0.2962, ACC: 0.1253, top_k: 0.2437, top_k=1: 0.2195\n"
     ]
    },
    {
     "name": "stdout",
     "output_type": "stream",
     "text": [
      "Epoch: 56/250, Loss: 1.0429, Val Precision: 0.2964, ACC: 0.1287, top_k: 0.2422, top_k=1: 0.2195\n"
     ]
    },
    {
     "name": "stdout",
     "output_type": "stream",
     "text": [
      "Epoch: 57/250, Loss: 1.0156, Val Precision: 0.3068, ACC: 0.1320, top_k: 0.2422, top_k=1: 0.2195\n"
     ]
    },
    {
     "name": "stdout",
     "output_type": "stream",
     "text": [
      "Epoch: 58/250, Loss: 0.9741, Val Precision: 0.3019, ACC: 0.1387, top_k: 0.2472, top_k=1: 0.2195\n"
     ]
    },
    {
     "name": "stdout",
     "output_type": "stream",
     "text": [
      "Epoch: 59/250, Loss: 0.9408, Val Precision: 0.2952, ACC: 0.1500, top_k: 0.2483, top_k=1: 0.2195\n"
     ]
    },
    {
     "name": "stdout",
     "output_type": "stream",
     "text": [
      "Epoch: 60/250, Loss: 0.9285, Val Precision: 0.3251, ACC: 0.1553, top_k: 0.2495, top_k=1: 0.2195\n"
     ]
    },
    {
     "name": "stdout",
     "output_type": "stream",
     "text": [
      "Epoch: 61/250, Loss: 0.9405, Val Precision: 0.3216, ACC: 0.1573, top_k: 0.2517, top_k=1: 0.2195\n"
     ]
    },
    {
     "name": "stdout",
     "output_type": "stream",
     "text": [
      "Epoch: 62/250, Loss: 0.9406, Val Precision: 0.3052, ACC: 0.1640, top_k: 0.2480, top_k=1: 0.2195\n"
     ]
    },
    {
     "name": "stdout",
     "output_type": "stream",
     "text": [
      "Epoch: 63/250, Loss: 0.9319, Val Precision: 0.3100, ACC: 0.1593, top_k: 0.2467, top_k=1: 0.2195\n"
     ]
    },
    {
     "name": "stdout",
     "output_type": "stream",
     "text": [
      "Epoch: 64/250, Loss: 0.9041, Val Precision: 0.3341, ACC: 0.1553, top_k: 0.2477, top_k=1: 0.2195\n"
     ]
    },
    {
     "name": "stdout",
     "output_type": "stream",
     "text": [
      "Epoch: 65/250, Loss: 0.8750, Val Precision: 0.3160, ACC: 0.1473, top_k: 0.2517, top_k=1: 0.2195\n"
     ]
    },
    {
     "name": "stdout",
     "output_type": "stream",
     "text": [
      "Epoch: 66/250, Loss: 0.8614, Val Precision: 0.3248, ACC: 0.1487, top_k: 0.2522, top_k=1: 0.2195\n"
     ]
    },
    {
     "name": "stdout",
     "output_type": "stream",
     "text": [
      "Epoch: 67/250, Loss: 0.8731, Val Precision: 0.3363, ACC: 0.1513, top_k: 0.2543, top_k=1: 0.2195\n"
     ]
    },
    {
     "name": "stdout",
     "output_type": "stream",
     "text": [
      "Epoch: 68/250, Loss: 0.8687, Val Precision: 0.3393, ACC: 0.1627, top_k: 0.2550, top_k=1: 0.2195\n"
     ]
    },
    {
     "name": "stdout",
     "output_type": "stream",
     "text": [
      "Epoch: 69/250, Loss: 0.8471, Val Precision: 0.3264, ACC: 0.1653, top_k: 0.2537, top_k=1: 0.2195\n"
     ]
    },
    {
     "name": "stdout",
     "output_type": "stream",
     "text": [
      "Epoch: 70/250, Loss: 0.8242, Val Precision: 0.3395, ACC: 0.1653, top_k: 0.2565, top_k=1: 0.2195\n"
     ]
    },
    {
     "name": "stdout",
     "output_type": "stream",
     "text": [
      "Epoch: 71/250, Loss: 0.8241, Val Precision: 0.3349, ACC: 0.1620, top_k: 0.2555, top_k=1: 0.2195\n"
     ]
    },
    {
     "name": "stdout",
     "output_type": "stream",
     "text": [
      "Epoch: 72/250, Loss: 0.8247, Val Precision: 0.3267, ACC: 0.1633, top_k: 0.2580, top_k=1: 0.2195\n"
     ]
    },
    {
     "name": "stdout",
     "output_type": "stream",
     "text": [
      "Epoch: 73/250, Loss: 0.8138, Val Precision: 0.3366, ACC: 0.1700, top_k: 0.2610, top_k=1: 0.2195\n"
     ]
    },
    {
     "name": "stdout",
     "output_type": "stream",
     "text": [
      "Epoch: 74/250, Loss: 0.7929, Val Precision: 0.3500, ACC: 0.1787, top_k: 0.2592, top_k=1: 0.2195\n"
     ]
    },
    {
     "name": "stdout",
     "output_type": "stream",
     "text": [
      "Epoch: 75/250, Loss: 0.7911, Val Precision: 0.3412, ACC: 0.1767, top_k: 0.2648, top_k=1: 0.2195\n"
     ]
    },
    {
     "name": "stdout",
     "output_type": "stream",
     "text": [
      "Epoch: 76/250, Loss: 0.7922, Val Precision: 0.3464, ACC: 0.1787, top_k: 0.2655, top_k=1: 0.2195\n"
     ]
    },
    {
     "name": "stdout",
     "output_type": "stream",
     "text": [
      "Epoch: 77/250, Loss: 0.7792, Val Precision: 0.3633, ACC: 0.1753, top_k: 0.2593, top_k=1: 0.2195\n"
     ]
    },
    {
     "name": "stdout",
     "output_type": "stream",
     "text": [
      "Epoch: 78/250, Loss: 0.7669, Val Precision: 0.3414, ACC: 0.1767, top_k: 0.2662, top_k=1: 0.2195\n"
     ]
    },
    {
     "name": "stdout",
     "output_type": "stream",
     "text": [
      "Epoch: 79/250, Loss: 0.7668, Val Precision: 0.3507, ACC: 0.1847, top_k: 0.2662, top_k=1: 0.2195\n"
     ]
    },
    {
     "name": "stdout",
     "output_type": "stream",
     "text": [
      "Epoch: 80/250, Loss: 0.7627, Val Precision: 0.3676, ACC: 0.1913, top_k: 0.2645, top_k=1: 0.2195\n"
     ]
    },
    {
     "name": "stdout",
     "output_type": "stream",
     "text": [
      "Epoch: 81/250, Loss: 0.7555, Val Precision: 0.3546, ACC: 0.1933, top_k: 0.2683, top_k=1: 0.2195\n"
     ]
    },
    {
     "name": "stdout",
     "output_type": "stream",
     "text": [
      "Epoch: 82/250, Loss: 0.7433, Val Precision: 0.3524, ACC: 0.1887, top_k: 0.2713, top_k=1: 0.2195\n"
     ]
    },
    {
     "name": "stdout",
     "output_type": "stream",
     "text": [
      "Epoch: 83/250, Loss: 0.7436, Val Precision: 0.3742, ACC: 0.1893, top_k: 0.2670, top_k=1: 0.2195\n"
     ]
    },
    {
     "name": "stdout",
     "output_type": "stream",
     "text": [
      "Epoch: 84/250, Loss: 0.7376, Val Precision: 0.3713, ACC: 0.1907, top_k: 0.2633, top_k=1: 0.2195\n"
     ]
    },
    {
     "name": "stdout",
     "output_type": "stream",
     "text": [
      "Epoch: 85/250, Loss: 0.7314, Val Precision: 0.3596, ACC: 0.1940, top_k: 0.2673, top_k=1: 0.2195\n"
     ]
    },
    {
     "name": "stdout",
     "output_type": "stream",
     "text": [
      "Epoch: 86/250, Loss: 0.7249, Val Precision: 0.3776, ACC: 0.1980, top_k: 0.2723, top_k=1: 0.2195\n"
     ]
    },
    {
     "name": "stdout",
     "output_type": "stream",
     "text": [
      "Epoch: 87/250, Loss: 0.7190, Val Precision: 0.3607, ACC: 0.1960, top_k: 0.2717, top_k=1: 0.2195\n"
     ]
    },
    {
     "name": "stdout",
     "output_type": "stream",
     "text": [
      "Epoch: 88/250, Loss: 0.7194, Val Precision: 0.3713, ACC: 0.2033, top_k: 0.2772, top_k=1: 0.2195\n"
     ]
    },
    {
     "name": "stdout",
     "output_type": "stream",
     "text": [
      "Epoch: 89/250, Loss: 0.7122, Val Precision: 0.3710, ACC: 0.2027, top_k: 0.2753, top_k=1: 0.2195\n"
     ]
    },
    {
     "name": "stdout",
     "output_type": "stream",
     "text": [
      "Epoch: 90/250, Loss: 0.7092, Val Precision: 0.3703, ACC: 0.2007, top_k: 0.2710, top_k=1: 0.2195\n"
     ]
    },
    {
     "name": "stdout",
     "output_type": "stream",
     "text": [
      "Epoch: 91/250, Loss: 0.7021, Val Precision: 0.3787, ACC: 0.2000, top_k: 0.2673, top_k=1: 0.2195\n"
     ]
    },
    {
     "name": "stdout",
     "output_type": "stream",
     "text": [
      "Epoch: 92/250, Loss: 0.7015, Val Precision: 0.3856, ACC: 0.2027, top_k: 0.2767, top_k=1: 0.2195\n"
     ]
    },
    {
     "name": "stdout",
     "output_type": "stream",
     "text": [
      "Epoch: 93/250, Loss: 0.6940, Val Precision: 0.3635, ACC: 0.2053, top_k: 0.2780, top_k=1: 0.2195\n"
     ]
    },
    {
     "name": "stdout",
     "output_type": "stream",
     "text": [
      "Epoch: 94/250, Loss: 0.6929, Val Precision: 0.3552, ACC: 0.2133, top_k: 0.2782, top_k=1: 0.2195\n"
     ]
    },
    {
     "name": "stdout",
     "output_type": "stream",
     "text": [
      "Epoch: 95/250, Loss: 0.6885, Val Precision: 0.3814, ACC: 0.2120, top_k: 0.2778, top_k=1: 0.2195\n"
     ]
    },
    {
     "name": "stdout",
     "output_type": "stream",
     "text": [
      "Epoch: 96/250, Loss: 0.6847, Val Precision: 0.3739, ACC: 0.2060, top_k: 0.2792, top_k=1: 0.2195\n"
     ]
    },
    {
     "name": "stdout",
     "output_type": "stream",
     "text": [
      "Epoch: 97/250, Loss: 0.6795, Val Precision: 0.3700, ACC: 0.2060, top_k: 0.2810, top_k=1: 0.2195\n"
     ]
    },
    {
     "name": "stdout",
     "output_type": "stream",
     "text": [
      "Epoch: 98/250, Loss: 0.6794, Val Precision: 0.3746, ACC: 0.2087, top_k: 0.2810, top_k=1: 0.2195\n"
     ]
    },
    {
     "name": "stdout",
     "output_type": "stream",
     "text": [
      "Epoch: 99/250, Loss: 0.6730, Val Precision: 0.3794, ACC: 0.2127, top_k: 0.2802, top_k=1: 0.2195\n"
     ]
    },
    {
     "name": "stdout",
     "output_type": "stream",
     "text": [
      "Epoch: 100/250, Loss: 0.6722, Val Precision: 0.3798, ACC: 0.2127, top_k: 0.2830, top_k=1: 0.2195\n"
     ]
    },
    {
     "name": "stdout",
     "output_type": "stream",
     "text": [
      "Epoch: 101/250, Loss: 0.6693, Val Precision: 0.3764, ACC: 0.2133, top_k: 0.2857, top_k=1: 0.2195\n"
     ]
    },
    {
     "name": "stdout",
     "output_type": "stream",
     "text": [
      "Epoch: 102/250, Loss: 0.6643, Val Precision: 0.3758, ACC: 0.2113, top_k: 0.2850, top_k=1: 0.2195\n"
     ]
    },
    {
     "name": "stdout",
     "output_type": "stream",
     "text": [
      "Epoch: 103/250, Loss: 0.6621, Val Precision: 0.3831, ACC: 0.2140, top_k: 0.2830, top_k=1: 0.2195\n"
     ]
    },
    {
     "name": "stdout",
     "output_type": "stream",
     "text": [
      "Epoch: 104/250, Loss: 0.6583, Val Precision: 0.3904, ACC: 0.2133, top_k: 0.2843, top_k=1: 0.2195\n"
     ]
    },
    {
     "name": "stdout",
     "output_type": "stream",
     "text": [
      "Epoch: 105/250, Loss: 0.6557, Val Precision: 0.3826, ACC: 0.2147, top_k: 0.2892, top_k=1: 0.2195\n"
     ]
    },
    {
     "name": "stdout",
     "output_type": "stream",
     "text": [
      "Epoch: 106/250, Loss: 0.6527, Val Precision: 0.3782, ACC: 0.2187, top_k: 0.2887, top_k=1: 0.2195\n"
     ]
    },
    {
     "name": "stdout",
     "output_type": "stream",
     "text": [
      "Epoch: 107/250, Loss: 0.6497, Val Precision: 0.3834, ACC: 0.2160, top_k: 0.2878, top_k=1: 0.2195\n"
     ]
    },
    {
     "name": "stdout",
     "output_type": "stream",
     "text": [
      "Epoch: 108/250, Loss: 0.6460, Val Precision: 0.3953, ACC: 0.2140, top_k: 0.2883, top_k=1: 0.2195\n"
     ]
    },
    {
     "name": "stdout",
     "output_type": "stream",
     "text": [
      "Epoch: 109/250, Loss: 0.6484, Val Precision: 0.3974, ACC: 0.2160, top_k: 0.2905, top_k=1: 0.2195\n"
     ]
    },
    {
     "name": "stdout",
     "output_type": "stream",
     "text": [
      "Epoch: 110/250, Loss: 0.6427, Val Precision: 0.3751, ACC: 0.2207, top_k: 0.2887, top_k=1: 0.2195\n"
     ]
    },
    {
     "name": "stdout",
     "output_type": "stream",
     "text": [
      "Epoch: 111/250, Loss: 0.6439, Val Precision: 0.3732, ACC: 0.2213, top_k: 0.2893, top_k=1: 0.2195\n"
     ]
    },
    {
     "name": "stdout",
     "output_type": "stream",
     "text": [
      "Epoch: 112/250, Loss: 0.6391, Val Precision: 0.4013, ACC: 0.2187, top_k: 0.2928, top_k=1: 0.2195\n"
     ]
    },
    {
     "name": "stdout",
     "output_type": "stream",
     "text": [
      "Epoch: 113/250, Loss: 0.6370, Val Precision: 0.4077, ACC: 0.2193, top_k: 0.2927, top_k=1: 0.2195\n"
     ]
    },
    {
     "name": "stdout",
     "output_type": "stream",
     "text": [
      "Epoch: 114/250, Loss: 0.6344, Val Precision: 0.3798, ACC: 0.2213, top_k: 0.2892, top_k=1: 0.2195\n"
     ]
    },
    {
     "name": "stdout",
     "output_type": "stream",
     "text": [
      "Epoch: 115/250, Loss: 0.6318, Val Precision: 0.3830, ACC: 0.2187, top_k: 0.2907, top_k=1: 0.2195\n"
     ]
    },
    {
     "name": "stdout",
     "output_type": "stream",
     "text": [
      "Epoch: 116/250, Loss: 0.6284, Val Precision: 0.4134, ACC: 0.2240, top_k: 0.2952, top_k=1: 0.2195\n"
     ]
    },
    {
     "name": "stdout",
     "output_type": "stream",
     "text": [
      "Epoch: 117/250, Loss: 0.6285, Val Precision: 0.3999, ACC: 0.2227, top_k: 0.2955, top_k=1: 0.2195\n"
     ]
    },
    {
     "name": "stdout",
     "output_type": "stream",
     "text": [
      "Epoch: 118/250, Loss: 0.6253, Val Precision: 0.3789, ACC: 0.2207, top_k: 0.2928, top_k=1: 0.2195\n"
     ]
    },
    {
     "name": "stdout",
     "output_type": "stream",
     "text": [
      "Epoch: 119/250, Loss: 0.6230, Val Precision: 0.3962, ACC: 0.2227, top_k: 0.2943, top_k=1: 0.2195\n"
     ]
    },
    {
     "name": "stdout",
     "output_type": "stream",
     "text": [
      "Epoch: 120/250, Loss: 0.6215, Val Precision: 0.4051, ACC: 0.2233, top_k: 0.2943, top_k=1: 0.2195\n"
     ]
    },
    {
     "name": "stdout",
     "output_type": "stream",
     "text": [
      "Epoch: 121/250, Loss: 0.6183, Val Precision: 0.4023, ACC: 0.2220, top_k: 0.2955, top_k=1: 0.2195\n"
     ]
    },
    {
     "name": "stdout",
     "output_type": "stream",
     "text": [
      "Epoch: 122/250, Loss: 0.6172, Val Precision: 0.3990, ACC: 0.2253, top_k: 0.2953, top_k=1: 0.2195\n"
     ]
    },
    {
     "name": "stdout",
     "output_type": "stream",
     "text": [
      "Epoch: 123/250, Loss: 0.6153, Val Precision: 0.3963, ACC: 0.2220, top_k: 0.2963, top_k=1: 0.2195\n"
     ]
    },
    {
     "name": "stdout",
     "output_type": "stream",
     "text": [
      "Epoch: 124/250, Loss: 0.6118, Val Precision: 0.4061, ACC: 0.2227, top_k: 0.2987, top_k=1: 0.2195\n"
     ]
    },
    {
     "name": "stdout",
     "output_type": "stream",
     "text": [
      "Epoch: 125/250, Loss: 0.6142, Val Precision: 0.4194, ACC: 0.2260, top_k: 0.2963, top_k=1: 0.2195\n"
     ]
    },
    {
     "name": "stdout",
     "output_type": "stream",
     "text": [
      "Epoch: 126/250, Loss: 0.6114, Val Precision: 0.4201, ACC: 0.2247, top_k: 0.2975, top_k=1: 0.2195\n"
     ]
    },
    {
     "name": "stdout",
     "output_type": "stream",
     "text": [
      "Epoch: 127/250, Loss: 0.6074, Val Precision: 0.3872, ACC: 0.2253, top_k: 0.2975, top_k=1: 0.2195\n"
     ]
    },
    {
     "name": "stdout",
     "output_type": "stream",
     "text": [
      "Epoch: 128/250, Loss: 0.6098, Val Precision: 0.3885, ACC: 0.2253, top_k: 0.3002, top_k=1: 0.2195\n"
     ]
    },
    {
     "name": "stdout",
     "output_type": "stream",
     "text": [
      "Epoch: 129/250, Loss: 0.6059, Val Precision: 0.4334, ACC: 0.2307, top_k: 0.2988, top_k=1: 0.2195\n"
     ]
    },
    {
     "name": "stdout",
     "output_type": "stream",
     "text": [
      "Epoch: 130/250, Loss: 0.6031, Val Precision: 0.4357, ACC: 0.2273, top_k: 0.3003, top_k=1: 0.2195\n"
     ]
    },
    {
     "name": "stdout",
     "output_type": "stream",
     "text": [
      "Epoch: 131/250, Loss: 0.6028, Val Precision: 0.4148, ACC: 0.2273, top_k: 0.3012, top_k=1: 0.2195\n"
     ]
    },
    {
     "name": "stdout",
     "output_type": "stream",
     "text": [
      "Epoch: 132/250, Loss: 0.5988, Val Precision: 0.3980, ACC: 0.2233, top_k: 0.2988, top_k=1: 0.2195\n"
     ]
    },
    {
     "name": "stdout",
     "output_type": "stream",
     "text": [
      "Epoch: 133/250, Loss: 0.5994, Val Precision: 0.4177, ACC: 0.2280, top_k: 0.3017, top_k=1: 0.2195\n"
     ]
    },
    {
     "name": "stdout",
     "output_type": "stream",
     "text": [
      "Epoch: 134/250, Loss: 0.5964, Val Precision: 0.4287, ACC: 0.2287, top_k: 0.3032, top_k=1: 0.2195\n"
     ]
    },
    {
     "name": "stdout",
     "output_type": "stream",
     "text": [
      "Epoch: 135/250, Loss: 0.5956, Val Precision: 0.4234, ACC: 0.2313, top_k: 0.3015, top_k=1: 0.2195\n"
     ]
    },
    {
     "name": "stdout",
     "output_type": "stream",
     "text": [
      "Epoch: 136/250, Loss: 0.5945, Val Precision: 0.4295, ACC: 0.2247, top_k: 0.3037, top_k=1: 0.2195\n"
     ]
    },
    {
     "name": "stdout",
     "output_type": "stream",
     "text": [
      "Epoch: 137/250, Loss: 0.5919, Val Precision: 0.4122, ACC: 0.2293, top_k: 0.3020, top_k=1: 0.2195\n"
     ]
    },
    {
     "name": "stdout",
     "output_type": "stream",
     "text": [
      "Epoch: 138/250, Loss: 0.5913, Val Precision: 0.4189, ACC: 0.2313, top_k: 0.3050, top_k=1: 0.2195\n"
     ]
    },
    {
     "name": "stdout",
     "output_type": "stream",
     "text": [
      "Epoch: 139/250, Loss: 0.5885, Val Precision: 0.4323, ACC: 0.2267, top_k: 0.3053, top_k=1: 0.2195\n"
     ]
    },
    {
     "name": "stdout",
     "output_type": "stream",
     "text": [
      "Epoch: 140/250, Loss: 0.5879, Val Precision: 0.4356, ACC: 0.2273, top_k: 0.3048, top_k=1: 0.2195\n"
     ]
    },
    {
     "name": "stdout",
     "output_type": "stream",
     "text": [
      "Epoch: 141/250, Loss: 0.5871, Val Precision: 0.4349, ACC: 0.2307, top_k: 0.3073, top_k=1: 0.2195\n"
     ]
    },
    {
     "name": "stdout",
     "output_type": "stream",
     "text": [
      "Epoch: 142/250, Loss: 0.5839, Val Precision: 0.4104, ACC: 0.2307, top_k: 0.3055, top_k=1: 0.2195\n"
     ]
    },
    {
     "name": "stdout",
     "output_type": "stream",
     "text": [
      "Epoch: 143/250, Loss: 0.5842, Val Precision: 0.4281, ACC: 0.2307, top_k: 0.3082, top_k=1: 0.2195\n"
     ]
    },
    {
     "name": "stdout",
     "output_type": "stream",
     "text": [
      "Epoch: 144/250, Loss: 0.5812, Val Precision: 0.4416, ACC: 0.2313, top_k: 0.3073, top_k=1: 0.2195\n"
     ]
    },
    {
     "name": "stdout",
     "output_type": "stream",
     "text": [
      "Epoch: 145/250, Loss: 0.5821, Val Precision: 0.4454, ACC: 0.2313, top_k: 0.3068, top_k=1: 0.2195\n"
     ]
    },
    {
     "name": "stdout",
     "output_type": "stream",
     "text": [
      "Epoch: 146/250, Loss: 0.5804, Val Precision: 0.4288, ACC: 0.2300, top_k: 0.3102, top_k=1: 0.2195\n"
     ]
    },
    {
     "name": "stdout",
     "output_type": "stream",
     "text": [
      "Epoch: 147/250, Loss: 0.5777, Val Precision: 0.4159, ACC: 0.2307, top_k: 0.3073, top_k=1: 0.2195\n"
     ]
    },
    {
     "name": "stdout",
     "output_type": "stream",
     "text": [
      "Epoch: 148/250, Loss: 0.5775, Val Precision: 0.4423, ACC: 0.2340, top_k: 0.3097, top_k=1: 0.2195\n"
     ]
    },
    {
     "name": "stdout",
     "output_type": "stream",
     "text": [
      "Epoch: 149/250, Loss: 0.5753, Val Precision: 0.4346, ACC: 0.2347, top_k: 0.3097, top_k=1: 0.2195\n"
     ]
    },
    {
     "name": "stdout",
     "output_type": "stream",
     "text": [
      "Epoch: 150/250, Loss: 0.5743, Val Precision: 0.4420, ACC: 0.2287, top_k: 0.3100, top_k=1: 0.2195\n"
     ]
    },
    {
     "name": "stdout",
     "output_type": "stream",
     "text": [
      "Epoch: 151/250, Loss: 0.5735, Val Precision: 0.4373, ACC: 0.2373, top_k: 0.3090, top_k=1: 0.2195\n"
     ]
    },
    {
     "name": "stdout",
     "output_type": "stream",
     "text": [
      "Epoch: 152/250, Loss: 0.5704, Val Precision: 0.4312, ACC: 0.2327, top_k: 0.3107, top_k=1: 0.2195\n"
     ]
    },
    {
     "name": "stdout",
     "output_type": "stream",
     "text": [
      "Epoch: 153/250, Loss: 0.5716, Val Precision: 0.4336, ACC: 0.2347, top_k: 0.3112, top_k=1: 0.2195\n"
     ]
    },
    {
     "name": "stdout",
     "output_type": "stream",
     "text": [
      "Epoch: 154/250, Loss: 0.5680, Val Precision: 0.4622, ACC: 0.2407, top_k: 0.3092, top_k=1: 0.2195\n"
     ]
    },
    {
     "name": "stdout",
     "output_type": "stream",
     "text": [
      "Epoch: 155/250, Loss: 0.5706, Val Precision: 0.4550, ACC: 0.2367, top_k: 0.3105, top_k=1: 0.2195\n"
     ]
    },
    {
     "name": "stdout",
     "output_type": "stream",
     "text": [
      "Epoch: 156/250, Loss: 0.5661, Val Precision: 0.4263, ACC: 0.2340, top_k: 0.3132, top_k=1: 0.2195\n"
     ]
    },
    {
     "name": "stdout",
     "output_type": "stream",
     "text": [
      "Epoch: 157/250, Loss: 0.5722, Val Precision: 0.4256, ACC: 0.2333, top_k: 0.3143, top_k=1: 0.2195\n"
     ]
    },
    {
     "name": "stdout",
     "output_type": "stream",
     "text": [
      "Epoch: 158/250, Loss: 0.5719, Val Precision: 0.4469, ACC: 0.2367, top_k: 0.3120, top_k=1: 0.2195\n"
     ]
    },
    {
     "name": "stdout",
     "output_type": "stream",
     "text": [
      "Epoch: 159/250, Loss: 0.5634, Val Precision: 0.4660, ACC: 0.2413, top_k: 0.3092, top_k=1: 0.2195\n"
     ]
    },
    {
     "name": "stdout",
     "output_type": "stream",
     "text": [
      "Epoch: 160/250, Loss: 0.5685, Val Precision: 0.4711, ACC: 0.2420, top_k: 0.3093, top_k=1: 0.2195\n"
     ]
    },
    {
     "name": "stdout",
     "output_type": "stream",
     "text": [
      "Epoch: 161/250, Loss: 0.5682, Val Precision: 0.4574, ACC: 0.2380, top_k: 0.3133, top_k=1: 0.2195\n"
     ]
    },
    {
     "name": "stdout",
     "output_type": "stream",
     "text": [
      "Epoch: 162/250, Loss: 0.5602, Val Precision: 0.4359, ACC: 0.2387, top_k: 0.3138, top_k=1: 0.2195\n"
     ]
    },
    {
     "name": "stdout",
     "output_type": "stream",
     "text": [
      "Epoch: 163/250, Loss: 0.5642, Val Precision: 0.4394, ACC: 0.2427, top_k: 0.3140, top_k=1: 0.2195\n"
     ]
    },
    {
     "name": "stdout",
     "output_type": "stream",
     "text": [
      "Epoch: 164/250, Loss: 0.5648, Val Precision: 0.4592, ACC: 0.2420, top_k: 0.3140, top_k=1: 0.2195\n"
     ]
    },
    {
     "name": "stdout",
     "output_type": "stream",
     "text": [
      "Epoch: 165/250, Loss: 0.5587, Val Precision: 0.4718, ACC: 0.2387, top_k: 0.3127, top_k=1: 0.2195\n"
     ]
    },
    {
     "name": "stdout",
     "output_type": "stream",
     "text": [
      "Epoch: 166/250, Loss: 0.5590, Val Precision: 0.4640, ACC: 0.2367, top_k: 0.3133, top_k=1: 0.2195\n"
     ]
    },
    {
     "name": "stdout",
     "output_type": "stream",
     "text": [
      "Epoch: 167/250, Loss: 0.5596, Val Precision: 0.4513, ACC: 0.2407, top_k: 0.3138, top_k=1: 0.2195\n"
     ]
    },
    {
     "name": "stdout",
     "output_type": "stream",
     "text": [
      "Epoch: 168/250, Loss: 0.5556, Val Precision: 0.4553, ACC: 0.2420, top_k: 0.3143, top_k=1: 0.2195\n"
     ]
    },
    {
     "name": "stdout",
     "output_type": "stream",
     "text": [
      "Epoch: 169/250, Loss: 0.5561, Val Precision: 0.4626, ACC: 0.2440, top_k: 0.3148, top_k=1: 0.2195\n"
     ]
    },
    {
     "name": "stdout",
     "output_type": "stream",
     "text": [
      "Epoch: 170/250, Loss: 0.5567, Val Precision: 0.4587, ACC: 0.2400, top_k: 0.3148, top_k=1: 0.2195\n"
     ]
    },
    {
     "name": "stdout",
     "output_type": "stream",
     "text": [
      "Epoch: 171/250, Loss: 0.5528, Val Precision: 0.4675, ACC: 0.2413, top_k: 0.3155, top_k=1: 0.2195\n"
     ]
    },
    {
     "name": "stdout",
     "output_type": "stream",
     "text": [
      "Epoch: 172/250, Loss: 0.5547, Val Precision: 0.4695, ACC: 0.2427, top_k: 0.3153, top_k=1: 0.2195\n"
     ]
    },
    {
     "name": "stdout",
     "output_type": "stream",
     "text": [
      "Epoch: 173/250, Loss: 0.5553, Val Precision: 0.4628, ACC: 0.2420, top_k: 0.3177, top_k=1: 0.2195\n"
     ]
    },
    {
     "name": "stdout",
     "output_type": "stream",
     "text": [
      "Epoch: 174/250, Loss: 0.5492, Val Precision: 0.4610, ACC: 0.2353, top_k: 0.3163, top_k=1: 0.2195\n"
     ]
    },
    {
     "name": "stdout",
     "output_type": "stream",
     "text": [
      "Epoch: 175/250, Loss: 0.5596, Val Precision: 0.4757, ACC: 0.2393, top_k: 0.3158, top_k=1: 0.2195\n"
     ]
    },
    {
     "name": "stdout",
     "output_type": "stream",
     "text": [
      "Epoch: 176/250, Loss: 0.5600, Val Precision: 0.4566, ACC: 0.2447, top_k: 0.3172, top_k=1: 0.2195\n"
     ]
    },
    {
     "name": "stdout",
     "output_type": "stream",
     "text": [
      "Epoch: 177/250, Loss: 0.5526, Val Precision: 0.4470, ACC: 0.2453, top_k: 0.3180, top_k=1: 0.2195\n"
     ]
    },
    {
     "name": "stdout",
     "output_type": "stream",
     "text": [
      "Epoch: 178/250, Loss: 0.5506, Val Precision: 0.4690, ACC: 0.2407, top_k: 0.3168, top_k=1: 0.2195\n"
     ]
    },
    {
     "name": "stdout",
     "output_type": "stream",
     "text": [
      "Epoch: 179/250, Loss: 0.5517, Val Precision: 0.4780, ACC: 0.2380, top_k: 0.3170, top_k=1: 0.2195\n"
     ]
    },
    {
     "name": "stdout",
     "output_type": "stream",
     "text": [
      "Epoch: 180/250, Loss: 0.5527, Val Precision: 0.4743, ACC: 0.2413, top_k: 0.3173, top_k=1: 0.2195\n"
     ]
    },
    {
     "name": "stdout",
     "output_type": "stream",
     "text": [
      "Epoch: 181/250, Loss: 0.5451, Val Precision: 0.4558, ACC: 0.2453, top_k: 0.3200, top_k=1: 0.2195\n"
     ]
    },
    {
     "name": "stdout",
     "output_type": "stream",
     "text": [
      "Epoch: 182/250, Loss: 0.5505, Val Precision: 0.4594, ACC: 0.2467, top_k: 0.3185, top_k=1: 0.2195\n"
     ]
    },
    {
     "name": "stdout",
     "output_type": "stream",
     "text": [
      "Epoch: 183/250, Loss: 0.5511, Val Precision: 0.4688, ACC: 0.2407, top_k: 0.3182, top_k=1: 0.2195\n"
     ]
    },
    {
     "name": "stdout",
     "output_type": "stream",
     "text": [
      "Epoch: 184/250, Loss: 0.5467, Val Precision: 0.4733, ACC: 0.2387, top_k: 0.3177, top_k=1: 0.2195\n"
     ]
    },
    {
     "name": "stdout",
     "output_type": "stream",
     "text": [
      "Epoch: 185/250, Loss: 0.5437, Val Precision: 0.4769, ACC: 0.2420, top_k: 0.3170, top_k=1: 0.2195\n"
     ]
    },
    {
     "name": "stdout",
     "output_type": "stream",
     "text": [
      "Epoch: 186/250, Loss: 0.5480, Val Precision: 0.4720, ACC: 0.2433, top_k: 0.3180, top_k=1: 0.2195\n"
     ]
    },
    {
     "name": "stdout",
     "output_type": "stream",
     "text": [
      "Epoch: 187/250, Loss: 0.5456, Val Precision: 0.4706, ACC: 0.2393, top_k: 0.3200, top_k=1: 0.2195\n"
     ]
    },
    {
     "name": "stdout",
     "output_type": "stream",
     "text": [
      "Epoch: 188/250, Loss: 0.5418, Val Precision: 0.4794, ACC: 0.2407, top_k: 0.3200, top_k=1: 0.2195\n"
     ]
    },
    {
     "name": "stdout",
     "output_type": "stream",
     "text": [
      "Epoch: 189/250, Loss: 0.5430, Val Precision: 0.4715, ACC: 0.2420, top_k: 0.3188, top_k=1: 0.2195\n"
     ]
    },
    {
     "name": "stdout",
     "output_type": "stream",
     "text": [
      "Epoch: 190/250, Loss: 0.5418, Val Precision: 0.4845, ACC: 0.2427, top_k: 0.3210, top_k=1: 0.2195\n"
     ]
    },
    {
     "name": "stdout",
     "output_type": "stream",
     "text": [
      "Epoch: 191/250, Loss: 0.5392, Val Precision: 0.4661, ACC: 0.2373, top_k: 0.3207, top_k=1: 0.2195\n"
     ]
    },
    {
     "name": "stdout",
     "output_type": "stream",
     "text": [
      "Epoch: 192/250, Loss: 0.5422, Val Precision: 0.4743, ACC: 0.2380, top_k: 0.3213, top_k=1: 0.2195\n"
     ]
    },
    {
     "name": "stdout",
     "output_type": "stream",
     "text": [
      "Epoch: 193/250, Loss: 0.5395, Val Precision: 0.4722, ACC: 0.2427, top_k: 0.3187, top_k=1: 0.2195\n"
     ]
    },
    {
     "name": "stdout",
     "output_type": "stream",
     "text": [
      "Epoch: 194/250, Loss: 0.5398, Val Precision: 0.4762, ACC: 0.2433, top_k: 0.3198, top_k=1: 0.2195\n"
     ]
    },
    {
     "name": "stdout",
     "output_type": "stream",
     "text": [
      "Epoch: 195/250, Loss: 0.5393, Val Precision: 0.4787, ACC: 0.2393, top_k: 0.3210, top_k=1: 0.2195\n"
     ]
    },
    {
     "name": "stdout",
     "output_type": "stream",
     "text": [
      "Epoch: 196/250, Loss: 0.5375, Val Precision: 0.4732, ACC: 0.2380, top_k: 0.3198, top_k=1: 0.2195\n"
     ]
    },
    {
     "name": "stdout",
     "output_type": "stream",
     "text": [
      "Epoch: 197/250, Loss: 0.5378, Val Precision: 0.4828, ACC: 0.2433, top_k: 0.3220, top_k=1: 0.2195\n"
     ]
    },
    {
     "name": "stdout",
     "output_type": "stream",
     "text": [
      "Epoch: 198/250, Loss: 0.5362, Val Precision: 0.4809, ACC: 0.2393, top_k: 0.3208, top_k=1: 0.2195\n"
     ]
    },
    {
     "name": "stdout",
     "output_type": "stream",
     "text": [
      "Epoch: 199/250, Loss: 0.5364, Val Precision: 0.4868, ACC: 0.2407, top_k: 0.3212, top_k=1: 0.2195\n"
     ]
    },
    {
     "name": "stdout",
     "output_type": "stream",
     "text": [
      "Epoch: 200/250, Loss: 0.5348, Val Precision: 0.4687, ACC: 0.2413, top_k: 0.3197, top_k=1: 0.2195\n"
     ]
    },
    {
     "name": "stdout",
     "output_type": "stream",
     "text": [
      "Epoch: 201/250, Loss: 0.5363, Val Precision: 0.4800, ACC: 0.2433, top_k: 0.3220, top_k=1: 0.2195\n"
     ]
    },
    {
     "name": "stdout",
     "output_type": "stream",
     "text": [
      "Epoch: 202/250, Loss: 0.5342, Val Precision: 0.4892, ACC: 0.2413, top_k: 0.3203, top_k=1: 0.2195\n"
     ]
    },
    {
     "name": "stdout",
     "output_type": "stream",
     "text": [
      "Epoch: 203/250, Loss: 0.5353, Val Precision: 0.4870, ACC: 0.2400, top_k: 0.3213, top_k=1: 0.2195\n"
     ]
    },
    {
     "name": "stdout",
     "output_type": "stream",
     "text": [
      "Epoch: 204/250, Loss: 0.5333, Val Precision: 0.4865, ACC: 0.2447, top_k: 0.3203, top_k=1: 0.2195\n"
     ]
    },
    {
     "name": "stdout",
     "output_type": "stream",
     "text": [
      "Epoch: 205/250, Loss: 0.5352, Val Precision: 0.4734, ACC: 0.2433, top_k: 0.3208, top_k=1: 0.2195\n"
     ]
    },
    {
     "name": "stdout",
     "output_type": "stream",
     "text": [
      "Epoch: 206/250, Loss: 0.5342, Val Precision: 0.4802, ACC: 0.2400, top_k: 0.3225, top_k=1: 0.2195\n"
     ]
    },
    {
     "name": "stdout",
     "output_type": "stream",
     "text": [
      "Epoch: 207/250, Loss: 0.5315, Val Precision: 0.4983, ACC: 0.2427, top_k: 0.3240, top_k=1: 0.2195\n"
     ]
    },
    {
     "name": "stdout",
     "output_type": "stream",
     "text": [
      "Epoch: 208/250, Loss: 0.5334, Val Precision: 0.5018, ACC: 0.2427, top_k: 0.3228, top_k=1: 0.2195\n"
     ]
    },
    {
     "name": "stdout",
     "output_type": "stream",
     "text": [
      "Epoch: 209/250, Loss: 0.5309, Val Precision: 0.4772, ACC: 0.2400, top_k: 0.3200, top_k=1: 0.2195\n"
     ]
    },
    {
     "name": "stdout",
     "output_type": "stream",
     "text": [
      "Epoch: 210/250, Loss: 0.5335, Val Precision: 0.4871, ACC: 0.2440, top_k: 0.3223, top_k=1: 0.2195\n"
     ]
    },
    {
     "name": "stdout",
     "output_type": "stream",
     "text": [
      "Epoch: 211/250, Loss: 0.5329, Val Precision: 0.4928, ACC: 0.2427, top_k: 0.3238, top_k=1: 0.2195\n"
     ]
    },
    {
     "name": "stdout",
     "output_type": "stream",
     "text": [
      "Epoch: 212/250, Loss: 0.5299, Val Precision: 0.4800, ACC: 0.2433, top_k: 0.3232, top_k=1: 0.2195\n"
     ]
    },
    {
     "name": "stdout",
     "output_type": "stream",
     "text": [
      "Epoch: 213/250, Loss: 0.5306, Val Precision: 0.4978, ACC: 0.2413, top_k: 0.3218, top_k=1: 0.2195\n"
     ]
    },
    {
     "name": "stdout",
     "output_type": "stream",
     "text": [
      "Epoch: 214/250, Loss: 0.5289, Val Precision: 0.5018, ACC: 0.2413, top_k: 0.3245, top_k=1: 0.2195\n"
     ]
    },
    {
     "name": "stdout",
     "output_type": "stream",
     "text": [
      "Epoch: 215/250, Loss: 0.5288, Val Precision: 0.4804, ACC: 0.2460, top_k: 0.3245, top_k=1: 0.2195\n"
     ]
    },
    {
     "name": "stdout",
     "output_type": "stream",
     "text": [
      "Epoch: 216/250, Loss: 0.5280, Val Precision: 0.4799, ACC: 0.2447, top_k: 0.3232, top_k=1: 0.2195\n"
     ]
    },
    {
     "name": "stdout",
     "output_type": "stream",
     "text": [
      "Epoch: 217/250, Loss: 0.5275, Val Precision: 0.5032, ACC: 0.2427, top_k: 0.3247, top_k=1: 0.2195\n"
     ]
    },
    {
     "name": "stdout",
     "output_type": "stream",
     "text": [
      "Epoch: 218/250, Loss: 0.5270, Val Precision: 0.4984, ACC: 0.2433, top_k: 0.3243, top_k=1: 0.2195\n"
     ]
    },
    {
     "name": "stdout",
     "output_type": "stream",
     "text": [
      "Epoch: 219/250, Loss: 0.5257, Val Precision: 0.4787, ACC: 0.2433, top_k: 0.3255, top_k=1: 0.2195\n"
     ]
    },
    {
     "name": "stdout",
     "output_type": "stream",
     "text": [
      "Epoch: 220/250, Loss: 0.5278, Val Precision: 0.4857, ACC: 0.2467, top_k: 0.3242, top_k=1: 0.2195\n"
     ]
    },
    {
     "name": "stdout",
     "output_type": "stream",
     "text": [
      "Epoch: 221/250, Loss: 0.5268, Val Precision: 0.5066, ACC: 0.2453, top_k: 0.3270, top_k=1: 0.2195\n"
     ]
    },
    {
     "name": "stdout",
     "output_type": "stream",
     "text": [
      "Epoch: 222/250, Loss: 0.5257, Val Precision: 0.5092, ACC: 0.2447, top_k: 0.3248, top_k=1: 0.2195\n"
     ]
    },
    {
     "name": "stdout",
     "output_type": "stream",
     "text": [
      "Epoch: 223/250, Loss: 0.5244, Val Precision: 0.4884, ACC: 0.2427, top_k: 0.3250, top_k=1: 0.2195\n"
     ]
    },
    {
     "name": "stdout",
     "output_type": "stream",
     "text": [
      "Epoch: 224/250, Loss: 0.5274, Val Precision: 0.4913, ACC: 0.2447, top_k: 0.3272, top_k=1: 0.2195\n"
     ]
    },
    {
     "name": "stdout",
     "output_type": "stream",
     "text": [
      "Epoch: 225/250, Loss: 0.5239, Val Precision: 0.5040, ACC: 0.2447, top_k: 0.3268, top_k=1: 0.2195\n"
     ]
    },
    {
     "name": "stdout",
     "output_type": "stream",
     "text": [
      "Epoch: 226/250, Loss: 0.5282, Val Precision: 0.4994, ACC: 0.2447, top_k: 0.3265, top_k=1: 0.2195\n"
     ]
    },
    {
     "name": "stdout",
     "output_type": "stream",
     "text": [
      "Epoch: 227/250, Loss: 0.5287, Val Precision: 0.4925, ACC: 0.2440, top_k: 0.3248, top_k=1: 0.2195\n"
     ]
    },
    {
     "name": "stdout",
     "output_type": "stream",
     "text": [
      "Epoch: 228/250, Loss: 0.5207, Val Precision: 0.4884, ACC: 0.2427, top_k: 0.3267, top_k=1: 0.2195\n"
     ]
    },
    {
     "name": "stdout",
     "output_type": "stream",
     "text": [
      "Epoch: 229/250, Loss: 0.5256, Val Precision: 0.4959, ACC: 0.2427, top_k: 0.3277, top_k=1: 0.2195\n"
     ]
    },
    {
     "name": "stdout",
     "output_type": "stream",
     "text": [
      "Epoch: 230/250, Loss: 0.5211, Val Precision: 0.4919, ACC: 0.2453, top_k: 0.3260, top_k=1: 0.2195\n"
     ]
    },
    {
     "name": "stdout",
     "output_type": "stream",
     "text": [
      "Epoch: 231/250, Loss: 0.5254, Val Precision: 0.4830, ACC: 0.2453, top_k: 0.3250, top_k=1: 0.2195\n"
     ]
    },
    {
     "name": "stdout",
     "output_type": "stream",
     "text": [
      "Epoch: 232/250, Loss: 0.5260, Val Precision: 0.4941, ACC: 0.2433, top_k: 0.3275, top_k=1: 0.2195\n"
     ]
    },
    {
     "name": "stdout",
     "output_type": "stream",
     "text": [
      "Epoch: 233/250, Loss: 0.5184, Val Precision: 0.5066, ACC: 0.2447, top_k: 0.3282, top_k=1: 0.2195\n"
     ]
    },
    {
     "name": "stdout",
     "output_type": "stream",
     "text": [
      "Epoch: 234/250, Loss: 0.5282, Val Precision: 0.5049, ACC: 0.2427, top_k: 0.3283, top_k=1: 0.2195\n"
     ]
    },
    {
     "name": "stdout",
     "output_type": "stream",
     "text": [
      "Epoch: 235/250, Loss: 0.5278, Val Precision: 0.5040, ACC: 0.2447, top_k: 0.3288, top_k=1: 0.2195\n"
     ]
    },
    {
     "name": "stdout",
     "output_type": "stream",
     "text": [
      "Epoch: 236/250, Loss: 0.5177, Val Precision: 0.4894, ACC: 0.2420, top_k: 0.3265, top_k=1: 0.2195\n"
     ]
    },
    {
     "name": "stdout",
     "output_type": "stream",
     "text": [
      "Epoch: 237/250, Loss: 0.5283, Val Precision: 0.4793, ACC: 0.2433, top_k: 0.3262, top_k=1: 0.2195\n"
     ]
    },
    {
     "name": "stdout",
     "output_type": "stream",
     "text": [
      "Epoch: 238/250, Loss: 0.5314, Val Precision: 0.4933, ACC: 0.2460, top_k: 0.3285, top_k=1: 0.2195\n"
     ]
    },
    {
     "name": "stdout",
     "output_type": "stream",
     "text": [
      "Epoch: 239/250, Loss: 0.5210, Val Precision: 0.5035, ACC: 0.2433, top_k: 0.3280, top_k=1: 0.2195\n"
     ]
    },
    {
     "name": "stdout",
     "output_type": "stream",
     "text": [
      "Epoch: 240/250, Loss: 0.5213, Val Precision: 0.5061, ACC: 0.2420, top_k: 0.3298, top_k=1: 0.2195\n"
     ]
    },
    {
     "name": "stdout",
     "output_type": "stream",
     "text": [
      "Epoch: 241/250, Loss: 0.5246, Val Precision: 0.5103, ACC: 0.2433, top_k: 0.3300, top_k=1: 0.2195\n"
     ]
    },
    {
     "name": "stdout",
     "output_type": "stream",
     "text": [
      "Epoch: 242/250, Loss: 0.5196, Val Precision: 0.4961, ACC: 0.2407, top_k: 0.3280, top_k=1: 0.2195\n"
     ]
    },
    {
     "name": "stdout",
     "output_type": "stream",
     "text": [
      "Epoch: 243/250, Loss: 0.5185, Val Precision: 0.4938, ACC: 0.2453, top_k: 0.3287, top_k=1: 0.2195\n"
     ]
    },
    {
     "name": "stdout",
     "output_type": "stream",
     "text": [
      "Epoch: 244/250, Loss: 0.5190, Val Precision: 0.5079, ACC: 0.2447, top_k: 0.3290, top_k=1: 0.2195\n"
     ]
    },
    {
     "name": "stdout",
     "output_type": "stream",
     "text": [
      "Epoch: 245/250, Loss: 0.5186, Val Precision: 0.5156, ACC: 0.2447, top_k: 0.3305, top_k=1: 0.2195\n"
     ]
    },
    {
     "name": "stdout",
     "output_type": "stream",
     "text": [
      "Epoch: 246/250, Loss: 0.5151, Val Precision: 0.4937, ACC: 0.2407, top_k: 0.3292, top_k=1: 0.2195\n"
     ]
    },
    {
     "name": "stdout",
     "output_type": "stream",
     "text": [
      "Epoch: 247/250, Loss: 0.5186, Val Precision: 0.4933, ACC: 0.2420, top_k: 0.3277, top_k=1: 0.2195\n"
     ]
    },
    {
     "name": "stdout",
     "output_type": "stream",
     "text": [
      "Epoch: 248/250, Loss: 0.5187, Val Precision: 0.5067, ACC: 0.2453, top_k: 0.3305, top_k=1: 0.2195\n"
     ]
    },
    {
     "name": "stdout",
     "output_type": "stream",
     "text": [
      "Epoch: 249/250, Loss: 0.5136, Val Precision: 0.5048, ACC: 0.2440, top_k: 0.3295, top_k=1: 0.2195\n"
     ]
    },
    {
     "name": "stdout",
     "output_type": "stream",
     "text": [
      "{\n",
      "    \"accuracy\": 0.26066666666666666,\n",
      "    \"micro_precision\": 0.5374331550802139,\n",
      "    \"macro_precision\": 0.5017272694044629,\n",
      "    \"recall\": 0.2378512139058698,\n",
      "    \"f1_score\": 0.3121229846018823,\n",
      "    \"auc\": 0.6482927140801795,\n",
      "    \"top_k_1\": 0.20753333333333335,\n",
      "    \"top_k_pred\": 0.314\n",
      "}\n",
      "\t- Extracting and saving embeddings...\n"
     ]
    },
    {
     "name": "stdout",
     "output_type": "stream",
     "text": [
      "              precision    recall  f1-score   support\n",
      "\n",
      "     Class 0       0.56      0.39      0.46       513\n",
      "     Class 1       0.58      0.23      0.33       394\n",
      "     Class 2       0.53      0.26      0.35       337\n",
      "     Class 3       0.75      0.43      0.54       324\n",
      "     Class 4       0.37      0.11      0.17       279\n",
      "     Class 5       0.45      0.35      0.39       285\n",
      "     Class 6       0.53      0.24      0.33       250\n",
      "     Class 7       0.51      0.25      0.33       277\n",
      "     Class 8       0.35      0.08      0.13       245\n",
      "     Class 9       0.38      0.05      0.09       209\n",
      "\n",
      "   micro avg       0.54      0.26      0.35      3113\n",
      "   macro avg       0.50      0.24      0.31      3113\n",
      "weighted avg       0.52      0.26      0.33      3113\n",
      " samples avg       0.25      0.17      0.18      3113\n",
      "\n"
     ]
    },
    {
     "data": {
      "image/png": "[encoded data removed]",
      "text/plain": [
       "<Figure size 1500x800 with 2 Axes>"
      ]
     },
     "metadata": {},
     "output_type": "display_data"
    }
   ],
   "source": [
    "import sys, os\n",
    "\n",
    "sys.path.append('/lustre/home/almusawiaf/PhD_Projects/HGNN_Project2/GNN_Models/weighted_sum_precision')\n",
    "from GNN_functions_patients_only import *\n",
    "from GNN_SAGE import *\n",
    "from GNN_GCN import *\n",
    "\n",
    "\n",
    "if __name__ == \"__main__\":\n",
    "    num_Sample     = int(os.getenv('num_Sample', 15000))  # Default to 10000 if not set\n",
    "    num_Labels     = int(os.getenv('NUM_DISEASES', 203))  # Default to 100 if not set\n",
    "    num_top_Labels = int(os.getenv('NUM_TOP_DISEASES', 203))  # Selecting the top most frequent labels\n",
    "    disease_name   = os.getenv('DISEASE_FILE', f'GEDMPLB')  # Default to 'sample/10000' if not set\n",
    "    num_Meta_Path  = int(os.getenv('num_Meta_Path', 10))  # Default to 10\n",
    "    num_epochs     = int(os.getenv('num_epochs', 50))    \n",
    "    # ============================================================================\n",
    "\n",
    "    saving_path = f'/lustre/home/almusawiaf/PhD_Projects/HGNN_Project2/Data/{num_Labels}_Diagnoses/{disease_name}/{num_Sample}/HGNN_data'\n",
    "\n",
    "    GNN_model = SAGE_MLC\n",
    "    with_SNF = False\n",
    "    super_class = '' # '_sc'\n",
    "    \n",
    "    exp_name = f'{num_epochs}_epochs_SNF{super_class}'\n",
    "\n",
    "    losses, val_metrics = main(saving_path, \n",
    "                               GNN_Model=GNN_model, \n",
    "                               num_epochs = num_epochs,\n",
    "                               with_SNF = with_SNF,\n",
    "                               exp_name = exp_name,\n",
    "                               super_class = super_class, \n",
    "                               num_Meta_Path = num_Meta_Path,\n",
    "                               top_k = 5,\n",
    "                               num_D = num_top_Labels)\n",
    "\n",
    "    plot_combined_metrics_and_loss(losses, val_metrics)\n",
    "\n",
    "    if with_SNF:\n",
    "        save_results(losses, val_metrics, f'{saving_path}/performance_SAGE_{num_epochs}_eps_SNF')\n",
    "    else:\n",
    "        save_results(losses, val_metrics, f'{saving_path}/performance_SAGE_{num_epochs}_eps')\n"
   ]
  }
 ],
 "metadata": {
  "kernelspec": {
   "display_name": "Python 3 (ipykernel)",
   "language": "python",
   "name": "python3"
  },
  "language_info": {
   "codemirror_mode": {
    "name": "ipython",
    "version": 3
   },
   "file_extension": ".py",
   "mimetype": "text/x-python",
   "name": "python",
   "nbconvert_exporter": "python",
   "pygments_lexer": "ipython3",
   "version": "3.9.18"
  }
 },
 "nbformat": 4,
 "nbformat_minor": 4
}
