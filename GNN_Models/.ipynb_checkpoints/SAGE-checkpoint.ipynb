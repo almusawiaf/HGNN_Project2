{
 "cells": [
  {
   "cell_type": "code",
   "execution_count": null,
   "metadata": {},
   "outputs": [
    {
     "name": "stdout",
     "output_type": "stream",
     "text": [
      "\t- Loading the data...\n",
      "../Data/203_Diagnoses/DMPLB2/1500\n"
     ]
    },
    {
     "name": "stderr",
     "output_type": "stream",
     "text": [
      "/home/almusawiaf/MyDocuments/PhD_Projects/HGNN_Project2/GNN_Models/weighted_sum_precision/GNN_functions_patients_only.py:241: FutureWarning: You are using `torch.load` with `weights_only=False` (the current default value), which uses the default pickle module implicitly. It is possible to construct malicious pickle data which will execute arbitrary code during unpickling (See https://github.com/pytorch/pytorch/blob/main/SECURITY.md#untrusted-models for more details). In a future release, the default value for `weights_only` will be flipped to `True`. This limits the functions that could be executed during unpickling. Arbitrary objects will no longer be allowed to be loaded via this mode unless they are explicitly allowlisted by the user via `torch.serialization.add_safe_globals`. We recommend you start setting `weights_only=True` for any use case where you don't have full control of the loaded file. Please open an issue on GitHub for any issues related to this experimental feature.\n",
      "  temp_Y = torch.load(f'{file_path}/OHV/Y{super_class}.pt')\n",
      "/home/almusawiaf/MyDocuments/PhD_Projects/HGNN_Project2/GNN_Models/weighted_sum_precision/GNN_functions_patients_only.py:243: FutureWarning: You are using `torch.load` with `weights_only=False` (the current default value), which uses the default pickle module implicitly. It is possible to construct malicious pickle data which will execute arbitrary code during unpickling (See https://github.com/pytorch/pytorch/blob/main/SECURITY.md#untrusted-models for more details). In a future release, the default value for `weights_only` will be flipped to `True`. This limits the functions that could be executed during unpickling. Arbitrary objects will no longer be allowed to be loaded via this mode unless they are explicitly allowlisted by the user via `torch.serialization.add_safe_globals`. We recommend you start setting `weights_only=True` for any use case where you don't have full control of the loaded file. Please open an issue on GitHub for any issues related to this experimental feature.\n",
      "  X = torch.load(f'{file_path}/OHV/X.pt')\n"
     ]
    },
    {
     "name": "stdout",
     "output_type": "stream",
     "text": [
      "\t- Generating the Data structure ...\n",
      "\t- Generating the train, test, and validation sets...\n",
      "\t- Number of meta-paths used is :10\n",
      "\t- Preparing the model...\n",
      "\t- Epochs...\n"
     ]
    }
   ],
   "source": [
    "import os\n",
    "\n",
    "from weighted_sum_precision.GNN_functions_patients_only import *\n",
    "from weighted_sum_precision.GNN_SAGE import SAGE_MLC\n",
    "from weighted_sum_precision.GNN_GCN import GCN_MLC\n",
    "\n",
    "\n",
    "if __name__ == \"__main__\":\n",
    "    num_Sample     = int(os.getenv('num_Sample', 1500))  # Default to 10000 if not set\n",
    "    num_Labels     = int(os.getenv('NUM_DISEASES', 203))  # Default to 100 if not set\n",
    "    num_top_Labels = int(os.getenv('NUM_TOP_DISEASES', 203))  # Selecting the top most frequent labels\n",
    "    disease_name   = os.getenv('DISEASE_FILE', f'DMPLB2')  # Default to 'sample/10000' if not set\n",
    "    num_Meta_Path  = int(os.getenv('num_Meta_Path', 10))  # Default to 10\n",
    "    num_epochs     = int(os.getenv('num_epochs', 500))    \n",
    "    # ============================================================================\n",
    "\n",
    "    saving_path = f'../Data/{num_Labels}_Diagnoses/{disease_name}/{num_Sample}'\n",
    "\n",
    "    GNN_model = SAGE_MLC\n",
    "    super_class = '' # '_sc'\n",
    "    \n",
    "    exp_name = f'{num_epochs}_epochs_SNF{super_class}'\n",
    "\n",
    "    losses, val_metrics = main(saving_path, \n",
    "                               GNN_Model=GNN_model, \n",
    "                               num_epochs = num_epochs,\n",
    "                               exp_name = exp_name,\n",
    "                               super_class = super_class, \n",
    "                               num_Meta_Path = num_Meta_Path,\n",
    "                               top_k = 5,\n",
    "                               num_D = num_top_Labels)\n",
    "\n",
    "    save_results(losses, val_metrics, f'{saving_path}/performance_SAGE_{num_epochs}_eps')\n",
    "    plot_combined_metrics_and_loss(losses, val_metrics)\n"
   ]
  },
  {
   "cell_type": "code",
   "execution_count": null,
   "metadata": {},
   "outputs": [],
   "source": []
  }
 ],
 "metadata": {
  "kernelspec": {
   "display_name": "Python 3 (ipykernel)",
   "language": "python",
   "name": "python3"
  },
  "language_info": {
   "codemirror_mode": {
    "name": "ipython",
    "version": 3
   },
   "file_extension": ".py",
   "mimetype": "text/x-python",
   "name": "python",
   "nbconvert_exporter": "python",
   "pygments_lexer": "ipython3",
   "version": "3.11.9"
  }
 },
 "nbformat": 4,
 "nbformat_minor": 4
}
