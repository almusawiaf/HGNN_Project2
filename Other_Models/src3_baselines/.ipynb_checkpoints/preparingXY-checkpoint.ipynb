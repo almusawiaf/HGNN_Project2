{
 "cells": [
  {
   "cell_type": "code",
   "execution_count": 1,
   "id": "6a349734-a66f-4587-80c2-ee2e5edd4c60",
   "metadata": {},
   "outputs": [],
   "source": [
    "import networkx as nx\n",
    "import numpy as np\n",
    "HG = nx.read_gml('../../Data/HG/HG_203D.gml')\n"
   ]
  },
  {
   "cell_type": "code",
   "execution_count": 2,
   "id": "e592ad6d-f4ec-42af-9463-26237e6742b1",
   "metadata": {},
   "outputs": [
    {
     "name": "stdout",
     "output_type": "stream",
     "text": [
      "45435 56465 89 572 203\n"
     ]
    }
   ],
   "source": [
    "Patients    = [n for n in HG.nodes() if n[0]=='C']\n",
    "Visits      = [n for n in HG.nodes() if n[0]=='V']\n",
    "Procedures  = [n for n in HG.nodes() if n[0]=='P']\n",
    "Medications = [n for n in HG.nodes() if n[0]=='M']\n",
    "Diagnoses   = [n for n in HG.nodes() if n[0]=='D']\n",
    "\n",
    "print(len(Patients), len(Visits), len(Procedures), len(Medications), len(Diagnoses))"
   ]
  },
  {
   "cell_type": "markdown",
   "id": "25e3a9ff-5b4b-48a3-a82a-9064834fd514",
   "metadata": {},
   "source": [
    "## Visit level"
   ]
  },
  {
   "cell_type": "code",
   "execution_count": 3,
   "id": "1f92011a-88a1-4eff-af8b-735bb3e27cd9",
   "metadata": {},
   "outputs": [],
   "source": [
    "Procedures_indeces = {p:i for i, p in enumerate(Procedures)}\n",
    "Medications_indeces = {p:i for i, p in enumerate(Medications)}\n",
    "Diagnoses_indeces = {p:i for i, p in enumerate(Diagnoses)}\n",
    "\n",
    "X_P, X_M, Y = [], [], []\n",
    "\n",
    "for v in Visits:\n",
    "    xm = [0] * len(Medications)\n",
    "    xp = [0] * len(Procedures)\n",
    "    y = [0] * len(Diagnoses)\n",
    "    \n",
    "    for u in HG.neighbors(v):\n",
    "        if u[0] =='M':\n",
    "            xm[Medications_indeces[u]] = 1\n",
    "        elif u[0] == 'P':\n",
    "            xp[Procedures_indeces[u]] = 1\n",
    "        elif u[0] == 'D':\n",
    "            y[Diagnoses_indeces[u]] = 1\n",
    "    \n",
    "    X_P.append(xp)\n",
    "    X_M.append(xm)\n",
    "    Y.append(y)"
   ]
  },
  {
   "cell_type": "code",
   "execution_count": 4,
   "id": "b997517e-83dd-448e-8627-bba28471ce1d",
   "metadata": {},
   "outputs": [],
   "source": [
    "XP = np.array(X_P)\n",
    "XM = np.array(X_M)\n",
    "Y = np.array(Y)\n",
    "\n",
    "X =  np.concatenate((XP, XM), axis=1)\n",
    "\n",
    "X.shape, Y.shape\n",
    "\n",
    "np.save('../../Data/tabular/visit_level/X.npy', X)\n",
    "np.save('../../Data/tabular/visit_level/Y.npy', Y)"
   ]
  },
  {
   "cell_type": "markdown",
   "id": "40f35e11-250b-4912-9e75-f4cb8f00e9f5",
   "metadata": {},
   "source": [
    "## Patient level\n"
   ]
  },
  {
   "cell_type": "code",
   "execution_count": null,
   "id": "8922894e-3793-4a61-9040-17b78fd032dc",
   "metadata": {},
   "outputs": [],
   "source": [
    "X_P, X_M, Y = [], [], []\n",
    "\n",
    "for p in Patients:\n",
    "    xm = [0] * len(Medications)\n",
    "    xp = [0] * len(Procedures)\n",
    "    y = [0] * len(Diagnoses)\n",
    "    \n",
    "    for v in HG.neighbors(p):\n",
    "        for u in HG.neighbors(v):\n",
    "            if u[0] =='M':\n",
    "                xm[Medications_indeces[u]] = 1\n",
    "            elif u[0] == 'P':\n",
    "                xp[Procedures_indeces[u]] = 1\n",
    "            elif u[0] == 'D':\n",
    "                y[Diagnoses_indeces[u]] = 1\n",
    "    \n",
    "    X_P.append(xp)\n",
    "    X_M.append(xm)\n",
    "    Y.append(y)"
   ]
  },
  {
   "cell_type": "code",
   "execution_count": null,
   "id": "7fde5945-7dcc-4c56-b9a7-68c7986cf4fe",
   "metadata": {},
   "outputs": [],
   "source": [
    "XP = np.array(X_P)\n",
    "XM = np.array(X_M)\n",
    "Y = np.array(Y)\n",
    "\n",
    "X =  np.concatenate((XP, XM), axis=1)\n",
    "\n",
    "X.shape, Y.shape\n",
    "\n",
    "np.save('../../Data/tabular/patient_level/X.npy', X)\n",
    "np.save('../../Data/tabular/patient_level/Y.npy', Y)"
   ]
  }
 ],
 "metadata": {
  "kernelspec": {
   "display_name": "Python 3 (ipykernel)",
   "language": "python",
   "name": "python3"
  },
  "language_info": {
   "codemirror_mode": {
    "name": "ipython",
    "version": 3
   },
   "file_extension": ".py",
   "mimetype": "text/x-python",
   "name": "python",
   "nbconvert_exporter": "python",
   "pygments_lexer": "ipython3",
   "version": "3.11.9"
  }
 },
 "nbformat": 4,
 "nbformat_minor": 5
}
