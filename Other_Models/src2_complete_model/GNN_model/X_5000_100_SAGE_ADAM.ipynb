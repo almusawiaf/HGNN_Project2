{
 "cells": [
  {
   "cell_type": "code",
   "execution_count": 1,
   "metadata": {
    "execution": {
     "iopub.execute_input": "2024-08-03T15:07:19.978923Z",
     "iopub.status.busy": "2024-08-03T15:07:19.978677Z",
     "iopub.status.idle": "2024-08-03T17:24:26.133285Z",
     "shell.execute_reply": "2024-08-03T17:24:26.132380Z"
    }
   },
   "outputs": [
    {
     "name": "stdout",
     "output_type": "stream",
     "text": [
      "\t- Loading the data...\n",
      "/home/almusawiaf/MyDocuments/PhD_Projects/PSG_SURVIVAL_ANALYSIS/Data/100_Diagnoses/sample/5000/HGNN_data\n"
     ]
    },
    {
     "name": "stdout",
     "output_type": "stream",
     "text": [
      "X before NaN check: tensor([[  205.1324,   228.5898,  -238.9094,  ...,  -665.3060, -1093.4191,\n",
      "          -458.6095],\n",
      "        [  225.8953,   206.0058,  -258.7333,  ...,  -711.5159, -1116.7020,\n",
      "          -434.9601],\n",
      "        [  332.5744,   125.9086,  -323.4282,  ...,  -888.8340, -1230.9594,\n",
      "          -422.6898],\n",
      "        ...,\n",
      "        [  199.0053,   282.0287,  -258.3085,  ...,  -706.7635, -1198.6426,\n",
      "          -512.1521],\n",
      "        [  180.7223,   267.1816,  -238.2881,  ...,  -649.8585, -1110.4419,\n",
      "          -478.1737],\n",
      "        [  286.8275,   350.4161,  -371.4984,  ..., -1009.4129, -1663.6217,\n",
      "          -694.3062]], requires_grad=True)\n",
      "Y before NaN check: tensor([[0., 0., 0.,  ..., 0., 0., 0.],\n",
      "        [0., 1., 0.,  ..., 0., 0., 0.],\n",
      "        [1., 0., 0.,  ..., 0., 0., 1.],\n",
      "        ...,\n",
      "        [0., 0., 0.,  ..., 0., 0., 0.],\n",
      "        [0., 0., 0.,  ..., 0., 0., 0.],\n",
      "        [0., 0., 0.,  ..., 0., 0., 0.]])\n",
      "Edge weights before NaN check: tensor([nan, nan, nan,  ..., nan, nan, nan], grad_fn=<IndexBackward0>)\n",
      "\t- Generating the Data structure ...\n"
     ]
    },
    {
     "name": "stdout",
     "output_type": "stream",
     "text": [
      "\t- Generating the train, test, and validation sets...\n",
      "\t- Preparing the model...\n",
      "\t- Training...\n"
     ]
    },
    {
     "name": "stdout",
     "output_type": "stream",
     "text": [
      "Epoch: 1/250, Loss: 172.8763, Val Precision: 0.0540, ACC: 0.0000\n"
     ]
    },
    {
     "name": "stdout",
     "output_type": "stream",
     "text": [
      "Epoch: 2/250, Loss: 172.8623, Val Precision: 0.0540, ACC: 0.0000\n"
     ]
    },
    {
     "name": "stdout",
     "output_type": "stream",
     "text": [
      "Epoch: 3/250, Loss: 172.8483, Val Precision: 0.0540, ACC: 0.0000\n"
     ]
    },
    {
     "name": "stdout",
     "output_type": "stream",
     "text": [
      "Epoch: 4/250, Loss: 172.8343, Val Precision: 0.0540, ACC: 0.0000\n"
     ]
    },
    {
     "name": "stdout",
     "output_type": "stream",
     "text": [
      "Epoch: 5/250, Loss: 172.8203, Val Precision: 0.0540, ACC: 0.0000\n"
     ]
    },
    {
     "name": "stdout",
     "output_type": "stream",
     "text": [
      "Epoch: 6/250, Loss: 172.8063, Val Precision: 0.0540, ACC: 0.0000\n"
     ]
    },
    {
     "name": "stdout",
     "output_type": "stream",
     "text": [
      "Epoch: 7/250, Loss: 172.7923, Val Precision: 0.0540, ACC: 0.0000\n"
     ]
    },
    {
     "name": "stdout",
     "output_type": "stream",
     "text": [
      "Epoch: 8/250, Loss: 172.7783, Val Precision: 0.0540, ACC: 0.0000\n"
     ]
    },
    {
     "name": "stdout",
     "output_type": "stream",
     "text": [
      "Epoch: 9/250, Loss: 172.7643, Val Precision: 0.0540, ACC: 0.0000\n"
     ]
    },
    {
     "name": "stdout",
     "output_type": "stream",
     "text": [
      "Epoch: 10/250, Loss: 172.7504, Val Precision: 0.0540, ACC: 0.0000\n"
     ]
    },
    {
     "name": "stdout",
     "output_type": "stream",
     "text": [
      "Epoch: 11/250, Loss: 172.7363, Val Precision: 0.0540, ACC: 0.0000\n"
     ]
    },
    {
     "name": "stdout",
     "output_type": "stream",
     "text": [
      "Epoch: 12/250, Loss: 172.7224, Val Precision: 0.0540, ACC: 0.0000\n"
     ]
    },
    {
     "name": "stdout",
     "output_type": "stream",
     "text": [
      "Epoch: 13/250, Loss: 172.7083, Val Precision: 0.0540, ACC: 0.0000\n"
     ]
    },
    {
     "name": "stdout",
     "output_type": "stream",
     "text": [
      "Epoch: 14/250, Loss: 172.6944, Val Precision: 0.0540, ACC: 0.0000\n"
     ]
    },
    {
     "name": "stdout",
     "output_type": "stream",
     "text": [
      "Epoch: 15/250, Loss: 172.6804, Val Precision: 0.0540, ACC: 0.0000\n"
     ]
    },
    {
     "name": "stdout",
     "output_type": "stream",
     "text": [
      "Epoch: 16/250, Loss: 172.6664, Val Precision: 0.0540, ACC: 0.0000\n"
     ]
    },
    {
     "name": "stdout",
     "output_type": "stream",
     "text": [
      "Epoch: 17/250, Loss: 172.6524, Val Precision: 0.0540, ACC: 0.0000\n"
     ]
    },
    {
     "name": "stdout",
     "output_type": "stream",
     "text": [
      "Epoch: 18/250, Loss: 172.6384, Val Precision: 0.0540, ACC: 0.0000\n"
     ]
    },
    {
     "name": "stdout",
     "output_type": "stream",
     "text": [
      "Epoch: 19/250, Loss: 172.6244, Val Precision: 0.0540, ACC: 0.0000\n"
     ]
    },
    {
     "name": "stdout",
     "output_type": "stream",
     "text": [
      "Epoch: 20/250, Loss: 172.6105, Val Precision: 0.0540, ACC: 0.0000\n"
     ]
    },
    {
     "name": "stdout",
     "output_type": "stream",
     "text": [
      "Epoch: 21/250, Loss: 172.5965, Val Precision: 0.0540, ACC: 0.0000\n"
     ]
    },
    {
     "name": "stdout",
     "output_type": "stream",
     "text": [
      "Epoch: 22/250, Loss: 172.5825, Val Precision: 0.0540, ACC: 0.0000\n"
     ]
    },
    {
     "name": "stdout",
     "output_type": "stream",
     "text": [
      "Epoch: 23/250, Loss: 172.5685, Val Precision: 0.0540, ACC: 0.0000\n"
     ]
    },
    {
     "name": "stdout",
     "output_type": "stream",
     "text": [
      "Epoch: 24/250, Loss: 172.5546, Val Precision: 0.0540, ACC: 0.0000\n"
     ]
    },
    {
     "name": "stdout",
     "output_type": "stream",
     "text": [
      "Epoch: 25/250, Loss: 172.5406, Val Precision: 0.0540, ACC: 0.0000\n"
     ]
    },
    {
     "name": "stdout",
     "output_type": "stream",
     "text": [
      "Epoch: 26/250, Loss: 172.5266, Val Precision: 0.0540, ACC: 0.0000\n"
     ]
    },
    {
     "name": "stdout",
     "output_type": "stream",
     "text": [
      "Epoch: 27/250, Loss: 172.5126, Val Precision: 0.0540, ACC: 0.0000\n"
     ]
    },
    {
     "name": "stdout",
     "output_type": "stream",
     "text": [
      "Epoch: 28/250, Loss: 172.4986, Val Precision: 0.0540, ACC: 0.0000\n"
     ]
    },
    {
     "name": "stdout",
     "output_type": "stream",
     "text": [
      "Epoch: 29/250, Loss: 172.4846, Val Precision: 0.0540, ACC: 0.0000\n"
     ]
    },
    {
     "name": "stdout",
     "output_type": "stream",
     "text": [
      "Epoch: 30/250, Loss: 172.4707, Val Precision: 0.0540, ACC: 0.0000\n"
     ]
    },
    {
     "name": "stdout",
     "output_type": "stream",
     "text": [
      "Epoch: 31/250, Loss: 172.4567, Val Precision: 0.0540, ACC: 0.0000\n"
     ]
    },
    {
     "name": "stdout",
     "output_type": "stream",
     "text": [
      "Epoch: 32/250, Loss: 172.4428, Val Precision: 0.0540, ACC: 0.0000\n"
     ]
    },
    {
     "name": "stdout",
     "output_type": "stream",
     "text": [
      "Epoch: 33/250, Loss: 172.4288, Val Precision: 0.0540, ACC: 0.0000\n"
     ]
    },
    {
     "name": "stdout",
     "output_type": "stream",
     "text": [
      "Epoch: 34/250, Loss: 172.4148, Val Precision: 0.0540, ACC: 0.0000\n"
     ]
    },
    {
     "name": "stdout",
     "output_type": "stream",
     "text": [
      "Epoch: 35/250, Loss: 172.4008, Val Precision: 0.0540, ACC: 0.0000\n"
     ]
    },
    {
     "name": "stdout",
     "output_type": "stream",
     "text": [
      "Epoch: 36/250, Loss: 172.3869, Val Precision: 0.0540, ACC: 0.0000\n"
     ]
    },
    {
     "name": "stdout",
     "output_type": "stream",
     "text": [
      "Epoch: 37/250, Loss: 172.3729, Val Precision: 0.0540, ACC: 0.0000\n"
     ]
    },
    {
     "name": "stdout",
     "output_type": "stream",
     "text": [
      "Epoch: 38/250, Loss: 172.3590, Val Precision: 0.0540, ACC: 0.0000\n"
     ]
    },
    {
     "name": "stdout",
     "output_type": "stream",
     "text": [
      "Epoch: 39/250, Loss: 172.3450, Val Precision: 0.0541, ACC: 0.0000\n"
     ]
    },
    {
     "name": "stdout",
     "output_type": "stream",
     "text": [
      "Epoch: 40/250, Loss: 172.3311, Val Precision: 0.0541, ACC: 0.0000\n"
     ]
    },
    {
     "name": "stdout",
     "output_type": "stream",
     "text": [
      "Epoch: 41/250, Loss: 172.3171, Val Precision: 0.0541, ACC: 0.0000\n"
     ]
    },
    {
     "name": "stdout",
     "output_type": "stream",
     "text": [
      "Epoch: 42/250, Loss: 172.3031, Val Precision: 0.0541, ACC: 0.0000\n"
     ]
    },
    {
     "name": "stdout",
     "output_type": "stream",
     "text": [
      "Epoch: 43/250, Loss: 172.2892, Val Precision: 0.0541, ACC: 0.0000\n"
     ]
    },
    {
     "name": "stdout",
     "output_type": "stream",
     "text": [
      "Epoch: 44/250, Loss: 172.2752, Val Precision: 0.0541, ACC: 0.0000\n"
     ]
    },
    {
     "name": "stdout",
     "output_type": "stream",
     "text": [
      "Epoch: 45/250, Loss: 172.2612, Val Precision: 0.0541, ACC: 0.0000\n"
     ]
    },
    {
     "name": "stdout",
     "output_type": "stream",
     "text": [
      "Epoch: 46/250, Loss: 172.2473, Val Precision: 0.0541, ACC: 0.0000\n"
     ]
    },
    {
     "name": "stdout",
     "output_type": "stream",
     "text": [
      "Epoch: 47/250, Loss: 172.2334, Val Precision: 0.0541, ACC: 0.0000\n"
     ]
    },
    {
     "name": "stdout",
     "output_type": "stream",
     "text": [
      "Epoch: 48/250, Loss: 172.2194, Val Precision: 0.0541, ACC: 0.0000\n"
     ]
    },
    {
     "name": "stdout",
     "output_type": "stream",
     "text": [
      "Epoch: 49/250, Loss: 172.2055, Val Precision: 0.0541, ACC: 0.0000\n"
     ]
    },
    {
     "name": "stdout",
     "output_type": "stream",
     "text": [
      "Epoch: 50/250, Loss: 172.1915, Val Precision: 0.0541, ACC: 0.0000\n"
     ]
    },
    {
     "name": "stdout",
     "output_type": "stream",
     "text": [
      "Epoch: 51/250, Loss: 172.1775, Val Precision: 0.0541, ACC: 0.0000\n"
     ]
    },
    {
     "name": "stdout",
     "output_type": "stream",
     "text": [
      "Epoch: 52/250, Loss: 172.1636, Val Precision: 0.0541, ACC: 0.0000\n"
     ]
    },
    {
     "name": "stdout",
     "output_type": "stream",
     "text": [
      "Epoch: 53/250, Loss: 172.1496, Val Precision: 0.0541, ACC: 0.0000\n"
     ]
    },
    {
     "name": "stdout",
     "output_type": "stream",
     "text": [
      "Epoch: 54/250, Loss: 172.1357, Val Precision: 0.0541, ACC: 0.0000\n"
     ]
    },
    {
     "name": "stdout",
     "output_type": "stream",
     "text": [
      "Epoch: 55/250, Loss: 172.1218, Val Precision: 0.0541, ACC: 0.0000\n"
     ]
    },
    {
     "name": "stdout",
     "output_type": "stream",
     "text": [
      "Epoch: 56/250, Loss: 172.1078, Val Precision: 0.0541, ACC: 0.0000\n"
     ]
    },
    {
     "name": "stdout",
     "output_type": "stream",
     "text": [
      "Epoch: 57/250, Loss: 172.0939, Val Precision: 0.0540, ACC: 0.0000\n"
     ]
    },
    {
     "name": "stdout",
     "output_type": "stream",
     "text": [
      "Epoch: 58/250, Loss: 172.0799, Val Precision: 0.0540, ACC: 0.0000\n"
     ]
    },
    {
     "name": "stdout",
     "output_type": "stream",
     "text": [
      "Epoch: 59/250, Loss: 172.0660, Val Precision: 0.0540, ACC: 0.0000\n"
     ]
    },
    {
     "name": "stdout",
     "output_type": "stream",
     "text": [
      "Epoch: 60/250, Loss: 172.0520, Val Precision: 0.0541, ACC: 0.0000\n"
     ]
    },
    {
     "name": "stdout",
     "output_type": "stream",
     "text": [
      "Epoch: 61/250, Loss: 172.0381, Val Precision: 0.0541, ACC: 0.0000\n"
     ]
    },
    {
     "name": "stdout",
     "output_type": "stream",
     "text": [
      "Epoch: 62/250, Loss: 172.0241, Val Precision: 0.0541, ACC: 0.0000\n"
     ]
    },
    {
     "name": "stdout",
     "output_type": "stream",
     "text": [
      "Epoch: 63/250, Loss: 172.0102, Val Precision: 0.0541, ACC: 0.0000\n"
     ]
    },
    {
     "name": "stdout",
     "output_type": "stream",
     "text": [
      "Epoch: 64/250, Loss: 171.9963, Val Precision: 0.0541, ACC: 0.0000\n"
     ]
    },
    {
     "name": "stdout",
     "output_type": "stream",
     "text": [
      "Epoch: 65/250, Loss: 171.9823, Val Precision: 0.0541, ACC: 0.0000\n"
     ]
    },
    {
     "name": "stdout",
     "output_type": "stream",
     "text": [
      "Epoch: 66/250, Loss: 171.9684, Val Precision: 0.0541, ACC: 0.0000\n"
     ]
    },
    {
     "name": "stdout",
     "output_type": "stream",
     "text": [
      "Epoch: 67/250, Loss: 171.9544, Val Precision: 0.0540, ACC: 0.0000\n"
     ]
    },
    {
     "name": "stdout",
     "output_type": "stream",
     "text": [
      "Epoch: 68/250, Loss: 171.9405, Val Precision: 0.0540, ACC: 0.0000\n"
     ]
    },
    {
     "name": "stdout",
     "output_type": "stream",
     "text": [
      "Epoch: 69/250, Loss: 171.9266, Val Precision: 0.0541, ACC: 0.0000\n"
     ]
    },
    {
     "name": "stdout",
     "output_type": "stream",
     "text": [
      "Epoch: 70/250, Loss: 171.9126, Val Precision: 0.0540, ACC: 0.0000\n"
     ]
    },
    {
     "name": "stdout",
     "output_type": "stream",
     "text": [
      "Epoch: 71/250, Loss: 171.8987, Val Precision: 0.0540, ACC: 0.0000\n"
     ]
    },
    {
     "name": "stdout",
     "output_type": "stream",
     "text": [
      "Epoch: 72/250, Loss: 171.8848, Val Precision: 0.0540, ACC: 0.0000\n"
     ]
    },
    {
     "name": "stdout",
     "output_type": "stream",
     "text": [
      "Epoch: 73/250, Loss: 171.8708, Val Precision: 0.0540, ACC: 0.0000\n"
     ]
    },
    {
     "name": "stdout",
     "output_type": "stream",
     "text": [
      "Epoch: 74/250, Loss: 171.8569, Val Precision: 0.0540, ACC: 0.0000\n"
     ]
    },
    {
     "name": "stdout",
     "output_type": "stream",
     "text": [
      "Epoch: 75/250, Loss: 171.8430, Val Precision: 0.0540, ACC: 0.0000\n"
     ]
    },
    {
     "name": "stdout",
     "output_type": "stream",
     "text": [
      "Epoch: 76/250, Loss: 171.8290, Val Precision: 0.0540, ACC: 0.0000\n"
     ]
    },
    {
     "name": "stdout",
     "output_type": "stream",
     "text": [
      "Epoch: 77/250, Loss: 171.8151, Val Precision: 0.0540, ACC: 0.0000\n"
     ]
    },
    {
     "name": "stdout",
     "output_type": "stream",
     "text": [
      "Epoch: 78/250, Loss: 171.8012, Val Precision: 0.0540, ACC: 0.0000\n"
     ]
    },
    {
     "name": "stdout",
     "output_type": "stream",
     "text": [
      "Epoch: 79/250, Loss: 171.7873, Val Precision: 0.0540, ACC: 0.0000\n"
     ]
    },
    {
     "name": "stdout",
     "output_type": "stream",
     "text": [
      "Epoch: 80/250, Loss: 171.7733, Val Precision: 0.0540, ACC: 0.0000\n"
     ]
    },
    {
     "name": "stdout",
     "output_type": "stream",
     "text": [
      "Epoch: 81/250, Loss: 171.7594, Val Precision: 0.0540, ACC: 0.0000\n"
     ]
    },
    {
     "name": "stdout",
     "output_type": "stream",
     "text": [
      "Epoch: 82/250, Loss: 171.7455, Val Precision: 0.0540, ACC: 0.0000\n"
     ]
    },
    {
     "name": "stdout",
     "output_type": "stream",
     "text": [
      "Epoch: 83/250, Loss: 171.7316, Val Precision: 0.0540, ACC: 0.0000\n"
     ]
    },
    {
     "name": "stdout",
     "output_type": "stream",
     "text": [
      "Epoch: 84/250, Loss: 171.7176, Val Precision: 0.0540, ACC: 0.0000\n"
     ]
    },
    {
     "name": "stdout",
     "output_type": "stream",
     "text": [
      "Epoch: 85/250, Loss: 171.7037, Val Precision: 0.0540, ACC: 0.0000\n"
     ]
    },
    {
     "name": "stdout",
     "output_type": "stream",
     "text": [
      "Epoch: 86/250, Loss: 171.6898, Val Precision: 0.0540, ACC: 0.0000\n"
     ]
    },
    {
     "name": "stdout",
     "output_type": "stream",
     "text": [
      "Epoch: 87/250, Loss: 171.6759, Val Precision: 0.0540, ACC: 0.0000\n"
     ]
    },
    {
     "name": "stdout",
     "output_type": "stream",
     "text": [
      "Epoch: 88/250, Loss: 171.6619, Val Precision: 0.0540, ACC: 0.0000\n"
     ]
    },
    {
     "name": "stdout",
     "output_type": "stream",
     "text": [
      "Epoch: 89/250, Loss: 171.6480, Val Precision: 0.0540, ACC: 0.0000\n"
     ]
    },
    {
     "name": "stdout",
     "output_type": "stream",
     "text": [
      "Epoch: 90/250, Loss: 171.6341, Val Precision: 0.0540, ACC: 0.0000\n"
     ]
    },
    {
     "name": "stdout",
     "output_type": "stream",
     "text": [
      "Epoch: 91/250, Loss: 171.6202, Val Precision: 0.0540, ACC: 0.0000\n"
     ]
    },
    {
     "name": "stdout",
     "output_type": "stream",
     "text": [
      "Epoch: 92/250, Loss: 171.6063, Val Precision: 0.0540, ACC: 0.0000\n"
     ]
    },
    {
     "name": "stdout",
     "output_type": "stream",
     "text": [
      "Epoch: 93/250, Loss: 171.5924, Val Precision: 0.0540, ACC: 0.0000\n"
     ]
    },
    {
     "name": "stdout",
     "output_type": "stream",
     "text": [
      "Epoch: 94/250, Loss: 171.5784, Val Precision: 0.0540, ACC: 0.0000\n"
     ]
    },
    {
     "name": "stdout",
     "output_type": "stream",
     "text": [
      "Epoch: 95/250, Loss: 171.5645, Val Precision: 0.0540, ACC: 0.0000\n"
     ]
    },
    {
     "name": "stdout",
     "output_type": "stream",
     "text": [
      "Epoch: 96/250, Loss: 171.5506, Val Precision: 0.0540, ACC: 0.0000\n"
     ]
    },
    {
     "name": "stdout",
     "output_type": "stream",
     "text": [
      "Epoch: 97/250, Loss: 171.5367, Val Precision: 0.0540, ACC: 0.0000\n"
     ]
    },
    {
     "name": "stdout",
     "output_type": "stream",
     "text": [
      "Epoch: 98/250, Loss: 171.5228, Val Precision: 0.0540, ACC: 0.0000\n"
     ]
    },
    {
     "name": "stdout",
     "output_type": "stream",
     "text": [
      "Epoch: 99/250, Loss: 171.5089, Val Precision: 0.0540, ACC: 0.0000\n"
     ]
    },
    {
     "name": "stdout",
     "output_type": "stream",
     "text": [
      "Epoch: 100/250, Loss: 171.4950, Val Precision: 0.0540, ACC: 0.0000\n"
     ]
    },
    {
     "name": "stdout",
     "output_type": "stream",
     "text": [
      "Epoch: 101/250, Loss: 171.4811, Val Precision: 0.0540, ACC: 0.0000\n"
     ]
    },
    {
     "name": "stdout",
     "output_type": "stream",
     "text": [
      "Epoch: 102/250, Loss: 171.4671, Val Precision: 0.0540, ACC: 0.0000\n"
     ]
    },
    {
     "name": "stdout",
     "output_type": "stream",
     "text": [
      "Epoch: 103/250, Loss: 171.4532, Val Precision: 0.0539, ACC: 0.0000\n"
     ]
    },
    {
     "name": "stdout",
     "output_type": "stream",
     "text": [
      "Epoch: 104/250, Loss: 171.4393, Val Precision: 0.0539, ACC: 0.0000\n"
     ]
    },
    {
     "name": "stdout",
     "output_type": "stream",
     "text": [
      "Epoch: 105/250, Loss: 171.4254, Val Precision: 0.0539, ACC: 0.0000\n"
     ]
    },
    {
     "name": "stdout",
     "output_type": "stream",
     "text": [
      "Epoch: 106/250, Loss: 171.4115, Val Precision: 0.0539, ACC: 0.0000\n"
     ]
    },
    {
     "name": "stdout",
     "output_type": "stream",
     "text": [
      "Epoch: 107/250, Loss: 171.3976, Val Precision: 0.0539, ACC: 0.0000\n"
     ]
    },
    {
     "name": "stdout",
     "output_type": "stream",
     "text": [
      "Epoch: 108/250, Loss: 171.3837, Val Precision: 0.0540, ACC: 0.0000\n"
     ]
    },
    {
     "name": "stdout",
     "output_type": "stream",
     "text": [
      "Epoch: 109/250, Loss: 171.3698, Val Precision: 0.0540, ACC: 0.0000\n"
     ]
    },
    {
     "name": "stdout",
     "output_type": "stream",
     "text": [
      "Epoch: 110/250, Loss: 171.3559, Val Precision: 0.0540, ACC: 0.0000\n"
     ]
    },
    {
     "name": "stdout",
     "output_type": "stream",
     "text": [
      "Epoch: 111/250, Loss: 171.3420, Val Precision: 0.0539, ACC: 0.0000\n"
     ]
    },
    {
     "name": "stdout",
     "output_type": "stream",
     "text": [
      "Epoch: 112/250, Loss: 171.3281, Val Precision: 0.0539, ACC: 0.0000\n"
     ]
    },
    {
     "name": "stdout",
     "output_type": "stream",
     "text": [
      "Epoch: 113/250, Loss: 171.3142, Val Precision: 0.0539, ACC: 0.0000\n"
     ]
    },
    {
     "name": "stdout",
     "output_type": "stream",
     "text": [
      "Epoch: 114/250, Loss: 171.3003, Val Precision: 0.0539, ACC: 0.0000\n"
     ]
    },
    {
     "name": "stdout",
     "output_type": "stream",
     "text": [
      "Epoch: 115/250, Loss: 171.2864, Val Precision: 0.0539, ACC: 0.0000\n"
     ]
    },
    {
     "name": "stdout",
     "output_type": "stream",
     "text": [
      "Epoch: 116/250, Loss: 171.2725, Val Precision: 0.0539, ACC: 0.0000\n"
     ]
    },
    {
     "name": "stdout",
     "output_type": "stream",
     "text": [
      "Epoch: 117/250, Loss: 171.2586, Val Precision: 0.0539, ACC: 0.0000\n"
     ]
    },
    {
     "name": "stdout",
     "output_type": "stream",
     "text": [
      "Epoch: 118/250, Loss: 171.2448, Val Precision: 0.0539, ACC: 0.0000\n"
     ]
    },
    {
     "name": "stdout",
     "output_type": "stream",
     "text": [
      "Epoch: 119/250, Loss: 171.2309, Val Precision: 0.0539, ACC: 0.0000\n"
     ]
    },
    {
     "name": "stdout",
     "output_type": "stream",
     "text": [
      "Epoch: 120/250, Loss: 171.2170, Val Precision: 0.0539, ACC: 0.0000\n"
     ]
    },
    {
     "name": "stdout",
     "output_type": "stream",
     "text": [
      "Epoch: 121/250, Loss: 171.2031, Val Precision: 0.0539, ACC: 0.0000\n"
     ]
    },
    {
     "name": "stdout",
     "output_type": "stream",
     "text": [
      "Epoch: 122/250, Loss: 171.1892, Val Precision: 0.0539, ACC: 0.0000\n"
     ]
    },
    {
     "name": "stdout",
     "output_type": "stream",
     "text": [
      "Epoch: 123/250, Loss: 171.1753, Val Precision: 0.0539, ACC: 0.0000\n"
     ]
    },
    {
     "name": "stdout",
     "output_type": "stream",
     "text": [
      "Epoch: 124/250, Loss: 171.1614, Val Precision: 0.0539, ACC: 0.0000\n"
     ]
    },
    {
     "name": "stdout",
     "output_type": "stream",
     "text": [
      "Epoch: 125/250, Loss: 171.1476, Val Precision: 0.0539, ACC: 0.0000\n"
     ]
    },
    {
     "name": "stdout",
     "output_type": "stream",
     "text": [
      "Epoch: 126/250, Loss: 171.1337, Val Precision: 0.0540, ACC: 0.0000\n"
     ]
    },
    {
     "name": "stdout",
     "output_type": "stream",
     "text": [
      "Epoch: 127/250, Loss: 171.1198, Val Precision: 0.0540, ACC: 0.0000\n"
     ]
    },
    {
     "name": "stdout",
     "output_type": "stream",
     "text": [
      "Epoch: 128/250, Loss: 171.1059, Val Precision: 0.0540, ACC: 0.0000\n"
     ]
    },
    {
     "name": "stdout",
     "output_type": "stream",
     "text": [
      "Epoch: 129/250, Loss: 171.0920, Val Precision: 0.0540, ACC: 0.0000\n"
     ]
    },
    {
     "name": "stdout",
     "output_type": "stream",
     "text": [
      "Epoch: 130/250, Loss: 171.0781, Val Precision: 0.0540, ACC: 0.0000\n"
     ]
    },
    {
     "name": "stdout",
     "output_type": "stream",
     "text": [
      "Epoch: 131/250, Loss: 171.0642, Val Precision: 0.0540, ACC: 0.0000\n"
     ]
    },
    {
     "name": "stdout",
     "output_type": "stream",
     "text": [
      "Epoch: 132/250, Loss: 171.0504, Val Precision: 0.0540, ACC: 0.0000\n"
     ]
    },
    {
     "name": "stdout",
     "output_type": "stream",
     "text": [
      "Epoch: 133/250, Loss: 171.0365, Val Precision: 0.0540, ACC: 0.0000\n"
     ]
    },
    {
     "name": "stdout",
     "output_type": "stream",
     "text": [
      "Epoch: 134/250, Loss: 171.0226, Val Precision: 0.0539, ACC: 0.0000\n"
     ]
    },
    {
     "name": "stdout",
     "output_type": "stream",
     "text": [
      "Epoch: 135/250, Loss: 171.0087, Val Precision: 0.0539, ACC: 0.0000\n"
     ]
    },
    {
     "name": "stdout",
     "output_type": "stream",
     "text": [
      "Epoch: 136/250, Loss: 170.9948, Val Precision: 0.0539, ACC: 0.0000\n"
     ]
    },
    {
     "name": "stdout",
     "output_type": "stream",
     "text": [
      "Epoch: 137/250, Loss: 170.9810, Val Precision: 0.0540, ACC: 0.0000\n"
     ]
    },
    {
     "name": "stdout",
     "output_type": "stream",
     "text": [
      "Epoch: 138/250, Loss: 170.9671, Val Precision: 0.0540, ACC: 0.0000\n"
     ]
    },
    {
     "name": "stdout",
     "output_type": "stream",
     "text": [
      "Epoch: 139/250, Loss: 170.9532, Val Precision: 0.0540, ACC: 0.0000\n"
     ]
    },
    {
     "name": "stdout",
     "output_type": "stream",
     "text": [
      "Epoch: 140/250, Loss: 170.9394, Val Precision: 0.0540, ACC: 0.0000\n"
     ]
    },
    {
     "name": "stdout",
     "output_type": "stream",
     "text": [
      "Epoch: 141/250, Loss: 170.9255, Val Precision: 0.0540, ACC: 0.0000\n"
     ]
    },
    {
     "name": "stdout",
     "output_type": "stream",
     "text": [
      "Epoch: 142/250, Loss: 170.9116, Val Precision: 0.0540, ACC: 0.0000\n"
     ]
    },
    {
     "name": "stdout",
     "output_type": "stream",
     "text": [
      "Epoch: 143/250, Loss: 170.8978, Val Precision: 0.0540, ACC: 0.0000\n"
     ]
    },
    {
     "name": "stdout",
     "output_type": "stream",
     "text": [
      "Epoch: 144/250, Loss: 170.8839, Val Precision: 0.0540, ACC: 0.0000\n"
     ]
    },
    {
     "name": "stdout",
     "output_type": "stream",
     "text": [
      "Epoch: 145/250, Loss: 170.8700, Val Precision: 0.0540, ACC: 0.0000\n"
     ]
    },
    {
     "name": "stdout",
     "output_type": "stream",
     "text": [
      "Epoch: 146/250, Loss: 170.8562, Val Precision: 0.0539, ACC: 0.0000\n"
     ]
    },
    {
     "name": "stdout",
     "output_type": "stream",
     "text": [
      "Epoch: 147/250, Loss: 170.8423, Val Precision: 0.0539, ACC: 0.0000\n"
     ]
    },
    {
     "name": "stdout",
     "output_type": "stream",
     "text": [
      "Epoch: 148/250, Loss: 170.8284, Val Precision: 0.0540, ACC: 0.0000\n"
     ]
    },
    {
     "name": "stdout",
     "output_type": "stream",
     "text": [
      "Epoch: 149/250, Loss: 170.8146, Val Precision: 0.0540, ACC: 0.0000\n"
     ]
    },
    {
     "name": "stdout",
     "output_type": "stream",
     "text": [
      "Epoch: 150/250, Loss: 170.8008, Val Precision: 0.0540, ACC: 0.0000\n"
     ]
    },
    {
     "name": "stdout",
     "output_type": "stream",
     "text": [
      "Epoch: 151/250, Loss: 170.7869, Val Precision: 0.0540, ACC: 0.0000\n"
     ]
    },
    {
     "name": "stdout",
     "output_type": "stream",
     "text": [
      "Epoch: 152/250, Loss: 170.7730, Val Precision: 0.0540, ACC: 0.0000\n"
     ]
    },
    {
     "name": "stdout",
     "output_type": "stream",
     "text": [
      "Epoch: 153/250, Loss: 170.7592, Val Precision: 0.0540, ACC: 0.0000\n"
     ]
    },
    {
     "name": "stdout",
     "output_type": "stream",
     "text": [
      "Epoch: 154/250, Loss: 170.7453, Val Precision: 0.0540, ACC: 0.0000\n"
     ]
    },
    {
     "name": "stdout",
     "output_type": "stream",
     "text": [
      "Epoch: 155/250, Loss: 170.7315, Val Precision: 0.0540, ACC: 0.0000\n"
     ]
    },
    {
     "name": "stdout",
     "output_type": "stream",
     "text": [
      "Epoch: 156/250, Loss: 170.7176, Val Precision: 0.0541, ACC: 0.0000\n"
     ]
    },
    {
     "name": "stdout",
     "output_type": "stream",
     "text": [
      "Epoch: 157/250, Loss: 170.7038, Val Precision: 0.0540, ACC: 0.0000\n"
     ]
    },
    {
     "name": "stdout",
     "output_type": "stream",
     "text": [
      "Epoch: 158/250, Loss: 170.6899, Val Precision: 0.0540, ACC: 0.0000\n"
     ]
    },
    {
     "name": "stdout",
     "output_type": "stream",
     "text": [
      "Epoch: 159/250, Loss: 170.6761, Val Precision: 0.0540, ACC: 0.0000\n"
     ]
    },
    {
     "name": "stdout",
     "output_type": "stream",
     "text": [
      "Epoch: 160/250, Loss: 170.6622, Val Precision: 0.0539, ACC: 0.0000\n"
     ]
    },
    {
     "name": "stdout",
     "output_type": "stream",
     "text": [
      "Epoch: 161/250, Loss: 170.6484, Val Precision: 0.0539, ACC: 0.0000\n"
     ]
    },
    {
     "name": "stdout",
     "output_type": "stream",
     "text": [
      "Epoch: 162/250, Loss: 170.6345, Val Precision: 0.0539, ACC: 0.0000\n"
     ]
    },
    {
     "name": "stdout",
     "output_type": "stream",
     "text": [
      "Epoch: 163/250, Loss: 170.6207, Val Precision: 0.0539, ACC: 0.0000\n"
     ]
    },
    {
     "name": "stdout",
     "output_type": "stream",
     "text": [
      "Epoch: 164/250, Loss: 170.6068, Val Precision: 0.0539, ACC: 0.0000\n"
     ]
    },
    {
     "name": "stdout",
     "output_type": "stream",
     "text": [
      "Epoch: 165/250, Loss: 170.5930, Val Precision: 0.0539, ACC: 0.0000\n"
     ]
    },
    {
     "name": "stdout",
     "output_type": "stream",
     "text": [
      "Epoch: 166/250, Loss: 170.5791, Val Precision: 0.0540, ACC: 0.0000\n"
     ]
    },
    {
     "name": "stdout",
     "output_type": "stream",
     "text": [
      "Epoch: 167/250, Loss: 170.5653, Val Precision: 0.0540, ACC: 0.0000\n"
     ]
    },
    {
     "name": "stdout",
     "output_type": "stream",
     "text": [
      "Epoch: 168/250, Loss: 170.5515, Val Precision: 0.0540, ACC: 0.0000\n"
     ]
    },
    {
     "name": "stdout",
     "output_type": "stream",
     "text": [
      "Epoch: 169/250, Loss: 170.5376, Val Precision: 0.0541, ACC: 0.0000\n"
     ]
    },
    {
     "name": "stdout",
     "output_type": "stream",
     "text": [
      "Epoch: 170/250, Loss: 170.5238, Val Precision: 0.0541, ACC: 0.0000\n"
     ]
    },
    {
     "name": "stdout",
     "output_type": "stream",
     "text": [
      "Epoch: 171/250, Loss: 170.5099, Val Precision: 0.0541, ACC: 0.0000\n"
     ]
    },
    {
     "name": "stdout",
     "output_type": "stream",
     "text": [
      "Epoch: 172/250, Loss: 170.4961, Val Precision: 0.0541, ACC: 0.0000\n"
     ]
    },
    {
     "name": "stdout",
     "output_type": "stream",
     "text": [
      "Epoch: 173/250, Loss: 170.4823, Val Precision: 0.0541, ACC: 0.0000\n"
     ]
    },
    {
     "name": "stdout",
     "output_type": "stream",
     "text": [
      "Epoch: 174/250, Loss: 170.4684, Val Precision: 0.0542, ACC: 0.0000\n"
     ]
    },
    {
     "name": "stdout",
     "output_type": "stream",
     "text": [
      "Epoch: 175/250, Loss: 170.4546, Val Precision: 0.0542, ACC: 0.0000\n"
     ]
    },
    {
     "name": "stdout",
     "output_type": "stream",
     "text": [
      "Epoch: 176/250, Loss: 170.4408, Val Precision: 0.0541, ACC: 0.0000\n"
     ]
    },
    {
     "name": "stdout",
     "output_type": "stream",
     "text": [
      "Epoch: 177/250, Loss: 170.4269, Val Precision: 0.0540, ACC: 0.0000\n"
     ]
    },
    {
     "name": "stdout",
     "output_type": "stream",
     "text": [
      "Epoch: 178/250, Loss: 170.4131, Val Precision: 0.0540, ACC: 0.0000\n"
     ]
    },
    {
     "name": "stdout",
     "output_type": "stream",
     "text": [
      "Epoch: 179/250, Loss: 170.3993, Val Precision: 0.0541, ACC: 0.0000\n"
     ]
    },
    {
     "name": "stdout",
     "output_type": "stream",
     "text": [
      "Epoch: 180/250, Loss: 170.3854, Val Precision: 0.0540, ACC: 0.0000\n"
     ]
    },
    {
     "name": "stdout",
     "output_type": "stream",
     "text": [
      "Epoch: 181/250, Loss: 170.3716, Val Precision: 0.0541, ACC: 0.0000\n"
     ]
    },
    {
     "name": "stdout",
     "output_type": "stream",
     "text": [
      "Epoch: 182/250, Loss: 170.3578, Val Precision: 0.0540, ACC: 0.0000\n"
     ]
    },
    {
     "name": "stdout",
     "output_type": "stream",
     "text": [
      "Epoch: 183/250, Loss: 170.3440, Val Precision: 0.0540, ACC: 0.0000\n"
     ]
    },
    {
     "name": "stdout",
     "output_type": "stream",
     "text": [
      "Epoch: 184/250, Loss: 170.3301, Val Precision: 0.0538, ACC: 0.0000\n"
     ]
    },
    {
     "name": "stdout",
     "output_type": "stream",
     "text": [
      "Epoch: 185/250, Loss: 170.3163, Val Precision: 0.0538, ACC: 0.0000\n"
     ]
    },
    {
     "name": "stdout",
     "output_type": "stream",
     "text": [
      "Epoch: 186/250, Loss: 170.3025, Val Precision: 0.0538, ACC: 0.0000\n"
     ]
    },
    {
     "name": "stdout",
     "output_type": "stream",
     "text": [
      "Epoch: 187/250, Loss: 170.2887, Val Precision: 0.0538, ACC: 0.0000\n"
     ]
    },
    {
     "name": "stdout",
     "output_type": "stream",
     "text": [
      "Epoch: 188/250, Loss: 170.2748, Val Precision: 0.0538, ACC: 0.0000\n"
     ]
    },
    {
     "name": "stdout",
     "output_type": "stream",
     "text": [
      "Epoch: 189/250, Loss: 170.2610, Val Precision: 0.0539, ACC: 0.0000\n"
     ]
    },
    {
     "name": "stdout",
     "output_type": "stream",
     "text": [
      "Epoch: 190/250, Loss: 170.2472, Val Precision: 0.0539, ACC: 0.0000\n"
     ]
    },
    {
     "name": "stdout",
     "output_type": "stream",
     "text": [
      "Epoch: 191/250, Loss: 170.2334, Val Precision: 0.0539, ACC: 0.0000\n"
     ]
    },
    {
     "name": "stdout",
     "output_type": "stream",
     "text": [
      "Epoch: 192/250, Loss: 170.2196, Val Precision: 0.0539, ACC: 0.0000\n"
     ]
    },
    {
     "name": "stdout",
     "output_type": "stream",
     "text": [
      "Epoch: 193/250, Loss: 170.2057, Val Precision: 0.0539, ACC: 0.0000\n"
     ]
    },
    {
     "name": "stdout",
     "output_type": "stream",
     "text": [
      "Epoch: 194/250, Loss: 170.1919, Val Precision: 0.0540, ACC: 0.0000\n"
     ]
    },
    {
     "name": "stdout",
     "output_type": "stream",
     "text": [
      "Epoch: 195/250, Loss: 170.1781, Val Precision: 0.0540, ACC: 0.0000\n"
     ]
    },
    {
     "name": "stdout",
     "output_type": "stream",
     "text": [
      "Epoch: 196/250, Loss: 170.1643, Val Precision: 0.0540, ACC: 0.0000\n"
     ]
    },
    {
     "name": "stdout",
     "output_type": "stream",
     "text": [
      "Epoch: 197/250, Loss: 170.1505, Val Precision: 0.0540, ACC: 0.0000\n"
     ]
    },
    {
     "name": "stdout",
     "output_type": "stream",
     "text": [
      "Epoch: 198/250, Loss: 170.1367, Val Precision: 0.0540, ACC: 0.0000\n"
     ]
    },
    {
     "name": "stdout",
     "output_type": "stream",
     "text": [
      "Epoch: 199/250, Loss: 170.1229, Val Precision: 0.0541, ACC: 0.0000\n"
     ]
    },
    {
     "name": "stdout",
     "output_type": "stream",
     "text": [
      "Epoch: 200/250, Loss: 170.1090, Val Precision: 0.0541, ACC: 0.0000\n"
     ]
    },
    {
     "name": "stdout",
     "output_type": "stream",
     "text": [
      "Epoch: 201/250, Loss: 170.0952, Val Precision: 0.0541, ACC: 0.0000\n"
     ]
    },
    {
     "name": "stdout",
     "output_type": "stream",
     "text": [
      "Epoch: 202/250, Loss: 170.0814, Val Precision: 0.0542, ACC: 0.0000\n"
     ]
    },
    {
     "name": "stdout",
     "output_type": "stream",
     "text": [
      "Epoch: 203/250, Loss: 170.0676, Val Precision: 0.0542, ACC: 0.0000\n"
     ]
    },
    {
     "name": "stdout",
     "output_type": "stream",
     "text": [
      "Epoch: 204/250, Loss: 170.0538, Val Precision: 0.0540, ACC: 0.0000\n"
     ]
    },
    {
     "name": "stdout",
     "output_type": "stream",
     "text": [
      "Epoch: 205/250, Loss: 170.0400, Val Precision: 0.0540, ACC: 0.0000\n"
     ]
    },
    {
     "name": "stdout",
     "output_type": "stream",
     "text": [
      "Epoch: 206/250, Loss: 170.0262, Val Precision: 0.0540, ACC: 0.0000\n"
     ]
    },
    {
     "name": "stdout",
     "output_type": "stream",
     "text": [
      "Epoch: 207/250, Loss: 170.0124, Val Precision: 0.0540, ACC: 0.0000\n"
     ]
    },
    {
     "name": "stdout",
     "output_type": "stream",
     "text": [
      "Epoch: 208/250, Loss: 169.9986, Val Precision: 0.0540, ACC: 0.0000\n"
     ]
    },
    {
     "name": "stdout",
     "output_type": "stream",
     "text": [
      "Epoch: 209/250, Loss: 169.9848, Val Precision: 0.0540, ACC: 0.0000\n"
     ]
    },
    {
     "name": "stdout",
     "output_type": "stream",
     "text": [
      "Epoch: 210/250, Loss: 169.9710, Val Precision: 0.0538, ACC: 0.0000\n"
     ]
    },
    {
     "name": "stdout",
     "output_type": "stream",
     "text": [
      "Epoch: 211/250, Loss: 169.9572, Val Precision: 0.0539, ACC: 0.0000\n"
     ]
    },
    {
     "name": "stdout",
     "output_type": "stream",
     "text": [
      "Epoch: 212/250, Loss: 169.9434, Val Precision: 0.0539, ACC: 0.0000\n"
     ]
    },
    {
     "name": "stdout",
     "output_type": "stream",
     "text": [
      "Epoch: 213/250, Loss: 169.9296, Val Precision: 0.0540, ACC: 0.0000\n"
     ]
    },
    {
     "name": "stdout",
     "output_type": "stream",
     "text": [
      "Epoch: 214/250, Loss: 169.9158, Val Precision: 0.0534, ACC: 0.0000\n"
     ]
    },
    {
     "name": "stdout",
     "output_type": "stream",
     "text": [
      "Epoch: 215/250, Loss: 169.9020, Val Precision: 0.0534, ACC: 0.0000\n"
     ]
    },
    {
     "name": "stdout",
     "output_type": "stream",
     "text": [
      "Epoch: 216/250, Loss: 169.8882, Val Precision: 0.0530, ACC: 0.0000\n"
     ]
    },
    {
     "name": "stdout",
     "output_type": "stream",
     "text": [
      "Epoch: 217/250, Loss: 169.8744, Val Precision: 0.0531, ACC: 0.0000\n"
     ]
    },
    {
     "name": "stdout",
     "output_type": "stream",
     "text": [
      "Epoch: 218/250, Loss: 169.8606, Val Precision: 0.0531, ACC: 0.0000\n"
     ]
    },
    {
     "name": "stdout",
     "output_type": "stream",
     "text": [
      "Epoch: 219/250, Loss: 169.8468, Val Precision: 0.0529, ACC: 0.0000\n"
     ]
    },
    {
     "name": "stdout",
     "output_type": "stream",
     "text": [
      "Epoch: 220/250, Loss: 169.8330, Val Precision: 0.0529, ACC: 0.0000\n"
     ]
    },
    {
     "name": "stdout",
     "output_type": "stream",
     "text": [
      "Epoch: 221/250, Loss: 169.8193, Val Precision: 0.0529, ACC: 0.0000\n"
     ]
    },
    {
     "name": "stdout",
     "output_type": "stream",
     "text": [
      "Epoch: 222/250, Loss: 169.8055, Val Precision: 0.0529, ACC: 0.0000\n"
     ]
    },
    {
     "name": "stdout",
     "output_type": "stream",
     "text": [
      "Epoch: 223/250, Loss: 169.7917, Val Precision: 0.0529, ACC: 0.0000\n"
     ]
    },
    {
     "name": "stdout",
     "output_type": "stream",
     "text": [
      "Epoch: 224/250, Loss: 169.7779, Val Precision: 0.0529, ACC: 0.0000\n"
     ]
    },
    {
     "name": "stdout",
     "output_type": "stream",
     "text": [
      "Epoch: 225/250, Loss: 169.7641, Val Precision: 0.0530, ACC: 0.0000\n"
     ]
    },
    {
     "name": "stdout",
     "output_type": "stream",
     "text": [
      "Epoch: 226/250, Loss: 169.7503, Val Precision: 0.0530, ACC: 0.0000\n"
     ]
    },
    {
     "name": "stdout",
     "output_type": "stream",
     "text": [
      "Epoch: 227/250, Loss: 169.7365, Val Precision: 0.0530, ACC: 0.0000\n"
     ]
    },
    {
     "name": "stdout",
     "output_type": "stream",
     "text": [
      "Epoch: 228/250, Loss: 169.7227, Val Precision: 0.0530, ACC: 0.0000\n"
     ]
    },
    {
     "name": "stdout",
     "output_type": "stream",
     "text": [
      "Epoch: 229/250, Loss: 169.7090, Val Precision: 0.0530, ACC: 0.0000\n"
     ]
    },
    {
     "name": "stdout",
     "output_type": "stream",
     "text": [
      "Epoch: 230/250, Loss: 169.6951, Val Precision: 0.0530, ACC: 0.0000\n"
     ]
    },
    {
     "name": "stdout",
     "output_type": "stream",
     "text": [
      "Epoch: 231/250, Loss: 169.6814, Val Precision: 0.0530, ACC: 0.0000\n"
     ]
    },
    {
     "name": "stdout",
     "output_type": "stream",
     "text": [
      "Epoch: 232/250, Loss: 169.6676, Val Precision: 0.0530, ACC: 0.0000\n"
     ]
    },
    {
     "name": "stdout",
     "output_type": "stream",
     "text": [
      "Epoch: 233/250, Loss: 169.6538, Val Precision: 0.0530, ACC: 0.0000\n"
     ]
    },
    {
     "name": "stdout",
     "output_type": "stream",
     "text": [
      "Epoch: 234/250, Loss: 169.6400, Val Precision: 0.0530, ACC: 0.0000\n"
     ]
    },
    {
     "name": "stdout",
     "output_type": "stream",
     "text": [
      "Epoch: 235/250, Loss: 169.6263, Val Precision: 0.0530, ACC: 0.0000\n"
     ]
    },
    {
     "name": "stdout",
     "output_type": "stream",
     "text": [
      "Epoch: 236/250, Loss: 169.6125, Val Precision: 0.0530, ACC: 0.0000\n"
     ]
    },
    {
     "name": "stdout",
     "output_type": "stream",
     "text": [
      "Epoch: 237/250, Loss: 169.5987, Val Precision: 0.0530, ACC: 0.0000\n"
     ]
    },
    {
     "name": "stdout",
     "output_type": "stream",
     "text": [
      "Epoch: 238/250, Loss: 169.5849, Val Precision: 0.0530, ACC: 0.0000\n"
     ]
    },
    {
     "name": "stdout",
     "output_type": "stream",
     "text": [
      "Epoch: 239/250, Loss: 169.5712, Val Precision: 0.0530, ACC: 0.0000\n"
     ]
    },
    {
     "name": "stdout",
     "output_type": "stream",
     "text": [
      "Epoch: 240/250, Loss: 169.5574, Val Precision: 0.0530, ACC: 0.0000\n"
     ]
    },
    {
     "name": "stdout",
     "output_type": "stream",
     "text": [
      "Epoch: 241/250, Loss: 169.5436, Val Precision: 0.0530, ACC: 0.0000\n"
     ]
    },
    {
     "name": "stdout",
     "output_type": "stream",
     "text": [
      "Epoch: 242/250, Loss: 169.5299, Val Precision: 0.0530, ACC: 0.0000\n"
     ]
    },
    {
     "name": "stdout",
     "output_type": "stream",
     "text": [
      "Epoch: 243/250, Loss: 169.5161, Val Precision: 0.0529, ACC: 0.0000\n"
     ]
    },
    {
     "name": "stdout",
     "output_type": "stream",
     "text": [
      "Epoch: 244/250, Loss: 169.5023, Val Precision: 0.0528, ACC: 0.0000\n"
     ]
    },
    {
     "name": "stdout",
     "output_type": "stream",
     "text": [
      "Epoch: 245/250, Loss: 169.4886, Val Precision: 0.0528, ACC: 0.0000\n"
     ]
    },
    {
     "name": "stdout",
     "output_type": "stream",
     "text": [
      "Epoch: 246/250, Loss: 169.4748, Val Precision: 0.0528, ACC: 0.0000\n"
     ]
    },
    {
     "name": "stdout",
     "output_type": "stream",
     "text": [
      "Epoch: 247/250, Loss: 169.4610, Val Precision: 0.0528, ACC: 0.0000\n"
     ]
    },
    {
     "name": "stdout",
     "output_type": "stream",
     "text": [
      "Epoch: 248/250, Loss: 169.4473, Val Precision: 0.0528, ACC: 0.0000\n"
     ]
    },
    {
     "name": "stdout",
     "output_type": "stream",
     "text": [
      "Epoch: 249/250, Loss: 169.4335, Val Precision: 0.0528, ACC: 0.0000\n"
     ]
    },
    {
     "name": "stdout",
     "output_type": "stream",
     "text": [
      "Epoch: 250/250, Loss: 169.4197, Val Precision: 0.0528, ACC: 0.0000\n"
     ]
    },
    {
     "name": "stdout",
     "output_type": "stream",
     "text": [
      "Test Precision: \n",
      "{'accuracy': 0.0, 'micro_precision': np.float64(0.0609764950129938), 'macro_precision': np.float64(0.051226646899701314), 'recall': np.float64(0.5249609154484897), 'f1_score': np.float64(0.08423828789022154), 'auc': np.float64(0.5042056081059512)}\n",
      "\t- Extracting and saving embeddings...\n"
     ]
    },
    {
     "name": "stdout",
     "output_type": "stream",
     "text": [
      "              precision    recall  f1-score   support\n",
      "\n",
      "     Class 0       0.06      0.51      0.11        92\n",
      "     Class 1       0.05      1.00      0.10        72\n",
      "     Class 2       0.04      0.47      0.07        43\n",
      "     Class 3       0.02      1.00      0.04        30\n",
      "     Class 4       0.02      1.00      0.03        23\n",
      "     Class 5       0.00      0.00      0.00        35\n",
      "     Class 6       0.09      0.52      0.16        96\n",
      "     Class 7       0.20      1.00      0.33       258\n",
      "     Class 8       0.25      0.61      0.35       290\n",
      "     Class 9       0.04      0.65      0.08        46\n",
      "    Class 10       0.03      0.75      0.06        24\n",
      "    Class 11       0.16      0.08      0.11       242\n",
      "    Class 12       0.02      0.29      0.04        55\n",
      "    Class 13       0.00      0.00      0.00        29\n",
      "    Class 14       0.18      1.00      0.30       232\n",
      "    Class 15       0.00      0.00      0.00        34\n",
      "    Class 16       0.05      1.00      0.09        64\n",
      "    Class 17       0.04      0.77      0.07        31\n",
      "    Class 18       0.00      0.00      0.00        31\n",
      "    Class 19       0.00      0.00      0.00        34\n",
      "    Class 20       0.03      1.00      0.06        42\n",
      "    Class 21       0.02      0.43      0.04        35\n",
      "    Class 22       0.06      0.47      0.10        94\n",
      "    Class 23       0.03      0.46      0.06        52\n",
      "    Class 24       0.01      0.15      0.02        39\n",
      "    Class 25       0.00      0.00      0.00        34\n",
      "    Class 26       0.04      1.00      0.08        52\n",
      "    Class 27       0.01      0.18      0.02        17\n",
      "    Class 28       0.39      0.50      0.44       426\n",
      "    Class 29       0.06      0.53      0.11        91\n",
      "    Class 30       0.09      1.00      0.16       117\n",
      "    Class 31       0.03      0.55      0.06        40\n",
      "    Class 32       0.04      1.00      0.08        57\n",
      "    Class 33       0.22      0.61      0.32       287\n",
      "    Class 34       0.05      0.62      0.09        42\n",
      "    Class 35       0.11      0.79      0.19       134\n",
      "    Class 36       0.02      0.55      0.04        33\n",
      "    Class 37       0.02      0.60      0.05        25\n",
      "    Class 38       0.00      0.00      0.00       327\n",
      "    Class 39       0.20      0.55      0.29       249\n",
      "    Class 40       0.02      0.42      0.03        24\n",
      "    Class 41       0.02      1.00      0.03        21\n",
      "    Class 42       0.02      1.00      0.04        28\n",
      "    Class 43       0.03      0.77      0.05        26\n",
      "    Class 44       0.02      1.00      0.04        29\n",
      "    Class 45       0.00      0.00      0.00        87\n",
      "    Class 46       0.05      0.97      0.09        38\n",
      "    Class 47       0.05      0.54      0.10        67\n",
      "    Class 48       0.04      0.34      0.07        73\n",
      "    Class 49       0.05      0.46      0.09        80\n",
      "    Class 50       0.00      0.00      0.00        59\n",
      "    Class 51       0.03      0.38      0.05        50\n",
      "    Class 52       0.00      0.00      0.00       231\n",
      "    Class 53       0.12      0.46      0.19       136\n",
      "    Class 54       0.02      0.42      0.03        26\n",
      "    Class 55       0.02      1.00      0.04        26\n",
      "    Class 56       0.04      0.98      0.07        48\n",
      "    Class 57       0.02      1.00      0.03        21\n",
      "    Class 58       0.00      0.00      0.00        23\n",
      "    Class 59       0.03      1.00      0.06        38\n",
      "    Class 60       0.19      0.52      0.28       196\n",
      "    Class 61       0.00      0.00      0.00        93\n",
      "    Class 62       0.08      1.00      0.14       102\n",
      "    Class 63       0.00      0.00      0.00        32\n",
      "    Class 64       0.00      0.00      0.00        50\n",
      "    Class 65       0.00      0.00      0.00        47\n",
      "    Class 66       0.08      1.00      0.14       100\n",
      "    Class 67       0.07      1.00      0.12        86\n",
      "    Class 68       0.00      0.00      0.00        86\n",
      "    Class 69       0.04      0.87      0.07        52\n",
      "    Class 70       0.07      1.00      0.14        96\n",
      "    Class 71       0.05      0.75      0.09        36\n",
      "    Class 72       0.10      0.61      0.17       109\n",
      "    Class 73       0.00      0.00      0.00        41\n",
      "    Class 74       0.01      0.21      0.02        28\n",
      "    Class 75       0.03      0.56      0.05        27\n",
      "    Class 76       0.05      1.00      0.09        60\n",
      "    Class 77       0.02      0.95      0.04        20\n",
      "    Class 78       0.02      0.56      0.04        27\n",
      "    Class 79       0.05      0.37      0.08        87\n",
      "    Class 80       0.06      0.13      0.08        67\n",
      "    Class 81       0.00      0.00      0.00        87\n",
      "    Class 82       0.06      0.48      0.10        90\n",
      "    Class 83       0.04      0.57      0.07        42\n",
      "    Class 84       0.00      0.00      0.00        38\n",
      "    Class 85       0.00      0.00      0.00       123\n",
      "    Class 86       0.00      0.00      0.00        69\n",
      "    Class 87       0.03      0.37      0.05        60\n",
      "    Class 88       0.07      0.37      0.11       151\n",
      "    Class 89       0.07      0.49      0.12       112\n",
      "    Class 90       0.03      0.39      0.05        56\n",
      "    Class 91       0.06      1.00      0.11        74\n",
      "    Class 92       0.16      0.75      0.27       161\n",
      "    Class 93       0.18      0.79      0.29       169\n",
      "    Class 94       0.00      0.00      0.00        37\n",
      "    Class 95       0.01      0.44      0.01         9\n",
      "    Class 96       0.11      0.50      0.18       128\n",
      "    Class 97       0.03      0.98      0.06        43\n",
      "    Class 98       0.04      1.00      0.07        46\n",
      "    Class 99       0.12      0.46      0.19       102\n",
      "\n",
      "   micro avg       0.06      0.52      0.11      8124\n",
      "   macro avg       0.05      0.52      0.08      8124\n",
      "weighted avg       0.10      0.52      0.15      8124\n",
      " samples avg       0.06      0.52      0.11      8124\n",
      "\n",
      "{'Class 0': {'precision': 0.06048906048906049, 'recall': 0.5108695652173914, 'f1-score': 0.10817031070195628, 'support': 92.0}, 'Class 1': {'precision': 0.05491990846681922, 'recall': 1.0, 'f1-score': 0.10412147505422993, 'support': 72.0}, 'Class 2': {'precision': 0.03663003663003663, 'recall': 0.46511627906976744, 'f1-score': 0.06791171477079797, 'support': 43.0}, 'Class 3': {'precision': 0.022900763358778626, 'recall': 1.0, 'f1-score': 0.04477611940298507, 'support': 30.0}, 'Class 4': {'precision': 0.017543859649122806, 'recall': 1.0, 'f1-score': 0.034482758620689655, 'support': 23.0}, 'Class 5': {'precision': 0.0, 'recall': 0.0, 'f1-score': 0.0, 'support': 35.0}, 'Class 6': {'precision': 0.09398496240601503, 'recall': 0.5208333333333334, 'f1-score': 0.1592356687898089, 'support': 96.0}, 'Class 7': {'precision': 0.19739862280030604, 'recall': 1.0, 'f1-score': 0.32971246006389776, 'support': 258.0}, 'Class 8': {'precision': 0.24964739069111425, 'recall': 0.6103448275862069, 'f1-score': 0.35435435435435436, 'support': 290.0}, 'Class 9': {'precision': 0.04341534008683068, 'recall': 0.6521739130434783, 'f1-score': 0.0814111261872456, 'support': 46.0}, 'Class 10': {'precision': 0.031578947368421054, 'recall': 0.75, 'f1-score': 0.06060606060606061, 'support': 24.0}, 'Class 11': {'precision': 0.15748031496062992, 'recall': 0.08264462809917356, 'f1-score': 0.10840108401084012, 'support': 242.0}, 'Class 12': {'precision': 0.02040816326530612, 'recall': 0.2909090909090909, 'f1-score': 0.03814064362336114, 'support': 55.0}, 'Class 13': {'precision': 0.0, 'recall': 0.0, 'f1-score': 0.0, 'support': 29.0}, 'Class 14': {'precision': 0.17696414950419528, 'recall': 1.0, 'f1-score': 0.30071289695398573, 'support': 232.0}, 'Class 15': {'precision': 0.0, 'recall': 0.0, 'f1-score': 0.0, 'support': 34.0}, 'Class 16': {'precision': 0.04881769641495042, 'recall': 1.0, 'f1-score': 0.09309090909090909, 'support': 64.0}, 'Class 17': {'precision': 0.03709428129829984, 'recall': 0.7741935483870968, 'f1-score': 0.07079646017699115, 'support': 31.0}, 'Class 18': {'precision': 0.0, 'recall': 0.0, 'f1-score': 0.0, 'support': 31.0}, 'Class 19': {'precision': 0.0, 'recall': 0.0, 'f1-score': 0.0, 'support': 34.0}, 'Class 20': {'precision': 0.032036613272311214, 'recall': 1.0, 'f1-score': 0.06208425720620843, 'support': 42.0}, 'Class 21': {'precision': 0.020080321285140562, 'recall': 0.42857142857142855, 'f1-score': 0.03836317135549872, 'support': 35.0}, 'Class 22': {'precision': 0.056265984654731455, 'recall': 0.46808510638297873, 'f1-score': 0.1004566210045662, 'support': 94.0}, 'Class 23': {'precision': 0.031007751937984496, 'recall': 0.46153846153846156, 'f1-score': 0.05811138014527845, 'support': 52.0}, 'Class 24': {'precision': 0.009950248756218905, 'recall': 0.15384615384615385, 'f1-score': 0.018691588785046728, 'support': 39.0}, 'Class 25': {'precision': 0.0, 'recall': 0.0, 'f1-score': 0.0, 'support': 34.0}, 'Class 26': {'precision': 0.03984674329501916, 'recall': 1.0, 'f1-score': 0.07663964627855564, 'support': 52.0}, 'Class 27': {'precision': 0.013157894736842105, 'recall': 0.17647058823529413, 'f1-score': 0.024489795918367346, 'support': 17.0}, 'Class 28': {'precision': 0.3885819521178637, 'recall': 0.4953051643192488, 'f1-score': 0.43550051599587203, 'support': 426.0}, 'Class 29': {'precision': 0.06349206349206349, 'recall': 0.5274725274725275, 'f1-score': 0.11334120425029516, 'support': 91.0}, 'Class 30': {'precision': 0.08924485125858124, 'recall': 1.0, 'f1-score': 0.1638655462184874, 'support': 117.0}, 'Class 31': {'precision': 0.030261348005502064, 'recall': 0.55, 'f1-score': 0.05736636245110821, 'support': 40.0}, 'Class 32': {'precision': 0.04351145038167939, 'recall': 1.0, 'f1-score': 0.08339429407461595, 'support': 57.0}, 'Class 33': {'precision': 0.21604938271604937, 'recall': 0.6097560975609756, 'f1-score': 0.31905195989061075, 'support': 287.0}, 'Class 34': {'precision': 0.045936395759717315, 'recall': 0.6190476190476191, 'f1-score': 0.08552631578947369, 'support': 42.0}, 'Class 35': {'precision': 0.10961737331954498, 'recall': 0.7910447761194029, 'f1-score': 0.19255222524977295, 'support': 134.0}, 'Class 36': {'precision': 0.022929936305732482, 'recall': 0.5454545454545454, 'f1-score': 0.044009779951100246, 'support': 33.0}, 'Class 37': {'precision': 0.024671052631578948, 'recall': 0.6, 'f1-score': 0.04739336492890995, 'support': 25.0}, 'Class 38': {'precision': 0.0, 'recall': 0.0, 'f1-score': 0.0, 'support': 327.0}, 'Class 39': {'precision': 0.19738751814223512, 'recall': 0.5461847389558233, 'f1-score': 0.2899786780383795, 'support': 249.0}, 'Class 40': {'precision': 0.017761989342806393, 'recall': 0.4166666666666667, 'f1-score': 0.034071550255536626, 'support': 24.0}, 'Class 41': {'precision': 0.016042780748663103, 'recall': 1.0, 'f1-score': 0.031578947368421054, 'support': 21.0}, 'Class 42': {'precision': 0.02135774218154081, 'recall': 1.0, 'f1-score': 0.041822255414488425, 'support': 28.0}, 'Class 43': {'precision': 0.02699055330634278, 'recall': 0.7692307692307693, 'f1-score': 0.05215123859191656, 'support': 26.0}, 'Class 44': {'precision': 0.02212051868802441, 'recall': 1.0, 'f1-score': 0.04328358208955224, 'support': 29.0}, 'Class 45': {'precision': 0.0, 'recall': 0.0, 'f1-score': 0.0, 'support': 87.0}, 'Class 46': {'precision': 0.04625, 'recall': 0.9736842105263158, 'f1-score': 0.0883054892601432, 'support': 38.0}, 'Class 47': {'precision': 0.05341246290801187, 'recall': 0.5373134328358209, 'f1-score': 0.09716599190283401, 'support': 67.0}, 'Class 48': {'precision': 0.04038772213247173, 'recall': 0.3424657534246575, 'f1-score': 0.07225433526011561, 'support': 73.0}, 'Class 49': {'precision': 0.04946524064171123, 'recall': 0.4625, 'f1-score': 0.0893719806763285, 'support': 80.0}, 'Class 50': {'precision': 0.0, 'recall': 0.0, 'f1-score': 0.0, 'support': 59.0}, 'Class 51': {'precision': 0.02509907529722589, 'recall': 0.38, 'f1-score': 0.04708798017348203, 'support': 50.0}, 'Class 52': {'precision': 0.0, 'recall': 0.0, 'f1-score': 0.0, 'support': 231.0}, 'Class 53': {'precision': 0.11688311688311688, 'recall': 0.4632352941176471, 'f1-score': 0.18666666666666668, 'support': 136.0}, 'Class 54': {'precision': 0.015804597701149427, 'recall': 0.4230769230769231, 'f1-score': 0.030470914127423823, 'support': 26.0}, 'Class 55': {'precision': 0.019832189168573607, 'recall': 1.0, 'f1-score': 0.03889304412864622, 'support': 26.0}, 'Class 56': {'precision': 0.03824247355573637, 'recall': 0.9791666666666666, 'f1-score': 0.07361002349256068, 'support': 48.0}, 'Class 57': {'precision': 0.016018306636155607, 'recall': 1.0, 'f1-score': 0.03153153153153153, 'support': 21.0}, 'Class 58': {'precision': 0.0, 'recall': 0.0, 'f1-score': 0.0, 'support': 23.0}, 'Class 59': {'precision': 0.028985507246376812, 'recall': 1.0, 'f1-score': 0.056338028169014086, 'support': 38.0}, 'Class 60': {'precision': 0.19318181818181818, 'recall': 0.5204081632653061, 'f1-score': 0.281767955801105, 'support': 196.0}, 'Class 61': {'precision': 0.0, 'recall': 0.0, 'f1-score': 0.0, 'support': 93.0}, 'Class 62': {'precision': 0.07780320366132723, 'recall': 1.0, 'f1-score': 0.14437367303609341, 'support': 102.0}, 'Class 63': {'precision': 0.0, 'recall': 0.0, 'f1-score': 0.0, 'support': 32.0}, 'Class 64': {'precision': 0.0, 'recall': 0.0, 'f1-score': 0.0, 'support': 50.0}, 'Class 65': {'precision': 0.0, 'recall': 0.0, 'f1-score': 0.0, 'support': 47.0}, 'Class 66': {'precision': 0.07627765064836003, 'recall': 1.0, 'f1-score': 0.14174344436569808, 'support': 100.0}, 'Class 67': {'precision': 0.06559877955758962, 'recall': 1.0, 'f1-score': 0.1231209735146743, 'support': 86.0}, 'Class 68': {'precision': 0.0, 'recall': 0.0, 'f1-score': 0.0, 'support': 86.0}, 'Class 69': {'precision': 0.03501945525291829, 'recall': 0.8653846153846154, 'f1-score': 0.06731488406881077, 'support': 52.0}, 'Class 70': {'precision': 0.07322654462242563, 'recall': 1.0, 'f1-score': 0.13646055437100213, 'support': 96.0}, 'Class 71': {'precision': 0.04847396768402154, 'recall': 0.75, 'f1-score': 0.09106239460370995, 'support': 36.0}, 'Class 72': {'precision': 0.09738372093023256, 'recall': 0.6146788990825688, 'f1-score': 0.16813048933500627, 'support': 109.0}, 'Class 73': {'precision': 0.0, 'recall': 0.0, 'f1-score': 0.0, 'support': 41.0}, 'Class 74': {'precision': 0.008119079837618403, 'recall': 0.21428571428571427, 'f1-score': 0.01564537157757497, 'support': 28.0}, 'Class 75': {'precision': 0.02617801047120419, 'recall': 0.5555555555555556, 'f1-score': 0.05, 'support': 27.0}, 'Class 76': {'precision': 0.04576659038901602, 'recall': 1.0, 'f1-score': 0.087527352297593, 'support': 60.0}, 'Class 77': {'precision': 0.020105820105820106, 'recall': 0.95, 'f1-score': 0.039378238341968914, 'support': 20.0}, 'Class 78': {'precision': 0.020080321285140562, 'recall': 0.5555555555555556, 'f1-score': 0.03875968992248062, 'support': 27.0}, 'Class 79': {'precision': 0.04526166902404526, 'recall': 0.367816091954023, 'f1-score': 0.08060453400503778, 'support': 87.0}, 'Class 80': {'precision': 0.06164383561643835, 'recall': 0.13432835820895522, 'f1-score': 0.08450704225352113, 'support': 67.0}, 'Class 81': {'precision': 0.0, 'recall': 0.0, 'f1-score': 0.0, 'support': 87.0}, 'Class 82': {'precision': 0.056878306878306875, 'recall': 0.4777777777777778, 'f1-score': 0.1016548463356974, 'support': 90.0}, 'Class 83': {'precision': 0.03519061583577713, 'recall': 0.5714285714285714, 'f1-score': 0.06629834254143646, 'support': 42.0}, 'Class 84': {'precision': 0.0, 'recall': 0.0, 'f1-score': 0.0, 'support': 38.0}, 'Class 85': {'precision': 0.0, 'recall': 0.0, 'f1-score': 0.0, 'support': 123.0}, 'Class 86': {'precision': 0.0, 'recall': 0.0, 'f1-score': 0.0, 'support': 69.0}, 'Class 87': {'precision': 0.028423772609819122, 'recall': 0.36666666666666664, 'f1-score': 0.05275779376498801, 'support': 60.0}, 'Class 88': {'precision': 0.06746987951807229, 'recall': 0.3708609271523179, 'f1-score': 0.11416921508664628, 'support': 151.0}, 'Class 89': {'precision': 0.07042253521126761, 'recall': 0.49107142857142855, 'f1-score': 0.12318029115341546, 'support': 112.0}, 'Class 90': {'precision': 0.02781289506953224, 'recall': 0.39285714285714285, 'f1-score': 0.05194805194805195, 'support': 56.0}, 'Class 91': {'precision': 0.05644546147978642, 'recall': 1.0, 'f1-score': 0.10685920577617329, 'support': 74.0}, 'Class 92': {'precision': 0.16415868673050615, 'recall': 0.7453416149068323, 'f1-score': 0.26905829596412556, 'support': 161.0}, 'Class 93': {'precision': 0.17678100263852242, 'recall': 0.7928994082840237, 'f1-score': 0.2891046386192017, 'support': 169.0}, 'Class 94': {'precision': 0.0, 'recall': 0.0, 'f1-score': 0.0, 'support': 37.0}, 'Class 95': {'precision': 0.005221932114882507, 'recall': 0.4444444444444444, 'f1-score': 0.01032258064516129, 'support': 9.0}, 'Class 96': {'precision': 0.11347517730496454, 'recall': 0.5, 'f1-score': 0.18497109826589594, 'support': 128.0}, 'Class 97': {'precision': 0.03208556149732621, 'recall': 0.9767441860465116, 'f1-score': 0.0621301775147929, 'support': 43.0}, 'Class 98': {'precision': 0.03508771929824561, 'recall': 1.0, 'f1-score': 0.06779661016949153, 'support': 46.0}, 'Class 99': {'precision': 0.1211340206185567, 'recall': 0.46078431372549017, 'f1-score': 0.19183673469387755, 'support': 102.0}, 'micro avg': {'precision': 0.0609764950129938, 'recall': 0.51698670605613, 'f1-score': 0.10908665896133916, 'support': 8124.0}, 'macro avg': {'precision': 0.051226646899701314, 'recall': 0.5249609154484897, 'f1-score': 0.08423828789022154, 'support': 8124.0}, 'weighted avg': {'precision': 0.09917359092588698, 'recall': 0.51698670605613, 'f1-score': 0.14680371119931485, 'support': 8124.0}, 'samples avg': {'precision': 0.06133641214659989, 'recall': 0.5211024225766502, 'f1-score': 0.10542402151348534, 'support': 8124.0}}\n"
     ]
    },
    {
     "data": {
      "image/png": "[encoded data removed]",
      "text/plain": [
       "<Figure size 1500x800 with 2 Axes>"
      ]
     },
     "metadata": {},
     "output_type": "display_data"
    }
   ],
   "source": [
    "import sys, os\n",
    "\n",
    "sys.path.append('/home/almusawiaf/MyDocuments/PhD_Projects/PSG_SURVIVAL_ANALYSIS/HGNN/src2/GNN_model')\n",
    "from GNN_functions_patients_only import *\n",
    "\n",
    "if __name__ == \"__main__\":\n",
    "    disease_name = 'sample/5000'\n",
    "    num_Labels = 100\n",
    "    saving_path = f'/home/almusawiaf/MyDocuments/PhD_Projects/PSG_SURVIVAL_ANALYSIS/Data/{num_Labels}_Diagnoses/{disease_name}/HGNN_data'\n",
    "\n",
    "    GNN_model = OneLayerGCN\n",
    "    num_epochs = 250\n",
    "    num_Meta_Path = 12\n",
    "    with_SNF = False\n",
    "    super_class = ''\n",
    "    # super_class = '_sc'\n",
    "    \n",
    "    exp_name = f'{num_epochs}_epochs_SNF{super_class}'\n",
    "\n",
    "    losses, val_metrics = main(saving_path, \n",
    "                               GNN_Model=GNN_model, \n",
    "                               num_epochs = num_epochs,\n",
    "                               with_SNF = with_SNF,\n",
    "                               exp_name = exp_name,\n",
    "                               super_class = super_class, \n",
    "                               num_Meta_Path = num_Meta_Path)\n",
    "\n",
    "    plot_combined_metrics_and_loss(losses, val_metrics)\n",
    "\n",
    "    if with_SNF:\n",
    "        save_results(losses, val_metrics, f'{saving_path}/performance_SAGE_{num_epochs}_eps_SNF')\n",
    "    else:\n",
    "        save_results(losses, val_metrics, f'{saving_path}/performance_SAGE_{num_epochs}_eps')\n"
   ]
  }
 ],
 "metadata": {
  "kernelspec": {
   "display_name": "envGNN",
   "language": "python",
   "name": "python3"
  },
  "language_info": {
   "codemirror_mode": {
    "name": "ipython",
    "version": 3
   },
   "file_extension": ".py",
   "mimetype": "text/x-python",
   "name": "python",
   "nbconvert_exporter": "python",
   "pygments_lexer": "ipython3",
   "version": "3.11.5"
  }
 },
 "nbformat": 4,
 "nbformat_minor": 2
}
