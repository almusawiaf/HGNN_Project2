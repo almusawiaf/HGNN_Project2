{
 "cells": [
  {
   "cell_type": "code",
   "execution_count": 1,
   "metadata": {},
   "outputs": [
    {
     "ename": "ModuleNotFoundError",
     "evalue": "No module named 'cupy'",
     "output_type": "error",
     "traceback": [
      "\u001b[0;31m---------------------------------------------------------------------------\u001b[0m",
      "\u001b[0;31mModuleNotFoundError\u001b[0m                       Traceback (most recent call last)",
      "\u001b[1;32m/lustre/home/almusawiaf/PhD_Projects/HGNN_Project2/Data_Generation2/module1/matrix_multiplication.ipynb Cell 1\u001b[0m line \u001b[0;36m1\n\u001b[0;32m----> <a href='vscode-notebook-cell://athena3.hprc.vcu.edu/lustre/home/almusawiaf/PhD_Projects/HGNN_Project2/Data_Generation2/module1/matrix_multiplication.ipynb#W0sdnNjb2RlLXJlbW90ZQ%3D%3D?line=0'>1</a>\u001b[0m \u001b[39mimport\u001b[39;00m \u001b[39mcupy\u001b[39;00m \u001b[39mas\u001b[39;00m \u001b[39mcp\u001b[39;00m\n\u001b[1;32m      <a href='vscode-notebook-cell://athena3.hprc.vcu.edu/lustre/home/almusawiaf/PhD_Projects/HGNN_Project2/Data_Generation2/module1/matrix_multiplication.ipynb#W0sdnNjb2RlLXJlbW90ZQ%3D%3D?line=2'>3</a>\u001b[0m \u001b[39mdef\u001b[39;00m \u001b[39mmultiply_matrices_on_gpu\u001b[39m(A, B):\n\u001b[1;32m      <a href='vscode-notebook-cell://athena3.hprc.vcu.edu/lustre/home/almusawiaf/PhD_Projects/HGNN_Project2/Data_Generation2/module1/matrix_multiplication.ipynb#W0sdnNjb2RlLXJlbW90ZQ%3D%3D?line=3'>4</a>\u001b[0m \u001b[39m    \u001b[39m\u001b[39m\"\"\"\u001b[39;00m\n\u001b[1;32m      <a href='vscode-notebook-cell://athena3.hprc.vcu.edu/lustre/home/almusawiaf/PhD_Projects/HGNN_Project2/Data_Generation2/module1/matrix_multiplication.ipynb#W0sdnNjb2RlLXJlbW90ZQ%3D%3D?line=4'>5</a>\u001b[0m \u001b[39m    Multiplies two matrices A and B using GPU with CuPy.\u001b[39;00m\n\u001b[1;32m      <a href='vscode-notebook-cell://athena3.hprc.vcu.edu/lustre/home/almusawiaf/PhD_Projects/HGNN_Project2/Data_Generation2/module1/matrix_multiplication.ipynb#W0sdnNjb2RlLXJlbW90ZQ%3D%3D?line=5'>6</a>\u001b[0m \n\u001b[0;32m   (...)\u001b[0m\n\u001b[1;32m     <a href='vscode-notebook-cell://athena3.hprc.vcu.edu/lustre/home/almusawiaf/PhD_Projects/HGNN_Project2/Data_Generation2/module1/matrix_multiplication.ipynb#W0sdnNjb2RlLXJlbW90ZQ%3D%3D?line=14'>15</a>\u001b[0m \u001b[39m        Resulting matrix after multiplication.\u001b[39;00m\n\u001b[1;32m     <a href='vscode-notebook-cell://athena3.hprc.vcu.edu/lustre/home/almusawiaf/PhD_Projects/HGNN_Project2/Data_Generation2/module1/matrix_multiplication.ipynb#W0sdnNjb2RlLXJlbW90ZQ%3D%3D?line=15'>16</a>\u001b[0m \u001b[39m    \"\"\"\u001b[39;00m\n",
      "\u001b[0;31mModuleNotFoundError\u001b[0m: No module named 'cupy'"
     ]
    }
   ],
   "source": [
    "# envCUDA\n",
    "\n",
    "import cupy as cp\n",
    "\n",
    "def multiply_matrices_on_gpu(A, B):\n",
    "    \"\"\"\n",
    "    Multiplies two matrices A and B using GPU with CuPy.\n",
    "\n",
    "    Parameters:\n",
    "    A : ndarray or sparse matrix\n",
    "        First matrix.\n",
    "    B : ndarray or sparse matrix\n",
    "        Second matrix.\n",
    "\n",
    "    Returns:\n",
    "    result : ndarray\n",
    "        Resulting matrix after multiplication.\n",
    "    \"\"\"\n",
    "    # Convert matrices to GPU arrays (CuPy arrays)\n",
    "    A_gpu = cp.array(A)  # Automatically transfers A to GPU\n",
    "    B_gpu = cp.array(B)  # Automatically transfers B to GPU\n",
    "\n",
    "    # Perform matrix multiplication on the GPU\n",
    "    result_gpu = cp.dot(A_gpu, B_gpu)\n",
    "\n",
    "    # Transfer the result back to the CPU as a NumPy array\n",
    "    result = cp.asnumpy(result_gpu)\n",
    "\n",
    "    return result\n",
    "\n",
    "\n",
    "# Example usage:\n",
    "if __name__ == \"__main__\":\n",
    "    # Create two large random matrices (e.g., 1000x1000) for testing\n",
    "    A = np.random.rand(1000, 1000)\n",
    "    B = np.random.rand(1000, 1000)\n",
    "\n",
    "    # Multiply the matrices on the GPU\n",
    "    result = multiply_matrices_on_gpu(A, B)\n",
    "\n",
    "    print(\"Result of matrix multiplication on GPU:\")\n",
    "    print(result)\n"
   ]
  }
 ],
 "metadata": {
  "kernelspec": {
   "display_name": "envGNN2",
   "language": "python",
   "name": "python3"
  },
  "language_info": {
   "codemirror_mode": {
    "name": "ipython",
    "version": 3
   },
   "file_extension": ".py",
   "mimetype": "text/x-python",
   "name": "python",
   "nbconvert_exporter": "python",
   "pygments_lexer": "ipython3",
   "version": "3.11.8"
  }
 },
 "nbformat": 4,
 "nbformat_minor": 2
}
