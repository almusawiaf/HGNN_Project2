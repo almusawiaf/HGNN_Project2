{
 "cells": [
  {
   "cell_type": "markdown",
   "metadata": {},
   "source": [
    "# Generating the data\n",
    "1. Generate the Heterogeneous graph\n",
    "2. Generate the feature set from the clinical notes.\n",
    "3. Generate the Labels\n",
    "4. Generate the k-metapath-based similarity matrices\n",
    "5. Convert the As to edge-based."
   ]
  },
  {
   "cell_type": "code",
   "execution_count": 1,
   "metadata": {
    "execution": {
     "iopub.execute_input": "2024-10-01T13:26:26.022073Z",
     "iopub.status.busy": "2024-10-01T13:26:26.021766Z",
     "iopub.status.idle": "2024-10-01T13:26:26.029820Z",
     "shell.execute_reply": "2024-10-01T13:26:26.029373Z"
    }
   },
   "outputs": [],
   "source": [
    "class heterogeneous_Graph:\n",
    "    def __init__(self, G):\n",
    "        self.HG = G\n",
    "        Nodes = list(self.HG.nodes())\n",
    "        self.Patients =    [v for v in Nodes if v[0]=='C']\n",
    "        self.Visits =      [v for v in Nodes if v[0]=='V']\n",
    "        self.Medications = [v for v in Nodes if v[0]=='M']\n",
    "        self.Diagnoses  =  [v for v in Nodes if v[0]=='D']\n",
    "        self.Procedures =  [v for v in Nodes if v[0]=='P']\n",
    "        self.Labs       =  [v for v in Nodes if v[0]=='L']\n",
    "        self.MicroBio   =  [v for v in Nodes if v[0]=='B']\n",
    "        self.Nodes = self.Patients  + self.Visits + self.Medications + self.Diagnoses + self.Procedures + self.Labs + self.MicroBio\n",
    "        \n"
   ]
  },
  {
   "cell_type": "code",
   "execution_count": 2,
   "metadata": {
    "execution": {
     "iopub.execute_input": "2024-10-01T13:26:26.032122Z",
     "iopub.status.busy": "2024-10-01T13:26:26.031825Z",
     "iopub.status.idle": "2024-10-01T13:28:06.236696Z",
     "shell.execute_reply": "2024-10-01T13:28:06.236074Z"
    }
   },
   "outputs": [
    {
     "name": "stdout",
     "output_type": "stream",
     "text": [
      "203 DMPLB2 PC 500 True\n"
     ]
    }
   ],
   "source": [
    "import os\n",
    "import torch\n",
    "import networkx as nx\n",
    "import random\n",
    "\n",
    "\n",
    "def save_list_as_pickle(L, given_path, file_name):\n",
    "    import pickle\n",
    "    print(f'saving to {given_path}/{file_name}.pkl')\n",
    "    with open(f'{given_path}/{file_name}.pkl', 'wb') as file:\n",
    "        pickle.dump(L, file)\n",
    "\n",
    "\n",
    "num_Diseases    = int(os.getenv('NUM_DISEASES', 203))  \n",
    "DISEASE_FILE    = os.getenv('DISEASE_FILE', f'DMPLB2')  \n",
    "similarity_type = os.getenv('similarity_type', 'PC')  # options are PC: PathCount, SPS: Symmetric PathSim\n",
    "\n",
    "num_Sample      = int(os.getenv('num_Sample', 250))  \n",
    "r_u_sampling    = os.getenv('r_u_sampling', 'True')  \n",
    "SNF_ing         = os.getenv('SNF_ing', 'True')  \n",
    "\n",
    "\n",
    "if r_u_sampling=='True':\n",
    "    sampling = True\n",
    "else:\n",
    "    sampling = False\n",
    "\n",
    "if SNF_ing=='True':\n",
    "    SNF_ing = True\n",
    "else:\n",
    "    SNF_ing = False\n",
    "\n",
    "disease_data_path = '/lustre/home/almusawiaf/PhD_Projects/HGNN_Project2/Data'\n",
    "\n",
    "print(num_Diseases, DISEASE_FILE, similarity_type, num_Sample, sampling)\n"
   ]
  },
  {
   "cell_type": "code",
   "execution_count": 3,
   "metadata": {
    "execution": {
     "iopub.execute_input": "2024-10-01T13:28:06.274697Z",
     "iopub.status.busy": "2024-10-01T13:28:06.274182Z",
     "iopub.status.idle": "2024-10-01T13:31:26.544139Z",
     "shell.execute_reply": "2024-10-01T13:31:26.543526Z"
    }
   },
   "outputs": [],
   "source": [
    "# =================================================================================\n",
    "saving_path = f'{disease_data_path}/{num_Diseases}_Diagnoses/{DISEASE_FILE}/{num_Sample}'\n",
    "\n",
    "for p in ['HGNN_data', 'clinical_items', 'GMLs', 'OHV', 'PSGs', 'SNFs']:\n",
    "    os.makedirs(f'{saving_path}/{p}', exist_ok=True)\n",
    "\n",
    "saving_path = f'{disease_data_path}/{num_Diseases}_Diagnoses/{DISEASE_FILE}/{num_Sample}/HGNN_data'\n",
    "os.makedirs(f'{saving_path}/As', exist_ok=True)\n",
    "# =================================================================================\n",
    "\n",
    "complete_HG = nx.read_gml(f'{disease_data_path}/{num_Diseases}_Diagnoses/complete_HG.gml')\n"
   ]
  },
  {
   "cell_type": "markdown",
   "metadata": {},
   "source": [
    "### Generating complete HG from scratch"
   ]
  },
  {
   "cell_type": "code",
   "execution_count": 4,
   "metadata": {
    "execution": {
     "iopub.execute_input": "2024-10-01T13:31:26.547284Z",
     "iopub.status.busy": "2024-10-01T13:31:26.546930Z",
     "iopub.status.idle": "2024-10-01T13:31:57.308561Z",
     "shell.execute_reply": "2024-10-01T13:31:57.307842Z"
    }
   },
   "outputs": [],
   "source": [
    "from module1 import generating_HG as gHG\n",
    "# HG_inst = gHG.Generate_HG()\n",
    "# nx.write_gml(HG_inst.HG, f'{disease_data_path}/{num_Diseases}_Diagnoses/complete_HG.gml')\n",
    "# gHG.G_statistics(HG_inst.HG)\n",
    "# # ======================To sample or not to sample, that is the question =========================\n",
    "# if not sampling:\n",
    "#     num_Sample = len(HG_inst.Patients)\n",
    "#     HG = HG_inst.HG\n",
    "# else:\n",
    "#     patients_to_remove = random.sample(HG_inst.Patients, len(HG_inst.Patients) - num_Sample)\n",
    "#     print(len(patients_to_remove), num_Sample, len(HG_inst.Patients))\n",
    "    \n",
    "#     # deleting the nodes\n",
    "#     HG = gHG.remove_patients_and_linked_visits(patients_to_remove, HG_inst.HG)\n",
    "# # ================================================================================="
   ]
  },
  {
   "cell_type": "markdown",
   "metadata": {},
   "source": [
    "## Whole graph or Sample graph"
   ]
  },
  {
   "cell_type": "code",
   "execution_count": 5,
   "metadata": {
    "execution": {
     "iopub.execute_input": "2024-10-01T13:31:57.312257Z",
     "iopub.status.busy": "2024-10-01T13:31:57.311652Z",
     "iopub.status.idle": "2024-10-01T13:32:00.816642Z",
     "shell.execute_reply": "2024-10-01T13:32:00.815779Z"
    }
   },
   "outputs": [
    {
     "name": "stdout",
     "output_type": "stream",
     "text": [
      "number of patients = 46437\n",
      "number of visits = 58929\n",
      "number of Medication = 592\n",
      "number of Diagnoses = 203\n",
      "number of Procedures = 89\n",
      "number of Labs = 480\n",
      "number of MicoBio = 64\n",
      "number of Edges = 5336561\n",
      "------------------------------------------\n",
      "\n",
      "45937 500 46437\n",
      "Number of PATIENTS to remove: 45937\n",
      "Number of nodes to remove: 104124\n"
     ]
    }
   ],
   "source": [
    "HG_obj = heterogeneous_Graph(complete_HG)\n",
    "\n",
    "gHG.G_statistics(HG_obj.HG)\n",
    "\n",
    "# ======================To sample or not to sample, that is the question =========================\n",
    "if not sampling:\n",
    "    num_Sample = len(HG_obj.Patients)\n",
    "    HG = HG_obj.HG\n",
    "else:\n",
    "    patients_to_remove = random.sample(HG_obj.Patients, len(HG_obj.Patients) - num_Sample)\n",
    "    print(len(patients_to_remove), num_Sample, len(HG_obj.Patients))\n",
    "    \n",
    "    # deleting the nodes\n",
    "    HG = gHG.remove_patients_and_linked_visits(patients_to_remove, HG_obj.HG)"
   ]
  },
  {
   "cell_type": "markdown",
   "metadata": {},
   "source": [
    "## Extracting the features"
   ]
  },
  {
   "cell_type": "code",
   "execution_count": 6,
   "metadata": {
    "execution": {
     "iopub.execute_input": "2024-10-01T13:32:00.820148Z",
     "iopub.status.busy": "2024-10-01T13:32:00.819774Z",
     "iopub.status.idle": "2024-10-01T13:32:03.033472Z",
     "shell.execute_reply": "2024-10-01T13:32:03.032660Z"
    }
   },
   "outputs": [
    {
     "name": "stdout",
     "output_type": "stream",
     "text": [
      "getting the feature set for all nodes\n",
      "getting the feature set for all nodes: visit_level\n"
     ]
    },
    {
     "name": "stdout",
     "output_type": "stream",
     "text": [
      "getting the feature set for all nodes\n",
      "getting the feature set for all nodes: visit_level\n"
     ]
    }
   ],
   "source": [
    "from module1 import XY_preparation as XY\n",
    "# ============================ Extracting Patient-based X and Y =================================\n",
    "XY_inst = XY.XY_preparation(HG)\n",
    "X = XY_inst.X\n",
    "Y = XY_inst.Y\n",
    "# ============================ Extracting Visit-based X and Y =================================\n",
    "XY_inst = XY.XY_preparation(HG)\n",
    "XV = XY_inst.X_visit\n",
    "YV = XY_inst.Y_visit\n",
    "# ==================================== Saving X and Y  (patient-based) ============================\n",
    "torch.save(X, f'{saving_path}/X.pt')\n",
    "torch.save(Y, f'{saving_path}/Y.pt')\n",
    "# ==================================== Saving X and Y (visit-based) =================================\n",
    "torch.save(X, f'{saving_path}/XV.pt')\n",
    "torch.save(Y, f'{saving_path}/YV.pt')\n",
    "del X\n",
    "del Y\n",
    "del XV\n",
    "del YV\n"
   ]
  },
  {
   "cell_type": "markdown",
   "metadata": {},
   "source": [
    "## Meta-path Similarities"
   ]
  },
  {
   "cell_type": "code",
   "execution_count": 7,
   "metadata": {
    "execution": {
     "iopub.execute_input": "2024-10-01T13:32:03.036486Z",
     "iopub.status.busy": "2024-10-01T13:32:03.036235Z",
     "iopub.status.idle": "2024-10-01T13:33:13.804597Z",
     "shell.execute_reply": "2024-10-01T13:33:13.803834Z"
    }
   },
   "outputs": [
    {
     "name": "stdout",
     "output_type": "stream",
     "text": [
      "extracting As from HG\n",
      "\n"
     ]
    },
    {
     "name": "stdout",
     "output_type": "stream",
     "text": [
      "[(2670, 2670), (2670, 2670), (2670, 2670), (2670, 2670), (2670, 2670), (2670, 2670)]\n",
      "=============================================================\n",
      "Multiplication phase...\n",
      "\n"
     ]
    },
    {
     "name": "stdout",
     "output_type": "stream",
     "text": [
      "multiplying (2670, 2670) * (2670, 2670) in parallel...\n"
     ]
    },
    {
     "name": "stdout",
     "output_type": "stream",
     "text": [
      "Done multiplication...\n",
      "multiplying (2670, 2670) * (2670, 2670) in parallel...\n"
     ]
    },
    {
     "name": "stdout",
     "output_type": "stream",
     "text": [
      "Done multiplication...\n",
      "multiplying (2670, 2670) * (2670, 2670) in parallel...\n"
     ]
    },
    {
     "name": "stdout",
     "output_type": "stream",
     "text": [
      "Done multiplication...\n",
      "multiplying (2670, 2670) * (2670, 2670) in parallel...\n"
     ]
    },
    {
     "name": "stdout",
     "output_type": "stream",
     "text": [
      "Done multiplication...\n",
      "multiplying (2670, 2670) * (2670, 2670) in parallel...\n"
     ]
    },
    {
     "name": "stdout",
     "output_type": "stream",
     "text": [
      "Done multiplication...\n",
      "multiplying (2670, 2670) * (2670, 2670) in parallel...\n"
     ]
    },
    {
     "name": "stdout",
     "output_type": "stream",
     "text": [
      "Done multiplication...\n",
      "multiplying (2670, 2670) * (2670, 2670) in parallel...\n"
     ]
    },
    {
     "name": "stdout",
     "output_type": "stream",
     "text": [
      "Done multiplication...\n",
      "multiplying (2670, 2670) * (2670, 2670) in parallel...\n"
     ]
    },
    {
     "name": "stdout",
     "output_type": "stream",
     "text": [
      "Done multiplication...\n",
      "multiplying (2670, 2670) * (2670, 2670) in parallel...\n"
     ]
    },
    {
     "name": "stdout",
     "output_type": "stream",
     "text": [
      "Done multiplication...\n",
      "multiplying (2670, 2670) * (2670, 2670) in parallel...\n"
     ]
    },
    {
     "name": "stdout",
     "output_type": "stream",
     "text": [
      "Done multiplication...\n",
      "multiplying (2670, 2670) * (2670, 2670) in parallel...\n"
     ]
    },
    {
     "name": "stdout",
     "output_type": "stream",
     "text": [
      "Done multiplication...\n",
      "multiplying (2670, 2670) * (2670, 2670) in parallel...\n"
     ]
    },
    {
     "name": "stdout",
     "output_type": "stream",
     "text": [
      "Done multiplication...\n",
      "multiplying (2670, 2670) * (2670, 2670) in parallel...\n"
     ]
    },
    {
     "name": "stdout",
     "output_type": "stream",
     "text": [
      "Done multiplication...\n",
      "multiplying (2670, 2670) * (2670, 2670) in parallel...\n"
     ]
    },
    {
     "name": "stdout",
     "output_type": "stream",
     "text": [
      "Done multiplication...\n",
      "multiplying (2670, 2670) * (2670, 2670) in parallel...\n"
     ]
    },
    {
     "name": "stdout",
     "output_type": "stream",
     "text": [
      "Done multiplication...\n",
      "multiplying (2670, 2670) * (2670, 2670) in parallel...\n"
     ]
    },
    {
     "name": "stdout",
     "output_type": "stream",
     "text": [
      "Done multiplication...\n",
      "multiplying (2670, 2670) * (2670, 2670) in parallel...\n",
      "Done multiplication...\n",
      "multiplying (2670, 2670) * (2670, 2670) in parallel...\n",
      "Done multiplication...\n",
      "multiplying (2670, 2670) * (2670, 2670) in parallel...\n",
      "Done multiplication...\n",
      "multiplying (2670, 2670) * (2670, 2670) in parallel...\n",
      "Done multiplication...\n",
      "Patient-Patient completed!\n",
      "\n",
      "multiplying (2670, 2670) * (2670, 2670) in parallel...\n",
      "Done multiplication...\n"
     ]
    },
    {
     "name": "stdout",
     "output_type": "stream",
     "text": [
      "multiplying (2670, 2670) * (2670, 2670) in parallel...\n",
      "Done multiplication...\n",
      "multiplying (2670, 2670) * (2670, 2670) in parallel...\n",
      "Done multiplication...\n"
     ]
    },
    {
     "name": "stdout",
     "output_type": "stream",
     "text": [
      "multiplying (2670, 2670) * (2670, 2670) in parallel...\n",
      "Done multiplication...\n",
      "multiplying (2670, 2670) * (2670, 2670) in parallel...\n",
      "Done multiplication...\n",
      "visit-visit completed!\n",
      "\n",
      "multiplying (2670, 2670) * (2670, 2670) in parallel...\n",
      "Done multiplication...\n",
      "multiplying (2670, 2670) * (2670, 2670) in parallel...\n",
      "Done multiplication...\n",
      "multiplying (2670, 2670) * (2670, 2670) in parallel...\n"
     ]
    },
    {
     "name": "stdout",
     "output_type": "stream",
     "text": [
      "Done multiplication...\n",
      "multiplying (2670, 2670) * (2670, 2670) in parallel...\n",
      "Done multiplication...\n",
      "Diagnoses-Diagnoses completed!\n",
      "\n",
      "multiplying (2670, 2670) * (2670, 2670) in parallel...\n",
      "Done multiplication...\n",
      "multiplying (2670, 2670) * (2670, 2670) in parallel...\n",
      "Done multiplication...\n",
      "multiplying (2670, 2670) * (2670, 2670) in parallel...\n",
      "Done multiplication...\n",
      "multiplying (2670, 2670) * (2670, 2670) in parallel...\n",
      "Done multiplication...\n",
      "Med-Med completed!\n",
      "\n",
      "multiplying (2670, 2670) * (2670, 2670) in parallel...\n",
      "Done multiplication...\n",
      "multiplying (2670, 2670) * (2670, 2670) in parallel...\n",
      "Done multiplication...\n",
      "multiplying (2670, 2670) * (2670, 2670) in parallel...\n",
      "Done multiplication...\n",
      "multiplying (2670, 2670) * (2670, 2670) in parallel...\n",
      "Done multiplication...\n",
      "Proced-Proced completed!\n",
      "\n",
      "multiplying (2670, 2670) * (2670, 2670) in parallel...\n",
      "Done multiplication...\n",
      "multiplying (2670, 2670) * (2670, 2670) in parallel...\n",
      "Done multiplication...\n",
      "multiplying (2670, 2670) * (2670, 2670) in parallel...\n",
      "Done multiplication...\n",
      "multiplying (2670, 2670) * (2670, 2670) in parallel...\n",
      "Done multiplication...\n",
      "Labs-Labs completed!\n",
      "\n",
      "multiplying (2670, 2670) * (2670, 2670) in parallel...\n"
     ]
    },
    {
     "name": "stdout",
     "output_type": "stream",
     "text": [
      "Done multiplication...\n",
      "multiplying (2670, 2670) * (2670, 2670) in parallel...\n",
      "Done multiplication...\n",
      "multiplying (2670, 2670) * (2670, 2670) in parallel...\n",
      "Done multiplication...\n",
      "multiplying (2670, 2670) * (2670, 2670) in parallel...\n",
      "Done multiplication...\n",
      "Micro-Bio - Micro-Bio completed!\n",
      "\n",
      "=============================================================\n",
      "Multiplication phase...\n",
      "\n",
      "Number of meta-paths = 43\n"
     ]
    },
    {
     "name": "stdout",
     "output_type": "stream",
     "text": [
      "saving to /lustre/home/almusawiaf/PhD_Projects/HGNN_Project2/Data/203_Diagnoses/DMPLB2/500/HGNN_data/As/selected_i.pkl\n",
      "selected i = [0, 1, 2, 3, 4, 5, 6, 7, 8, 9, 10, 11, 12, 13, 14, 15, 16, 17, 18, 19, 20, 21, 22, 23, 24, 25, 26, 27, 28, 29, 30, 31, 32, 33, 34, 35, 36, 37, 38, 39, 40, 41, 42]\n"
     ]
    },
    {
     "name": "stdout",
     "output_type": "stream",
     "text": [
      "saving to /lustre/home/almusawiaf/PhD_Projects/HGNN_Project2/Data/203_Diagnoses/DMPLB2/500/HGNN_data/Nodes.pkl\n"
     ]
    }
   ],
   "source": [
    "from module1 import meta_path as MP\n",
    "# ======================= Computing the Meta Path based Similarities ======================\n",
    "MP_inst = MP.Meta_path(HG, similarity_type = 'PC', saving_path = saving_path)\n",
    "# ==================================== SAVING =============================================\n",
    "nx.write_gml(HG, f'{saving_path}/HG.gml')\n",
    "save_list_as_pickle(MP_inst.Nodes,   saving_path, 'Nodes')\n"
   ]
  },
  {
   "cell_type": "markdown",
   "metadata": {},
   "source": [
    "## Reduction"
   ]
  },
  {
   "cell_type": "code",
   "execution_count": 8,
   "metadata": {
    "execution": {
     "iopub.execute_input": "2024-10-01T13:33:13.807568Z",
     "iopub.status.busy": "2024-10-01T13:33:13.807265Z",
     "iopub.status.idle": "2024-10-01T13:33:31.883688Z",
     "shell.execute_reply": "2024-10-01T13:33:31.882893Z"
    }
   },
   "outputs": [
    {
     "name": "stdout",
     "output_type": "stream",
     "text": [
      "Matrix 0: 1 non-zero elements\n",
      "\tSaving all non-zero values... (1 non-zero elements)\n",
      "Matrix 1: 62726 non-zero elements\n",
      "\tSaving all non-zero values... (62726 non-zero elements)\n",
      "Matrix 2: 49648 non-zero elements\n",
      "\tSaving all non-zero values... (49648 non-zero elements)\n",
      "Matrix 3: 121666 non-zero elements\n",
      "\tSaving all non-zero values... (121666 non-zero elements)\n",
      "Matrix 4: 8048 non-zero elements\n",
      "\tSaving all non-zero values... (8048 non-zero elements)\n",
      "Matrix 5: 764 non-zero elements\n",
      "\tSaving all non-zero values... (764 non-zero elements)\n",
      "Matrix 6: 104009 non-zero elements\n",
      "\tSaving all non-zero values... (104009 non-zero elements)\n",
      "Matrix 7: 77155 non-zero elements\n",
      "\tSaving all non-zero values... (77155 non-zero elements)\n",
      "Matrix 8: 336606 non-zero elements\n",
      "\tSaving all non-zero values... (336606 non-zero elements)\n",
      "Matrix 9: 11195 non-zero elements\n",
      "\tSaving all non-zero values... (11195 non-zero elements)\n",
      "Matrix 10: 190 non-zero elements\n",
      "\tSaving all non-zero values... (190 non-zero elements)\n",
      "Matrix 11: 20472 non-zero elements\n",
      "\tSaving all non-zero values... (20472 non-zero elements)\n",
      "Matrix 12: 20503 non-zero elements\n",
      "\tSaving all non-zero values... (20503 non-zero elements)\n",
      "Matrix 13: 18552 non-zero elements\n",
      "\tSaving all non-zero values... (18552 non-zero elements)\n",
      "Matrix 14: 820 non-zero elements\n",
      "\tSaving all non-zero values... (820 non-zero elements)\n",
      "Matrix 15: 1378 non-zero elements\n",
      "\tSaving all non-zero values... (1378 non-zero elements)\n",
      "Matrix 16: 1378 non-zero elements\n",
      "\tSaving all non-zero values... (1378 non-zero elements)\n",
      "Matrix 17: 663 non-zero elements\n",
      "\tSaving all non-zero values... (663 non-zero elements)\n",
      "Matrix 18: 2162 non-zero elements\n",
      "\tSaving all non-zero values... (2162 non-zero elements)\n",
      "Matrix 19: 21 non-zero elements\n",
      "\tSaving all non-zero values... (21 non-zero elements)\n",
      "Matrix 20: 2628 non-zero elements\n",
      "\tSaving all non-zero values... (2628 non-zero elements)\n",
      "Matrix 21: 1769 non-zero elements\n",
      "\tSaving all non-zero values... (1769 non-zero elements)\n",
      "Matrix 22: 617 non-zero elements\n",
      "\tSaving all non-zero values... (617 non-zero elements)\n",
      "Matrix 23: 5691 non-zero elements\n",
      "\tSaving all non-zero values... (5691 non-zero elements)\n",
      "Matrix 24: 67 non-zero elements\n",
      "\tSaving all non-zero values... (67 non-zero elements)\n",
      "Matrix 25: 2014 non-zero elements\n",
      "\tSaving all non-zero values... (2014 non-zero elements)\n",
      "Matrix 26: 54123 non-zero elements\n",
      "\tSaving all non-zero values... (54123 non-zero elements)\n",
      "Matrix 27: 419 non-zero elements\n",
      "\tSaving all non-zero values... (419 non-zero elements)\n",
      "Matrix 28: 56 non-zero elements\n",
      "\tSaving all non-zero values... (56 non-zero elements)\n",
      "Matrix 29: 5048 non-zero elements\n",
      "\tSaving all non-zero values... (5048 non-zero elements)\n",
      "Matrix 30: 1685 non-zero elements\n",
      "\tSaving all non-zero values... (1685 non-zero elements)\n",
      "Matrix 31: 41928 non-zero elements\n",
      "\tSaving all non-zero values... (41928 non-zero elements)\n",
      "Matrix 32: 373 non-zero elements\n",
      "\tSaving all non-zero values... (373 non-zero elements)\n",
      "Matrix 33: 518 non-zero elements\n",
      "\tSaving all non-zero values... (518 non-zero elements)\n",
      "Matrix 34: 4702 non-zero elements\n",
      "\tSaving all non-zero values... (4702 non-zero elements)\n",
      "Matrix 35: 53187 non-zero elements\n",
      "\tSaving all non-zero values... (53187 non-zero elements)\n",
      "Matrix 36: 1518 non-zero elements\n",
      "\tSaving all non-zero values... (1518 non-zero elements)\n",
      "Matrix 37: 229 non-zero elements\n",
      "\tSaving all non-zero values... (229 non-zero elements)\n",
      "Matrix 38: 17058 non-zero elements\n",
      "\tSaving all non-zero values... (17058 non-zero elements)\n",
      "Matrix 39: 549 non-zero elements\n",
      "\tSaving all non-zero values... (549 non-zero elements)\n",
      "Matrix 40: 5246 non-zero elements\n",
      "\tSaving all non-zero values... (5246 non-zero elements)\n",
      "Matrix 41: 83 non-zero elements\n",
      "\tSaving all non-zero values... (83 non-zero elements)\n",
      "Matrix 42: 0 non-zero elements\n",
      "Matrix 42 has zero values. Not saving...\n"
     ]
    },
    {
     "name": "stdout",
     "output_type": "stream",
     "text": [
      "done saving [unique edges]:  683046\n",
      "Working on 0th file...\n"
     ]
    },
    {
     "name": "stdout",
     "output_type": "stream",
     "text": [
      "Working on 1th file...\n"
     ]
    },
    {
     "name": "stdout",
     "output_type": "stream",
     "text": [
      "Working on 2th file...\n"
     ]
    },
    {
     "name": "stdout",
     "output_type": "stream",
     "text": [
      "Working on 3th file...\n"
     ]
    },
    {
     "name": "stdout",
     "output_type": "stream",
     "text": [
      "Working on 4th file...\n"
     ]
    },
    {
     "name": "stdout",
     "output_type": "stream",
     "text": [
      "Working on 5th file...\n"
     ]
    },
    {
     "name": "stdout",
     "output_type": "stream",
     "text": [
      "Working on 6th file...\n"
     ]
    },
    {
     "name": "stdout",
     "output_type": "stream",
     "text": [
      "Working on 7th file...\n"
     ]
    },
    {
     "name": "stdout",
     "output_type": "stream",
     "text": [
      "Working on 8th file...\n"
     ]
    },
    {
     "name": "stdout",
     "output_type": "stream",
     "text": [
      "Working on 9th file...\n"
     ]
    },
    {
     "name": "stdout",
     "output_type": "stream",
     "text": [
      "Working on 10th file...\n"
     ]
    },
    {
     "name": "stdout",
     "output_type": "stream",
     "text": [
      "Working on 11th file...\n"
     ]
    },
    {
     "name": "stdout",
     "output_type": "stream",
     "text": [
      "Working on 12th file...\n"
     ]
    },
    {
     "name": "stdout",
     "output_type": "stream",
     "text": [
      "Working on 13th file...\n"
     ]
    },
    {
     "name": "stdout",
     "output_type": "stream",
     "text": [
      "Working on 14th file...\n"
     ]
    },
    {
     "name": "stdout",
     "output_type": "stream",
     "text": [
      "Working on 15th file...\n"
     ]
    },
    {
     "name": "stdout",
     "output_type": "stream",
     "text": [
      "Working on 16th file...\n"
     ]
    },
    {
     "name": "stdout",
     "output_type": "stream",
     "text": [
      "Working on 17th file...\n"
     ]
    },
    {
     "name": "stdout",
     "output_type": "stream",
     "text": [
      "Working on 18th file...\n"
     ]
    },
    {
     "name": "stdout",
     "output_type": "stream",
     "text": [
      "Working on 19th file...\n"
     ]
    },
    {
     "name": "stdout",
     "output_type": "stream",
     "text": [
      "Working on 20th file...\n"
     ]
    },
    {
     "name": "stdout",
     "output_type": "stream",
     "text": [
      "Working on 21th file...\n"
     ]
    },
    {
     "name": "stdout",
     "output_type": "stream",
     "text": [
      "Working on 22th file...\n"
     ]
    },
    {
     "name": "stdout",
     "output_type": "stream",
     "text": [
      "Working on 23th file...\n"
     ]
    },
    {
     "name": "stdout",
     "output_type": "stream",
     "text": [
      "Working on 24th file...\n"
     ]
    },
    {
     "name": "stdout",
     "output_type": "stream",
     "text": [
      "Working on 25th file...\n"
     ]
    },
    {
     "name": "stdout",
     "output_type": "stream",
     "text": [
      "Working on 26th file...\n"
     ]
    },
    {
     "name": "stdout",
     "output_type": "stream",
     "text": [
      "Working on 27th file...\n"
     ]
    },
    {
     "name": "stdout",
     "output_type": "stream",
     "text": [
      "Working on 28th file...\n"
     ]
    },
    {
     "name": "stdout",
     "output_type": "stream",
     "text": [
      "Working on 29th file...\n"
     ]
    },
    {
     "name": "stdout",
     "output_type": "stream",
     "text": [
      "Working on 30th file...\n"
     ]
    },
    {
     "name": "stdout",
     "output_type": "stream",
     "text": [
      "Working on 31th file...\n"
     ]
    },
    {
     "name": "stdout",
     "output_type": "stream",
     "text": [
      "Working on 32th file...\n"
     ]
    },
    {
     "name": "stdout",
     "output_type": "stream",
     "text": [
      "Working on 33th file...\n"
     ]
    },
    {
     "name": "stdout",
     "output_type": "stream",
     "text": [
      "Working on 34th file...\n"
     ]
    },
    {
     "name": "stdout",
     "output_type": "stream",
     "text": [
      "Working on 35th file...\n"
     ]
    },
    {
     "name": "stdout",
     "output_type": "stream",
     "text": [
      "Working on 36th file...\n"
     ]
    },
    {
     "name": "stdout",
     "output_type": "stream",
     "text": [
      "Working on 37th file...\n"
     ]
    },
    {
     "name": "stdout",
     "output_type": "stream",
     "text": [
      "Working on 38th file...\n"
     ]
    },
    {
     "name": "stdout",
     "output_type": "stream",
     "text": [
      "Working on 39th file...\n"
     ]
    },
    {
     "name": "stdout",
     "output_type": "stream",
     "text": [
      "Working on 40th file...\n"
     ]
    },
    {
     "name": "stdout",
     "output_type": "stream",
     "text": [
      "Working on 41th file...\n"
     ]
    }
   ],
   "source": [
    "from module1 import reduction as Red\n",
    "reduction_obj = Red.Reduction(saving_path)"
   ]
  }
 ],
 "metadata": {
  "kernelspec": {
   "display_name": "Python 3 (ipykernel)",
   "language": "python",
   "name": "python3"
  },
  "language_info": {
   "codemirror_mode": {
    "name": "ipython",
    "version": 3
   },
   "file_extension": ".py",
   "mimetype": "text/x-python",
   "name": "python",
   "nbconvert_exporter": "python",
   "pygments_lexer": "ipython3",
   "version": "3.9.18"
  }
 },
 "nbformat": 4,
 "nbformat_minor": 4
}
